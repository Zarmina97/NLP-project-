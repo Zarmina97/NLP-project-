{
  "nbformat": 4,
  "nbformat_minor": 0,
  "metadata": {
    "colab": {
      "name": "RandomForest.ipynb",
      "provenance": [],
      "collapsed_sections": [],
      "toc_visible": true
    },
    "kernelspec": {
      "name": "python3",
      "display_name": "Python 3"
    },
    "language_info": {
      "name": "python"
    }
  },
  "cells": [
    {
      "cell_type": "markdown",
      "source": [
        "#Modules"
      ],
      "metadata": {
        "id": "lxH3Y-JuxORZ"
      }
    },
    {
      "cell_type": "code",
      "execution_count": 10,
      "metadata": {
        "id": "99cpRZpWn386"
      },
      "outputs": [],
      "source": [
        "import pandas as pd\n",
        "import numpy as np\n",
        "import gensim\n",
        "from matplotlib import pyplot as plt\n",
        "from sklearn.decomposition import PCA\n",
        "from sklearn.manifold import TSNE\n",
        "%matplotlib inline\n",
        "import re  # For preprocessing\n",
        "import pandas as pd  # For data handling\n",
        "from time import time  # To time our operations\n",
        "from collections import defaultdict  # For word frequency\n",
        "import seaborn as sns\n",
        "import spacy  # For preprocessing\n",
        "import warnings\n",
        "warnings.filterwarnings('ignore')\n",
        "import logging  # Setting up the loggings to monitor gensim\n",
        "logging.basicConfig(format=\"%(levelname)s - %(asctime)s: %(message)s\", datefmt= '%H:%M:%S', level=logging.INFO)\n",
        "from sklearn.model_selection import train_test_split\n",
        "from sklearn.metrics import mean_squared_error\n",
        "from sklearn.metrics import r2_score\n",
        "\n",
        "\n",
        "\n",
        "from sklearn.ensemble import RandomForestClassifier\n",
        "from sklearn.ensemble import RandomForestRegressor\n",
        "from sklearn.model_selection import RandomizedSearchCV\n"
      ]
    },
    {
      "cell_type": "code",
      "source": [
        "#tfid_df=pd.read_csv('.csv')\n",
        "#bow_df=pd.read_csv('.csv')\n",
        "w2v_df=pd.read_csv('w2v_df.csv')\n",
        "d2v_df=pd.read_csv('d2v_df.csv')\n"
      ],
      "metadata": {
        "id": "srBZlEB_oAJ1"
      },
      "execution_count": 2,
      "outputs": []
    },
    {
      "cell_type": "markdown",
      "source": [
        "#bow"
      ],
      "metadata": {
        "id": "ws51ddxkuk3m"
      }
    },
    {
      "cell_type": "markdown",
      "source": [
        "#tfid"
      ],
      "metadata": {
        "id": "x5GuqKh9umQ7"
      }
    },
    {
      "cell_type": "markdown",
      "source": [
        "#w2v"
      ],
      "metadata": {
        "id": "uKuccjeEunv2"
      }
    },
    {
      "cell_type": "code",
      "source": [
        "y = w2v_df['1003']          #Target Variable\n",
        "X = w2v_df.drop('1003',1)   #Feature Matrix\n",
        "X=pd.DataFrame(X)\n",
        "y=pd.DataFrame(y)\n",
        "for i in X.columns:\n",
        "  X[i]=pd.to_numeric(X[i])\n",
        "for i in y.columns:\n",
        "  y[i]=pd.to_numeric(y[i])\n",
        "\n",
        "\n",
        "x_train, x_test, y_train, y_test = train_test_split(X, y, test_size=0.2)"
      ],
      "metadata": {
        "id": "lywHjKl2ur2p"
      },
      "execution_count": 3,
      "outputs": []
    },
    {
      "cell_type": "code",
      "source": [
        "model_rand = RandomForestRegressor()\n",
        "\n",
        "n_estimators = [5,20,50,100] # number of trees in the random forest\n",
        "max_features = ['auto', 'sqrt'] # number of features in consideration at every split\n",
        "max_depth = [int(x) for x in np.linspace(10, 120, num = 12)] # maximum number of levels allowed in each decision tree\n",
        "min_samples_split = [2, 6, 10] # minimum sample number to split a node\n",
        "min_samples_leaf = [1, 3, 4] # minimum sample number that can be stored in a leaf node\n",
        "bootstrap = [True, False] # method used to sample data points\n",
        "\n",
        "random_grid = {'n_estimators': n_estimators,\n",
        "\n",
        "'max_features': max_features,\n",
        "'max_depth': max_depth,\n",
        "'min_samples_split': min_samples_split,\n",
        "'min_samples_leaf': min_samples_leaf,\n",
        "'bootstrap': bootstrap}\n",
        "\n",
        "rf_random = RandomizedSearchCV(estimator = model_rand,param_distributions = random_grid,n_iter = 20, cv = 3, verbose=2, random_state=35, n_jobs = -1)\n",
        "rf_random.fit(x_train, y_train)\n"
      ],
      "metadata": {
        "colab": {
          "base_uri": "https://localhost:8080/"
        },
        "id": "_3tkwA1Qu5LJ",
        "outputId": "ce9d3daf-a04c-46ed-e47d-7f1c75c96d59"
      },
      "execution_count": 5,
      "outputs": [
        {
          "output_type": "stream",
          "name": "stdout",
          "text": [
            "Fitting 3 folds for each of 20 candidates, totalling 60 fits\n"
          ]
        },
        {
          "output_type": "execute_result",
          "data": {
            "text/plain": [
              "RandomizedSearchCV(cv=3, estimator=RandomForestRegressor(), n_iter=20,\n",
              "                   n_jobs=-1,\n",
              "                   param_distributions={'bootstrap': [True, False],\n",
              "                                        'max_depth': [10, 20, 30, 40, 50, 60,\n",
              "                                                      70, 80, 90, 100, 110,\n",
              "                                                      120],\n",
              "                                        'max_features': ['auto', 'sqrt'],\n",
              "                                        'min_samples_leaf': [1, 3, 4],\n",
              "                                        'min_samples_split': [2, 6, 10],\n",
              "                                        'n_estimators': [5, 20, 50, 100]},\n",
              "                   random_state=35, verbose=2)"
            ]
          },
          "metadata": {},
          "execution_count": 5
        }
      ]
    },
    {
      "cell_type": "code",
      "source": [
        "rf_random.best_params_"
      ],
      "metadata": {
        "colab": {
          "base_uri": "https://localhost:8080/"
        },
        "id": "rDzQMdtgwMtf",
        "outputId": "5beb7604-741a-4a70-ee94-e646bac6e8aa"
      },
      "execution_count": 8,
      "outputs": [
        {
          "output_type": "execute_result",
          "data": {
            "text/plain": [
              "{'bootstrap': True,\n",
              " 'max_depth': 50,\n",
              " 'max_features': 'auto',\n",
              " 'min_samples_leaf': 4,\n",
              " 'min_samples_split': 10,\n",
              " 'n_estimators': 100}"
            ]
          },
          "metadata": {},
          "execution_count": 8
        }
      ]
    },
    {
      "cell_type": "code",
      "source": [
        "rnd_clf = RandomForestRegressor(n_estimators=100, min_samples_split=10 , min_samples_leaf=4, max_features='auto',max_depth=50,bootstrap=True)\n",
        "rnd_clf.fit(x_train, y_train)\n",
        "y_pred_rnd_clf = rnd_clf.predict(x_test)\n",
        "\n",
        "rmse_rnd = np.sqrt(mean_squared_error(y_test, y_pred_rnd_clf))\n",
        "print(\"RMSE: %f\" % (rmse_rnd))\n",
        "\n",
        "R2_rnd=r2_score(y_test,y_pred_rnd_clf)\n",
        "print(\"R2 Score: %f\" % (R2_rnd))"
      ],
      "metadata": {
        "id": "6K63hresvCy1",
        "colab": {
          "base_uri": "https://localhost:8080/"
        },
        "outputId": "05b8ea25-885f-4a75-b403-057fc17af015"
      },
      "execution_count": 11,
      "outputs": [
        {
          "output_type": "stream",
          "name": "stdout",
          "text": [
            "RMSE: 375.182565\n",
            "R2 Score: 0.462349\n"
          ]
        }
      ]
    },
    {
      "cell_type": "markdown",
      "source": [
        "#d2v"
      ],
      "metadata": {
        "id": "gv5weMu2upCz"
      }
    },
    {
      "cell_type": "code",
      "source": [
        "y = d2v_df['1203']          #Target Variable\n",
        "X = d2v_df.drop('1203',1)   #Feature Matrix\n",
        "X=pd.DataFrame(X)\n",
        "y=pd.DataFrame(y)\n",
        "\n",
        "for i in X.columns:\n",
        "  X[i]=pd.to_numeric(X[i])\n",
        "for i in y.columns:\n",
        "  y[i]=pd.to_numeric(y[i])\n",
        "\n",
        "\n",
        "x_train, x_test, y_train, y_test = train_test_split(X, y, test_size=0.2)"
      ],
      "metadata": {
        "id": "HAkZE8w2wUah"
      },
      "execution_count": 12,
      "outputs": []
    },
    {
      "cell_type": "code",
      "source": [
        "model_rand = RandomForestRegressor()\n",
        "\n",
        "n_estimators = [5,20,50,100] # number of trees in the random forest\n",
        "max_features = ['auto', 'sqrt'] # number of features in consideration at every split\n",
        "max_depth = [int(x) for x in np.linspace(10, 120, num = 12)] # maximum number of levels allowed in each decision tree\n",
        "min_samples_split = [2, 6, 10] # minimum sample number to split a node\n",
        "min_samples_leaf = [1, 3, 4] # minimum sample number that can be stored in a leaf node\n",
        "bootstrap = [True, False] # method used to sample data points\n",
        "\n",
        "random_grid = {'n_estimators': n_estimators,\n",
        "\n",
        "'max_features': max_features,\n",
        "'max_depth': max_depth,\n",
        "'min_samples_split': min_samples_split,\n",
        "'min_samples_leaf': min_samples_leaf,\n",
        "'bootstrap': bootstrap}\n",
        "\n",
        "rf_random = RandomizedSearchCV(estimator = model_rand,param_distributions = random_grid,n_iter = 20, cv = 3, verbose=2, random_state=35, n_jobs = -1)\n",
        "rf_random.fit(x_train, y_train)\n"
      ],
      "metadata": {
        "colab": {
          "base_uri": "https://localhost:8080/"
        },
        "id": "kv_HAjSmwVJs",
        "outputId": "66610336-8090-4607-ae47-35883b43e083"
      },
      "execution_count": 13,
      "outputs": [
        {
          "output_type": "stream",
          "name": "stdout",
          "text": [
            "Fitting 3 folds for each of 20 candidates, totalling 60 fits\n"
          ]
        },
        {
          "output_type": "execute_result",
          "data": {
            "text/plain": [
              "RandomizedSearchCV(cv=3, estimator=RandomForestRegressor(), n_iter=20,\n",
              "                   n_jobs=-1,\n",
              "                   param_distributions={'bootstrap': [True, False],\n",
              "                                        'max_depth': [10, 20, 30, 40, 50, 60,\n",
              "                                                      70, 80, 90, 100, 110,\n",
              "                                                      120],\n",
              "                                        'max_features': ['auto', 'sqrt'],\n",
              "                                        'min_samples_leaf': [1, 3, 4],\n",
              "                                        'min_samples_split': [2, 6, 10],\n",
              "                                        'n_estimators': [5, 20, 50, 100]},\n",
              "                   random_state=35, verbose=2)"
            ]
          },
          "metadata": {},
          "execution_count": 13
        }
      ]
    },
    {
      "cell_type": "code",
      "source": [
        "rf_random.best_params_"
      ],
      "metadata": {
        "colab": {
          "base_uri": "https://localhost:8080/"
        },
        "id": "oJOYiaYpwWW8",
        "outputId": "97e8e92f-2d2c-41fa-c94e-bfa03c506277"
      },
      "execution_count": 14,
      "outputs": [
        {
          "output_type": "execute_result",
          "data": {
            "text/plain": [
              "{'bootstrap': True,\n",
              " 'max_depth': 50,\n",
              " 'max_features': 'auto',\n",
              " 'min_samples_leaf': 4,\n",
              " 'min_samples_split': 10,\n",
              " 'n_estimators': 100}"
            ]
          },
          "metadata": {},
          "execution_count": 14
        }
      ]
    },
    {
      "cell_type": "code",
      "source": [
        "rnd_clf = RandomForestRegressor(n_estimators=100, min_samples_split=10 , min_samples_leaf=4, max_features='auto',max_depth=50,bootstrap=True)\n",
        "rnd_clf.fit(x_train, y_train)\n",
        "y_pred_rnd_clf = rnd_clf.predict(x_test)\n",
        "\n",
        "rmse_rnd = np.sqrt(mean_squared_error(y_test, y_pred_rnd_clf))\n",
        "print(\"RMSE: %f\" % (rmse_rnd))\n",
        "\n",
        "R2_rnd=r2_score(y_test,y_pred_rnd_clf)\n",
        "print(\"R2 Score: %f\" % (R2_rnd))"
      ],
      "metadata": {
        "id": "hyZGd4OiwiXw",
        "colab": {
          "base_uri": "https://localhost:8080/"
        },
        "outputId": "3d82a5ad-8cde-4ad0-cac4-2fc33420c9a5"
      },
      "execution_count": 15,
      "outputs": [
        {
          "output_type": "stream",
          "name": "stdout",
          "text": [
            "RMSE: 270.750134\n",
            "R2 Score: 0.389284\n"
          ]
        }
      ]
    }
  ]
}