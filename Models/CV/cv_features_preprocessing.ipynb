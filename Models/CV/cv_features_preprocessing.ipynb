{
 "cells": [
  {
   "cell_type": "markdown",
   "metadata": {},
   "source": [
    "# Preprocessing the CV features\n",
    " Installation of important libraries"
   ]
  },
  {
   "cell_type": "code",
   "execution_count": 2,
   "metadata": {},
   "outputs": [
    {
     "name": "stdout",
     "output_type": "stream",
     "text": [
      "Requirement already satisfied: xgboost in c:\\programdata\\anaconda3\\lib\\site-packages (1.6.1)\n",
      "Requirement already satisfied: numpy in c:\\programdata\\anaconda3\\lib\\site-packages (from xgboost) (1.20.3)\n",
      "Requirement already satisfied: scipy in c:\\programdata\\anaconda3\\lib\\site-packages (from xgboost) (1.7.1)\n"
     ]
    },
    {
     "name": "stderr",
     "output_type": "stream",
     "text": [
      "WARNING: Ignoring invalid distribution -quests (c:\\programdata\\anaconda3\\lib\\site-packages)\n",
      "WARNING: Ignoring invalid distribution -ytz (c:\\programdata\\anaconda3\\lib\\site-packages)\n",
      "WARNING: Ignoring invalid distribution -quests (c:\\programdata\\anaconda3\\lib\\site-packages)\n",
      "WARNING: Ignoring invalid distribution - (c:\\programdata\\anaconda3\\lib\\site-packages)\n",
      "WARNING: Ignoring invalid distribution -equests (c:\\programdata\\anaconda3\\lib\\site-packages)\n",
      "WARNING: Ignoring invalid distribution -quests (c:\\programdata\\anaconda3\\lib\\site-packages)\n",
      "WARNING: Ignoring invalid distribution -ytz (c:\\programdata\\anaconda3\\lib\\site-packages)\n",
      "WARNING: Ignoring invalid distribution -quests (c:\\programdata\\anaconda3\\lib\\site-packages)\n",
      "WARNING: Ignoring invalid distribution - (c:\\programdata\\anaconda3\\lib\\site-packages)\n",
      "WARNING: Ignoring invalid distribution -equests (c:\\programdata\\anaconda3\\lib\\site-packages)\n",
      "WARNING: Ignoring invalid distribution -quests (c:\\programdata\\anaconda3\\lib\\site-packages)\n",
      "WARNING: Ignoring invalid distribution -ytz (c:\\programdata\\anaconda3\\lib\\site-packages)\n",
      "WARNING: Ignoring invalid distribution -quests (c:\\programdata\\anaconda3\\lib\\site-packages)\n",
      "WARNING: Ignoring invalid distribution - (c:\\programdata\\anaconda3\\lib\\site-packages)\n",
      "WARNING: Ignoring invalid distribution -equests (c:\\programdata\\anaconda3\\lib\\site-packages)\n",
      "WARNING: Ignoring invalid distribution -quests (c:\\programdata\\anaconda3\\lib\\site-packages)\n",
      "WARNING: Ignoring invalid distribution -ytz (c:\\programdata\\anaconda3\\lib\\site-packages)\n",
      "WARNING: Ignoring invalid distribution -quests (c:\\programdata\\anaconda3\\lib\\site-packages)\n",
      "WARNING: Ignoring invalid distribution - (c:\\programdata\\anaconda3\\lib\\site-packages)\n",
      "WARNING: Ignoring invalid distribution -equests (c:\\programdata\\anaconda3\\lib\\site-packages)\n",
      "WARNING: Ignoring invalid distribution -quests (c:\\programdata\\anaconda3\\lib\\site-packages)\n",
      "WARNING: Ignoring invalid distribution -ytz (c:\\programdata\\anaconda3\\lib\\site-packages)\n",
      "WARNING: Ignoring invalid distribution -quests (c:\\programdata\\anaconda3\\lib\\site-packages)\n",
      "WARNING: Ignoring invalid distribution - (c:\\programdata\\anaconda3\\lib\\site-packages)\n",
      "WARNING: Ignoring invalid distribution -equests (c:\\programdata\\anaconda3\\lib\\site-packages)\n",
      "WARNING: Ignoring invalid distribution -quests (c:\\programdata\\anaconda3\\lib\\site-packages)\n",
      "WARNING: Ignoring invalid distribution -ytz (c:\\programdata\\anaconda3\\lib\\site-packages)\n",
      "WARNING: Ignoring invalid distribution -quests (c:\\programdata\\anaconda3\\lib\\site-packages)\n",
      "WARNING: Ignoring invalid distribution - (c:\\programdata\\anaconda3\\lib\\site-packages)\n",
      "WARNING: Ignoring invalid distribution -equests (c:\\programdata\\anaconda3\\lib\\site-packages)\n"
     ]
    },
    {
     "name": "stdout",
     "output_type": "stream",
     "text": [
      "Collecting gensim\n",
      "  Using cached gensim-4.2.0-cp39-cp39-win_amd64.whl (23.9 MB)\n",
      "Requirement already satisfied: smart-open>=1.8.1 in c:\\programdata\\anaconda3\\lib\\site-packages (from gensim) (5.2.1)\n",
      "Requirement already satisfied: numpy>=1.17.0 in c:\\programdata\\anaconda3\\lib\\site-packages (from gensim) (1.20.3)\n",
      "Collecting Cython==0.29.28\n",
      "  Using cached Cython-0.29.28-py2.py3-none-any.whl (983 kB)\n",
      "Requirement already satisfied: scipy>=0.18.1 in c:\\programdata\\anaconda3\\lib\\site-packages (from gensim) (1.7.1)\n",
      "Installing collected packages: Cython, gensim\n",
      "  Attempting uninstall: Cython\n",
      "    Found existing installation: Cython 0.29.24\n",
      "    Uninstalling Cython-0.29.24:\n"
     ]
    },
    {
     "name": "stderr",
     "output_type": "stream",
     "text": [
      "WARNING: Ignoring invalid distribution -quests (c:\\programdata\\anaconda3\\lib\\site-packages)\n",
      "WARNING: Ignoring invalid distribution -ytz (c:\\programdata\\anaconda3\\lib\\site-packages)\n",
      "WARNING: Ignoring invalid distribution -quests (c:\\programdata\\anaconda3\\lib\\site-packages)\n",
      "WARNING: Ignoring invalid distribution - (c:\\programdata\\anaconda3\\lib\\site-packages)\n",
      "WARNING: Ignoring invalid distribution -equests (c:\\programdata\\anaconda3\\lib\\site-packages)\n",
      "WARNING: Ignoring invalid distribution -quests (c:\\programdata\\anaconda3\\lib\\site-packages)\n",
      "WARNING: Ignoring invalid distribution -ytz (c:\\programdata\\anaconda3\\lib\\site-packages)\n",
      "WARNING: Ignoring invalid distribution -quests (c:\\programdata\\anaconda3\\lib\\site-packages)\n",
      "WARNING: Ignoring invalid distribution - (c:\\programdata\\anaconda3\\lib\\site-packages)\n",
      "WARNING: Ignoring invalid distribution -equests (c:\\programdata\\anaconda3\\lib\\site-packages)\n",
      "WARNING: Ignoring invalid distribution -quests (c:\\programdata\\anaconda3\\lib\\site-packages)\n",
      "WARNING: Ignoring invalid distribution -ytz (c:\\programdata\\anaconda3\\lib\\site-packages)\n",
      "WARNING: Ignoring invalid distribution -quests (c:\\programdata\\anaconda3\\lib\\site-packages)\n",
      "WARNING: Ignoring invalid distribution - (c:\\programdata\\anaconda3\\lib\\site-packages)\n",
      "WARNING: Ignoring invalid distribution -equests (c:\\programdata\\anaconda3\\lib\\site-packages)\n",
      "    WARNING: Ignoring invalid distribution -quests (c:\\programdata\\anaconda3\\lib\\site-packages)\n",
      "    WARNING: Ignoring invalid distribution -ytz (c:\\programdata\\anaconda3\\lib\\site-packages)\n",
      "    WARNING: Ignoring invalid distribution -quests (c:\\programdata\\anaconda3\\lib\\site-packages)\n",
      "    WARNING: Ignoring invalid distribution - (c:\\programdata\\anaconda3\\lib\\site-packages)\n",
      "    WARNING: Ignoring invalid distribution -equests (c:\\programdata\\anaconda3\\lib\\site-packages)\n",
      "ERROR: Could not install packages due to an OSError: [WinError 5] Access is denied: 'c:\\\\programdata\\\\anaconda3\\\\lib\\\\site-packages\\\\__pycache__\\\\cython.cpython-39.pyc'\n",
      "Consider using the `--user` option or check the permissions.\n",
      "\n",
      "WARNING: Ignoring invalid distribution -quests (c:\\programdata\\anaconda3\\lib\\site-packages)\n",
      "WARNING: Ignoring invalid distribution -ytz (c:\\programdata\\anaconda3\\lib\\site-packages)\n",
      "WARNING: Ignoring invalid distribution -quests (c:\\programdata\\anaconda3\\lib\\site-packages)\n",
      "WARNING: Ignoring invalid distribution - (c:\\programdata\\anaconda3\\lib\\site-packages)\n",
      "WARNING: Ignoring invalid distribution -equests (c:\\programdata\\anaconda3\\lib\\site-packages)\n",
      "WARNING: Ignoring invalid distribution -quests (c:\\programdata\\anaconda3\\lib\\site-packages)\n",
      "WARNING: Ignoring invalid distribution -ytz (c:\\programdata\\anaconda3\\lib\\site-packages)\n",
      "WARNING: Ignoring invalid distribution -quests (c:\\programdata\\anaconda3\\lib\\site-packages)\n",
      "WARNING: Ignoring invalid distribution - (c:\\programdata\\anaconda3\\lib\\site-packages)\n",
      "WARNING: Ignoring invalid distribution -equests (c:\\programdata\\anaconda3\\lib\\site-packages)\n",
      "WARNING: Ignoring invalid distribution -quests (c:\\programdata\\anaconda3\\lib\\site-packages)\n",
      "WARNING: Ignoring invalid distribution -ytz (c:\\programdata\\anaconda3\\lib\\site-packages)\n",
      "WARNING: Ignoring invalid distribution -quests (c:\\programdata\\anaconda3\\lib\\site-packages)\n",
      "WARNING: Ignoring invalid distribution - (c:\\programdata\\anaconda3\\lib\\site-packages)\n",
      "WARNING: Ignoring invalid distribution -equests (c:\\programdata\\anaconda3\\lib\\site-packages)\n"
     ]
    }
   ],
   "source": [
    "!pip install xgboost\n",
    "!pip install gensim"
   ]
  },
  {
   "cell_type": "code",
   "execution_count": 9,
   "metadata": {},
   "outputs": [],
   "source": [
    "%pip install wordcloud\n",
    "from wordcloud import WordCloud"
   ]
  },
  {
   "cell_type": "code",
   "execution_count": 10,
   "metadata": {},
   "outputs": [],
   "source": [
    "import re\n",
    "import logging \n",
    "import pandas as pd\n",
    "%matplotlib inline\n",
    "import pandas as pd\n",
    "from tqdm import tqdm \n",
    "from sklearn.model_selection import train_test_split\n",
    "logging.basicConfig(format=\"%(levelname)s - %(asctime)s: %(message)s\", datefmt= '%H:%M:%S', level=logging.INFO)"
   ]
  },
  {
   "cell_type": "markdown",
   "metadata": {},
   "source": [
    "Read the dataframe and observe the column features"
   ]
  },
  {
   "cell_type": "code",
   "execution_count": 77,
   "metadata": {},
   "outputs": [
    {
     "name": "stderr",
     "output_type": "stream",
     "text": [
      "c:\\ProgramData\\Anaconda3\\lib\\site-packages\\IPython\\core\\interactiveshell.py:3444: DtypeWarning: Columns (25) have mixed types.Specify dtype option on import or set low_memory=False.\n",
      "  exec(code_obj, self.user_global_ns, self.user_ns)\n"
     ]
    },
    {
     "data": {
      "text/html": [
       "<div>\n",
       "<style scoped>\n",
       "    .dataframe tbody tr th:only-of-type {\n",
       "        vertical-align: middle;\n",
       "    }\n",
       "\n",
       "    .dataframe tbody tr th {\n",
       "        vertical-align: top;\n",
       "    }\n",
       "\n",
       "    .dataframe thead th {\n",
       "        text-align: right;\n",
       "    }\n",
       "</style>\n",
       "<table border=\"1\" class=\"dataframe\">\n",
       "  <thead>\n",
       "    <tr style=\"text-align: right;\">\n",
       "      <th></th>\n",
       "      <th>Unnamed: 0</th>\n",
       "      <th>image_type</th>\n",
       "      <th>account</th>\n",
       "      <th>caption</th>\n",
       "      <th>profile_name</th>\n",
       "      <th>profile_image_link</th>\n",
       "      <th>biography</th>\n",
       "      <th>id</th>\n",
       "      <th>external_url</th>\n",
       "      <th>following</th>\n",
       "      <th>...</th>\n",
       "      <th>tags</th>\n",
       "      <th>confidence_score</th>\n",
       "      <th>accent_color</th>\n",
       "      <th>is_bw</th>\n",
       "      <th>dominant_colors</th>\n",
       "      <th>bg_color</th>\n",
       "      <th>fore_color</th>\n",
       "      <th>industry</th>\n",
       "      <th>_category</th>\n",
       "      <th>region</th>\n",
       "    </tr>\n",
       "  </thead>\n",
       "  <tbody>\n",
       "    <tr>\n",
       "      <th>0</th>\n",
       "      <td>0</td>\n",
       "      <td>['Ambiguous Clip', 'Not LineDraw']</td>\n",
       "      <td>yeastbakery</td>\n",
       "      <td>It’s our last Pizza Sunday at the arch today. ...</td>\n",
       "      <td>Yeast Bakery</td>\n",
       "      <td>https://instagram.fman2-1.fna.fbcdn.net/v/t51....</td>\n",
       "      <td>We are now open at our new site: Unit 1 Canal ...</td>\n",
       "      <td>2.620408e+18</td>\n",
       "      <td>http://www.yeastbakery.com/</td>\n",
       "      <td>352.0</td>\n",
       "      <td>...</td>\n",
       "      <td>['text', 'font', 'graphics', 'screenshot', 'gr...</td>\n",
       "      <td>[0.9980798959732056, 0.9481294751167297, 0.881...</td>\n",
       "      <td>(0.788235294117647, 0.00784313725490196, 0.007...</td>\n",
       "      <td>0</td>\n",
       "      <td>[(1.0, 0.7529411764705882, 0.796078431372549)]</td>\n",
       "      <td>(1.0, 0.7529411764705882, 0.796078431372549)</td>\n",
       "      <td>(1.0, 0.7529411764705882, 0.796078431372549)</td>\n",
       "      <td>hospitality</td>\n",
       "      <td>bakery</td>\n",
       "      <td>UK</td>\n",
       "    </tr>\n",
       "    <tr>\n",
       "      <th>1</th>\n",
       "      <td>1</td>\n",
       "      <td>['Not Clip', 'Not LineDraw']</td>\n",
       "      <td>yeastbakery</td>\n",
       "      <td>New cakes on our counters 😋😋</td>\n",
       "      <td>Yeast Bakery</td>\n",
       "      <td>https://instagram.fman2-1.fna.fbcdn.net/v/t51....</td>\n",
       "      <td>We are now open at our new site: Unit 1 Canal ...</td>\n",
       "      <td>2.790859e+18</td>\n",
       "      <td>http://www.yeastbakery.com/</td>\n",
       "      <td>352.0</td>\n",
       "      <td>...</td>\n",
       "      <td>['dessert', 'baked goods', 'baking', 'snack', ...</td>\n",
       "      <td>[0.9897554516792297, 0.987897515296936, 0.9828...</td>\n",
       "      <td>(0.6901960784313725, 0.14901960784313725, 0.10...</td>\n",
       "      <td>0</td>\n",
       "      <td>[(0.6470588235294118, 0.16470588235294117, 0.1...</td>\n",
       "      <td>(0.6470588235294118, 0.16470588235294117, 0.16...</td>\n",
       "      <td>(0.0, 0.0, 0.0)</td>\n",
       "      <td>hospitality</td>\n",
       "      <td>bakery</td>\n",
       "      <td>UK</td>\n",
       "    </tr>\n",
       "  </tbody>\n",
       "</table>\n",
       "<p>2 rows × 36 columns</p>\n",
       "</div>"
      ],
      "text/plain": [
       "   Unnamed: 0                          image_type      account  \\\n",
       "0           0  ['Ambiguous Clip', 'Not LineDraw']  yeastbakery   \n",
       "1           1        ['Not Clip', 'Not LineDraw']  yeastbakery   \n",
       "\n",
       "                                             caption  profile_name  \\\n",
       "0  It’s our last Pizza Sunday at the arch today. ...  Yeast Bakery   \n",
       "1                       New cakes on our counters 😋😋  Yeast Bakery   \n",
       "\n",
       "                                  profile_image_link  \\\n",
       "0  https://instagram.fman2-1.fna.fbcdn.net/v/t51....   \n",
       "1  https://instagram.fman2-1.fna.fbcdn.net/v/t51....   \n",
       "\n",
       "                                           biography            id  \\\n",
       "0  We are now open at our new site: Unit 1 Canal ...  2.620408e+18   \n",
       "1  We are now open at our new site: Unit 1 Canal ...  2.790859e+18   \n",
       "\n",
       "                  external_url  following  ...  \\\n",
       "0  http://www.yeastbakery.com/      352.0  ...   \n",
       "1  http://www.yeastbakery.com/      352.0  ...   \n",
       "\n",
       "                                                tags  \\\n",
       "0  ['text', 'font', 'graphics', 'screenshot', 'gr...   \n",
       "1  ['dessert', 'baked goods', 'baking', 'snack', ...   \n",
       "\n",
       "                                    confidence_score  \\\n",
       "0  [0.9980798959732056, 0.9481294751167297, 0.881...   \n",
       "1  [0.9897554516792297, 0.987897515296936, 0.9828...   \n",
       "\n",
       "                                        accent_color  is_bw  \\\n",
       "0  (0.788235294117647, 0.00784313725490196, 0.007...      0   \n",
       "1  (0.6901960784313725, 0.14901960784313725, 0.10...      0   \n",
       "\n",
       "                                     dominant_colors  \\\n",
       "0     [(1.0, 0.7529411764705882, 0.796078431372549)]   \n",
       "1  [(0.6470588235294118, 0.16470588235294117, 0.1...   \n",
       "\n",
       "                                            bg_color  \\\n",
       "0       (1.0, 0.7529411764705882, 0.796078431372549)   \n",
       "1  (0.6470588235294118, 0.16470588235294117, 0.16...   \n",
       "\n",
       "                                     fore_color     industry  _category region  \n",
       "0  (1.0, 0.7529411764705882, 0.796078431372549)  hospitality     bakery     UK  \n",
       "1                               (0.0, 0.0, 0.0)  hospitality     bakery     UK  \n",
       "\n",
       "[2 rows x 36 columns]"
      ]
     },
     "execution_count": 77,
     "metadata": {},
     "output_type": "execute_result"
    }
   ],
   "source": [
    "path = 'C:\\\\Users\\\\sande\\\\Documents\\\\GitHub\\\\Project - Toroni NLP Instagram\\\\NLP-project-\\\\'\n",
    "dfRaw = pd.read_csv(path+ \"Dataset\\\\RAW_FINAL_DATAFRAME_88k_29042022.csv\")\n",
    "dfRaw.head(2)"
   ]
  },
  {
   "cell_type": "code",
   "execution_count": 4,
   "metadata": {},
   "outputs": [
    {
     "data": {
      "text/plain": [
       "Index(['Unnamed: 0', 'image_type', 'account', 'caption', 'profile_name',\n",
       "       'profile_image_link', 'biography', 'id', 'external_url', 'following',\n",
       "       'likes', 'media_type', 'posts_count', 'followers', 'is_verified',\n",
       "       'datetime', 'image_url.1', 'url', 'comments', 'input_account',\n",
       "       'input_posts_number', 'input_date_of_post', 'input_post_type',\n",
       "       'input_stop_id', 'warning', 'error', 'tags', 'confidence_score',\n",
       "       'accent_color', 'is_bw', 'dominant_colors', 'bg_color', 'fore_color',\n",
       "       'industry', '_category', 'region'],\n",
       "      dtype='object')"
      ]
     },
     "execution_count": 4,
     "metadata": {},
     "output_type": "execute_result"
    }
   ],
   "source": [
    "dfRaw.columns"
   ]
  },
  {
   "cell_type": "markdown",
   "metadata": {},
   "source": [
    "Seperating the kinds of data types to be dealt with"
   ]
  },
  {
   "cell_type": "code",
   "execution_count": 50,
   "metadata": {},
   "outputs": [],
   "source": [
    "required_col_names = ['image_type','tags', 'confidence_score','accent_color', 'is_bw', 'dominant_colors', 'bg_color', 'fore_color' ] \n",
    "textual_col_names = ['image_type','tags']\n",
    "numerical_col_names = ['confidence_score','accent_color', 'dominant_colors', 'bg_color', 'fore_color']"
   ]
  },
  {
   "cell_type": "code",
   "execution_count": 51,
   "metadata": {},
   "outputs": [],
   "source": [
    "df = dfRaw[required_col_names]"
   ]
  },
  {
   "cell_type": "code",
   "execution_count": 52,
   "metadata": {},
   "outputs": [
    {
     "data": {
      "text/html": [
       "<div>\n",
       "<style scoped>\n",
       "    .dataframe tbody tr th:only-of-type {\n",
       "        vertical-align: middle;\n",
       "    }\n",
       "\n",
       "    .dataframe tbody tr th {\n",
       "        vertical-align: top;\n",
       "    }\n",
       "\n",
       "    .dataframe thead th {\n",
       "        text-align: right;\n",
       "    }\n",
       "</style>\n",
       "<table border=\"1\" class=\"dataframe\">\n",
       "  <thead>\n",
       "    <tr style=\"text-align: right;\">\n",
       "      <th></th>\n",
       "      <th>Total Missing Values</th>\n",
       "      <th>Missing %</th>\n",
       "    </tr>\n",
       "  </thead>\n",
       "  <tbody>\n",
       "    <tr>\n",
       "      <th>image_type</th>\n",
       "      <td>0</td>\n",
       "      <td>0.0</td>\n",
       "    </tr>\n",
       "    <tr>\n",
       "      <th>tags</th>\n",
       "      <td>0</td>\n",
       "      <td>0.0</td>\n",
       "    </tr>\n",
       "    <tr>\n",
       "      <th>confidence_score</th>\n",
       "      <td>0</td>\n",
       "      <td>0.0</td>\n",
       "    </tr>\n",
       "    <tr>\n",
       "      <th>accent_color</th>\n",
       "      <td>0</td>\n",
       "      <td>0.0</td>\n",
       "    </tr>\n",
       "    <tr>\n",
       "      <th>is_bw</th>\n",
       "      <td>0</td>\n",
       "      <td>0.0</td>\n",
       "    </tr>\n",
       "    <tr>\n",
       "      <th>dominant_colors</th>\n",
       "      <td>0</td>\n",
       "      <td>0.0</td>\n",
       "    </tr>\n",
       "    <tr>\n",
       "      <th>bg_color</th>\n",
       "      <td>0</td>\n",
       "      <td>0.0</td>\n",
       "    </tr>\n",
       "    <tr>\n",
       "      <th>fore_color</th>\n",
       "      <td>0</td>\n",
       "      <td>0.0</td>\n",
       "    </tr>\n",
       "  </tbody>\n",
       "</table>\n",
       "</div>"
      ],
      "text/plain": [
       "                  Total Missing Values  Missing %\n",
       "image_type                           0        0.0\n",
       "tags                                 0        0.0\n",
       "confidence_score                     0        0.0\n",
       "accent_color                         0        0.0\n",
       "is_bw                                0        0.0\n",
       "dominant_colors                      0        0.0\n",
       "bg_color                             0        0.0\n",
       "fore_color                           0        0.0"
      ]
     },
     "execution_count": 52,
     "metadata": {},
     "output_type": "execute_result"
    }
   ],
   "source": [
    "#calculating missing values in the dataset\n",
    "missing_values = df.isnull().sum()\n",
    "missing_per = (missing_values/df.shape[0])*100\n",
    "missing_table = pd.concat([missing_values,missing_per], axis=1, ignore_index=True) \n",
    "missing_table.rename(columns={0:'Total Missing Values',1:'Missing %'}, inplace=True)\n",
    "missing_table"
   ]
  },
  {
   "cell_type": "markdown",
   "metadata": {},
   "source": [
    "Exploring columns now:"
   ]
  },
  {
   "cell_type": "code",
   "execution_count": 55,
   "metadata": {},
   "outputs": [
    {
     "data": {
      "text/html": [
       "<div>\n",
       "<style scoped>\n",
       "    .dataframe tbody tr th:only-of-type {\n",
       "        vertical-align: middle;\n",
       "    }\n",
       "\n",
       "    .dataframe tbody tr th {\n",
       "        vertical-align: top;\n",
       "    }\n",
       "\n",
       "    .dataframe thead th {\n",
       "        text-align: right;\n",
       "    }\n",
       "</style>\n",
       "<table border=\"1\" class=\"dataframe\">\n",
       "  <thead>\n",
       "    <tr style=\"text-align: right;\">\n",
       "      <th></th>\n",
       "      <th>image_type</th>\n",
       "      <th>tags</th>\n",
       "      <th>confidence_score</th>\n",
       "      <th>accent_color</th>\n",
       "      <th>is_bw</th>\n",
       "      <th>dominant_colors</th>\n",
       "      <th>bg_color</th>\n",
       "      <th>fore_color</th>\n",
       "    </tr>\n",
       "  </thead>\n",
       "  <tbody>\n",
       "    <tr>\n",
       "      <th>0</th>\n",
       "      <td>['Ambiguous Clip', 'Not LineDraw']</td>\n",
       "      <td>['text', 'font', 'graphics', 'screenshot', 'gr...</td>\n",
       "      <td>[0.9980798959732056, 0.9481294751167297, 0.881...</td>\n",
       "      <td>(0.788235294117647, 0.00784313725490196, 0.007...</td>\n",
       "      <td>0</td>\n",
       "      <td>[(1.0, 0.7529411764705882, 0.796078431372549)]</td>\n",
       "      <td>(1.0, 0.7529411764705882, 0.796078431372549)</td>\n",
       "      <td>(1.0, 0.7529411764705882, 0.796078431372549)</td>\n",
       "    </tr>\n",
       "    <tr>\n",
       "      <th>1</th>\n",
       "      <td>['Not Clip', 'Not LineDraw']</td>\n",
       "      <td>['dessert', 'baked goods', 'baking', 'snack', ...</td>\n",
       "      <td>[0.9897554516792297, 0.987897515296936, 0.9828...</td>\n",
       "      <td>(0.6901960784313725, 0.14901960784313725, 0.10...</td>\n",
       "      <td>0</td>\n",
       "      <td>[(0.6470588235294118, 0.16470588235294117, 0.1...</td>\n",
       "      <td>(0.6470588235294118, 0.16470588235294117, 0.16...</td>\n",
       "      <td>(0.0, 0.0, 0.0)</td>\n",
       "    </tr>\n",
       "  </tbody>\n",
       "</table>\n",
       "</div>"
      ],
      "text/plain": [
       "                           image_type  \\\n",
       "0  ['Ambiguous Clip', 'Not LineDraw']   \n",
       "1        ['Not Clip', 'Not LineDraw']   \n",
       "\n",
       "                                                tags  \\\n",
       "0  ['text', 'font', 'graphics', 'screenshot', 'gr...   \n",
       "1  ['dessert', 'baked goods', 'baking', 'snack', ...   \n",
       "\n",
       "                                    confidence_score  \\\n",
       "0  [0.9980798959732056, 0.9481294751167297, 0.881...   \n",
       "1  [0.9897554516792297, 0.987897515296936, 0.9828...   \n",
       "\n",
       "                                        accent_color  is_bw  \\\n",
       "0  (0.788235294117647, 0.00784313725490196, 0.007...      0   \n",
       "1  (0.6901960784313725, 0.14901960784313725, 0.10...      0   \n",
       "\n",
       "                                     dominant_colors  \\\n",
       "0     [(1.0, 0.7529411764705882, 0.796078431372549)]   \n",
       "1  [(0.6470588235294118, 0.16470588235294117, 0.1...   \n",
       "\n",
       "                                            bg_color  \\\n",
       "0       (1.0, 0.7529411764705882, 0.796078431372549)   \n",
       "1  (0.6470588235294118, 0.16470588235294117, 0.16...   \n",
       "\n",
       "                                     fore_color  \n",
       "0  (1.0, 0.7529411764705882, 0.796078431372549)  \n",
       "1                               (0.0, 0.0, 0.0)  "
      ]
     },
     "execution_count": 55,
     "metadata": {},
     "output_type": "execute_result"
    }
   ],
   "source": [
    "df.head(2)"
   ]
  },
  {
   "cell_type": "code",
   "execution_count": 56,
   "metadata": {},
   "outputs": [
    {
     "data": {
      "text/plain": [
       "['Not Clip', 'Not LineDraw']          79660\n",
       "['Ambiguous Clip', 'Not LineDraw']     6318\n",
       "['Good Clip', 'Not LineDraw']          1397\n",
       "['Normal Clip', 'Not LineDraw']         921\n",
       "['Not Clip', 'LineDraw']                122\n",
       "['Ambiguous Clip', 'LineDraw']           57\n",
       "['Good Clip', 'LineDraw']                31\n",
       "['Normal Clip', 'LineDraw']              10\n",
       "Name: image_type, dtype: int64"
      ]
     },
     "execution_count": 56,
     "metadata": {},
     "output_type": "execute_result"
    }
   ],
   "source": [
    "df['image_type'].value_counts()"
   ]
  },
  {
   "cell_type": "markdown",
   "metadata": {},
   "source": [
    "Applying preprocessing on the textual columns now:"
   ]
  },
  {
   "cell_type": "code",
   "execution_count": 58,
   "metadata": {},
   "outputs": [
    {
     "data": {
      "text/html": [
       "<div>\n",
       "<style scoped>\n",
       "    .dataframe tbody tr th:only-of-type {\n",
       "        vertical-align: middle;\n",
       "    }\n",
       "\n",
       "    .dataframe tbody tr th {\n",
       "        vertical-align: top;\n",
       "    }\n",
       "\n",
       "    .dataframe thead th {\n",
       "        text-align: right;\n",
       "    }\n",
       "</style>\n",
       "<table border=\"1\" class=\"dataframe\">\n",
       "  <thead>\n",
       "    <tr style=\"text-align: right;\">\n",
       "      <th></th>\n",
       "      <th>image_type</th>\n",
       "      <th>tags</th>\n",
       "      <th>confidence_score</th>\n",
       "      <th>accent_color</th>\n",
       "      <th>is_bw</th>\n",
       "      <th>dominant_colors</th>\n",
       "      <th>bg_color</th>\n",
       "      <th>fore_color</th>\n",
       "    </tr>\n",
       "  </thead>\n",
       "  <tbody>\n",
       "    <tr>\n",
       "      <th>0</th>\n",
       "      <td>[Ambiguous Clip, Not LineDraw]</td>\n",
       "      <td>[text, font, graphics, screenshot, graphic des...</td>\n",
       "      <td>[0.9980798959732056, 0.9481294751167297, 0.881...</td>\n",
       "      <td>(0.788235294117647, 0.00784313725490196, 0.007...</td>\n",
       "      <td>0</td>\n",
       "      <td>[(1.0, 0.7529411764705882, 0.796078431372549)]</td>\n",
       "      <td>(1.0, 0.7529411764705882, 0.796078431372549)</td>\n",
       "      <td>(1.0, 0.7529411764705882, 0.796078431372549)</td>\n",
       "    </tr>\n",
       "    <tr>\n",
       "      <th>1</th>\n",
       "      <td>[Not Clip, Not LineDraw]</td>\n",
       "      <td>[dessert, baked goods, baking, snack, food, sw...</td>\n",
       "      <td>[0.9897554516792297, 0.987897515296936, 0.9828...</td>\n",
       "      <td>(0.6901960784313725, 0.14901960784313725, 0.10...</td>\n",
       "      <td>0</td>\n",
       "      <td>[(0.6470588235294118, 0.16470588235294117, 0.1...</td>\n",
       "      <td>(0.6470588235294118, 0.16470588235294117, 0.16...</td>\n",
       "      <td>(0.0, 0.0, 0.0)</td>\n",
       "    </tr>\n",
       "  </tbody>\n",
       "</table>\n",
       "</div>"
      ],
      "text/plain": [
       "                       image_type  \\\n",
       "0  [Ambiguous Clip, Not LineDraw]   \n",
       "1        [Not Clip, Not LineDraw]   \n",
       "\n",
       "                                                tags  \\\n",
       "0  [text, font, graphics, screenshot, graphic des...   \n",
       "1  [dessert, baked goods, baking, snack, food, sw...   \n",
       "\n",
       "                                    confidence_score  \\\n",
       "0  [0.9980798959732056, 0.9481294751167297, 0.881...   \n",
       "1  [0.9897554516792297, 0.987897515296936, 0.9828...   \n",
       "\n",
       "                                        accent_color  is_bw  \\\n",
       "0  (0.788235294117647, 0.00784313725490196, 0.007...      0   \n",
       "1  (0.6901960784313725, 0.14901960784313725, 0.10...      0   \n",
       "\n",
       "                                     dominant_colors  \\\n",
       "0     [(1.0, 0.7529411764705882, 0.796078431372549)]   \n",
       "1  [(0.6470588235294118, 0.16470588235294117, 0.1...   \n",
       "\n",
       "                                            bg_color  \\\n",
       "0       (1.0, 0.7529411764705882, 0.796078431372549)   \n",
       "1  (0.6470588235294118, 0.16470588235294117, 0.16...   \n",
       "\n",
       "                                     fore_color  \n",
       "0  (1.0, 0.7529411764705882, 0.796078431372549)  \n",
       "1                               (0.0, 0.0, 0.0)  "
      ]
     },
     "execution_count": 58,
     "metadata": {},
     "output_type": "execute_result"
    }
   ],
   "source": [
    "def findall_re(val, re2apply):\n",
    "    v = re2apply.findall(val)\n",
    "    summarised = []\n",
    "    for i in v:\n",
    "        summarised.append(i[1])\n",
    "    return summarised\n",
    "    \n",
    "re_textual = re.compile(r\"([\\\"'])(.*?[^\\\\])\\1\")\n",
    "for text_col in textual_col_names:\n",
    "    for i in df.iterrows():\n",
    "        y = findall_re(df.at[i[0],text_col], re_textual)\n",
    "        df.at[i[0], text_col] = y\n",
    "\n",
    "df.head(2)\n"
   ]
  },
  {
   "cell_type": "code",
   "execution_count": 63,
   "metadata": {},
   "outputs": [
    {
     "name": "stdout",
     "output_type": "stream",
     "text": [
      "<class 'list'>\n",
      "<class 'list'>\n"
     ]
    }
   ],
   "source": [
    "for i in textual_col_names:\n",
    "    print(type(df.at[0,i]))"
   ]
  },
  {
   "cell_type": "markdown",
   "metadata": {},
   "source": [
    "Handling numerical columns:"
   ]
  },
  {
   "cell_type": "code",
   "execution_count": 66,
   "metadata": {},
   "outputs": [
    {
     "name": "stdout",
     "output_type": "stream",
     "text": [
      "The type of column confidence_score is : <class 'str'>\n",
      "The type of column accent_color is : <class 'str'>\n",
      "The type of column dominant_colors is : <class 'str'>\n",
      "The type of column bg_color is : <class 'str'>\n",
      "The type of column fore_color is : <class 'str'>\n"
     ]
    }
   ],
   "source": [
    "for i in numerical_col_names:\n",
    "     print(\"The type of column\", i, \"is :\", type(df.at[0,i]))"
   ]
  },
  {
   "cell_type": "code",
   "execution_count": 67,
   "metadata": {},
   "outputs": [
    {
     "data": {
      "text/html": [
       "<div>\n",
       "<style scoped>\n",
       "    .dataframe tbody tr th:only-of-type {\n",
       "        vertical-align: middle;\n",
       "    }\n",
       "\n",
       "    .dataframe tbody tr th {\n",
       "        vertical-align: top;\n",
       "    }\n",
       "\n",
       "    .dataframe thead th {\n",
       "        text-align: right;\n",
       "    }\n",
       "</style>\n",
       "<table border=\"1\" class=\"dataframe\">\n",
       "  <thead>\n",
       "    <tr style=\"text-align: right;\">\n",
       "      <th></th>\n",
       "      <th>confidence_score</th>\n",
       "      <th>accent_color</th>\n",
       "      <th>dominant_colors</th>\n",
       "      <th>bg_color</th>\n",
       "      <th>fore_color</th>\n",
       "    </tr>\n",
       "  </thead>\n",
       "  <tbody>\n",
       "    <tr>\n",
       "      <th>0</th>\n",
       "      <td>[0.9980798959732056, 0.9481294751167297, 0.881...</td>\n",
       "      <td>(0.788235294117647, 0.00784313725490196, 0.007...</td>\n",
       "      <td>[(1.0, 0.7529411764705882, 0.796078431372549)]</td>\n",
       "      <td>(1.0, 0.7529411764705882, 0.796078431372549)</td>\n",
       "      <td>(1.0, 0.7529411764705882, 0.796078431372549)</td>\n",
       "    </tr>\n",
       "    <tr>\n",
       "      <th>1</th>\n",
       "      <td>[0.9897554516792297, 0.987897515296936, 0.9828...</td>\n",
       "      <td>(0.6901960784313725, 0.14901960784313725, 0.10...</td>\n",
       "      <td>[(0.6470588235294118, 0.16470588235294117, 0.1...</td>\n",
       "      <td>(0.6470588235294118, 0.16470588235294117, 0.16...</td>\n",
       "      <td>(0.0, 0.0, 0.0)</td>\n",
       "    </tr>\n",
       "  </tbody>\n",
       "</table>\n",
       "</div>"
      ],
      "text/plain": [
       "                                    confidence_score  \\\n",
       "0  [0.9980798959732056, 0.9481294751167297, 0.881...   \n",
       "1  [0.9897554516792297, 0.987897515296936, 0.9828...   \n",
       "\n",
       "                                        accent_color  \\\n",
       "0  (0.788235294117647, 0.00784313725490196, 0.007...   \n",
       "1  (0.6901960784313725, 0.14901960784313725, 0.10...   \n",
       "\n",
       "                                     dominant_colors  \\\n",
       "0     [(1.0, 0.7529411764705882, 0.796078431372549)]   \n",
       "1  [(0.6470588235294118, 0.16470588235294117, 0.1...   \n",
       "\n",
       "                                            bg_color  \\\n",
       "0       (1.0, 0.7529411764705882, 0.796078431372549)   \n",
       "1  (0.6470588235294118, 0.16470588235294117, 0.16...   \n",
       "\n",
       "                                     fore_color  \n",
       "0  (1.0, 0.7529411764705882, 0.796078431372549)  \n",
       "1                               (0.0, 0.0, 0.0)  "
      ]
     },
     "execution_count": 67,
     "metadata": {},
     "output_type": "execute_result"
    }
   ],
   "source": [
    "df[numerical_col_names].head(2)"
   ]
  },
  {
   "cell_type": "code",
   "execution_count": 68,
   "metadata": {},
   "outputs": [
    {
     "name": "stdout",
     "output_type": "stream",
     "text": [
      "confidence_score\n",
      "accent_color\n",
      "dominant_colors\n",
      "bg_color\n",
      "fore_color\n"
     ]
    },
    {
     "data": {
      "text/html": [
       "<div>\n",
       "<style scoped>\n",
       "    .dataframe tbody tr th:only-of-type {\n",
       "        vertical-align: middle;\n",
       "    }\n",
       "\n",
       "    .dataframe tbody tr th {\n",
       "        vertical-align: top;\n",
       "    }\n",
       "\n",
       "    .dataframe thead th {\n",
       "        text-align: right;\n",
       "    }\n",
       "</style>\n",
       "<table border=\"1\" class=\"dataframe\">\n",
       "  <thead>\n",
       "    <tr style=\"text-align: right;\">\n",
       "      <th></th>\n",
       "      <th>confidence_score</th>\n",
       "      <th>accent_color</th>\n",
       "      <th>dominant_colors</th>\n",
       "      <th>bg_color</th>\n",
       "      <th>fore_color</th>\n",
       "    </tr>\n",
       "  </thead>\n",
       "  <tbody>\n",
       "    <tr>\n",
       "      <th>0</th>\n",
       "      <td>[0.9980798959732056, 0.9481294751167297, 0.881...</td>\n",
       "      <td>[0.788235294117647, 0.00784313725490196, 0.007...</td>\n",
       "      <td>[1.0, 0.7529411764705882, 0.796078431372549]</td>\n",
       "      <td>[1.0, 0.7529411764705882, 0.796078431372549]</td>\n",
       "      <td>[1.0, 0.7529411764705882, 0.796078431372549]</td>\n",
       "    </tr>\n",
       "    <tr>\n",
       "      <th>1</th>\n",
       "      <td>[0.9897554516792297, 0.987897515296936, 0.9828...</td>\n",
       "      <td>[0.6901960784313725, 0.14901960784313725, 0.10...</td>\n",
       "      <td>[0.6470588235294118, 0.16470588235294117, 0.16...</td>\n",
       "      <td>[0.6470588235294118, 0.16470588235294117, 0.16...</td>\n",
       "      <td>[0.0, 0.0, 0.0]</td>\n",
       "    </tr>\n",
       "  </tbody>\n",
       "</table>\n",
       "</div>"
      ],
      "text/plain": [
       "                                    confidence_score  \\\n",
       "0  [0.9980798959732056, 0.9481294751167297, 0.881...   \n",
       "1  [0.9897554516792297, 0.987897515296936, 0.9828...   \n",
       "\n",
       "                                        accent_color  \\\n",
       "0  [0.788235294117647, 0.00784313725490196, 0.007...   \n",
       "1  [0.6901960784313725, 0.14901960784313725, 0.10...   \n",
       "\n",
       "                                     dominant_colors  \\\n",
       "0       [1.0, 0.7529411764705882, 0.796078431372549]   \n",
       "1  [0.6470588235294118, 0.16470588235294117, 0.16...   \n",
       "\n",
       "                                            bg_color  \\\n",
       "0       [1.0, 0.7529411764705882, 0.796078431372549]   \n",
       "1  [0.6470588235294118, 0.16470588235294117, 0.16...   \n",
       "\n",
       "                                     fore_color  \n",
       "0  [1.0, 0.7529411764705882, 0.796078431372549]  \n",
       "1                               [0.0, 0.0, 0.0]  "
      ]
     },
     "execution_count": 68,
     "metadata": {},
     "output_type": "execute_result"
    }
   ],
   "source": [
    "re_removes_brackets = re.compile('[0-9][^)]+[0-9]')\n",
    "def convert_str2float_re(i):\n",
    "  n = []\n",
    "  y = i.split(', ')\n",
    "  if len(y[0]) == 0:\n",
    "    return []\n",
    "  for j in range(len(y)):\n",
    "    n.append(float(y[j]))\n",
    "  return n\n",
    "\n",
    "for col_name in numerical_col_names:\n",
    "  print(col_name)\n",
    "  for i in df.iterrows():\n",
    "    num_val = df.at[i[0], col_name]\n",
    "    if len(num_val) == 2:\n",
    "      df.at[i[0], col_name] = [0]\n",
    "    else:\n",
    "      num_val = re_removes_brackets.findall(num_val)\n",
    "      df.at[i[0], col_name] = convert_str2float_re(num_val[0])\n",
    "\n",
    "df[numerical_col_names].head(2)"
   ]
  },
  {
   "cell_type": "code",
   "execution_count": 73,
   "metadata": {},
   "outputs": [
    {
     "name": "stdout",
     "output_type": "stream",
     "text": [
      "The type of column confidence_score is : <class 'list'>\n",
      "The type of column accent_color is : <class 'list'>\n",
      "The type of column dominant_colors is : <class 'list'>\n",
      "The type of column bg_color is : <class 'list'>\n",
      "The type of column fore_color is : <class 'list'>\n"
     ]
    }
   ],
   "source": [
    "for i in numerical_col_names:\n",
    "     # print(df.at[1,i])\n",
    "     print(\"The type of column\", i, \"is :\", type(df.at[1,i]))\n",
    "     pass\n",
    "     # print(\"Type for {}:\".format(i),type(df.at[0,i]), type(df.at[0,i][0]))"
   ]
  },
  {
   "cell_type": "markdown",
   "metadata": {},
   "source": [
    "Dataframe obtained with updated CV features"
   ]
  },
  {
   "cell_type": "code",
   "execution_count": 74,
   "metadata": {},
   "outputs": [
    {
     "data": {
      "text/html": [
       "<div>\n",
       "<style scoped>\n",
       "    .dataframe tbody tr th:only-of-type {\n",
       "        vertical-align: middle;\n",
       "    }\n",
       "\n",
       "    .dataframe tbody tr th {\n",
       "        vertical-align: top;\n",
       "    }\n",
       "\n",
       "    .dataframe thead th {\n",
       "        text-align: right;\n",
       "    }\n",
       "</style>\n",
       "<table border=\"1\" class=\"dataframe\">\n",
       "  <thead>\n",
       "    <tr style=\"text-align: right;\">\n",
       "      <th></th>\n",
       "      <th>image_type</th>\n",
       "      <th>tags</th>\n",
       "      <th>confidence_score</th>\n",
       "      <th>accent_color</th>\n",
       "      <th>is_bw</th>\n",
       "      <th>dominant_colors</th>\n",
       "      <th>bg_color</th>\n",
       "      <th>fore_color</th>\n",
       "    </tr>\n",
       "  </thead>\n",
       "  <tbody>\n",
       "    <tr>\n",
       "      <th>0</th>\n",
       "      <td>[Ambiguous Clip, Not LineDraw]</td>\n",
       "      <td>[text, font, graphics, screenshot, graphic des...</td>\n",
       "      <td>[0.9980798959732056, 0.9481294751167297, 0.881...</td>\n",
       "      <td>[0.788235294117647, 0.00784313725490196, 0.007...</td>\n",
       "      <td>0</td>\n",
       "      <td>[1.0, 0.7529411764705882, 0.796078431372549]</td>\n",
       "      <td>[1.0, 0.7529411764705882, 0.796078431372549]</td>\n",
       "      <td>[1.0, 0.7529411764705882, 0.796078431372549]</td>\n",
       "    </tr>\n",
       "    <tr>\n",
       "      <th>1</th>\n",
       "      <td>[Not Clip, Not LineDraw]</td>\n",
       "      <td>[dessert, baked goods, baking, snack, food, sw...</td>\n",
       "      <td>[0.9897554516792297, 0.987897515296936, 0.9828...</td>\n",
       "      <td>[0.6901960784313725, 0.14901960784313725, 0.10...</td>\n",
       "      <td>0</td>\n",
       "      <td>[0.6470588235294118, 0.16470588235294117, 0.16...</td>\n",
       "      <td>[0.6470588235294118, 0.16470588235294117, 0.16...</td>\n",
       "      <td>[0.0, 0.0, 0.0]</td>\n",
       "    </tr>\n",
       "  </tbody>\n",
       "</table>\n",
       "</div>"
      ],
      "text/plain": [
       "                       image_type  \\\n",
       "0  [Ambiguous Clip, Not LineDraw]   \n",
       "1        [Not Clip, Not LineDraw]   \n",
       "\n",
       "                                                tags  \\\n",
       "0  [text, font, graphics, screenshot, graphic des...   \n",
       "1  [dessert, baked goods, baking, snack, food, sw...   \n",
       "\n",
       "                                    confidence_score  \\\n",
       "0  [0.9980798959732056, 0.9481294751167297, 0.881...   \n",
       "1  [0.9897554516792297, 0.987897515296936, 0.9828...   \n",
       "\n",
       "                                        accent_color  is_bw  \\\n",
       "0  [0.788235294117647, 0.00784313725490196, 0.007...      0   \n",
       "1  [0.6901960784313725, 0.14901960784313725, 0.10...      0   \n",
       "\n",
       "                                     dominant_colors  \\\n",
       "0       [1.0, 0.7529411764705882, 0.796078431372549]   \n",
       "1  [0.6470588235294118, 0.16470588235294117, 0.16...   \n",
       "\n",
       "                                            bg_color  \\\n",
       "0       [1.0, 0.7529411764705882, 0.796078431372549]   \n",
       "1  [0.6470588235294118, 0.16470588235294117, 0.16...   \n",
       "\n",
       "                                     fore_color  \n",
       "0  [1.0, 0.7529411764705882, 0.796078431372549]  \n",
       "1                               [0.0, 0.0, 0.0]  "
      ]
     },
     "execution_count": 74,
     "metadata": {},
     "output_type": "execute_result"
    }
   ],
   "source": [
    "df.head(2)"
   ]
  },
  {
   "cell_type": "code",
   "execution_count": 75,
   "metadata": {},
   "outputs": [
    {
     "name": "stdout",
     "output_type": "stream",
     "text": [
      "<class 'list'>\n",
      "<class 'list'>\n",
      "<class 'list'>\n",
      "<class 'list'>\n",
      "<class 'numpy.int64'>\n",
      "<class 'list'>\n",
      "<class 'list'>\n",
      "<class 'list'>\n"
     ]
    }
   ],
   "source": [
    "for i in df.columns:\n",
    "     print(type(df.at[0,i]))"
   ]
  },
  {
   "cell_type": "code",
   "execution_count": 80,
   "metadata": {},
   "outputs": [
    {
     "data": {
      "text/html": [
       "<div>\n",
       "<style scoped>\n",
       "    .dataframe tbody tr th:only-of-type {\n",
       "        vertical-align: middle;\n",
       "    }\n",
       "\n",
       "    .dataframe tbody tr th {\n",
       "        vertical-align: top;\n",
       "    }\n",
       "\n",
       "    .dataframe thead th {\n",
       "        text-align: right;\n",
       "    }\n",
       "</style>\n",
       "<table border=\"1\" class=\"dataframe\">\n",
       "  <thead>\n",
       "    <tr style=\"text-align: right;\">\n",
       "      <th></th>\n",
       "      <th>Unnamed: 0</th>\n",
       "      <th>image_type</th>\n",
       "      <th>account</th>\n",
       "      <th>caption</th>\n",
       "      <th>profile_name</th>\n",
       "      <th>profile_image_link</th>\n",
       "      <th>biography</th>\n",
       "      <th>id</th>\n",
       "      <th>external_url</th>\n",
       "      <th>following</th>\n",
       "      <th>...</th>\n",
       "      <th>tags</th>\n",
       "      <th>confidence_score</th>\n",
       "      <th>accent_color</th>\n",
       "      <th>is_bw</th>\n",
       "      <th>dominant_colors</th>\n",
       "      <th>bg_color</th>\n",
       "      <th>fore_color</th>\n",
       "      <th>industry</th>\n",
       "      <th>_category</th>\n",
       "      <th>region</th>\n",
       "    </tr>\n",
       "  </thead>\n",
       "  <tbody>\n",
       "    <tr>\n",
       "      <th>0</th>\n",
       "      <td>0</td>\n",
       "      <td>['Ambiguous Clip', 'Not LineDraw']</td>\n",
       "      <td>yeastbakery</td>\n",
       "      <td>It’s our last Pizza Sunday at the arch today. ...</td>\n",
       "      <td>Yeast Bakery</td>\n",
       "      <td>https://instagram.fman2-1.fna.fbcdn.net/v/t51....</td>\n",
       "      <td>We are now open at our new site: Unit 1 Canal ...</td>\n",
       "      <td>2.620408e+18</td>\n",
       "      <td>http://www.yeastbakery.com/</td>\n",
       "      <td>352.0</td>\n",
       "      <td>...</td>\n",
       "      <td>['text', 'font', 'graphics', 'screenshot', 'gr...</td>\n",
       "      <td>[0.9980798959732056, 0.9481294751167297, 0.881...</td>\n",
       "      <td>(0.788235294117647, 0.00784313725490196, 0.007...</td>\n",
       "      <td>0</td>\n",
       "      <td>[(1.0, 0.7529411764705882, 0.796078431372549)]</td>\n",
       "      <td>(1.0, 0.7529411764705882, 0.796078431372549)</td>\n",
       "      <td>(1.0, 0.7529411764705882, 0.796078431372549)</td>\n",
       "      <td>hospitality</td>\n",
       "      <td>bakery</td>\n",
       "      <td>UK</td>\n",
       "    </tr>\n",
       "    <tr>\n",
       "      <th>1</th>\n",
       "      <td>1</td>\n",
       "      <td>['Not Clip', 'Not LineDraw']</td>\n",
       "      <td>yeastbakery</td>\n",
       "      <td>New cakes on our counters 😋😋</td>\n",
       "      <td>Yeast Bakery</td>\n",
       "      <td>https://instagram.fman2-1.fna.fbcdn.net/v/t51....</td>\n",
       "      <td>We are now open at our new site: Unit 1 Canal ...</td>\n",
       "      <td>2.790859e+18</td>\n",
       "      <td>http://www.yeastbakery.com/</td>\n",
       "      <td>352.0</td>\n",
       "      <td>...</td>\n",
       "      <td>['dessert', 'baked goods', 'baking', 'snack', ...</td>\n",
       "      <td>[0.9897554516792297, 0.987897515296936, 0.9828...</td>\n",
       "      <td>(0.6901960784313725, 0.14901960784313725, 0.10...</td>\n",
       "      <td>0</td>\n",
       "      <td>[(0.6470588235294118, 0.16470588235294117, 0.1...</td>\n",
       "      <td>(0.6470588235294118, 0.16470588235294117, 0.16...</td>\n",
       "      <td>(0.0, 0.0, 0.0)</td>\n",
       "      <td>hospitality</td>\n",
       "      <td>bakery</td>\n",
       "      <td>UK</td>\n",
       "    </tr>\n",
       "  </tbody>\n",
       "</table>\n",
       "<p>2 rows × 36 columns</p>\n",
       "</div>"
      ],
      "text/plain": [
       "   Unnamed: 0                          image_type      account  \\\n",
       "0           0  ['Ambiguous Clip', 'Not LineDraw']  yeastbakery   \n",
       "1           1        ['Not Clip', 'Not LineDraw']  yeastbakery   \n",
       "\n",
       "                                             caption  profile_name  \\\n",
       "0  It’s our last Pizza Sunday at the arch today. ...  Yeast Bakery   \n",
       "1                       New cakes on our counters 😋😋  Yeast Bakery   \n",
       "\n",
       "                                  profile_image_link  \\\n",
       "0  https://instagram.fman2-1.fna.fbcdn.net/v/t51....   \n",
       "1  https://instagram.fman2-1.fna.fbcdn.net/v/t51....   \n",
       "\n",
       "                                           biography            id  \\\n",
       "0  We are now open at our new site: Unit 1 Canal ...  2.620408e+18   \n",
       "1  We are now open at our new site: Unit 1 Canal ...  2.790859e+18   \n",
       "\n",
       "                  external_url  following  ...  \\\n",
       "0  http://www.yeastbakery.com/      352.0  ...   \n",
       "1  http://www.yeastbakery.com/      352.0  ...   \n",
       "\n",
       "                                                tags  \\\n",
       "0  ['text', 'font', 'graphics', 'screenshot', 'gr...   \n",
       "1  ['dessert', 'baked goods', 'baking', 'snack', ...   \n",
       "\n",
       "                                    confidence_score  \\\n",
       "0  [0.9980798959732056, 0.9481294751167297, 0.881...   \n",
       "1  [0.9897554516792297, 0.987897515296936, 0.9828...   \n",
       "\n",
       "                                        accent_color  is_bw  \\\n",
       "0  (0.788235294117647, 0.00784313725490196, 0.007...      0   \n",
       "1  (0.6901960784313725, 0.14901960784313725, 0.10...      0   \n",
       "\n",
       "                                     dominant_colors  \\\n",
       "0     [(1.0, 0.7529411764705882, 0.796078431372549)]   \n",
       "1  [(0.6470588235294118, 0.16470588235294117, 0.1...   \n",
       "\n",
       "                                            bg_color  \\\n",
       "0       (1.0, 0.7529411764705882, 0.796078431372549)   \n",
       "1  (0.6470588235294118, 0.16470588235294117, 0.16...   \n",
       "\n",
       "                                     fore_color     industry  _category region  \n",
       "0  (1.0, 0.7529411764705882, 0.796078431372549)  hospitality     bakery     UK  \n",
       "1                               (0.0, 0.0, 0.0)  hospitality     bakery     UK  \n",
       "\n",
       "[2 rows x 36 columns]"
      ]
     },
     "execution_count": 80,
     "metadata": {},
     "output_type": "execute_result"
    }
   ],
   "source": [
    "dfRaw.head(2)"
   ]
  },
  {
   "cell_type": "code",
   "execution_count": 82,
   "metadata": {},
   "outputs": [
    {
     "name": "stdout",
     "output_type": "stream",
     "text": [
      "<class 'str'>\n",
      "<class 'str'>\n",
      "<class 'str'>\n",
      "<class 'str'>\n",
      "<class 'numpy.int64'>\n",
      "<class 'str'>\n",
      "<class 'str'>\n",
      "<class 'str'>\n"
     ]
    }
   ],
   "source": [
    "#datatype of CV features in original df\n",
    "for i in df.columns:\n",
    "     print(type(dfRaw.at[0,i]))"
   ]
  },
  {
   "cell_type": "markdown",
   "metadata": {},
   "source": [
    "Replace these updated columns in the parent dataframe"
   ]
  },
  {
   "cell_type": "code",
   "execution_count": 92,
   "metadata": {},
   "outputs": [
    {
     "name": "stdout",
     "output_type": "stream",
     "text": [
      "The updated type of column image_type is : <class 'list'>\n",
      "The updated type of column tags is : <class 'list'>\n",
      "The updated type of column confidence_score is : <class 'list'>\n",
      "The updated type of column accent_color is : <class 'list'>\n",
      "The updated type of column is_bw is : <class 'numpy.int64'>\n",
      "The updated type of column dominant_colors is : <class 'list'>\n",
      "The updated type of column bg_color is : <class 'list'>\n",
      "The updated type of column fore_color is : <class 'list'>\n"
     ]
    }
   ],
   "source": [
    "for i in df.columns:\n",
    "    dfRaw[i] = df[i]\n",
    "    print(\"The updated type of column\", i, \"is :\",type(dfRaw.at[0,i]))"
   ]
  },
  {
   "cell_type": "code",
   "execution_count": 85,
   "metadata": {},
   "outputs": [],
   "source": [
    "dfRaw.to_csv('data.csv')"
   ]
  }
 ],
 "metadata": {
  "interpreter": {
   "hash": "ad2bdc8ecc057115af97d19610ffacc2b4e99fae6737bb82f5d7fb13d2f2c186"
  },
  "kernelspec": {
   "display_name": "Python 3.9.7 ('base')",
   "language": "python",
   "name": "python3"
  },
  "language_info": {
   "codemirror_mode": {
    "name": "ipython",
    "version": 3
   },
   "file_extension": ".py",
   "mimetype": "text/x-python",
   "name": "python",
   "nbconvert_exporter": "python",
   "pygments_lexer": "ipython3",
   "version": "3.9.7"
  },
  "orig_nbformat": 4
 },
 "nbformat": 4,
 "nbformat_minor": 2
}
