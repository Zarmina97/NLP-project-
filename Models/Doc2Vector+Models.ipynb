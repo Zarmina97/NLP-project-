{
  "nbformat": 4,
  "nbformat_minor": 0,
  "metadata": {
    "colab": {
      "name": "Doc2Vector + Models.ipynb",
      "provenance": [],
      "collapsed_sections": [],
      "toc_visible": true
    },
    "kernelspec": {
      "name": "python3",
      "display_name": "Python 3"
    },
    "language_info": {
      "name": "python"
    }
  },
  "cells": [
    {
      "cell_type": "code",
      "execution_count": 1,
      "metadata": {
        "id": "aLdW70g80j9c"
      },
      "outputs": [],
      "source": [
        "import pandas as pd\n",
        "import numpy as np\n",
        "import gensim\n",
        "from matplotlib import pyplot as plt\n",
        "from sklearn.decomposition import PCA\n",
        "from sklearn.manifold import TSNE\n",
        "%matplotlib inline\n",
        "import re  # For preprocessing\n",
        "import pandas as pd  # For data handling\n",
        "from time import time  # To time our operations\n",
        "from collections import defaultdict  # For word frequency\n",
        "import seaborn as sns\n",
        "import spacy  # For preprocessing\n",
        "\n",
        "import logging  # Setting up the loggings to monitor gensim\n",
        "logging.basicConfig(format=\"%(levelname)s - %(asctime)s: %(message)s\", datefmt= '%H:%M:%S', level=logging.INFO)"
      ]
    },
    {
      "cell_type": "code",
      "source": [
        "df=pd.read_csv('Base_Model_Final.csv') #target=likes_x"
      ],
      "metadata": {
        "id": "qEjmqJ0g02Kp"
      },
      "execution_count": 2,
      "outputs": []
    },
    {
      "cell_type": "code",
      "source": [
        "df.head()"
      ],
      "metadata": {
        "colab": {
          "base_uri": "https://localhost:8080/",
          "height": 803
        },
        "id": "pfBPMuOrXDK7",
        "outputId": "d3ed4921-6847-4a84-a869-3d72f60d139e"
      },
      "execution_count": 4,
      "outputs": [
        {
          "output_type": "execute_result",
          "data": {
            "text/plain": [
              "   Unnamed: 0                                            caption  following  \\\n",
              "0           0  𝗗𝗶𝗱 𝘆𝗼𝘂 𝗸𝗻𝗼𝘄 𝘁𝗵𝗮𝘁 𝘆𝗼𝘂 𝗰𝗮𝗻 𝘁𝗲𝘀𝘁 𝗳𝗼𝗿 𝗖𝗼𝘃𝗶𝗱 𝘄𝗶𝘁𝗵 ...      964.0   \n",
              "1           1  𝗧𝗛𝗔𝗡𝗞 𝗬𝗢𝗨  We grateful kind words feedback rec...      964.0   \n",
              "2           2  Hand dived Isle Jura scallop smoked roe leek c...      308.0   \n",
              "3           3  Jerusalem Artichoke prepared first dessert mal...      308.0   \n",
              "4           4  Main course seasonal  course menu: Borders Roe...      308.0   \n",
              "\n",
              "   likes_x  posts_count  followers  Hod  mon  tue  wed  ...  \\\n",
              "0     14.0         47.0     1093.0   10    1    0    0  ...   \n",
              "1     12.0         47.0     1093.0   14    0    0    0  ...   \n",
              "2    100.0        343.0     4202.0   17    0    0    0  ...   \n",
              "3     81.0        343.0     4202.0   20    1    0    0  ...   \n",
              "4    146.0        343.0     4202.0   18    0    0    1  ...   \n",
              "\n",
              "   average_five_recent_likes  TextBlob_Analysis  \\\n",
              "0                       13.0                  2   \n",
              "1                       13.0                  2   \n",
              "2                      158.6                  1   \n",
              "3                      158.6                  2   \n",
              "4                      158.6                  2   \n",
              "\n",
              "                                            hashtags  hashcounts  \\\n",
              "0  '#londontesting', '#chelseabridgeclinic', '#lo...           8   \n",
              "1  '#thankyou', '#thankful', '#feedback', '#chlse...           9   \n",
              "2  '#edinburghfoodies', '#edinburghrestaurants', ...          25   \n",
              "3  '#michelin', '#michelinstar', '#michelinuk', '...          28   \n",
              "4  '#michelin', '#michelinstar', '#michelinuk', '...          28   \n",
              "\n",
              "                                 mentions  mention_count  \\\n",
              "0                                     NaN              0   \n",
              "1                                     NaN              0   \n",
              "2                                     NaN              0   \n",
              "3                                     NaN              0   \n",
              "4  '@castlegamescotland', '@wellocksfood'              2   \n",
              "\n",
              "                                               emoji  \\\n",
              "0  ['⏱', '📄', '🧑🏻\\u200d⚕️', '👨\\u200d👩\\u200d👧\\u200...   \n",
              "1                                         ['👏', '🧡']   \n",
              "2                                                 []   \n",
              "3                                                 []   \n",
              "4                                                 []   \n",
              "\n",
              "                                          emoji_text  emoji_count  \\\n",
              "0  'stopwatch' 'page facing up' 'health worker: l...           10   \n",
              "1                    'clapping hands' 'orange heart'            2   \n",
              "2                                                NaN            0   \n",
              "3                                                NaN            0   \n",
              "4                                                NaN            0   \n",
              "\n",
              "  hashtag_popularity  \n",
              "0        3219.750000  \n",
              "1        5178.333333  \n",
              "2       17663.680000  \n",
              "3       16841.857143  \n",
              "4       16841.857143  \n",
              "\n",
              "[5 rows x 25 columns]"
            ],
            "text/html": [
              "\n",
              "  <div id=\"df-c4a9b1dc-2232-4644-900e-4cd1f5f9bb62\">\n",
              "    <div class=\"colab-df-container\">\n",
              "      <div>\n",
              "<style scoped>\n",
              "    .dataframe tbody tr th:only-of-type {\n",
              "        vertical-align: middle;\n",
              "    }\n",
              "\n",
              "    .dataframe tbody tr th {\n",
              "        vertical-align: top;\n",
              "    }\n",
              "\n",
              "    .dataframe thead th {\n",
              "        text-align: right;\n",
              "    }\n",
              "</style>\n",
              "<table border=\"1\" class=\"dataframe\">\n",
              "  <thead>\n",
              "    <tr style=\"text-align: right;\">\n",
              "      <th></th>\n",
              "      <th>Unnamed: 0</th>\n",
              "      <th>caption</th>\n",
              "      <th>following</th>\n",
              "      <th>likes_x</th>\n",
              "      <th>posts_count</th>\n",
              "      <th>followers</th>\n",
              "      <th>Hod</th>\n",
              "      <th>mon</th>\n",
              "      <th>tue</th>\n",
              "      <th>wed</th>\n",
              "      <th>...</th>\n",
              "      <th>average_five_recent_likes</th>\n",
              "      <th>TextBlob_Analysis</th>\n",
              "      <th>hashtags</th>\n",
              "      <th>hashcounts</th>\n",
              "      <th>mentions</th>\n",
              "      <th>mention_count</th>\n",
              "      <th>emoji</th>\n",
              "      <th>emoji_text</th>\n",
              "      <th>emoji_count</th>\n",
              "      <th>hashtag_popularity</th>\n",
              "    </tr>\n",
              "  </thead>\n",
              "  <tbody>\n",
              "    <tr>\n",
              "      <th>0</th>\n",
              "      <td>0</td>\n",
              "      <td>𝗗𝗶𝗱 𝘆𝗼𝘂 𝗸𝗻𝗼𝘄 𝘁𝗵𝗮𝘁 𝘆𝗼𝘂 𝗰𝗮𝗻 𝘁𝗲𝘀𝘁 𝗳𝗼𝗿 𝗖𝗼𝘃𝗶𝗱 𝘄𝗶𝘁𝗵 ...</td>\n",
              "      <td>964.0</td>\n",
              "      <td>14.0</td>\n",
              "      <td>47.0</td>\n",
              "      <td>1093.0</td>\n",
              "      <td>10</td>\n",
              "      <td>1</td>\n",
              "      <td>0</td>\n",
              "      <td>0</td>\n",
              "      <td>...</td>\n",
              "      <td>13.0</td>\n",
              "      <td>2</td>\n",
              "      <td>'#londontesting', '#chelseabridgeclinic', '#lo...</td>\n",
              "      <td>8</td>\n",
              "      <td>NaN</td>\n",
              "      <td>0</td>\n",
              "      <td>['⏱', '📄', '🧑🏻\\u200d⚕️', '👨\\u200d👩\\u200d👧\\u200...</td>\n",
              "      <td>'stopwatch' 'page facing up' 'health worker: l...</td>\n",
              "      <td>10</td>\n",
              "      <td>3219.750000</td>\n",
              "    </tr>\n",
              "    <tr>\n",
              "      <th>1</th>\n",
              "      <td>1</td>\n",
              "      <td>𝗧𝗛𝗔𝗡𝗞 𝗬𝗢𝗨  We grateful kind words feedback rec...</td>\n",
              "      <td>964.0</td>\n",
              "      <td>12.0</td>\n",
              "      <td>47.0</td>\n",
              "      <td>1093.0</td>\n",
              "      <td>14</td>\n",
              "      <td>0</td>\n",
              "      <td>0</td>\n",
              "      <td>0</td>\n",
              "      <td>...</td>\n",
              "      <td>13.0</td>\n",
              "      <td>2</td>\n",
              "      <td>'#thankyou', '#thankful', '#feedback', '#chlse...</td>\n",
              "      <td>9</td>\n",
              "      <td>NaN</td>\n",
              "      <td>0</td>\n",
              "      <td>['👏', '🧡']</td>\n",
              "      <td>'clapping hands' 'orange heart'</td>\n",
              "      <td>2</td>\n",
              "      <td>5178.333333</td>\n",
              "    </tr>\n",
              "    <tr>\n",
              "      <th>2</th>\n",
              "      <td>2</td>\n",
              "      <td>Hand dived Isle Jura scallop smoked roe leek c...</td>\n",
              "      <td>308.0</td>\n",
              "      <td>100.0</td>\n",
              "      <td>343.0</td>\n",
              "      <td>4202.0</td>\n",
              "      <td>17</td>\n",
              "      <td>0</td>\n",
              "      <td>0</td>\n",
              "      <td>0</td>\n",
              "      <td>...</td>\n",
              "      <td>158.6</td>\n",
              "      <td>1</td>\n",
              "      <td>'#edinburghfoodies', '#edinburghrestaurants', ...</td>\n",
              "      <td>25</td>\n",
              "      <td>NaN</td>\n",
              "      <td>0</td>\n",
              "      <td>[]</td>\n",
              "      <td>NaN</td>\n",
              "      <td>0</td>\n",
              "      <td>17663.680000</td>\n",
              "    </tr>\n",
              "    <tr>\n",
              "      <th>3</th>\n",
              "      <td>3</td>\n",
              "      <td>Jerusalem Artichoke prepared first dessert mal...</td>\n",
              "      <td>308.0</td>\n",
              "      <td>81.0</td>\n",
              "      <td>343.0</td>\n",
              "      <td>4202.0</td>\n",
              "      <td>20</td>\n",
              "      <td>1</td>\n",
              "      <td>0</td>\n",
              "      <td>0</td>\n",
              "      <td>...</td>\n",
              "      <td>158.6</td>\n",
              "      <td>2</td>\n",
              "      <td>'#michelin', '#michelinstar', '#michelinuk', '...</td>\n",
              "      <td>28</td>\n",
              "      <td>NaN</td>\n",
              "      <td>0</td>\n",
              "      <td>[]</td>\n",
              "      <td>NaN</td>\n",
              "      <td>0</td>\n",
              "      <td>16841.857143</td>\n",
              "    </tr>\n",
              "    <tr>\n",
              "      <th>4</th>\n",
              "      <td>4</td>\n",
              "      <td>Main course seasonal  course menu: Borders Roe...</td>\n",
              "      <td>308.0</td>\n",
              "      <td>146.0</td>\n",
              "      <td>343.0</td>\n",
              "      <td>4202.0</td>\n",
              "      <td>18</td>\n",
              "      <td>0</td>\n",
              "      <td>0</td>\n",
              "      <td>1</td>\n",
              "      <td>...</td>\n",
              "      <td>158.6</td>\n",
              "      <td>2</td>\n",
              "      <td>'#michelin', '#michelinstar', '#michelinuk', '...</td>\n",
              "      <td>28</td>\n",
              "      <td>'@castlegamescotland', '@wellocksfood'</td>\n",
              "      <td>2</td>\n",
              "      <td>[]</td>\n",
              "      <td>NaN</td>\n",
              "      <td>0</td>\n",
              "      <td>16841.857143</td>\n",
              "    </tr>\n",
              "  </tbody>\n",
              "</table>\n",
              "<p>5 rows × 25 columns</p>\n",
              "</div>\n",
              "      <button class=\"colab-df-convert\" onclick=\"convertToInteractive('df-c4a9b1dc-2232-4644-900e-4cd1f5f9bb62')\"\n",
              "              title=\"Convert this dataframe to an interactive table.\"\n",
              "              style=\"display:none;\">\n",
              "        \n",
              "  <svg xmlns=\"http://www.w3.org/2000/svg\" height=\"24px\"viewBox=\"0 0 24 24\"\n",
              "       width=\"24px\">\n",
              "    <path d=\"M0 0h24v24H0V0z\" fill=\"none\"/>\n",
              "    <path d=\"M18.56 5.44l.94 2.06.94-2.06 2.06-.94-2.06-.94-.94-2.06-.94 2.06-2.06.94zm-11 1L8.5 8.5l.94-2.06 2.06-.94-2.06-.94L8.5 2.5l-.94 2.06-2.06.94zm10 10l.94 2.06.94-2.06 2.06-.94-2.06-.94-.94-2.06-.94 2.06-2.06.94z\"/><path d=\"M17.41 7.96l-1.37-1.37c-.4-.4-.92-.59-1.43-.59-.52 0-1.04.2-1.43.59L10.3 9.45l-7.72 7.72c-.78.78-.78 2.05 0 2.83L4 21.41c.39.39.9.59 1.41.59.51 0 1.02-.2 1.41-.59l7.78-7.78 2.81-2.81c.8-.78.8-2.07 0-2.86zM5.41 20L4 18.59l7.72-7.72 1.47 1.35L5.41 20z\"/>\n",
              "  </svg>\n",
              "      </button>\n",
              "      \n",
              "  <style>\n",
              "    .colab-df-container {\n",
              "      display:flex;\n",
              "      flex-wrap:wrap;\n",
              "      gap: 12px;\n",
              "    }\n",
              "\n",
              "    .colab-df-convert {\n",
              "      background-color: #E8F0FE;\n",
              "      border: none;\n",
              "      border-radius: 50%;\n",
              "      cursor: pointer;\n",
              "      display: none;\n",
              "      fill: #1967D2;\n",
              "      height: 32px;\n",
              "      padding: 0 0 0 0;\n",
              "      width: 32px;\n",
              "    }\n",
              "\n",
              "    .colab-df-convert:hover {\n",
              "      background-color: #E2EBFA;\n",
              "      box-shadow: 0px 1px 2px rgba(60, 64, 67, 0.3), 0px 1px 3px 1px rgba(60, 64, 67, 0.15);\n",
              "      fill: #174EA6;\n",
              "    }\n",
              "\n",
              "    [theme=dark] .colab-df-convert {\n",
              "      background-color: #3B4455;\n",
              "      fill: #D2E3FC;\n",
              "    }\n",
              "\n",
              "    [theme=dark] .colab-df-convert:hover {\n",
              "      background-color: #434B5C;\n",
              "      box-shadow: 0px 1px 3px 1px rgba(0, 0, 0, 0.15);\n",
              "      filter: drop-shadow(0px 1px 2px rgba(0, 0, 0, 0.3));\n",
              "      fill: #FFFFFF;\n",
              "    }\n",
              "  </style>\n",
              "\n",
              "      <script>\n",
              "        const buttonEl =\n",
              "          document.querySelector('#df-c4a9b1dc-2232-4644-900e-4cd1f5f9bb62 button.colab-df-convert');\n",
              "        buttonEl.style.display =\n",
              "          google.colab.kernel.accessAllowed ? 'block' : 'none';\n",
              "\n",
              "        async function convertToInteractive(key) {\n",
              "          const element = document.querySelector('#df-c4a9b1dc-2232-4644-900e-4cd1f5f9bb62');\n",
              "          const dataTable =\n",
              "            await google.colab.kernel.invokeFunction('convertToInteractive',\n",
              "                                                     [key], {});\n",
              "          if (!dataTable) return;\n",
              "\n",
              "          const docLinkHtml = 'Like what you see? Visit the ' +\n",
              "            '<a target=\"_blank\" href=https://colab.research.google.com/notebooks/data_table.ipynb>data table notebook</a>'\n",
              "            + ' to learn more about interactive tables.';\n",
              "          element.innerHTML = '';\n",
              "          dataTable['output_type'] = 'display_data';\n",
              "          await google.colab.output.renderOutput(dataTable, element);\n",
              "          const docLink = document.createElement('div');\n",
              "          docLink.innerHTML = docLinkHtml;\n",
              "          element.appendChild(docLink);\n",
              "        }\n",
              "      </script>\n",
              "    </div>\n",
              "  </div>\n",
              "  "
            ]
          },
          "metadata": {},
          "execution_count": 4
        }
      ]
    },
    {
      "cell_type": "markdown",
      "source": [
        "##caption"
      ],
      "metadata": {
        "id": "AkHAoArK1mau"
      }
    },
    {
      "cell_type": "code",
      "source": [
        "import multiprocessing\n",
        "from gensim.models import Doc2Vec\n",
        "cores = multiprocessing.cpu_count() # Count the number of cores in a computer\n",
        "from gensim.models.doc2vec import Doc2Vec, TaggedDocument\n",
        "\n",
        "\n",
        "tokenized_caption = df['caption'].apply(lambda x: str(x).split()) # tokenizing \n",
        "\n",
        "sentences = [TaggedDocument(token, 'tag') for token in tokenized_caption]\n",
        "\n",
        "d2v_model = Doc2Vec(min_count=20,\n",
        "                     window=2,\n",
        "                     size=300,\n",
        "                     sample=6e-5, \n",
        "                     alpha=0.03, \n",
        "                     min_alpha=0.0007, \n",
        "                     negative=20,\n",
        "                     workers=cores-1)\n",
        "\n",
        "d2v_model.build_vocab(sentences)\n"
      ],
      "metadata": {
        "colab": {
          "base_uri": "https://localhost:8080/"
        },
        "id": "vpiuaW4J09YR",
        "outputId": "0e1aecf0-de0a-4a84-cca2-ed86f7157152"
      },
      "execution_count": 85,
      "outputs": [
        {
          "output_type": "stream",
          "name": "stderr",
          "text": [
            "/usr/local/lib/python3.7/dist-packages/gensim/models/doc2vec.py:570: UserWarning: The parameter `size` is deprecated, will be removed in 4.0.0, use `vector_size` instead.\n",
            "  warnings.warn(\"The parameter `size` is deprecated, will be removed in 4.0.0, use `vector_size` instead.\")\n",
            "INFO - 15:35:23: collecting all words and their counts\n",
            "INFO - 15:35:23: PROGRESS: at example #0, processed 0 words (0/s), 0 word types, 0 tags\n",
            "INFO - 15:35:23: collected 6718 word types and 3 unique tags from a corpus of 1000 examples and 22620 words\n",
            "INFO - 15:35:23: Loading a fresh vocabulary\n",
            "INFO - 15:35:23: effective_min_count=20 retains 161 unique words (2% of original 6718, drops 6557)\n",
            "INFO - 15:35:23: effective_min_count=20 leaves 6258 word corpus (27% of original 22620, drops 16362)\n",
            "INFO - 15:35:23: deleting the raw counts dictionary of 6718 items\n",
            "INFO - 15:35:23: sample=6e-05 downsamples 161 most-common words\n",
            "INFO - 15:35:23: downsampling leaves estimated 651 word corpus (10.4% of prior 6258)\n",
            "INFO - 15:35:23: estimated required memory for 161 words and 300 dimensions: 471100 bytes\n",
            "INFO - 15:35:23: resetting layer weights\n"
          ]
        }
      ]
    },
    {
      "cell_type": "code",
      "source": [
        "sentences[0:4]"
      ],
      "metadata": {
        "colab": {
          "base_uri": "https://localhost:8080/"
        },
        "id": "1vkEIfYshIci",
        "outputId": "9dfd8be6-a375-416a-da97-09b424198b4a"
      },
      "execution_count": 71,
      "outputs": [
        {
          "output_type": "execute_result",
          "data": {
            "text/plain": [
              "[TaggedDocument(words=['𝗗𝗶𝗱', '𝘆𝗼𝘂', '𝗸𝗻𝗼𝘄', '𝘁𝗵𝗮𝘁', '𝘆𝗼𝘂', '𝗰𝗮𝗻', '𝘁𝗲𝘀𝘁', '𝗳𝗼𝗿', '𝗖𝗼𝘃𝗶𝗱', '𝘄𝗶𝘁𝗵', '𝗿𝗲𝘀𝘂𝗹𝘁𝘀', '𝗶𝗻', '𝗷𝘂𝘀𝘁', '𝟭𝟱', '𝗺𝗶𝗻𝘂𝘁𝗲', '\\u200d', 'This', 'possible', 'thanks', '𝗟𝗮𝘁𝗲𝗿𝗮𝗹', '𝗙𝗹𝗼𝘄', '𝗔𝗻𝘁𝗶𝗴𝗲𝗻', '𝗧𝗲𝘀𝘁𝗶𝗻𝗴', 'Lateral', 'flow', 'testing', 'fast', 'simple', 'way', 'test', 'people', 'symptoms', 'COVID-', 'may', 'still', 'spreading', 'virus', 'The', 'tests', 'easy', 'use', 'give', 'results', 'within', 'minutes', 'The', 'antigen', 'test', 'perfect', 'solution', 'if:', 'You', 'plan', 'visit', 'family', '\\u200d\\u200d\\u200d', 'You', 'plan', 'visit', 'friend', 'You', 'need', 'meet', 'colleagues', '\\u200d', 'You', 'want', 'test', 'regularly', 'make', 'sure', 'protect', 'loved', 'ones', 'You', 'important', 'occasion', 'forced', 'attend', 'You', 'want', 'know', 'whether', 'virus', 'Protect', 'others', 'around', 'For', 'information', 'DM', 'us'], tags='tag'),\n",
              " TaggedDocument(words=['𝗧𝗛𝗔𝗡𝗞', '𝗬𝗢𝗨', 'We', 'grateful', 'kind', 'words', 'feedback', 'receiving', 'since', 'started', 'providing', 'Testing', 'Travel', 'We', 'continuously', 'working', 'hard', 'help', 'meet', 'expectation', 'whether', 'need', 'get', 'last', 'minute', 'flights', 'wanted', 'reunite', 'family', 'safely', 'Your', 'words', 'paying', 'effort', 'ensure', 'results', 'come', 'time', 'travel', 'meet', 'specific', 'requirements', 'We', 'take', 'opportunity', 'say', 'thank', 'companies', 'trusted', 'us', 'suggesting', 'Clinic', 'clients', 'Thank'], tags='tag'),\n",
              " TaggedDocument(words=['Hand', 'dived', 'Isle', 'Jura', 'scallop', 'smoked', 'roe', 'leek', 'chowder'], tags='tag'),\n",
              " TaggedDocument(words=['Jerusalem', 'Artichoke', 'prepared', 'first', 'dessert', 'malt', 'caramelised', 'yoghurt'], tags='tag')]"
            ]
          },
          "metadata": {},
          "execution_count": 71
        }
      ]
    },
    {
      "cell_type": "code",
      "source": [
        "d2v_model.train(sentences, total_examples= len(df['caption']), epochs=20)\n"
      ],
      "metadata": {
        "colab": {
          "base_uri": "https://localhost:8080/"
        },
        "id": "HfQe-OSjf4eH",
        "outputId": "5e1be406-05bf-4d37-d7a1-2a691a6526f1"
      },
      "execution_count": 86,
      "outputs": [
        {
          "output_type": "stream",
          "name": "stderr",
          "text": [
            "INFO - 15:35:28: training model with 1 workers on 161 vocabulary and 300 features, using sg=0 hs=0 sample=6e-05 negative=20 window=2\n",
            "INFO - 15:35:29: worker thread finished; awaiting finish of 0 more threads\n",
            "INFO - 15:35:29: EPOCH - 1 : training on 22620 raw words (3665 effective words) took 0.0s, 88186 effective words/s\n",
            "INFO - 15:35:29: worker thread finished; awaiting finish of 0 more threads\n",
            "INFO - 15:35:29: EPOCH - 2 : training on 22620 raw words (3672 effective words) took 0.0s, 81713 effective words/s\n",
            "INFO - 15:35:29: worker thread finished; awaiting finish of 0 more threads\n",
            "INFO - 15:35:29: EPOCH - 3 : training on 22620 raw words (3639 effective words) took 0.0s, 88089 effective words/s\n",
            "INFO - 15:35:29: worker thread finished; awaiting finish of 0 more threads\n",
            "INFO - 15:35:29: EPOCH - 4 : training on 22620 raw words (3658 effective words) took 0.0s, 91147 effective words/s\n",
            "INFO - 15:35:29: worker thread finished; awaiting finish of 0 more threads\n",
            "INFO - 15:35:29: EPOCH - 5 : training on 22620 raw words (3683 effective words) took 0.0s, 88683 effective words/s\n",
            "INFO - 15:35:29: worker thread finished; awaiting finish of 0 more threads\n",
            "INFO - 15:35:29: EPOCH - 6 : training on 22620 raw words (3668 effective words) took 0.0s, 88165 effective words/s\n",
            "INFO - 15:35:29: worker thread finished; awaiting finish of 0 more threads\n",
            "INFO - 15:35:29: EPOCH - 7 : training on 22620 raw words (3616 effective words) took 0.0s, 89475 effective words/s\n",
            "INFO - 15:35:29: worker thread finished; awaiting finish of 0 more threads\n",
            "INFO - 15:35:29: EPOCH - 8 : training on 22620 raw words (3698 effective words) took 0.0s, 74297 effective words/s\n",
            "INFO - 15:35:29: worker thread finished; awaiting finish of 0 more threads\n",
            "INFO - 15:35:29: EPOCH - 9 : training on 22620 raw words (3648 effective words) took 0.0s, 85061 effective words/s\n",
            "INFO - 15:35:29: worker thread finished; awaiting finish of 0 more threads\n",
            "INFO - 15:35:29: EPOCH - 10 : training on 22620 raw words (3660 effective words) took 0.0s, 81452 effective words/s\n",
            "INFO - 15:35:29: worker thread finished; awaiting finish of 0 more threads\n",
            "INFO - 15:35:29: EPOCH - 11 : training on 22620 raw words (3614 effective words) took 0.0s, 87739 effective words/s\n",
            "INFO - 15:35:29: worker thread finished; awaiting finish of 0 more threads\n",
            "INFO - 15:35:29: EPOCH - 12 : training on 22620 raw words (3678 effective words) took 0.0s, 76157 effective words/s\n",
            "INFO - 15:35:29: worker thread finished; awaiting finish of 0 more threads\n",
            "INFO - 15:35:29: EPOCH - 13 : training on 22620 raw words (3650 effective words) took 0.0s, 84087 effective words/s\n",
            "INFO - 15:35:29: worker thread finished; awaiting finish of 0 more threads\n",
            "INFO - 15:35:29: EPOCH - 14 : training on 22620 raw words (3692 effective words) took 0.1s, 71140 effective words/s\n",
            "INFO - 15:35:29: worker thread finished; awaiting finish of 0 more threads\n",
            "INFO - 15:35:29: EPOCH - 15 : training on 22620 raw words (3637 effective words) took 0.0s, 90146 effective words/s\n",
            "INFO - 15:35:29: worker thread finished; awaiting finish of 0 more threads\n",
            "INFO - 15:35:29: EPOCH - 16 : training on 22620 raw words (3615 effective words) took 0.0s, 93025 effective words/s\n",
            "INFO - 15:35:29: worker thread finished; awaiting finish of 0 more threads\n",
            "INFO - 15:35:29: EPOCH - 17 : training on 22620 raw words (3641 effective words) took 0.0s, 93237 effective words/s\n",
            "INFO - 15:35:29: worker thread finished; awaiting finish of 0 more threads\n",
            "INFO - 15:35:29: EPOCH - 18 : training on 22620 raw words (3648 effective words) took 0.0s, 76482 effective words/s\n",
            "INFO - 15:35:29: worker thread finished; awaiting finish of 0 more threads\n",
            "INFO - 15:35:29: EPOCH - 19 : training on 22620 raw words (3633 effective words) took 0.0s, 84878 effective words/s\n",
            "INFO - 15:35:29: worker thread finished; awaiting finish of 0 more threads\n",
            "INFO - 15:35:29: EPOCH - 20 : training on 22620 raw words (3673 effective words) took 0.0s, 89929 effective words/s\n",
            "INFO - 15:35:29: training on a 452400 raw words (73088 effective words) took 1.0s, 73673 effective words/s\n"
          ]
        }
      ]
    },
    {
      "cell_type": "code",
      "source": [
        "def word_vector(tokens, size):\n",
        "    vec = np.zeros(size).reshape((1, size))\n",
        "    count = 0\n",
        "    for word in tokens:\n",
        "        try:\n",
        "            vec += d2v_model[word].reshape((1, size))\n",
        "            count += 1.\n",
        "        except KeyError:\n",
        "            continue\n",
        "    if count != 0:\n",
        "        vec /= count\n",
        "    return vec"
      ],
      "metadata": {
        "id": "u9LgEIit1RIG"
      },
      "execution_count": 66,
      "outputs": []
    },
    {
      "cell_type": "code",
      "source": [
        "doc2vec_Arrays = np.zeros((len(tokenized_caption), 300)) \n",
        "for i in range(len(tokenized_caption)):\n",
        "    doc2vec_Arrays[i,:] = word_vector(tokenized_caption[i], 300)\n",
        "d2v_df_cap = pd.DataFrame(doc2vec_Arrays)\n",
        "d2v_df_cap.shape"
      ],
      "metadata": {
        "colab": {
          "base_uri": "https://localhost:8080/"
        },
        "id": "tTtzUMl01ZQN",
        "outputId": "256808fa-a2c7-403f-fee2-3d6b7b4076d0"
      },
      "execution_count": 87,
      "outputs": [
        {
          "output_type": "execute_result",
          "data": {
            "text/plain": [
              "(1000, 300)"
            ]
          },
          "metadata": {},
          "execution_count": 87
        }
      ]
    },
    {
      "cell_type": "markdown",
      "source": [
        "##hashtags"
      ],
      "metadata": {
        "id": "Bb46IMKE1tNh"
      }
    },
    {
      "cell_type": "code",
      "source": [
        "\n",
        "tokenized_hash = df['hashtags'].apply(lambda x: str(x).split()) # tokenizing \n",
        "\n",
        "sentences = [TaggedDocument(token, 'tag') for token in tokenized_hash]\n",
        "\n",
        "d2v_model = Doc2Vec(min_count=20,\n",
        "                     window=2,\n",
        "                     size=300,\n",
        "                     sample=6e-5, \n",
        "                     alpha=0.03, \n",
        "                     min_alpha=0.0007, \n",
        "                     negative=20,\n",
        "                     workers=cores-1)\n",
        "\n",
        "d2v_model.build_vocab(sentences)\n"
      ],
      "metadata": {
        "colab": {
          "base_uri": "https://localhost:8080/"
        },
        "id": "EsEUrBIc1sZ2",
        "outputId": "f8c64502-6f8f-4903-b5d3-c8924a5365df"
      },
      "execution_count": 80,
      "outputs": [
        {
          "output_type": "stream",
          "name": "stderr",
          "text": [
            "/usr/local/lib/python3.7/dist-packages/gensim/models/doc2vec.py:570: UserWarning: The parameter `size` is deprecated, will be removed in 4.0.0, use `vector_size` instead.\n",
            "  warnings.warn(\"The parameter `size` is deprecated, will be removed in 4.0.0, use `vector_size` instead.\")\n",
            "INFO - 15:34:38: collecting all words and their counts\n",
            "INFO - 15:34:38: PROGRESS: at example #0, processed 0 words (0/s), 0 word types, 0 tags\n",
            "INFO - 15:34:38: collected 1373 word types and 3 unique tags from a corpus of 1000 examples and 7062 words\n",
            "INFO - 15:34:38: Loading a fresh vocabulary\n",
            "INFO - 15:34:38: effective_min_count=20 retains 96 unique words (6% of original 1373, drops 1277)\n",
            "INFO - 15:34:38: effective_min_count=20 leaves 4545 word corpus (64% of original 7062, drops 2517)\n",
            "INFO - 15:34:38: deleting the raw counts dictionary of 1373 items\n",
            "INFO - 15:34:38: sample=6e-05 downsamples 96 most-common words\n",
            "INFO - 15:34:38: downsampling leaves estimated 352 word corpus (7.7% of prior 4545)\n",
            "INFO - 15:34:38: estimated required memory for 96 words and 300 dimensions: 282600 bytes\n",
            "INFO - 15:34:38: resetting layer weights\n"
          ]
        }
      ]
    },
    {
      "cell_type": "code",
      "source": [
        "d2v_model.train(sentences, total_examples= len(df['hashtags']), epochs=20)\n"
      ],
      "metadata": {
        "colab": {
          "base_uri": "https://localhost:8080/"
        },
        "id": "5MOrvu_Ijn75",
        "outputId": "7b4eb09a-2335-4d06-f75c-d695938cf665"
      },
      "execution_count": 81,
      "outputs": [
        {
          "output_type": "stream",
          "name": "stderr",
          "text": [
            "INFO - 15:34:43: training model with 1 workers on 96 vocabulary and 300 features, using sg=0 hs=0 sample=6e-05 negative=20 window=2\n",
            "INFO - 15:34:43: worker thread finished; awaiting finish of 0 more threads\n",
            "INFO - 15:34:43: EPOCH - 1 : training on 7062 raw words (3340 effective words) took 0.0s, 78092 effective words/s\n",
            "INFO - 15:34:43: worker thread finished; awaiting finish of 0 more threads\n",
            "INFO - 15:34:43: EPOCH - 2 : training on 7062 raw words (3339 effective words) took 0.0s, 89571 effective words/s\n",
            "INFO - 15:34:43: worker thread finished; awaiting finish of 0 more threads\n",
            "INFO - 15:34:43: EPOCH - 3 : training on 7062 raw words (3327 effective words) took 0.0s, 94848 effective words/s\n",
            "INFO - 15:34:43: worker thread finished; awaiting finish of 0 more threads\n",
            "INFO - 15:34:43: EPOCH - 4 : training on 7062 raw words (3384 effective words) took 0.0s, 100884 effective words/s\n",
            "INFO - 15:34:43: worker thread finished; awaiting finish of 0 more threads\n",
            "INFO - 15:34:43: EPOCH - 5 : training on 7062 raw words (3343 effective words) took 0.0s, 91720 effective words/s\n",
            "INFO - 15:34:43: worker thread finished; awaiting finish of 0 more threads\n",
            "INFO - 15:34:43: EPOCH - 6 : training on 7062 raw words (3331 effective words) took 0.0s, 90361 effective words/s\n",
            "INFO - 15:34:43: worker thread finished; awaiting finish of 0 more threads\n",
            "INFO - 15:34:43: EPOCH - 7 : training on 7062 raw words (3379 effective words) took 0.0s, 96507 effective words/s\n",
            "INFO - 15:34:43: worker thread finished; awaiting finish of 0 more threads\n",
            "INFO - 15:34:43: EPOCH - 8 : training on 7062 raw words (3331 effective words) took 0.0s, 96600 effective words/s\n",
            "INFO - 15:34:43: worker thread finished; awaiting finish of 0 more threads\n",
            "INFO - 15:34:43: EPOCH - 9 : training on 7062 raw words (3347 effective words) took 0.0s, 100840 effective words/s\n",
            "INFO - 15:34:43: worker thread finished; awaiting finish of 0 more threads\n",
            "INFO - 15:34:43: EPOCH - 10 : training on 7062 raw words (3345 effective words) took 0.0s, 92216 effective words/s\n",
            "INFO - 15:34:43: worker thread finished; awaiting finish of 0 more threads\n",
            "INFO - 15:34:43: EPOCH - 11 : training on 7062 raw words (3340 effective words) took 0.0s, 96239 effective words/s\n",
            "INFO - 15:34:43: worker thread finished; awaiting finish of 0 more threads\n",
            "INFO - 15:34:43: EPOCH - 12 : training on 7062 raw words (3363 effective words) took 0.0s, 82833 effective words/s\n",
            "INFO - 15:34:43: worker thread finished; awaiting finish of 0 more threads\n",
            "INFO - 15:34:43: EPOCH - 13 : training on 7062 raw words (3342 effective words) took 0.0s, 72436 effective words/s\n",
            "INFO - 15:34:43: worker thread finished; awaiting finish of 0 more threads\n",
            "INFO - 15:34:43: EPOCH - 14 : training on 7062 raw words (3305 effective words) took 0.0s, 91103 effective words/s\n",
            "INFO - 15:34:43: worker thread finished; awaiting finish of 0 more threads\n",
            "INFO - 15:34:43: EPOCH - 15 : training on 7062 raw words (3358 effective words) took 0.0s, 72071 effective words/s\n",
            "INFO - 15:34:43: worker thread finished; awaiting finish of 0 more threads\n",
            "INFO - 15:34:43: EPOCH - 16 : training on 7062 raw words (3352 effective words) took 0.0s, 102186 effective words/s\n",
            "INFO - 15:34:43: worker thread finished; awaiting finish of 0 more threads\n",
            "INFO - 15:34:43: EPOCH - 17 : training on 7062 raw words (3360 effective words) took 0.0s, 93936 effective words/s\n",
            "INFO - 15:34:43: worker thread finished; awaiting finish of 0 more threads\n",
            "INFO - 15:34:43: EPOCH - 18 : training on 7062 raw words (3354 effective words) took 0.0s, 92224 effective words/s\n",
            "INFO - 15:34:43: worker thread finished; awaiting finish of 0 more threads\n",
            "INFO - 15:34:43: EPOCH - 19 : training on 7062 raw words (3359 effective words) took 0.0s, 88877 effective words/s\n",
            "INFO - 15:34:43: worker thread finished; awaiting finish of 0 more threads\n",
            "INFO - 15:34:43: EPOCH - 20 : training on 7062 raw words (3343 effective words) took 0.0s, 75726 effective words/s\n",
            "INFO - 15:34:43: training on a 141240 raw words (66942 effective words) took 0.9s, 74992 effective words/s\n"
          ]
        }
      ]
    },
    {
      "cell_type": "code",
      "source": [
        "doc2vec_Arrays = np.zeros((len(tokenized_hash), 300)) \n",
        "for i in range(len(tokenized_hash)):\n",
        "    doc2vec_Arrays[i,:] = word_vector(tokenized_hash[i], 300)\n",
        "d2v_df_hash = pd.DataFrame(doc2vec_Arrays)\n",
        "d2v_df_hash.shape"
      ],
      "metadata": {
        "colab": {
          "base_uri": "https://localhost:8080/"
        },
        "id": "d-Ob5hTtjwI3",
        "outputId": "c2128574-21a0-4190-a26f-16d66783c303"
      },
      "execution_count": 82,
      "outputs": [
        {
          "output_type": "execute_result",
          "data": {
            "text/plain": [
              "(1000, 300)"
            ]
          },
          "metadata": {},
          "execution_count": 82
        }
      ]
    },
    {
      "cell_type": "markdown",
      "source": [
        "##mentions"
      ],
      "metadata": {
        "id": "NjcK4la22Sph"
      }
    },
    {
      "cell_type": "code",
      "source": [
        "\n",
        "tokenized_ment = df['mentions'].apply(lambda x: str(x).split()) # tokenizing \n",
        "\n",
        "sentences = [TaggedDocument(token, 'tag') for token in tokenized_ment]\n",
        "\n",
        "d2v_model = Doc2Vec(min_count=20,\n",
        "                     window=2,\n",
        "                     size=300,\n",
        "                     sample=6e-5, \n",
        "                     alpha=0.03, \n",
        "                     min_alpha=0.0007, \n",
        "                     negative=20,\n",
        "                     workers=cores-1)\n",
        "\n",
        "d2v_model.build_vocab(sentences)"
      ],
      "metadata": {
        "colab": {
          "base_uri": "https://localhost:8080/"
        },
        "id": "ekqCTYwY2WcP",
        "outputId": "7a852c07-64e4-4ec1-eefe-755218d189ad"
      },
      "execution_count": 83,
      "outputs": [
        {
          "output_type": "stream",
          "name": "stderr",
          "text": [
            "/usr/local/lib/python3.7/dist-packages/gensim/models/doc2vec.py:570: UserWarning: The parameter `size` is deprecated, will be removed in 4.0.0, use `vector_size` instead.\n",
            "  warnings.warn(\"The parameter `size` is deprecated, will be removed in 4.0.0, use `vector_size` instead.\")\n",
            "INFO - 15:34:59: collecting all words and their counts\n",
            "INFO - 15:34:59: PROGRESS: at example #0, processed 0 words (0/s), 0 word types, 0 tags\n",
            "INFO - 15:34:59: collected 343 word types and 3 unique tags from a corpus of 1000 examples and 1209 words\n",
            "INFO - 15:34:59: Loading a fresh vocabulary\n",
            "INFO - 15:34:59: effective_min_count=20 retains 1 unique words (0% of original 343, drops 342)\n",
            "INFO - 15:34:59: effective_min_count=20 leaves 675 word corpus (55% of original 1209, drops 534)\n",
            "INFO - 15:34:59: deleting the raw counts dictionary of 343 items\n",
            "INFO - 15:34:59: sample=6e-05 downsamples 1 most-common words\n",
            "INFO - 15:34:59: downsampling leaves estimated 5 word corpus (0.8% of prior 675)\n",
            "INFO - 15:34:59: estimated required memory for 1 words and 300 dimensions: 7100 bytes\n",
            "INFO - 15:34:59: resetting layer weights\n"
          ]
        }
      ]
    },
    {
      "cell_type": "code",
      "source": [
        "d2v_model.train(sentences, total_examples= len(df['mentions']), epochs=20)\n"
      ],
      "metadata": {
        "colab": {
          "base_uri": "https://localhost:8080/"
        },
        "id": "T1O0a8FxkBhT",
        "outputId": "35765626-a6a3-441f-d0f9-e84d74b57513"
      },
      "execution_count": 78,
      "outputs": [
        {
          "output_type": "stream",
          "name": "stderr",
          "text": [
            "INFO - 15:34:05: training model with 1 workers on 1 vocabulary and 300 features, using sg=0 hs=0 sample=6e-05 negative=20 window=2\n",
            "INFO - 15:34:05: worker thread finished; awaiting finish of 0 more threads\n",
            "INFO - 15:34:05: EPOCH - 1 : training on 1209 raw words (3004 effective words) took 0.1s, 53661 effective words/s\n",
            "INFO - 15:34:06: worker thread finished; awaiting finish of 0 more threads\n",
            "INFO - 15:34:06: EPOCH - 2 : training on 1209 raw words (3003 effective words) took 0.1s, 40424 effective words/s\n",
            "INFO - 15:34:06: worker thread finished; awaiting finish of 0 more threads\n",
            "INFO - 15:34:06: EPOCH - 3 : training on 1209 raw words (3007 effective words) took 0.1s, 49453 effective words/s\n",
            "INFO - 15:34:06: worker thread finished; awaiting finish of 0 more threads\n",
            "INFO - 15:34:06: EPOCH - 4 : training on 1209 raw words (3007 effective words) took 0.1s, 59097 effective words/s\n",
            "INFO - 15:34:06: worker thread finished; awaiting finish of 0 more threads\n",
            "INFO - 15:34:06: EPOCH - 5 : training on 1209 raw words (3006 effective words) took 0.1s, 59517 effective words/s\n",
            "INFO - 15:34:06: worker thread finished; awaiting finish of 0 more threads\n",
            "INFO - 15:34:06: EPOCH - 6 : training on 1209 raw words (3005 effective words) took 0.1s, 49644 effective words/s\n",
            "INFO - 15:34:06: worker thread finished; awaiting finish of 0 more threads\n",
            "INFO - 15:34:06: EPOCH - 7 : training on 1209 raw words (3007 effective words) took 0.1s, 60039 effective words/s\n",
            "INFO - 15:34:06: worker thread finished; awaiting finish of 0 more threads\n",
            "INFO - 15:34:06: EPOCH - 8 : training on 1209 raw words (3008 effective words) took 0.1s, 52836 effective words/s\n",
            "INFO - 15:34:06: worker thread finished; awaiting finish of 0 more threads\n",
            "INFO - 15:34:06: EPOCH - 9 : training on 1209 raw words (3007 effective words) took 0.1s, 56303 effective words/s\n",
            "INFO - 15:34:06: worker thread finished; awaiting finish of 0 more threads\n",
            "INFO - 15:34:06: EPOCH - 10 : training on 1209 raw words (3009 effective words) took 0.1s, 59324 effective words/s\n",
            "INFO - 15:34:06: worker thread finished; awaiting finish of 0 more threads\n",
            "INFO - 15:34:06: EPOCH - 11 : training on 1209 raw words (3005 effective words) took 0.1s, 55467 effective words/s\n",
            "INFO - 15:34:06: worker thread finished; awaiting finish of 0 more threads\n",
            "INFO - 15:34:06: EPOCH - 12 : training on 1209 raw words (3004 effective words) took 0.1s, 58948 effective words/s\n",
            "INFO - 15:34:06: worker thread finished; awaiting finish of 0 more threads\n",
            "INFO - 15:34:06: EPOCH - 13 : training on 1209 raw words (3004 effective words) took 0.1s, 49789 effective words/s\n",
            "INFO - 15:34:06: worker thread finished; awaiting finish of 0 more threads\n",
            "INFO - 15:34:06: EPOCH - 14 : training on 1209 raw words (3007 effective words) took 0.1s, 55143 effective words/s\n",
            "INFO - 15:34:06: worker thread finished; awaiting finish of 0 more threads\n",
            "INFO - 15:34:06: EPOCH - 15 : training on 1209 raw words (3001 effective words) took 0.1s, 53839 effective words/s\n",
            "INFO - 15:34:06: worker thread finished; awaiting finish of 0 more threads\n",
            "INFO - 15:34:06: EPOCH - 16 : training on 1209 raw words (3008 effective words) took 0.1s, 57224 effective words/s\n",
            "INFO - 15:34:06: worker thread finished; awaiting finish of 0 more threads\n",
            "INFO - 15:34:06: EPOCH - 17 : training on 1209 raw words (3002 effective words) took 0.1s, 55276 effective words/s\n",
            "INFO - 15:34:07: worker thread finished; awaiting finish of 0 more threads\n",
            "INFO - 15:34:07: EPOCH - 18 : training on 1209 raw words (3006 effective words) took 0.1s, 45533 effective words/s\n",
            "INFO - 15:34:07: worker thread finished; awaiting finish of 0 more threads\n",
            "INFO - 15:34:07: EPOCH - 19 : training on 1209 raw words (3004 effective words) took 0.1s, 49269 effective words/s\n",
            "INFO - 15:34:07: worker thread finished; awaiting finish of 0 more threads\n",
            "INFO - 15:34:07: EPOCH - 20 : training on 1209 raw words (3011 effective words) took 0.1s, 59451 effective words/s\n",
            "INFO - 15:34:07: training on a 24180 raw words (60115 effective words) took 1.3s, 47158 effective words/s\n"
          ]
        }
      ]
    },
    {
      "cell_type": "code",
      "source": [
        "doc2vec_Arrays = np.zeros((len(tokenized_ment), 300)) \n",
        "for i in range(len(tokenized_ment)):\n",
        "    doc2vec_Arrays[i,:] = word_vector(tokenized_ment[i], 300)\n",
        "d2v_df_ment = pd.DataFrame(doc2vec_Arrays)\n",
        "d2v_df_ment.shape"
      ],
      "metadata": {
        "colab": {
          "base_uri": "https://localhost:8080/"
        },
        "id": "jQIzA4S-kHb4",
        "outputId": "25456f3b-be6c-40ce-8c25-27d7e3b4511f"
      },
      "execution_count": 84,
      "outputs": [
        {
          "output_type": "execute_result",
          "data": {
            "text/plain": [
              "(1000, 300)"
            ]
          },
          "metadata": {},
          "execution_count": 84
        }
      ]
    },
    {
      "cell_type": "markdown",
      "source": [
        "##emojis text"
      ],
      "metadata": {
        "id": "KDvR2u-C21Pr"
      }
    },
    {
      "cell_type": "code",
      "source": [
        "\n",
        "tokenized_emo = df['emoji_text'].apply(lambda x: str(x).split()) # tokenizing \n",
        "\n",
        "sentences = [TaggedDocument(token, 'tag') for token in tokenized_emo]\n",
        "\n",
        "d2v_model = Doc2Vec(min_count=20,\n",
        "                     window=2,\n",
        "                     size=300,\n",
        "                     sample=6e-5, \n",
        "                     alpha=0.03, \n",
        "                     min_alpha=0.0007, \n",
        "                     negative=20,\n",
        "                     workers=cores-1)\n",
        "\n",
        "d2v_model.build_vocab(sentences)"
      ],
      "metadata": {
        "colab": {
          "base_uri": "https://localhost:8080/"
        },
        "id": "CBCBF9lK20ra",
        "outputId": "cefe4ea6-34f4-49a7-c464-8e08d004eb22"
      },
      "execution_count": 88,
      "outputs": [
        {
          "output_type": "stream",
          "name": "stderr",
          "text": [
            "/usr/local/lib/python3.7/dist-packages/gensim/models/doc2vec.py:570: UserWarning: The parameter `size` is deprecated, will be removed in 4.0.0, use `vector_size` instead.\n",
            "  warnings.warn(\"The parameter `size` is deprecated, will be removed in 4.0.0, use `vector_size` instead.\")\n",
            "INFO - 15:36:04: collecting all words and their counts\n",
            "INFO - 15:36:04: PROGRESS: at example #0, processed 0 words (0/s), 0 word types, 0 tags\n",
            "INFO - 15:36:04: collected 452 word types and 3 unique tags from a corpus of 1000 examples and 4162 words\n",
            "INFO - 15:36:04: Loading a fresh vocabulary\n",
            "INFO - 15:36:04: effective_min_count=20 retains 42 unique words (9% of original 452, drops 410)\n",
            "INFO - 15:36:04: effective_min_count=20 leaves 2522 word corpus (60% of original 4162, drops 1640)\n",
            "INFO - 15:36:04: deleting the raw counts dictionary of 452 items\n",
            "INFO - 15:36:04: sample=6e-05 downsamples 42 most-common words\n",
            "INFO - 15:36:04: downsampling leaves estimated 125 word corpus (5.0% of prior 2522)\n",
            "INFO - 15:36:04: estimated required memory for 42 words and 300 dimensions: 126000 bytes\n",
            "INFO - 15:36:04: resetting layer weights\n"
          ]
        }
      ]
    },
    {
      "cell_type": "code",
      "source": [
        "d2v_model.train(sentences, total_examples= len(df['emoji_text']), epochs=20)\n"
      ],
      "metadata": {
        "colab": {
          "base_uri": "https://localhost:8080/"
        },
        "id": "xp5aYvkskjJt",
        "outputId": "350190c1-39c5-407f-9c30-62ec95fb4091"
      },
      "execution_count": 89,
      "outputs": [
        {
          "output_type": "stream",
          "name": "stderr",
          "text": [
            "INFO - 15:36:20: training model with 1 workers on 42 vocabulary and 300 features, using sg=0 hs=0 sample=6e-05 negative=20 window=2\n",
            "INFO - 15:36:20: worker thread finished; awaiting finish of 0 more threads\n",
            "INFO - 15:36:20: EPOCH - 1 : training on 4162 raw words (3103 effective words) took 0.1s, 45645 effective words/s\n",
            "INFO - 15:36:20: worker thread finished; awaiting finish of 0 more threads\n",
            "INFO - 15:36:20: EPOCH - 2 : training on 4162 raw words (3119 effective words) took 0.1s, 52893 effective words/s\n",
            "INFO - 15:36:20: worker thread finished; awaiting finish of 0 more threads\n",
            "INFO - 15:36:20: EPOCH - 3 : training on 4162 raw words (3116 effective words) took 0.1s, 48388 effective words/s\n",
            "INFO - 15:36:20: worker thread finished; awaiting finish of 0 more threads\n",
            "INFO - 15:36:20: EPOCH - 4 : training on 4162 raw words (3147 effective words) took 0.1s, 50911 effective words/s\n",
            "INFO - 15:36:20: worker thread finished; awaiting finish of 0 more threads\n",
            "INFO - 15:36:20: EPOCH - 5 : training on 4162 raw words (3134 effective words) took 0.1s, 50952 effective words/s\n",
            "INFO - 15:36:20: worker thread finished; awaiting finish of 0 more threads\n",
            "INFO - 15:36:20: EPOCH - 6 : training on 4162 raw words (3118 effective words) took 0.1s, 46973 effective words/s\n",
            "INFO - 15:36:20: worker thread finished; awaiting finish of 0 more threads\n",
            "INFO - 15:36:20: EPOCH - 7 : training on 4162 raw words (3109 effective words) took 0.1s, 50481 effective words/s\n",
            "INFO - 15:36:20: worker thread finished; awaiting finish of 0 more threads\n",
            "INFO - 15:36:20: EPOCH - 8 : training on 4162 raw words (3118 effective words) took 0.1s, 50307 effective words/s\n",
            "INFO - 15:36:20: worker thread finished; awaiting finish of 0 more threads\n",
            "INFO - 15:36:20: EPOCH - 9 : training on 4162 raw words (3122 effective words) took 0.1s, 45613 effective words/s\n",
            "INFO - 15:36:20: worker thread finished; awaiting finish of 0 more threads\n",
            "INFO - 15:36:20: EPOCH - 10 : training on 4162 raw words (3134 effective words) took 0.1s, 45612 effective words/s\n",
            "INFO - 15:36:20: worker thread finished; awaiting finish of 0 more threads\n",
            "INFO - 15:36:20: EPOCH - 11 : training on 4162 raw words (3129 effective words) took 0.1s, 46690 effective words/s\n",
            "INFO - 15:36:21: worker thread finished; awaiting finish of 0 more threads\n",
            "INFO - 15:36:21: EPOCH - 12 : training on 4162 raw words (3104 effective words) took 0.1s, 49792 effective words/s\n",
            "INFO - 15:36:21: worker thread finished; awaiting finish of 0 more threads\n",
            "INFO - 15:36:21: EPOCH - 13 : training on 4162 raw words (3110 effective words) took 0.1s, 47304 effective words/s\n",
            "INFO - 15:36:21: worker thread finished; awaiting finish of 0 more threads\n",
            "INFO - 15:36:21: EPOCH - 14 : training on 4162 raw words (3134 effective words) took 0.1s, 48242 effective words/s\n",
            "INFO - 15:36:21: worker thread finished; awaiting finish of 0 more threads\n",
            "INFO - 15:36:21: EPOCH - 15 : training on 4162 raw words (3116 effective words) took 0.1s, 41039 effective words/s\n",
            "INFO - 15:36:21: worker thread finished; awaiting finish of 0 more threads\n",
            "INFO - 15:36:21: EPOCH - 16 : training on 4162 raw words (3119 effective words) took 0.1s, 47290 effective words/s\n",
            "INFO - 15:36:21: worker thread finished; awaiting finish of 0 more threads\n",
            "INFO - 15:36:21: EPOCH - 17 : training on 4162 raw words (3142 effective words) took 0.1s, 51056 effective words/s\n",
            "INFO - 15:36:21: worker thread finished; awaiting finish of 0 more threads\n",
            "INFO - 15:36:21: EPOCH - 18 : training on 4162 raw words (3113 effective words) took 0.1s, 49951 effective words/s\n",
            "INFO - 15:36:21: worker thread finished; awaiting finish of 0 more threads\n",
            "INFO - 15:36:21: EPOCH - 19 : training on 4162 raw words (3113 effective words) took 0.1s, 50923 effective words/s\n",
            "INFO - 15:36:21: worker thread finished; awaiting finish of 0 more threads\n",
            "INFO - 15:36:21: EPOCH - 20 : training on 4162 raw words (3122 effective words) took 0.1s, 47316 effective words/s\n",
            "INFO - 15:36:21: training on a 83240 raw words (62422 effective words) took 1.5s, 41204 effective words/s\n"
          ]
        }
      ]
    },
    {
      "cell_type": "code",
      "source": [
        "doc2vec_Arrays = np.zeros((len(tokenized_emo), 300)) \n",
        "for i in range(len(tokenized_emo)):\n",
        "    doc2vec_Arrays[i,:] = word_vector(tokenized_emo[i], 300)\n",
        "d2v_df_emo = pd.DataFrame(doc2vec_Arrays)\n",
        "d2v_df_emo.shape"
      ],
      "metadata": {
        "colab": {
          "base_uri": "https://localhost:8080/"
        },
        "id": "JzUj6XNy3D1u",
        "outputId": "772a9989-506f-42ef-e809-e2e036a65c4d"
      },
      "execution_count": 90,
      "outputs": [
        {
          "output_type": "execute_result",
          "data": {
            "text/plain": [
              "(1000, 300)"
            ]
          },
          "metadata": {},
          "execution_count": 90
        }
      ]
    },
    {
      "cell_type": "code",
      "source": [
        "d2v_Df = pd.DataFrame(np.hstack((d2v_df_cap,d2v_df_hash,d2v_df_ment,d2v_df_emo, df)))"
      ],
      "metadata": {
        "id": "yXCvFAPx3RdP"
      },
      "execution_count": 91,
      "outputs": []
    },
    {
      "cell_type": "code",
      "source": [
        "for col in d2v_Df.columns:\n",
        "  print(type(col))"
      ],
      "metadata": {
        "id": "Rjlc8EJGIaTV"
      },
      "execution_count": null,
      "outputs": []
    },
    {
      "cell_type": "code",
      "source": [
        "d2v_Df.head()"
      ],
      "metadata": {
        "id": "S6fplAE0lAam"
      },
      "execution_count": null,
      "outputs": []
    },
    {
      "cell_type": "code",
      "source": [
        "dropped = [1201,1217,1217,1219,1221,1222]\n",
        "d2v_df = d2v_Df.drop(dropped,axis=1)\n",
        "d2v_df"
      ],
      "metadata": {
        "id": "5EFfalof3tcr"
      },
      "execution_count": null,
      "outputs": []
    },
    {
      "cell_type": "code",
      "source": [
        "from sklearn import preprocessing\n",
        "df = pd.DataFrame(d2v_df)\n",
        "data=df.astype(str)\n",
        "\n",
        "normalizer = preprocessing.MinMaxScaler(feature_range=(0, 1))\n",
        "normalized_df = pd.DataFrame(normalizer.fit_transform(data),  columns = data.columns)\n",
        "\n",
        "\n",
        "\n"
      ],
      "metadata": {
        "id": "nna7gZyF3925"
      },
      "execution_count": 99,
      "outputs": []
    },
    {
      "cell_type": "code",
      "source": [
        "y = d2v_df[1203]          #Target Variable\n",
        "X = d2v_df.drop(1202,1)   #Feature Matrix\n",
        "X=pd.DataFrame(X)\n",
        "y=pd.DataFrame(y)"
      ],
      "metadata": {
        "colab": {
          "base_uri": "https://localhost:8080/"
        },
        "id": "KK7XoJAGGgq2",
        "outputId": "554486c1-f7fd-4b2c-d9a2-14b9d2a662bc"
      },
      "execution_count": 102,
      "outputs": [
        {
          "output_type": "stream",
          "name": "stderr",
          "text": [
            "/usr/local/lib/python3.7/dist-packages/ipykernel_launcher.py:2: FutureWarning: In a future version of pandas all arguments of DataFrame.drop except for the argument 'labels' will be keyword-only\n",
            "  \n"
          ]
        }
      ]
    },
    {
      "cell_type": "markdown",
      "source": [
        " It seems like new version of xgboost do not accept the datatype of Object. So they should be converted to numeric"
      ],
      "metadata": {
        "id": "N-6xMhyHPjZX"
      }
    },
    {
      "cell_type": "code",
      "source": [
        "for i in X.columns:\n",
        "  X[i]=pd.to_numeric(X[i])"
      ],
      "metadata": {
        "id": "IUX-arQkMEvm"
      },
      "execution_count": 104,
      "outputs": []
    },
    {
      "cell_type": "code",
      "source": [
        "for i in y.columns:\n",
        "  y[i]=pd.to_numeric(y[i])"
      ],
      "metadata": {
        "id": "8ZtaCs38M8I3"
      },
      "execution_count": 105,
      "outputs": []
    },
    {
      "cell_type": "code",
      "source": [
        "from sklearn.model_selection import train_test_split\n",
        "\n",
        "x_train, x_test, y_train, y_test = train_test_split(X, y, test_size=0.2)"
      ],
      "metadata": {
        "id": "VzXOeB3V4wDf"
      },
      "execution_count": 106,
      "outputs": []
    },
    {
      "cell_type": "code",
      "source": [
        "print(x_train.dtypes)"
      ],
      "metadata": {
        "colab": {
          "base_uri": "https://localhost:8080/"
        },
        "id": "mmCcbkDPLrfl",
        "outputId": "17e80eaa-abd4-4cc3-8626-258532db6629"
      },
      "execution_count": 107,
      "outputs": [
        {
          "output_type": "stream",
          "name": "stdout",
          "text": [
            "0       float64\n",
            "1       float64\n",
            "2       float64\n",
            "3       float64\n",
            "4       float64\n",
            "         ...   \n",
            "1216      int64\n",
            "1218      int64\n",
            "1220      int64\n",
            "1223      int64\n",
            "1224    float64\n",
            "Length: 1219, dtype: object\n"
          ]
        }
      ]
    },
    {
      "cell_type": "markdown",
      "source": [
        "#XGBoost"
      ],
      "metadata": {
        "id": "RmDdgxeqPyX6"
      }
    },
    {
      "cell_type": "code",
      "source": [
        "import xgboost as xgb\n",
        "from sklearn.model_selection import GridSearchCV\n",
        "\n",
        "\n",
        "model = xgb.XGBRegressor()\n",
        "parameters = {'nthread':[4],\n",
        "              'objective':['reg:linear'],\n",
        "              'learning_rate': [.03, 0.05, .07], #so called `eta` value\n",
        "              'max_depth': [5, 6, 7],\n",
        "              'min_child_weight': [4],\n",
        "              'silent': [1],\n",
        "              'subsample': [0.7],\n",
        "              'colsample_bytree': [0.7],\n",
        "              'n_estimators': [500]}\n",
        "\n",
        "model_grid = GridSearchCV(model,parameters,cv = 2,n_jobs = 5, verbose=True)\n",
        "\n",
        "model_grid.fit(x_train, y_train)\n",
        "\n",
        "model_grid.best_score_\n",
        "model_grid.best_params_"
      ],
      "metadata": {
        "colab": {
          "base_uri": "https://localhost:8080/"
        },
        "id": "ydZ8U4YB5Cd5",
        "outputId": "fce10cc9-f5a1-4c5f-f4e1-b531438924c0"
      },
      "execution_count": 108,
      "outputs": [
        {
          "output_type": "stream",
          "name": "stdout",
          "text": [
            "Fitting 2 folds for each of 9 candidates, totalling 18 fits\n"
          ]
        },
        {
          "output_type": "execute_result",
          "data": {
            "text/plain": [
              "{'colsample_bytree': 0.7,\n",
              " 'learning_rate': 0.03,\n",
              " 'max_depth': 5,\n",
              " 'min_child_weight': 4,\n",
              " 'n_estimators': 500,\n",
              " 'nthread': 4,\n",
              " 'objective': 'reg:linear',\n",
              " 'silent': 1,\n",
              " 'subsample': 0.7}"
            ]
          },
          "metadata": {},
          "execution_count": 108
        }
      ]
    },
    {
      "cell_type": "code",
      "source": [
        "xg_reg = xgb.XGBRegressor(objective ='reg:linear', colsample_bytree = 0.7, learning_rate = 0.03,max_depth = 5, min_child_weight=4,nthread = 4, n_estimators = 500,silent=1,subsample=0.7)\n"
      ],
      "metadata": {
        "id": "90AF9k9xNywS"
      },
      "execution_count": 109,
      "outputs": []
    },
    {
      "cell_type": "code",
      "source": [
        "xg_reg.fit(x_train, y_train)\n",
        "y_pred = xg_reg.predict(x_test)"
      ],
      "metadata": {
        "id": "k7Hl9qCTN7S8"
      },
      "execution_count": 110,
      "outputs": []
    },
    {
      "cell_type": "code",
      "source": [
        "from sklearn.metrics import mean_squared_error\n",
        "from sklearn.metrics import r2_score\n",
        "\n",
        "rmse = np.sqrt(mean_squared_error(y_test, y_pred))\n",
        "print(\"RMSE: %f\" % (rmse))\n",
        "\n",
        "R2=r2_score(y_test,y_pred)\n",
        "print(\"R2 Score: %f\" % (R2))\n",
        "print()"
      ],
      "metadata": {
        "colab": {
          "base_uri": "https://localhost:8080/"
        },
        "id": "DxmBBgE9N9Ii",
        "outputId": "01f47453-e81a-4f6d-fa29-70c5ed96fb32"
      },
      "execution_count": 111,
      "outputs": [
        {
          "output_type": "stream",
          "name": "stdout",
          "text": [
            "RMSE: 34.647125\n",
            "R2 Score: 0.986748\n",
            "\n"
          ]
        }
      ]
    },
    {
      "cell_type": "code",
      "source": [
        "def plot_feature_importance(importance,names,model_type):\n",
        "\n",
        "#Create arrays from feature importance and feature names\n",
        "  feature_importance = np.array(importance)\n",
        "  feature_names = np.array(names)\n",
        "\n",
        "  #Create a DataFrame using a Dictionary\n",
        "  data={'feature_names':feature_names,'feature_importance':feature_importance}\n",
        "  fi_df = pd.DataFrame(data)\n",
        "\n",
        "  #Sort the DataFrame in order decreasing feature importance\n",
        "  fi_df.sort_values(by=['feature_importance'], ascending=False,inplace=True)\n",
        "\n",
        "  #Define size of bar plot\n",
        "  plt.figure(figsize=(20,20))\n",
        "  #Plot Searborn bar chart\n",
        "  sns.barplot(x=fi_df['feature_importance'], y=fi_df['feature_names'])\n",
        "  #Add chart labels\n",
        "  plt.title(model_type + 'FEATURE IMPORTANCE')\n",
        "  plt.xlabel('FEATURE IMPORTANCE')\n",
        "  plt.ylabel('FEATURE NAMES')"
      ],
      "metadata": {
        "id": "mtLLqTkrOV3v"
      },
      "execution_count": 112,
      "outputs": []
    },
    {
      "cell_type": "code",
      "source": [
        "plot_feature_importance(xg_reg.feature_importances_,x_train.columns,'XG BOOST')"
      ],
      "metadata": {
        "colab": {
          "base_uri": "https://localhost:8080/",
          "height": 1000
        },
        "id": "hOFUFShLOXs6",
        "outputId": "8d6be6f3-7072-49d7-8900-6d86ed45bc65"
      },
      "execution_count": 113,
      "outputs": [
        {
          "output_type": "display_data",
          "data": {
            "text/plain": [
              "<Figure size 1440x1440 with 1 Axes>"
            ],
            "image/png": "[encoded data removed]"
          },
          "metadata": {
            "needs_background": "light"
          }
        }
      ]
    },
    {
      "cell_type": "markdown",
      "source": [
        "#Random Forest"
      ],
      "metadata": {
        "id": "-zSZw-IBOc11"
      }
    },
    {
      "cell_type": "code",
      "source": [
        "from sklearn.ensemble import RandomForestClassifier\n",
        "from sklearn.ensemble import RandomForestRegressor\n",
        "from sklearn.model_selection import RandomizedSearchCV\n",
        "\n",
        "\n",
        "model_rand = RandomForestRegressor()\n",
        "\n",
        "\n",
        "n_estimators = [5,20,50,100] # number of trees in the random forest\n",
        "max_features = ['auto', 'sqrt'] # number of features in consideration at every split\n",
        "max_depth = [int(x) for x in np.linspace(10, 120, num = 12)] # maximum number of levels allowed in each decision tree\n",
        "min_samples_split = [2, 6, 10] # minimum sample number to split a node\n",
        "min_samples_leaf = [1, 3, 4] # minimum sample number that can be stored in a leaf node\n",
        "bootstrap = [True, False] # method used to sample data points\n",
        "\n",
        "random_grid = {'n_estimators': n_estimators,\n",
        "\n",
        "'max_features': max_features,\n",
        "'max_depth': max_depth,\n",
        "'min_samples_split': min_samples_split,\n",
        "'min_samples_leaf': min_samples_leaf,\n",
        "'bootstrap': bootstrap}\n",
        "\n",
        "\n",
        "rf_random = RandomizedSearchCV(estimator = model_rand,param_distributions = random_grid,n_iter = 100, cv = 5, verbose=2, random_state=35, n_jobs = -1)\n",
        "\n",
        "\n",
        "rf_random.fit(x_train, y_train)\n",
        "\n",
        "# model_rand.best_score_\n",
        "print ('Random grid: ', random_grid, '\\n')\n",
        "\n",
        "# print the best parameters\n",
        "print ('Best Parameters: ', rf_random.best_params_, ' \\n')"
      ],
      "metadata": {
        "colab": {
          "base_uri": "https://localhost:8080/"
        },
        "id": "cWQefI-Y_2c2",
        "outputId": "6a68dcd9-ed28-4bba-85b7-7ad0535f18c0"
      },
      "execution_count": 114,
      "outputs": [
        {
          "output_type": "stream",
          "name": "stdout",
          "text": [
            "Fitting 5 folds for each of 100 candidates, totalling 500 fits\n"
          ]
        },
        {
          "output_type": "stream",
          "name": "stderr",
          "text": [
            "/usr/local/lib/python3.7/dist-packages/sklearn/model_selection/_search.py:926: DataConversionWarning: A column-vector y was passed when a 1d array was expected. Please change the shape of y to (n_samples,), for example using ravel().\n",
            "  self.best_estimator_.fit(X, y, **fit_params)\n"
          ]
        },
        {
          "output_type": "stream",
          "name": "stdout",
          "text": [
            "Random grid:  {'n_estimators': [5, 20, 50, 100], 'max_features': ['auto', 'sqrt'], 'max_depth': [10, 20, 30, 40, 50, 60, 70, 80, 90, 100, 110, 120], 'min_samples_split': [2, 6, 10], 'min_samples_leaf': [1, 3, 4], 'bootstrap': [True, False]} \n",
            "\n",
            "Best Parameters:  {'n_estimators': 5, 'min_samples_split': 6, 'min_samples_leaf': 3, 'max_features': 'auto', 'max_depth': 40, 'bootstrap': False}  \n",
            "\n"
          ]
        }
      ]
    },
    {
      "cell_type": "code",
      "source": [
        "print ('Best Parameters: ', rf_random.best_params_, ' \\n')"
      ],
      "metadata": {
        "colab": {
          "base_uri": "https://localhost:8080/"
        },
        "id": "luz20lp6OiWV",
        "outputId": "2140c4b8-6626-46b9-c16a-c1f4569b2149"
      },
      "execution_count": 115,
      "outputs": [
        {
          "output_type": "stream",
          "name": "stdout",
          "text": [
            "Best Parameters:  {'n_estimators': 5, 'min_samples_split': 6, 'min_samples_leaf': 3, 'max_features': 'auto', 'max_depth': 40, 'bootstrap': False}  \n",
            "\n"
          ]
        }
      ]
    },
    {
      "cell_type": "code",
      "source": [
        "from sklearn.ensemble import RandomForestRegressor\n",
        "\n",
        "rnd_clf = RandomForestRegressor(n_estimators=5, min_samples_split=6 , min_samples_leaf=3, max_features='auto',max_depth=40,bootstrap=False)\n",
        "rnd_clf.fit(x_train, y_train)\n",
        "y_pred_rnd_clf = rnd_clf.predict(x_test)"
      ],
      "metadata": {
        "colab": {
          "base_uri": "https://localhost:8080/"
        },
        "id": "cMZdvLvKOkwW",
        "outputId": "8a4ee6dd-9e89-4385-fefb-ac031c205b2c"
      },
      "execution_count": 119,
      "outputs": [
        {
          "output_type": "stream",
          "name": "stderr",
          "text": [
            "/usr/local/lib/python3.7/dist-packages/ipykernel_launcher.py:4: DataConversionWarning: A column-vector y was passed when a 1d array was expected. Please change the shape of y to (n_samples,), for example using ravel().\n",
            "  after removing the cwd from sys.path.\n"
          ]
        }
      ]
    },
    {
      "cell_type": "code",
      "source": [
        "y_pred_rnd_clf.shape"
      ],
      "metadata": {
        "colab": {
          "base_uri": "https://localhost:8080/"
        },
        "id": "WrbuNOiqUmY9",
        "outputId": "a8f2953a-7700-4558-87c0-3994299a69d1"
      },
      "execution_count": 120,
      "outputs": [
        {
          "output_type": "execute_result",
          "data": {
            "text/plain": [
              "(200,)"
            ]
          },
          "metadata": {},
          "execution_count": 120
        }
      ]
    },
    {
      "cell_type": "code",
      "source": [
        "mse=mean_squared_error(y_test, y_pred_rnd_clf)\n",
        "print('MSE: %f' % (mse))\n",
        "rmse_rnd = np.sqrt(mse)\n",
        "print(\"RMSE: %f\" % (rmse_rnd))\n",
        "\n",
        "R2_rnd=r2_score(y_test,y_pred_rnd_clf)\n",
        "print(\"R2 Score: %f\" % (R2_rnd))\n"
      ],
      "metadata": {
        "colab": {
          "base_uri": "https://localhost:8080/"
        },
        "id": "7LCTtQThRtQc",
        "outputId": "4cee08d7-04d1-4942-96db-bf7ad0fba0fc"
      },
      "execution_count": 121,
      "outputs": [
        {
          "output_type": "stream",
          "name": "stdout",
          "text": [
            "MSE: 80.153724\n",
            "RMSE: 8.952861\n",
            "R2 Score: 0.999115\n"
          ]
        }
      ]
    },
    {
      "cell_type": "markdown",
      "source": [
        "#SVC"
      ],
      "metadata": {
        "id": "f2ofmKKE8TSO"
      }
    },
    {
      "cell_type": "code",
      "source": [
        "from sklearn.svm import SVC\n",
        "from sklearn.metrics import classification_report, confusion_matrix\n",
        "import warnings\n",
        "warnings.filterwarnings('ignore')\n",
        "\n",
        "# defining parameter range\n",
        "param_grid = {'C': [0.1, 1, 10, 100, 1000],\n",
        "              'gamma': [1, 0.1, 0.01, 0.001, 0.0001],\n",
        "              'kernel': ['linear', 'poly', 'rbf']}\n",
        " \n",
        "grid = GridSearchCV(SVC(), param_grid, refit = True, verbose = 3)\n",
        " \n",
        "# fitting the model for grid search\n",
        "grid.fit(x_train, y_train)\n",
        "\n",
        "\n",
        "# print best parameter after tuning\n",
        "print(grid.best_params_)\n",
        " \n",
        "# print how our model looks after hyper-parameter tuning\n",
        "print(grid.best_estimator_)"
      ],
      "metadata": {
        "id": "JpR6Flxq8SXt"
      },
      "execution_count": null,
      "outputs": []
    },
    {
      "cell_type": "code",
      "source": [
        "svc_clf=SVC(C=1, gamma=0.001, kernel='rbf')\n",
        "svc_clf.fit(x_train, y_train)\n",
        "grid_predictions = grid.predict(x_test)\n",
        " \n",
        "mse=mean_squared_error(y_test, grid_predictions)\n",
        "print('MSE: %f' % (mse))\n",
        "rmse_rnd = np.sqrt(mse)\n",
        "print(\"RMSE: %f\" % (rmse_rnd))\n",
        "\n",
        "R2_rnd=r2_score(y_test, grid_predictions)\n",
        "print(\"R2 Score: %f\" % (R2_rnd))"
      ],
      "metadata": {
        "colab": {
          "base_uri": "https://localhost:8080/"
        },
        "id": "2_EaHwQ184E3",
        "outputId": "0b9e6fad-21fa-44c3-efc7-110057380986"
      },
      "execution_count": 130,
      "outputs": [
        {
          "output_type": "stream",
          "name": "stdout",
          "text": [
            "MSE: 132297.850000\n",
            "RMSE: 363.727714\n",
            "R2 Score: -0.460506\n"
          ]
        }
      ]
    }
  ]
}