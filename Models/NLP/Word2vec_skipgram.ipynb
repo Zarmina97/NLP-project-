{
  "cells": [
    {
      "cell_type": "code",
      "execution_count": 1,
      "metadata": {
        "id": "H9pYltoEYV0s"
      },
      "outputs": [],
      "source": [
        "# %matplotlib inline\n",
        "\n",
        "import numpy as np\n",
        "import pandas as pd\n",
        "import gensim\n",
        "import utils\n",
        "import re  \n",
        "import seaborn as sns\n",
        "import warnings\n",
        "import xgboost as xgb\n",
        "from sklearn.manifold import TSNE\n",
        "# from utils import word_vector\n",
        "from sklearn import preprocessing\n",
        "from matplotlib import pyplot as plt\n",
        "from sklearn.decomposition import PCA\n",
        "from collections import defaultdict  # For word frequency\n",
        "from sklearn.model_selection import train_test_split\n",
        "from sklearn.ensemble import RandomForestRegressor\n",
        "from utils import hyperparameterTuning_RandomForest\n",
        "from utils import hyperparameterTuning_XGBoost\n",
        "from utils import hyperparameterTuning_MLP\n",
        "from utils import plot_feature_importance\n",
        "from utils import featureScore\n",
        "from utils import folderPath\n",
        "from utils import metrics\n",
        "from utils import removeColumnContainString\n",
        "from utils import Feature_Extraction\n",
        "from utils import Normalizing\n",
        "\n",
        "random_state=2022"
      ]
    },
    {
      "cell_type": "code",
      "source": [
        "figurePath=folderPath('SavedFigures')\n",
        "datasetePath=folderPath('Dataset')  "
      ],
      "metadata": {
        "id": "c2a7gP2XCUZ6",
        "colab": {
          "base_uri": "https://localhost:8080/"
        },
        "outputId": "2aa5dcbb-67e4-4e2b-b4a5-bd95fddd19b1"
      },
      "execution_count": 2,
      "outputs": [
        {
          "output_type": "stream",
          "name": "stdout",
          "text": [
            "1\n",
            "1\n"
          ]
        }
      ]
    },
    {
      "cell_type": "code",
      "source": [
        "from google.colab import drive\n",
        "drive.mount('/content/drive')"
      ],
      "metadata": {
        "colab": {
          "base_uri": "https://localhost:8080/"
        },
        "id": "ASNKb9IF_tyc",
        "outputId": "5ab8c62f-6d2c-4cd5-8ad2-1db805f2bec9"
      },
      "execution_count": 3,
      "outputs": [
        {
          "output_type": "stream",
          "name": "stdout",
          "text": [
            "Drive already mounted at /content/drive; to attempt to forcibly remount, call drive.mount(\"/content/drive\", force_remount=True).\n"
          ]
        }
      ]
    },
    {
      "cell_type": "code",
      "source": [
        "path='/content/drive/MyDrive/NLP/'\n",
        "df=pd.read_csv(path + '3.csv')"
      ],
      "metadata": {
        "id": "1GQemO07A657"
      },
      "execution_count": 4,
      "outputs": []
    },
    {
      "cell_type": "markdown",
      "metadata": {
        "id": "mgb_Ca95YV1E"
      },
      "source": [
        "## Skipgram"
      ]
    },
    {
      "cell_type": "markdown",
      "source": [
        "### caption"
      ],
      "metadata": {
        "id": "Q8nUpRGDwVwa"
      }
    },
    {
      "cell_type": "code",
      "execution_count": 5,
      "metadata": {
        "colab": {
          "base_uri": "https://localhost:8080/"
        },
        "id": "aAf2GsbUYV1K",
        "outputId": "cb8ebfdf-e9a0-4c75-df0c-2b8dcb44414c"
      },
      "outputs": [
        {
          "output_type": "execute_result",
          "data": {
            "text/plain": [
              "(22080207, 23299480)"
            ]
          },
          "metadata": {},
          "execution_count": 5
        }
      ],
      "source": [
        "tokenized_caption = df['caption'].apply(lambda x: str(x).split()) # tokenizing \n",
        "model_w2v_caption = gensim.models.Word2Vec(tokenized_caption,\n",
        "        size=100, # desired no. of features/independent variables\n",
        "        window=5, # context window size\n",
        "        min_count=2, # Ignores all words with total frequency lower than 2.                                  \n",
        "        sg = 1, # 1 for skip-gram model\n",
        "        hs = 0,\n",
        "        negative = 10, # for negative sampling\n",
        "        workers= 32 # no.of cores\n",
        "        )\n",
        "model_w2v_caption.train(tokenized_caption, total_examples= len(df['caption']), epochs=20)\n",
        "# model_w2v_caption.save(path + \"Save Models\\\\200_Word2vec_Skipgram_Caption.model\")"
      ]
    },
    {
      "cell_type": "code",
      "execution_count": 6,
      "metadata": {
        "id": "OGn6_eC9YV1O"
      },
      "outputs": [],
      "source": [
        "def word_vector(tokens, size,model):\n",
        "    vec = np.zeros(size).reshape((1, size))\n",
        "    count = 0\n",
        "    for word in tokens:\n",
        "        try:\n",
        "            vec += model[word].reshape((1, size))\n",
        "            count += 1\n",
        "        except KeyError:\n",
        "            continue\n",
        "    if count != 0:\n",
        "        vec /= count\n",
        "    return vec"
      ]
    },
    {
      "cell_type": "code",
      "execution_count": 7,
      "metadata": {
        "colab": {
          "base_uri": "https://localhost:8080/"
        },
        "id": "AHqf7v8JYV1R",
        "outputId": "9c495205-ee86-48b3-ca11-b0d29831982f"
      },
      "outputs": [
        {
          "output_type": "stream",
          "name": "stderr",
          "text": [
            "/usr/local/lib/python3.7/dist-packages/ipykernel_launcher.py:6: DeprecationWarning: Call to deprecated `__getitem__` (Method will be removed in 4.0.0, use self.wv.__getitem__() instead).\n",
            "  \n"
          ]
        },
        {
          "output_type": "execute_result",
          "data": {
            "text/plain": [
              "(41741, 100)"
            ]
          },
          "metadata": {},
          "execution_count": 7
        }
      ],
      "source": [
        "wordvec_arrays = np.zeros((len(tokenized_caption), 100)) \n",
        "for i in range(len(tokenized_caption)):\n",
        "    wordvec_arrays[i,:] = word_vector(tokenized_caption[i], 100,model_w2v_caption)\n",
        "w2v_df_caption = pd.DataFrame(wordvec_arrays)\n",
        "w2v_df_caption.shape"
      ]
    },
    {
      "cell_type": "markdown",
      "source": [
        "### hastags"
      ],
      "metadata": {
        "id": "CLeRyJhjwUDW"
      }
    },
    {
      "cell_type": "code",
      "source": [
        "tokenized_hashtags = df['hashtags'].apply(lambda x: str(x).split()) # tokenizing \n",
        "model_w2v_hashtags = gensim.models.Word2Vec(tokenized_hashtags,\n",
        "        size=100, # desired no. of features/independent variables\n",
        "        window=5, # context window size\n",
        "        min_count=2, # Ignores all words with total frequency lower than 2.                                  \n",
        "        sg = 1, # 1 for skip-gram model\n",
        "        hs = 0,\n",
        "        negative = 10, # for negative sampling\n",
        "        workers= 32 # no.of cores\n",
        "        )\n",
        "model_w2v_hashtags.train(tokenized_hashtags, total_examples= len(df['hashtags']), epochs=20)\n",
        "# model_w2v_caption.save(path + \"Save Models\\\\200_Word2vec_Skipgram_Caption.model\")"
      ],
      "metadata": {
        "colab": {
          "base_uri": "https://localhost:8080/"
        },
        "id": "t7SkY6lDvvNZ",
        "outputId": "dae82891-c594-4267-a653-d23836282e6a"
      },
      "execution_count": 8,
      "outputs": [
        {
          "output_type": "execute_result",
          "data": {
            "text/plain": [
              "(5333208, 6208540)"
            ]
          },
          "metadata": {},
          "execution_count": 8
        }
      ]
    },
    {
      "cell_type": "code",
      "source": [
        "wordvec_arrays = np.zeros((len(tokenized_hashtags), 100)) \n",
        "for i in range(len(tokenized_hashtags)):\n",
        "    wordvec_arrays[i,:] = word_vector(tokenized_hashtags[i], 100,model_w2v_hashtags)\n",
        "w2v_df_hashtags = pd.DataFrame(wordvec_arrays)\n",
        "w2v_df_hashtags.shape"
      ],
      "metadata": {
        "colab": {
          "base_uri": "https://localhost:8080/"
        },
        "id": "Vi8pf_GNvweF",
        "outputId": "49c081b8-038b-4c42-d67b-7a2a7f773f0a"
      },
      "execution_count": 9,
      "outputs": [
        {
          "output_type": "stream",
          "name": "stderr",
          "text": [
            "/usr/local/lib/python3.7/dist-packages/ipykernel_launcher.py:6: DeprecationWarning: Call to deprecated `__getitem__` (Method will be removed in 4.0.0, use self.wv.__getitem__() instead).\n",
            "  \n"
          ]
        },
        {
          "output_type": "execute_result",
          "data": {
            "text/plain": [
              "(41741, 100)"
            ]
          },
          "metadata": {},
          "execution_count": 9
        }
      ]
    },
    {
      "cell_type": "markdown",
      "source": [
        "### emojiText"
      ],
      "metadata": {
        "id": "D4WBQEpawRrr"
      }
    },
    {
      "cell_type": "code",
      "source": [
        "tokenized_emojiText = df['emoji_text'].apply(lambda x: str(x).split()) # tokenizing \n",
        "model_w2v_emojiText = gensim.models.Word2Vec(tokenized_emojiText,\n",
        "        size=100, # desired no. of features/independent variables\n",
        "        window=5, # context window size\n",
        "        min_count=2, # Ignores all words with total frequency lower than 2.                                  \n",
        "        sg = 1, # 1 for skip-gram model\n",
        "        hs = 0,\n",
        "        negative = 10, # for negative sampling\n",
        "        workers= 32 # no.of cores\n",
        "        )\n",
        "model_w2v_emojiText.train(tokenized_emojiText, total_examples= len(df['emoji_text']), epochs=20)\n",
        "# model_w2v_caption.save(path + \"Save Models\\\\200_Word2vec_Skipgram_Caption.model\")"
      ],
      "metadata": {
        "colab": {
          "base_uri": "https://localhost:8080/"
        },
        "id": "VAbV1le8v5gf",
        "outputId": "279d03e0-76eb-4959-9ee4-565396ef195d"
      },
      "execution_count": 10,
      "outputs": [
        {
          "output_type": "execute_result",
          "data": {
            "text/plain": [
              "(2700347, 3976140)"
            ]
          },
          "metadata": {},
          "execution_count": 10
        }
      ]
    },
    {
      "cell_type": "code",
      "source": [
        "wordvec_arrays = np.zeros((len(tokenized_emojiText), 100)) \n",
        "for i in range(len(tokenized_emojiText)):\n",
        "    wordvec_arrays[i,:] = word_vector(tokenized_emojiText[i], 100,model_w2v_emojiText)\n",
        "w2v_df_emojiText = pd.DataFrame(wordvec_arrays)\n",
        "w2v_df_emojiText.shape"
      ],
      "metadata": {
        "colab": {
          "base_uri": "https://localhost:8080/"
        },
        "id": "ezqUgIabv_r9",
        "outputId": "136a6066-ca4b-4e28-f460-0d124834789b"
      },
      "execution_count": 11,
      "outputs": [
        {
          "output_type": "stream",
          "name": "stderr",
          "text": [
            "/usr/local/lib/python3.7/dist-packages/ipykernel_launcher.py:6: DeprecationWarning: Call to deprecated `__getitem__` (Method will be removed in 4.0.0, use self.wv.__getitem__() instead).\n",
            "  \n"
          ]
        },
        {
          "output_type": "execute_result",
          "data": {
            "text/plain": [
              "(41741, 100)"
            ]
          },
          "metadata": {},
          "execution_count": 11
        }
      ]
    },
    {
      "cell_type": "markdown",
      "source": [
        "### Mentions"
      ],
      "metadata": {
        "id": "SVYulQM0wPxA"
      }
    },
    {
      "cell_type": "code",
      "source": [
        "tokenized_mentions = df['mentions'].apply(lambda x: str(x).split()) # tokenizing \n",
        "model_w2v_mentions = gensim.models.Word2Vec(tokenized_mentions,\n",
        "        size=100, # desired no. of features/independent variables\n",
        "        window=5, # context window size\n",
        "        min_count=2, # Ignores all words with total frequency lower than 2.                                  \n",
        "        sg = 1, # 1 for skip-gram model\n",
        "        hs = 0,\n",
        "        negative = 10, # for negative sampling\n",
        "        workers= 32 # no.of cores\n",
        "        )\n",
        "model_w2v_mentions.train(tokenized_mentions, total_examples= len(df['mentions']), epochs=20)\n",
        "# model_w2v_caption.save(path + \"Save Models\\\\200_Word2vec_Skipgram_Caption.model\")"
      ],
      "metadata": {
        "colab": {
          "base_uri": "https://localhost:8080/"
        },
        "id": "znRO3Jw6wGhB",
        "outputId": "89052ed3-5983-4688-ace7-ac61e0e51af6"
      },
      "execution_count": 12,
      "outputs": [
        {
          "output_type": "execute_result",
          "data": {
            "text/plain": [
              "(291955, 1015580)"
            ]
          },
          "metadata": {},
          "execution_count": 12
        }
      ]
    },
    {
      "cell_type": "code",
      "source": [
        "wordvec_arrays = np.zeros((len(tokenized_mentions), 100)) \n",
        "for i in range(len(tokenized_mentions)):\n",
        "    wordvec_arrays[i,:] = word_vector(tokenized_mentions[i], 100,model_w2v_mentions)\n",
        "w2v_df_mentions = pd.DataFrame(wordvec_arrays)\n",
        "w2v_df_mentions.shape"
      ],
      "metadata": {
        "colab": {
          "base_uri": "https://localhost:8080/"
        },
        "id": "ZcBIK6JhwH85",
        "outputId": "0b462859-971b-47f3-acf2-43da8d8e4e35"
      },
      "execution_count": 13,
      "outputs": [
        {
          "output_type": "stream",
          "name": "stderr",
          "text": [
            "/usr/local/lib/python3.7/dist-packages/ipykernel_launcher.py:6: DeprecationWarning: Call to deprecated `__getitem__` (Method will be removed in 4.0.0, use self.wv.__getitem__() instead).\n",
            "  \n"
          ]
        },
        {
          "output_type": "execute_result",
          "data": {
            "text/plain": [
              "(41741, 100)"
            ]
          },
          "metadata": {},
          "execution_count": 13
        }
      ]
    },
    {
      "cell_type": "code",
      "source": [
        "w2v_Df = pd.DataFrame(np.hstack((w2v_df_caption,w2v_df_hashtags,w2v_df_emojiText,w2v_df_mentions, df)))"
      ],
      "metadata": {
        "id": "RTPHp04s58jn"
      },
      "execution_count": 14,
      "outputs": []
    },
    {
      "cell_type": "code",
      "source": [
        "w2v_Df"
      ],
      "metadata": {
        "colab": {
          "base_uri": "https://localhost:8080/",
          "height": 904
        },
        "id": "6XQbXIj5a3rY",
        "outputId": "dcaf61a7-7b69-45b1-e1fa-ca5145d2f46d"
      },
      "execution_count": 15,
      "outputs": [
        {
          "output_type": "execute_result",
          "data": {
            "text/plain": [
              "            0         1         2         3         4         5         6    \\\n",
              "0      0.115672  -0.17471  0.243352  0.119917 -0.257764 -0.232581  0.074268   \n",
              "1      0.258748 -0.217826  0.109719    0.1062 -0.149786 -0.150608 -0.030474   \n",
              "2        0.0307 -0.646133  0.079327  0.456535 -0.077451 -0.072032  0.367206   \n",
              "3      0.013781 -0.463082  0.490759  0.728174 -0.185935 -0.175751 -0.010929   \n",
              "4      0.270772 -0.489131  0.367619  0.350594   -0.3103  0.185742  0.007731   \n",
              "...         ...       ...       ...       ...       ...       ...       ...   \n",
              "41736  0.211733 -0.225089  0.286027  0.153425 -0.273194 -0.084864 -0.074416   \n",
              "41737  0.069767 -0.362688  0.309612  0.190129 -0.330334  -0.16555  -0.09481   \n",
              "41738  0.186997 -0.170459   0.18412  0.227502 -0.261476 -0.184079  -0.11777   \n",
              "41739  0.200712  -0.24266  0.190399  0.251344 -0.353561 -0.127118  -0.09295   \n",
              "41740  0.269615 -0.083962  0.140156  0.131152 -0.266712 -0.218946 -0.083948   \n",
              "\n",
              "            7         8         9    ...       418  \\\n",
              "0      0.139744 -0.281599  -0.13784  ...  0.282576   \n",
              "1      0.083136 -0.257743 -0.205706  ...  0.168056   \n",
              "2     -0.199024 -0.275215  -0.12153  ...       0.0   \n",
              "3      0.011535 -0.488713 -0.276619  ...      0.25   \n",
              "4     -0.033354 -0.334599 -0.011165  ...  0.166667   \n",
              "...         ...       ...       ...  ...       ...   \n",
              "41736  0.207778 -0.262962 -0.066674  ...   0.42803   \n",
              "41737  0.057453 -0.228239  0.003612  ...  0.491667   \n",
              "41738 -0.018333 -0.212092 -0.081439  ...  0.260417   \n",
              "41739  0.124974 -0.222119 -0.072881  ...  0.445833   \n",
              "41740   0.06779 -0.204546 -0.161774  ...  0.097531   \n",
              "\n",
              "                                                     419 420  \\\n",
              "0      '#londontesting', '#chelseabridgeclinic', '#lo...   8   \n",
              "1      '#thankyou', '#thankful', '#feedback', '#chlse...   9   \n",
              "2      '#edinburghfoodies', '#edinburghrestaurants', ...  25   \n",
              "3      '#michelin', '#michelinstar', '#michelinuk', '...  28   \n",
              "4      '#michelin', '#michelinstar', '#michelinuk', '...  28   \n",
              "...                                                  ...  ..   \n",
              "41736  '#lookingforward', '#theatreland', '#performin...   6   \n",
              "41737  '#lookingforward', '#travelinspiration', '#lov...   7   \n",
              "41738  '#lookingforward', '#londonviews', '#prettycit...   8   \n",
              "41739  '#lookingforward', '#travelinspo', '#datenight...   7   \n",
              "41740  '#christmas', '#christmasdecorations', '#festi...   6   \n",
              "\n",
              "                                                     421 422  \\\n",
              "0                                                    NaN   0   \n",
              "1                                                    NaN   0   \n",
              "2                                                    NaN   0   \n",
              "3                                                    NaN   0   \n",
              "4                 '@castlegamescotland', '@wellocksfood'   2   \n",
              "...                                                  ...  ..   \n",
              "41736  '@evening', '@tiktok', '@nationalyouththeatre'...   4   \n",
              "41737                                   '@youmustgoblog'   1   \n",
              "41738                                  '@damienhewetson'   1   \n",
              "41739                                                NaN   0   \n",
              "41740                                                NaN   0   \n",
              "\n",
              "                                                     423  \\\n",
              "0      ['⏱', '📄', '🧑🏻\\u200d⚕️', '👨\\u200d👩\\u200d👧\\u200...   \n",
              "1                                             ['👏', '🧡']   \n",
              "2                                                     []   \n",
              "3                                                     []   \n",
              "4                                                     []   \n",
              "...                                                  ...   \n",
              "41736                                                 []   \n",
              "41737                                              ['🍾']   \n",
              "41738                                                 []   \n",
              "41739                                                 []   \n",
              "41740                                                 []   \n",
              "\n",
              "                                                     424 425  426  \\\n",
              "0      'stopwatch', 'page facing up', 'health worker:...  10  860   \n",
              "1                       'clapping hands', 'orange heart'   2  716   \n",
              "2                                                    NaN   0  425   \n",
              "3                                                    NaN   0  490   \n",
              "4                                                    NaN   0  530   \n",
              "...                                                  ...  ..  ...   \n",
              "41736                                                NaN   0  878   \n",
              "41737                         'bottle with popping cork'   1  532   \n",
              "41738                                                NaN   0  479   \n",
              "41739                                                NaN   0  643   \n",
              "41740                                                NaN   0  400   \n",
              "\n",
              "                 427  \n",
              "0            3219.75  \n",
              "1        5178.333333  \n",
              "2           17663.68  \n",
              "3       16841.857143  \n",
              "4       16841.857143  \n",
              "...              ...  \n",
              "41736  153640.333333  \n",
              "41737   81714.428571  \n",
              "41738     102699.125  \n",
              "41739   70165.571429  \n",
              "41740   45544.333333  \n",
              "\n",
              "[41741 rows x 428 columns]"
            ],
            "text/html": [
              "\n",
              "  <div id=\"df-d5bf9d9e-3665-4c6f-ac82-5cb62d8e4c9a\">\n",
              "    <div class=\"colab-df-container\">\n",
              "      <div>\n",
              "<style scoped>\n",
              "    .dataframe tbody tr th:only-of-type {\n",
              "        vertical-align: middle;\n",
              "    }\n",
              "\n",
              "    .dataframe tbody tr th {\n",
              "        vertical-align: top;\n",
              "    }\n",
              "\n",
              "    .dataframe thead th {\n",
              "        text-align: right;\n",
              "    }\n",
              "</style>\n",
              "<table border=\"1\" class=\"dataframe\">\n",
              "  <thead>\n",
              "    <tr style=\"text-align: right;\">\n",
              "      <th></th>\n",
              "      <th>0</th>\n",
              "      <th>1</th>\n",
              "      <th>2</th>\n",
              "      <th>3</th>\n",
              "      <th>4</th>\n",
              "      <th>5</th>\n",
              "      <th>6</th>\n",
              "      <th>7</th>\n",
              "      <th>8</th>\n",
              "      <th>9</th>\n",
              "      <th>...</th>\n",
              "      <th>418</th>\n",
              "      <th>419</th>\n",
              "      <th>420</th>\n",
              "      <th>421</th>\n",
              "      <th>422</th>\n",
              "      <th>423</th>\n",
              "      <th>424</th>\n",
              "      <th>425</th>\n",
              "      <th>426</th>\n",
              "      <th>427</th>\n",
              "    </tr>\n",
              "  </thead>\n",
              "  <tbody>\n",
              "    <tr>\n",
              "      <th>0</th>\n",
              "      <td>0.115672</td>\n",
              "      <td>-0.17471</td>\n",
              "      <td>0.243352</td>\n",
              "      <td>0.119917</td>\n",
              "      <td>-0.257764</td>\n",
              "      <td>-0.232581</td>\n",
              "      <td>0.074268</td>\n",
              "      <td>0.139744</td>\n",
              "      <td>-0.281599</td>\n",
              "      <td>-0.13784</td>\n",
              "      <td>...</td>\n",
              "      <td>0.282576</td>\n",
              "      <td>'#londontesting', '#chelseabridgeclinic', '#lo...</td>\n",
              "      <td>8</td>\n",
              "      <td>NaN</td>\n",
              "      <td>0</td>\n",
              "      <td>['⏱', '📄', '🧑🏻\\u200d⚕️', '👨\\u200d👩\\u200d👧\\u200...</td>\n",
              "      <td>'stopwatch', 'page facing up', 'health worker:...</td>\n",
              "      <td>10</td>\n",
              "      <td>860</td>\n",
              "      <td>3219.75</td>\n",
              "    </tr>\n",
              "    <tr>\n",
              "      <th>1</th>\n",
              "      <td>0.258748</td>\n",
              "      <td>-0.217826</td>\n",
              "      <td>0.109719</td>\n",
              "      <td>0.1062</td>\n",
              "      <td>-0.149786</td>\n",
              "      <td>-0.150608</td>\n",
              "      <td>-0.030474</td>\n",
              "      <td>0.083136</td>\n",
              "      <td>-0.257743</td>\n",
              "      <td>-0.205706</td>\n",
              "      <td>...</td>\n",
              "      <td>0.168056</td>\n",
              "      <td>'#thankyou', '#thankful', '#feedback', '#chlse...</td>\n",
              "      <td>9</td>\n",
              "      <td>NaN</td>\n",
              "      <td>0</td>\n",
              "      <td>['👏', '🧡']</td>\n",
              "      <td>'clapping hands', 'orange heart'</td>\n",
              "      <td>2</td>\n",
              "      <td>716</td>\n",
              "      <td>5178.333333</td>\n",
              "    </tr>\n",
              "    <tr>\n",
              "      <th>2</th>\n",
              "      <td>0.0307</td>\n",
              "      <td>-0.646133</td>\n",
              "      <td>0.079327</td>\n",
              "      <td>0.456535</td>\n",
              "      <td>-0.077451</td>\n",
              "      <td>-0.072032</td>\n",
              "      <td>0.367206</td>\n",
              "      <td>-0.199024</td>\n",
              "      <td>-0.275215</td>\n",
              "      <td>-0.12153</td>\n",
              "      <td>...</td>\n",
              "      <td>0.0</td>\n",
              "      <td>'#edinburghfoodies', '#edinburghrestaurants', ...</td>\n",
              "      <td>25</td>\n",
              "      <td>NaN</td>\n",
              "      <td>0</td>\n",
              "      <td>[]</td>\n",
              "      <td>NaN</td>\n",
              "      <td>0</td>\n",
              "      <td>425</td>\n",
              "      <td>17663.68</td>\n",
              "    </tr>\n",
              "    <tr>\n",
              "      <th>3</th>\n",
              "      <td>0.013781</td>\n",
              "      <td>-0.463082</td>\n",
              "      <td>0.490759</td>\n",
              "      <td>0.728174</td>\n",
              "      <td>-0.185935</td>\n",
              "      <td>-0.175751</td>\n",
              "      <td>-0.010929</td>\n",
              "      <td>0.011535</td>\n",
              "      <td>-0.488713</td>\n",
              "      <td>-0.276619</td>\n",
              "      <td>...</td>\n",
              "      <td>0.25</td>\n",
              "      <td>'#michelin', '#michelinstar', '#michelinuk', '...</td>\n",
              "      <td>28</td>\n",
              "      <td>NaN</td>\n",
              "      <td>0</td>\n",
              "      <td>[]</td>\n",
              "      <td>NaN</td>\n",
              "      <td>0</td>\n",
              "      <td>490</td>\n",
              "      <td>16841.857143</td>\n",
              "    </tr>\n",
              "    <tr>\n",
              "      <th>4</th>\n",
              "      <td>0.270772</td>\n",
              "      <td>-0.489131</td>\n",
              "      <td>0.367619</td>\n",
              "      <td>0.350594</td>\n",
              "      <td>-0.3103</td>\n",
              "      <td>0.185742</td>\n",
              "      <td>0.007731</td>\n",
              "      <td>-0.033354</td>\n",
              "      <td>-0.334599</td>\n",
              "      <td>-0.011165</td>\n",
              "      <td>...</td>\n",
              "      <td>0.166667</td>\n",
              "      <td>'#michelin', '#michelinstar', '#michelinuk', '...</td>\n",
              "      <td>28</td>\n",
              "      <td>'@castlegamescotland', '@wellocksfood'</td>\n",
              "      <td>2</td>\n",
              "      <td>[]</td>\n",
              "      <td>NaN</td>\n",
              "      <td>0</td>\n",
              "      <td>530</td>\n",
              "      <td>16841.857143</td>\n",
              "    </tr>\n",
              "    <tr>\n",
              "      <th>...</th>\n",
              "      <td>...</td>\n",
              "      <td>...</td>\n",
              "      <td>...</td>\n",
              "      <td>...</td>\n",
              "      <td>...</td>\n",
              "      <td>...</td>\n",
              "      <td>...</td>\n",
              "      <td>...</td>\n",
              "      <td>...</td>\n",
              "      <td>...</td>\n",
              "      <td>...</td>\n",
              "      <td>...</td>\n",
              "      <td>...</td>\n",
              "      <td>...</td>\n",
              "      <td>...</td>\n",
              "      <td>...</td>\n",
              "      <td>...</td>\n",
              "      <td>...</td>\n",
              "      <td>...</td>\n",
              "      <td>...</td>\n",
              "      <td>...</td>\n",
              "    </tr>\n",
              "    <tr>\n",
              "      <th>41736</th>\n",
              "      <td>0.211733</td>\n",
              "      <td>-0.225089</td>\n",
              "      <td>0.286027</td>\n",
              "      <td>0.153425</td>\n",
              "      <td>-0.273194</td>\n",
              "      <td>-0.084864</td>\n",
              "      <td>-0.074416</td>\n",
              "      <td>0.207778</td>\n",
              "      <td>-0.262962</td>\n",
              "      <td>-0.066674</td>\n",
              "      <td>...</td>\n",
              "      <td>0.42803</td>\n",
              "      <td>'#lookingforward', '#theatreland', '#performin...</td>\n",
              "      <td>6</td>\n",
              "      <td>'@evening', '@tiktok', '@nationalyouththeatre'...</td>\n",
              "      <td>4</td>\n",
              "      <td>[]</td>\n",
              "      <td>NaN</td>\n",
              "      <td>0</td>\n",
              "      <td>878</td>\n",
              "      <td>153640.333333</td>\n",
              "    </tr>\n",
              "    <tr>\n",
              "      <th>41737</th>\n",
              "      <td>0.069767</td>\n",
              "      <td>-0.362688</td>\n",
              "      <td>0.309612</td>\n",
              "      <td>0.190129</td>\n",
              "      <td>-0.330334</td>\n",
              "      <td>-0.16555</td>\n",
              "      <td>-0.09481</td>\n",
              "      <td>0.057453</td>\n",
              "      <td>-0.228239</td>\n",
              "      <td>0.003612</td>\n",
              "      <td>...</td>\n",
              "      <td>0.491667</td>\n",
              "      <td>'#lookingforward', '#travelinspiration', '#lov...</td>\n",
              "      <td>7</td>\n",
              "      <td>'@youmustgoblog'</td>\n",
              "      <td>1</td>\n",
              "      <td>['🍾']</td>\n",
              "      <td>'bottle with popping cork'</td>\n",
              "      <td>1</td>\n",
              "      <td>532</td>\n",
              "      <td>81714.428571</td>\n",
              "    </tr>\n",
              "    <tr>\n",
              "      <th>41738</th>\n",
              "      <td>0.186997</td>\n",
              "      <td>-0.170459</td>\n",
              "      <td>0.18412</td>\n",
              "      <td>0.227502</td>\n",
              "      <td>-0.261476</td>\n",
              "      <td>-0.184079</td>\n",
              "      <td>-0.11777</td>\n",
              "      <td>-0.018333</td>\n",
              "      <td>-0.212092</td>\n",
              "      <td>-0.081439</td>\n",
              "      <td>...</td>\n",
              "      <td>0.260417</td>\n",
              "      <td>'#lookingforward', '#londonviews', '#prettycit...</td>\n",
              "      <td>8</td>\n",
              "      <td>'@damienhewetson'</td>\n",
              "      <td>1</td>\n",
              "      <td>[]</td>\n",
              "      <td>NaN</td>\n",
              "      <td>0</td>\n",
              "      <td>479</td>\n",
              "      <td>102699.125</td>\n",
              "    </tr>\n",
              "    <tr>\n",
              "      <th>41739</th>\n",
              "      <td>0.200712</td>\n",
              "      <td>-0.24266</td>\n",
              "      <td>0.190399</td>\n",
              "      <td>0.251344</td>\n",
              "      <td>-0.353561</td>\n",
              "      <td>-0.127118</td>\n",
              "      <td>-0.09295</td>\n",
              "      <td>0.124974</td>\n",
              "      <td>-0.222119</td>\n",
              "      <td>-0.072881</td>\n",
              "      <td>...</td>\n",
              "      <td>0.445833</td>\n",
              "      <td>'#lookingforward', '#travelinspo', '#datenight...</td>\n",
              "      <td>7</td>\n",
              "      <td>NaN</td>\n",
              "      <td>0</td>\n",
              "      <td>[]</td>\n",
              "      <td>NaN</td>\n",
              "      <td>0</td>\n",
              "      <td>643</td>\n",
              "      <td>70165.571429</td>\n",
              "    </tr>\n",
              "    <tr>\n",
              "      <th>41740</th>\n",
              "      <td>0.269615</td>\n",
              "      <td>-0.083962</td>\n",
              "      <td>0.140156</td>\n",
              "      <td>0.131152</td>\n",
              "      <td>-0.266712</td>\n",
              "      <td>-0.218946</td>\n",
              "      <td>-0.083948</td>\n",
              "      <td>0.06779</td>\n",
              "      <td>-0.204546</td>\n",
              "      <td>-0.161774</td>\n",
              "      <td>...</td>\n",
              "      <td>0.097531</td>\n",
              "      <td>'#christmas', '#christmasdecorations', '#festi...</td>\n",
              "      <td>6</td>\n",
              "      <td>NaN</td>\n",
              "      <td>0</td>\n",
              "      <td>[]</td>\n",
              "      <td>NaN</td>\n",
              "      <td>0</td>\n",
              "      <td>400</td>\n",
              "      <td>45544.333333</td>\n",
              "    </tr>\n",
              "  </tbody>\n",
              "</table>\n",
              "<p>41741 rows × 428 columns</p>\n",
              "</div>\n",
              "      <button class=\"colab-df-convert\" onclick=\"convertToInteractive('df-d5bf9d9e-3665-4c6f-ac82-5cb62d8e4c9a')\"\n",
              "              title=\"Convert this dataframe to an interactive table.\"\n",
              "              style=\"display:none;\">\n",
              "        \n",
              "  <svg xmlns=\"http://www.w3.org/2000/svg\" height=\"24px\"viewBox=\"0 0 24 24\"\n",
              "       width=\"24px\">\n",
              "    <path d=\"M0 0h24v24H0V0z\" fill=\"none\"/>\n",
              "    <path d=\"M18.56 5.44l.94 2.06.94-2.06 2.06-.94-2.06-.94-.94-2.06-.94 2.06-2.06.94zm-11 1L8.5 8.5l.94-2.06 2.06-.94-2.06-.94L8.5 2.5l-.94 2.06-2.06.94zm10 10l.94 2.06.94-2.06 2.06-.94-2.06-.94-.94-2.06-.94 2.06-2.06.94z\"/><path d=\"M17.41 7.96l-1.37-1.37c-.4-.4-.92-.59-1.43-.59-.52 0-1.04.2-1.43.59L10.3 9.45l-7.72 7.72c-.78.78-.78 2.05 0 2.83L4 21.41c.39.39.9.59 1.41.59.51 0 1.02-.2 1.41-.59l7.78-7.78 2.81-2.81c.8-.78.8-2.07 0-2.86zM5.41 20L4 18.59l7.72-7.72 1.47 1.35L5.41 20z\"/>\n",
              "  </svg>\n",
              "      </button>\n",
              "      \n",
              "  <style>\n",
              "    .colab-df-container {\n",
              "      display:flex;\n",
              "      flex-wrap:wrap;\n",
              "      gap: 12px;\n",
              "    }\n",
              "\n",
              "    .colab-df-convert {\n",
              "      background-color: #E8F0FE;\n",
              "      border: none;\n",
              "      border-radius: 50%;\n",
              "      cursor: pointer;\n",
              "      display: none;\n",
              "      fill: #1967D2;\n",
              "      height: 32px;\n",
              "      padding: 0 0 0 0;\n",
              "      width: 32px;\n",
              "    }\n",
              "\n",
              "    .colab-df-convert:hover {\n",
              "      background-color: #E2EBFA;\n",
              "      box-shadow: 0px 1px 2px rgba(60, 64, 67, 0.3), 0px 1px 3px 1px rgba(60, 64, 67, 0.15);\n",
              "      fill: #174EA6;\n",
              "    }\n",
              "\n",
              "    [theme=dark] .colab-df-convert {\n",
              "      background-color: #3B4455;\n",
              "      fill: #D2E3FC;\n",
              "    }\n",
              "\n",
              "    [theme=dark] .colab-df-convert:hover {\n",
              "      background-color: #434B5C;\n",
              "      box-shadow: 0px 1px 3px 1px rgba(0, 0, 0, 0.15);\n",
              "      filter: drop-shadow(0px 1px 2px rgba(0, 0, 0, 0.3));\n",
              "      fill: #FFFFFF;\n",
              "    }\n",
              "  </style>\n",
              "\n",
              "      <script>\n",
              "        const buttonEl =\n",
              "          document.querySelector('#df-d5bf9d9e-3665-4c6f-ac82-5cb62d8e4c9a button.colab-df-convert');\n",
              "        buttonEl.style.display =\n",
              "          google.colab.kernel.accessAllowed ? 'block' : 'none';\n",
              "\n",
              "        async function convertToInteractive(key) {\n",
              "          const element = document.querySelector('#df-d5bf9d9e-3665-4c6f-ac82-5cb62d8e4c9a');\n",
              "          const dataTable =\n",
              "            await google.colab.kernel.invokeFunction('convertToInteractive',\n",
              "                                                     [key], {});\n",
              "          if (!dataTable) return;\n",
              "\n",
              "          const docLinkHtml = 'Like what you see? Visit the ' +\n",
              "            '<a target=\"_blank\" href=https://colab.research.google.com/notebooks/data_table.ipynb>data table notebook</a>'\n",
              "            + ' to learn more about interactive tables.';\n",
              "          element.innerHTML = '';\n",
              "          dataTable['output_type'] = 'display_data';\n",
              "          await google.colab.output.renderOutput(dataTable, element);\n",
              "          const docLink = document.createElement('div');\n",
              "          docLink.innerHTML = docLinkHtml;\n",
              "          element.appendChild(docLink);\n",
              "        }\n",
              "      </script>\n",
              "    </div>\n",
              "  </div>\n",
              "  "
            ]
          },
          "metadata": {},
          "execution_count": 15
        }
      ]
    },
    {
      "cell_type": "code",
      "source": [
        "print(len(w2v_Df.columns))\n",
        "a=len(w2v_Df.columns)-25+1\n",
        "print(a)\n",
        "w2v_Df[len(w2v_Df.columns)-28+1]\n",
        "w2v_Df.rename(columns = {a:'likes'}, inplace = True)\n",
        "df=utils.removeColumnContainString(w2v_Df)"
      ],
      "metadata": {
        "colab": {
          "base_uri": "https://localhost:8080/"
        },
        "id": "h1PL1kRtbLFN",
        "outputId": "4aba7ba8-8642-44c4-9c79-f5c72c49a2e5"
      },
      "execution_count": 16,
      "outputs": [
        {
          "output_type": "stream",
          "name": "stdout",
          "text": [
            "428\n",
            "404\n",
            "Couldn't covert 402 to float\n",
            "Couldn't covert 419 to float\n",
            "Couldn't covert 421 to float\n",
            "Couldn't covert 423 to float\n",
            "Couldn't covert 424 to float\n"
          ]
        }
      ]
    },
    {
      "cell_type": "code",
      "execution_count": 17,
      "metadata": {
        "colab": {
          "base_uri": "https://localhost:8080/"
        },
        "id": "s529lvhAYV1o",
        "outputId": "b50d7c45-27dc-4688-a9d7-a845e6bf501e"
      },
      "outputs": [
        {
          "output_type": "stream",
          "name": "stderr",
          "text": [
            "/usr/local/lib/python3.7/dist-packages/sklearn/utils/validation.py:1692: FutureWarning: Feature names only support names that are all strings. Got feature names with dtypes: ['int', 'str']. An error will be raised in 1.2.\n",
            "  FutureWarning,\n",
            "/usr/local/lib/python3.7/dist-packages/sklearn/utils/validation.py:1692: FutureWarning: Feature names only support names that are all strings. Got feature names with dtypes: ['int', 'str']. An error will be raised in 1.2.\n",
            "  FutureWarning,\n"
          ]
        }
      ],
      "source": [
        "df = pd.DataFrame(df)\n",
        "data=df.astype(str)\n",
        "\n",
        "normalizer = preprocessing.MinMaxScaler(feature_range=(0, 1))\n",
        "normalized_df = pd.DataFrame(normalizer.fit_transform(data),  columns = data.columns)"
      ]
    },
    {
      "cell_type": "code",
      "source": [
        "dropped = [106,108,109,111,112,113]\n",
        "normalized_df = normalized_df.drop(dropped,axis=1)\n",
        "normalized_df"
      ],
      "metadata": {
        "colab": {
          "base_uri": "https://localhost:8080/",
          "height": 488
        },
        "id": "AinRtHzbCmxA",
        "outputId": "f020e886-0377-43a1-dc9e-2380b4a3f7da"
      },
      "execution_count": 18,
      "outputs": [
        {
          "output_type": "execute_result",
          "data": {
            "text/plain": [
              "            0         1         2         3         4         5         6    \\\n",
              "0      0.554567  0.756947  0.587082  0.517741  0.584964  0.460888  0.490690   \n",
              "1      0.626342  0.742618  0.520016  0.511401  0.650069  0.508285  0.439767   \n",
              "2      0.511940  0.600270  0.504763  0.673334  0.693682  0.553717  0.633109   \n",
              "3      0.503453  0.661107  0.711248  0.798891  0.628273  0.493747  0.449270   \n",
              "4      0.632374  0.652449  0.649448  0.624365  0.553288  0.702763  0.458342   \n",
              "...         ...       ...       ...       ...       ...       ...       ...   \n",
              "41736  0.602757  0.740204  0.608499  0.533230  0.575661  0.546298  0.418404   \n",
              "41737  0.531538  0.694473  0.620336  0.550195  0.541209  0.499646  0.408489   \n",
              "41738  0.590348  0.758360  0.557355  0.567469  0.582726  0.488932  0.397326   \n",
              "41739  0.597228  0.734364  0.560507  0.578490  0.527204  0.521866  0.409393   \n",
              "41740  0.631793  0.787108  0.535291  0.522934  0.579569  0.468772  0.413770   \n",
              "\n",
              "            7         8         9    ...  414  415  416       417       418  \\\n",
              "0      0.629494  0.503794  0.467767  ...  0.0  0.0  0.0  0.632390  0.641288   \n",
              "1      0.600605  0.513869  0.438386  ...  0.0  0.0  0.0  0.405556  0.584028   \n",
              "2      0.456608  0.506490  0.474828  ...  0.0  1.0  0.0  0.000000  0.500000   \n",
              "3      0.564064  0.416325  0.407685  ...  0.0  0.0  0.0  0.333333  0.625000   \n",
              "4      0.541156  0.481411  0.522608  ...  0.0  0.0  0.0  0.333333  0.583333   \n",
              "...         ...       ...       ...  ...  ...  ...  ...       ...       ...   \n",
              "41736  0.664214  0.511665  0.498576  ...  1.0  0.0  0.0  0.506629  0.714015   \n",
              "41737  0.587498  0.526329  0.529005  ...  0.0  0.0  0.0  0.416667  0.745833   \n",
              "41738  0.548821  0.533149  0.492184  ...  0.0  0.0  0.0  0.510417  0.630208   \n",
              "41739  0.621956  0.528914  0.495889  ...  0.0  0.0  0.0  0.708333  0.722917   \n",
              "41740  0.592773  0.536336  0.457405  ...  0.0  0.0  0.0  0.401543  0.548765   \n",
              "\n",
              "            420       422       425       426       427  \n",
              "0      0.166667  0.000000  0.192308  0.390632  0.005571  \n",
              "1      0.187500  0.000000  0.038462  0.325148  0.008959  \n",
              "2      0.520833  0.000000  0.000000  0.192815  0.030561  \n",
              "3      0.583333  0.000000  0.000000  0.222374  0.029139  \n",
              "4      0.583333  0.057143  0.000000  0.240564  0.029139  \n",
              "...         ...       ...       ...       ...       ...  \n",
              "41736  0.125000  0.114286  0.000000  0.398818  0.265825  \n",
              "41737  0.145833  0.028571  0.019231  0.241473  0.141381  \n",
              "41738  0.166667  0.028571  0.000000  0.217372  0.177688  \n",
              "41739  0.145833  0.000000  0.000000  0.291951  0.121399  \n",
              "41740  0.125000  0.000000  0.000000  0.181446  0.078800  \n",
              "\n",
              "[41741 rows x 417 columns]"
            ],
            "text/html": [
              "\n",
              "  <div id=\"df-a71dc745-a10e-43b2-ae28-d2d690e18204\">\n",
              "    <div class=\"colab-df-container\">\n",
              "      <div>\n",
              "<style scoped>\n",
              "    .dataframe tbody tr th:only-of-type {\n",
              "        vertical-align: middle;\n",
              "    }\n",
              "\n",
              "    .dataframe tbody tr th {\n",
              "        vertical-align: top;\n",
              "    }\n",
              "\n",
              "    .dataframe thead th {\n",
              "        text-align: right;\n",
              "    }\n",
              "</style>\n",
              "<table border=\"1\" class=\"dataframe\">\n",
              "  <thead>\n",
              "    <tr style=\"text-align: right;\">\n",
              "      <th></th>\n",
              "      <th>0</th>\n",
              "      <th>1</th>\n",
              "      <th>2</th>\n",
              "      <th>3</th>\n",
              "      <th>4</th>\n",
              "      <th>5</th>\n",
              "      <th>6</th>\n",
              "      <th>7</th>\n",
              "      <th>8</th>\n",
              "      <th>9</th>\n",
              "      <th>...</th>\n",
              "      <th>414</th>\n",
              "      <th>415</th>\n",
              "      <th>416</th>\n",
              "      <th>417</th>\n",
              "      <th>418</th>\n",
              "      <th>420</th>\n",
              "      <th>422</th>\n",
              "      <th>425</th>\n",
              "      <th>426</th>\n",
              "      <th>427</th>\n",
              "    </tr>\n",
              "  </thead>\n",
              "  <tbody>\n",
              "    <tr>\n",
              "      <th>0</th>\n",
              "      <td>0.554567</td>\n",
              "      <td>0.756947</td>\n",
              "      <td>0.587082</td>\n",
              "      <td>0.517741</td>\n",
              "      <td>0.584964</td>\n",
              "      <td>0.460888</td>\n",
              "      <td>0.490690</td>\n",
              "      <td>0.629494</td>\n",
              "      <td>0.503794</td>\n",
              "      <td>0.467767</td>\n",
              "      <td>...</td>\n",
              "      <td>0.0</td>\n",
              "      <td>0.0</td>\n",
              "      <td>0.0</td>\n",
              "      <td>0.632390</td>\n",
              "      <td>0.641288</td>\n",
              "      <td>0.166667</td>\n",
              "      <td>0.000000</td>\n",
              "      <td>0.192308</td>\n",
              "      <td>0.390632</td>\n",
              "      <td>0.005571</td>\n",
              "    </tr>\n",
              "    <tr>\n",
              "      <th>1</th>\n",
              "      <td>0.626342</td>\n",
              "      <td>0.742618</td>\n",
              "      <td>0.520016</td>\n",
              "      <td>0.511401</td>\n",
              "      <td>0.650069</td>\n",
              "      <td>0.508285</td>\n",
              "      <td>0.439767</td>\n",
              "      <td>0.600605</td>\n",
              "      <td>0.513869</td>\n",
              "      <td>0.438386</td>\n",
              "      <td>...</td>\n",
              "      <td>0.0</td>\n",
              "      <td>0.0</td>\n",
              "      <td>0.0</td>\n",
              "      <td>0.405556</td>\n",
              "      <td>0.584028</td>\n",
              "      <td>0.187500</td>\n",
              "      <td>0.000000</td>\n",
              "      <td>0.038462</td>\n",
              "      <td>0.325148</td>\n",
              "      <td>0.008959</td>\n",
              "    </tr>\n",
              "    <tr>\n",
              "      <th>2</th>\n",
              "      <td>0.511940</td>\n",
              "      <td>0.600270</td>\n",
              "      <td>0.504763</td>\n",
              "      <td>0.673334</td>\n",
              "      <td>0.693682</td>\n",
              "      <td>0.553717</td>\n",
              "      <td>0.633109</td>\n",
              "      <td>0.456608</td>\n",
              "      <td>0.506490</td>\n",
              "      <td>0.474828</td>\n",
              "      <td>...</td>\n",
              "      <td>0.0</td>\n",
              "      <td>1.0</td>\n",
              "      <td>0.0</td>\n",
              "      <td>0.000000</td>\n",
              "      <td>0.500000</td>\n",
              "      <td>0.520833</td>\n",
              "      <td>0.000000</td>\n",
              "      <td>0.000000</td>\n",
              "      <td>0.192815</td>\n",
              "      <td>0.030561</td>\n",
              "    </tr>\n",
              "    <tr>\n",
              "      <th>3</th>\n",
              "      <td>0.503453</td>\n",
              "      <td>0.661107</td>\n",
              "      <td>0.711248</td>\n",
              "      <td>0.798891</td>\n",
              "      <td>0.628273</td>\n",
              "      <td>0.493747</td>\n",
              "      <td>0.449270</td>\n",
              "      <td>0.564064</td>\n",
              "      <td>0.416325</td>\n",
              "      <td>0.407685</td>\n",
              "      <td>...</td>\n",
              "      <td>0.0</td>\n",
              "      <td>0.0</td>\n",
              "      <td>0.0</td>\n",
              "      <td>0.333333</td>\n",
              "      <td>0.625000</td>\n",
              "      <td>0.583333</td>\n",
              "      <td>0.000000</td>\n",
              "      <td>0.000000</td>\n",
              "      <td>0.222374</td>\n",
              "      <td>0.029139</td>\n",
              "    </tr>\n",
              "    <tr>\n",
              "      <th>4</th>\n",
              "      <td>0.632374</td>\n",
              "      <td>0.652449</td>\n",
              "      <td>0.649448</td>\n",
              "      <td>0.624365</td>\n",
              "      <td>0.553288</td>\n",
              "      <td>0.702763</td>\n",
              "      <td>0.458342</td>\n",
              "      <td>0.541156</td>\n",
              "      <td>0.481411</td>\n",
              "      <td>0.522608</td>\n",
              "      <td>...</td>\n",
              "      <td>0.0</td>\n",
              "      <td>0.0</td>\n",
              "      <td>0.0</td>\n",
              "      <td>0.333333</td>\n",
              "      <td>0.583333</td>\n",
              "      <td>0.583333</td>\n",
              "      <td>0.057143</td>\n",
              "      <td>0.000000</td>\n",
              "      <td>0.240564</td>\n",
              "      <td>0.029139</td>\n",
              "    </tr>\n",
              "    <tr>\n",
              "      <th>...</th>\n",
              "      <td>...</td>\n",
              "      <td>...</td>\n",
              "      <td>...</td>\n",
              "      <td>...</td>\n",
              "      <td>...</td>\n",
              "      <td>...</td>\n",
              "      <td>...</td>\n",
              "      <td>...</td>\n",
              "      <td>...</td>\n",
              "      <td>...</td>\n",
              "      <td>...</td>\n",
              "      <td>...</td>\n",
              "      <td>...</td>\n",
              "      <td>...</td>\n",
              "      <td>...</td>\n",
              "      <td>...</td>\n",
              "      <td>...</td>\n",
              "      <td>...</td>\n",
              "      <td>...</td>\n",
              "      <td>...</td>\n",
              "      <td>...</td>\n",
              "    </tr>\n",
              "    <tr>\n",
              "      <th>41736</th>\n",
              "      <td>0.602757</td>\n",
              "      <td>0.740204</td>\n",
              "      <td>0.608499</td>\n",
              "      <td>0.533230</td>\n",
              "      <td>0.575661</td>\n",
              "      <td>0.546298</td>\n",
              "      <td>0.418404</td>\n",
              "      <td>0.664214</td>\n",
              "      <td>0.511665</td>\n",
              "      <td>0.498576</td>\n",
              "      <td>...</td>\n",
              "      <td>1.0</td>\n",
              "      <td>0.0</td>\n",
              "      <td>0.0</td>\n",
              "      <td>0.506629</td>\n",
              "      <td>0.714015</td>\n",
              "      <td>0.125000</td>\n",
              "      <td>0.114286</td>\n",
              "      <td>0.000000</td>\n",
              "      <td>0.398818</td>\n",
              "      <td>0.265825</td>\n",
              "    </tr>\n",
              "    <tr>\n",
              "      <th>41737</th>\n",
              "      <td>0.531538</td>\n",
              "      <td>0.694473</td>\n",
              "      <td>0.620336</td>\n",
              "      <td>0.550195</td>\n",
              "      <td>0.541209</td>\n",
              "      <td>0.499646</td>\n",
              "      <td>0.408489</td>\n",
              "      <td>0.587498</td>\n",
              "      <td>0.526329</td>\n",
              "      <td>0.529005</td>\n",
              "      <td>...</td>\n",
              "      <td>0.0</td>\n",
              "      <td>0.0</td>\n",
              "      <td>0.0</td>\n",
              "      <td>0.416667</td>\n",
              "      <td>0.745833</td>\n",
              "      <td>0.145833</td>\n",
              "      <td>0.028571</td>\n",
              "      <td>0.019231</td>\n",
              "      <td>0.241473</td>\n",
              "      <td>0.141381</td>\n",
              "    </tr>\n",
              "    <tr>\n",
              "      <th>41738</th>\n",
              "      <td>0.590348</td>\n",
              "      <td>0.758360</td>\n",
              "      <td>0.557355</td>\n",
              "      <td>0.567469</td>\n",
              "      <td>0.582726</td>\n",
              "      <td>0.488932</td>\n",
              "      <td>0.397326</td>\n",
              "      <td>0.548821</td>\n",
              "      <td>0.533149</td>\n",
              "      <td>0.492184</td>\n",
              "      <td>...</td>\n",
              "      <td>0.0</td>\n",
              "      <td>0.0</td>\n",
              "      <td>0.0</td>\n",
              "      <td>0.510417</td>\n",
              "      <td>0.630208</td>\n",
              "      <td>0.166667</td>\n",
              "      <td>0.028571</td>\n",
              "      <td>0.000000</td>\n",
              "      <td>0.217372</td>\n",
              "      <td>0.177688</td>\n",
              "    </tr>\n",
              "    <tr>\n",
              "      <th>41739</th>\n",
              "      <td>0.597228</td>\n",
              "      <td>0.734364</td>\n",
              "      <td>0.560507</td>\n",
              "      <td>0.578490</td>\n",
              "      <td>0.527204</td>\n",
              "      <td>0.521866</td>\n",
              "      <td>0.409393</td>\n",
              "      <td>0.621956</td>\n",
              "      <td>0.528914</td>\n",
              "      <td>0.495889</td>\n",
              "      <td>...</td>\n",
              "      <td>0.0</td>\n",
              "      <td>0.0</td>\n",
              "      <td>0.0</td>\n",
              "      <td>0.708333</td>\n",
              "      <td>0.722917</td>\n",
              "      <td>0.145833</td>\n",
              "      <td>0.000000</td>\n",
              "      <td>0.000000</td>\n",
              "      <td>0.291951</td>\n",
              "      <td>0.121399</td>\n",
              "    </tr>\n",
              "    <tr>\n",
              "      <th>41740</th>\n",
              "      <td>0.631793</td>\n",
              "      <td>0.787108</td>\n",
              "      <td>0.535291</td>\n",
              "      <td>0.522934</td>\n",
              "      <td>0.579569</td>\n",
              "      <td>0.468772</td>\n",
              "      <td>0.413770</td>\n",
              "      <td>0.592773</td>\n",
              "      <td>0.536336</td>\n",
              "      <td>0.457405</td>\n",
              "      <td>...</td>\n",
              "      <td>0.0</td>\n",
              "      <td>0.0</td>\n",
              "      <td>0.0</td>\n",
              "      <td>0.401543</td>\n",
              "      <td>0.548765</td>\n",
              "      <td>0.125000</td>\n",
              "      <td>0.000000</td>\n",
              "      <td>0.000000</td>\n",
              "      <td>0.181446</td>\n",
              "      <td>0.078800</td>\n",
              "    </tr>\n",
              "  </tbody>\n",
              "</table>\n",
              "<p>41741 rows × 417 columns</p>\n",
              "</div>\n",
              "      <button class=\"colab-df-convert\" onclick=\"convertToInteractive('df-a71dc745-a10e-43b2-ae28-d2d690e18204')\"\n",
              "              title=\"Convert this dataframe to an interactive table.\"\n",
              "              style=\"display:none;\">\n",
              "        \n",
              "  <svg xmlns=\"http://www.w3.org/2000/svg\" height=\"24px\"viewBox=\"0 0 24 24\"\n",
              "       width=\"24px\">\n",
              "    <path d=\"M0 0h24v24H0V0z\" fill=\"none\"/>\n",
              "    <path d=\"M18.56 5.44l.94 2.06.94-2.06 2.06-.94-2.06-.94-.94-2.06-.94 2.06-2.06.94zm-11 1L8.5 8.5l.94-2.06 2.06-.94-2.06-.94L8.5 2.5l-.94 2.06-2.06.94zm10 10l.94 2.06.94-2.06 2.06-.94-2.06-.94-.94-2.06-.94 2.06-2.06.94z\"/><path d=\"M17.41 7.96l-1.37-1.37c-.4-.4-.92-.59-1.43-.59-.52 0-1.04.2-1.43.59L10.3 9.45l-7.72 7.72c-.78.78-.78 2.05 0 2.83L4 21.41c.39.39.9.59 1.41.59.51 0 1.02-.2 1.41-.59l7.78-7.78 2.81-2.81c.8-.78.8-2.07 0-2.86zM5.41 20L4 18.59l7.72-7.72 1.47 1.35L5.41 20z\"/>\n",
              "  </svg>\n",
              "      </button>\n",
              "      \n",
              "  <style>\n",
              "    .colab-df-container {\n",
              "      display:flex;\n",
              "      flex-wrap:wrap;\n",
              "      gap: 12px;\n",
              "    }\n",
              "\n",
              "    .colab-df-convert {\n",
              "      background-color: #E8F0FE;\n",
              "      border: none;\n",
              "      border-radius: 50%;\n",
              "      cursor: pointer;\n",
              "      display: none;\n",
              "      fill: #1967D2;\n",
              "      height: 32px;\n",
              "      padding: 0 0 0 0;\n",
              "      width: 32px;\n",
              "    }\n",
              "\n",
              "    .colab-df-convert:hover {\n",
              "      background-color: #E2EBFA;\n",
              "      box-shadow: 0px 1px 2px rgba(60, 64, 67, 0.3), 0px 1px 3px 1px rgba(60, 64, 67, 0.15);\n",
              "      fill: #174EA6;\n",
              "    }\n",
              "\n",
              "    [theme=dark] .colab-df-convert {\n",
              "      background-color: #3B4455;\n",
              "      fill: #D2E3FC;\n",
              "    }\n",
              "\n",
              "    [theme=dark] .colab-df-convert:hover {\n",
              "      background-color: #434B5C;\n",
              "      box-shadow: 0px 1px 3px 1px rgba(0, 0, 0, 0.15);\n",
              "      filter: drop-shadow(0px 1px 2px rgba(0, 0, 0, 0.3));\n",
              "      fill: #FFFFFF;\n",
              "    }\n",
              "  </style>\n",
              "\n",
              "      <script>\n",
              "        const buttonEl =\n",
              "          document.querySelector('#df-a71dc745-a10e-43b2-ae28-d2d690e18204 button.colab-df-convert');\n",
              "        buttonEl.style.display =\n",
              "          google.colab.kernel.accessAllowed ? 'block' : 'none';\n",
              "\n",
              "        async function convertToInteractive(key) {\n",
              "          const element = document.querySelector('#df-a71dc745-a10e-43b2-ae28-d2d690e18204');\n",
              "          const dataTable =\n",
              "            await google.colab.kernel.invokeFunction('convertToInteractive',\n",
              "                                                     [key], {});\n",
              "          if (!dataTable) return;\n",
              "\n",
              "          const docLinkHtml = 'Like what you see? Visit the ' +\n",
              "            '<a target=\"_blank\" href=https://colab.research.google.com/notebooks/data_table.ipynb>data table notebook</a>'\n",
              "            + ' to learn more about interactive tables.';\n",
              "          element.innerHTML = '';\n",
              "          dataTable['output_type'] = 'display_data';\n",
              "          await google.colab.output.renderOutput(dataTable, element);\n",
              "          const docLink = document.createElement('div');\n",
              "          docLink.innerHTML = docLinkHtml;\n",
              "          element.appendChild(docLink);\n",
              "        }\n",
              "      </script>\n",
              "    </div>\n",
              "  </div>\n",
              "  "
            ]
          },
          "metadata": {},
          "execution_count": 18
        }
      ]
    },
    {
      "cell_type": "code",
      "execution_count": 19,
      "metadata": {
        "id": "Vy3XJRGVYV1q"
      },
      "outputs": [],
      "source": [
        "y=normalized_df['likes']                #Target Variable \n",
        "X = normalized_df.drop('likes', axis=1) #Feature Matrix "
      ]
    },
    {
      "cell_type": "code",
      "execution_count": 20,
      "metadata": {
        "id": "094xX1K1YV1s"
      },
      "outputs": [],
      "source": [
        "x_train_w2v_df, x_test_w2v_df, y_train_w2v_df, y_test_w2v_df = train_test_split(X, y, test_size=0.2)"
      ]
    },
    {
      "cell_type": "code",
      "source": [
        "x_train_w2v_df.shape ,y_train_w2v_df.shape"
      ],
      "metadata": {
        "colab": {
          "base_uri": "https://localhost:8080/"
        },
        "id": "MzngXcZLDkR8",
        "outputId": "dfce3578-3fa8-46a6-f918-8f42fc2ea484"
      },
      "execution_count": 21,
      "outputs": [
        {
          "output_type": "execute_result",
          "data": {
            "text/plain": [
              "((33392, 416), (33392,))"
            ]
          },
          "metadata": {},
          "execution_count": 21
        }
      ]
    },
    {
      "cell_type": "markdown",
      "source": [
        "## XGboost Model"
      ],
      "metadata": {
        "id": "mt49vWI6DBK3"
      }
    },
    {
      "cell_type": "code",
      "execution_count": 22,
      "metadata": {
        "id": "Bb4dOVExYV1t"
      },
      "outputs": [],
      "source": [
        "# utils.hyperparameterTuning_XGBoost(x_train_w2v_df,y_train_w2v_df)\n",
        "xg_reg = xgb.XGBRegressor(objective ='reg:squarederror', colsample_bytree = 0.7, learning_rate = 0.03,max_depth = 5, min_child_weight=4,nthread = 4, n_estimators = 500,subsample=0.7)\n",
        "xg_reg.fit(x_train_w2v_df, y_train_w2v_df)\n",
        "y_pred_W2vec_xgboost = xg_reg.predict(x_test_w2v_df)"
      ]
    },
    {
      "cell_type": "code",
      "source": [
        "utils.plot_feature_importance(xg_reg.feature_importances_,x_train_w2v_df.columns,'XG BOOST')"
      ],
      "metadata": {
        "colab": {
          "base_uri": "https://localhost:8080/",
          "height": 1000
        },
        "id": "fN650_doBCR0",
        "outputId": "94141bf1-d966-491c-f840-7faad3d492a1"
      },
      "execution_count": 24,
      "outputs": [
        {
          "output_type": "display_data",
          "data": {
            "text/plain": [
              "<Figure size 1440x1440 with 1 Axes>"
            ],
            "image/png": "[encoded data removed]"
          },
          "metadata": {
            "needs_background": "light"
          }
        }
      ]
    },
    {
      "cell_type": "code",
      "execution_count": 25,
      "metadata": {
        "colab": {
          "base_uri": "https://localhost:8080/"
        },
        "id": "Db-_ERFRYV1v",
        "outputId": "0dde36a0-d5c0-4fdb-d54f-12904ab6ea2d"
      },
      "outputs": [
        {
          "output_type": "stream",
          "name": "stdout",
          "text": [
            "Feature: 0, Score: 0.00323\n",
            "Feature: 1, Score: 0.00164\n",
            "Feature: 2, Score: 0.00099\n",
            "Feature: 3, Score: 0.00507\n",
            "Feature: 4, Score: 0.00193\n",
            "Feature: 5, Score: 0.00158\n",
            "Feature: 6, Score: 0.00259\n",
            "Feature: 7, Score: 0.00215\n",
            "Feature: 8, Score: 0.00266\n",
            "Feature: 9, Score: 0.00252\n",
            "Feature: 10, Score: 0.00333\n",
            "Feature: 11, Score: 0.00291\n",
            "Feature: 12, Score: 0.00314\n",
            "Feature: 13, Score: 0.00239\n",
            "Feature: 14, Score: 0.00365\n",
            "Feature: 15, Score: 0.00147\n",
            "Feature: 16, Score: 0.00173\n",
            "Feature: 17, Score: 0.00149\n",
            "Feature: 18, Score: 0.00078\n",
            "Feature: 19, Score: 0.00169\n",
            "Feature: 20, Score: 0.00135\n",
            "Feature: 21, Score: 0.00095\n",
            "Feature: 22, Score: 0.00141\n",
            "Feature: 23, Score: 0.00264\n",
            "Feature: 24, Score: 0.00228\n",
            "Feature: 25, Score: 0.00160\n",
            "Feature: 26, Score: 0.00225\n",
            "Feature: 27, Score: 0.00190\n",
            "Feature: 28, Score: 0.00195\n",
            "Feature: 29, Score: 0.00208\n",
            "Feature: 30, Score: 0.00289\n",
            "Feature: 31, Score: 0.00187\n",
            "Feature: 32, Score: 0.00202\n",
            "Feature: 33, Score: 0.00123\n",
            "Feature: 34, Score: 0.00248\n",
            "Feature: 35, Score: 0.00425\n",
            "Feature: 36, Score: 0.00210\n",
            "Feature: 37, Score: 0.00369\n",
            "Feature: 38, Score: 0.00138\n",
            "Feature: 39, Score: 0.00359\n",
            "Feature: 40, Score: 0.00226\n",
            "Feature: 41, Score: 0.00108\n",
            "Feature: 42, Score: 0.00102\n",
            "Feature: 43, Score: 0.00214\n",
            "Feature: 44, Score: 0.00164\n",
            "Feature: 45, Score: 0.00197\n",
            "Feature: 46, Score: 0.00257\n",
            "Feature: 47, Score: 0.00051\n",
            "Feature: 48, Score: 0.00286\n",
            "Feature: 49, Score: 0.00144\n",
            "Feature: 50, Score: 0.00107\n",
            "Feature: 51, Score: 0.00119\n",
            "Feature: 52, Score: 0.00273\n",
            "Feature: 53, Score: 0.00320\n",
            "Feature: 54, Score: 0.00282\n",
            "Feature: 55, Score: 0.00295\n",
            "Feature: 56, Score: 0.00360\n",
            "Feature: 57, Score: 0.00114\n",
            "Feature: 58, Score: 0.00297\n",
            "Feature: 59, Score: 0.00232\n",
            "Feature: 60, Score: 0.00234\n",
            "Feature: 61, Score: 0.00190\n",
            "Feature: 62, Score: 0.00153\n",
            "Feature: 63, Score: 0.00281\n",
            "Feature: 64, Score: 0.00108\n",
            "Feature: 65, Score: 0.00151\n",
            "Feature: 66, Score: 0.00176\n",
            "Feature: 67, Score: 0.00089\n",
            "Feature: 68, Score: 0.00276\n",
            "Feature: 69, Score: 0.00345\n",
            "Feature: 70, Score: 0.00094\n",
            "Feature: 71, Score: 0.00137\n",
            "Feature: 72, Score: 0.00191\n",
            "Feature: 73, Score: 0.00130\n",
            "Feature: 74, Score: 0.00104\n",
            "Feature: 75, Score: 0.00428\n",
            "Feature: 76, Score: 0.00050\n",
            "Feature: 77, Score: 0.00326\n",
            "Feature: 78, Score: 0.00338\n",
            "Feature: 79, Score: 0.00209\n",
            "Feature: 80, Score: 0.00164\n",
            "Feature: 81, Score: 0.00413\n",
            "Feature: 82, Score: 0.00557\n",
            "Feature: 83, Score: 0.00196\n",
            "Feature: 84, Score: 0.00187\n",
            "Feature: 85, Score: 0.00148\n",
            "Feature: 86, Score: 0.00211\n",
            "Feature: 87, Score: 0.00103\n",
            "Feature: 88, Score: 0.00323\n",
            "Feature: 89, Score: 0.00338\n",
            "Feature: 90, Score: 0.00066\n",
            "Feature: 91, Score: 0.00244\n",
            "Feature: 92, Score: 0.00164\n",
            "Feature: 93, Score: 0.00079\n",
            "Feature: 94, Score: 0.00144\n",
            "Feature: 95, Score: 0.00159\n",
            "Feature: 96, Score: 0.00356\n",
            "Feature: 97, Score: 0.00294\n",
            "Feature: 98, Score: 0.00148\n",
            "Feature: 99, Score: 0.00215\n",
            "Feature: 100, Score: 0.00192\n",
            "Feature: 101, Score: 0.00256\n",
            "Feature: 102, Score: 0.00388\n",
            "Feature: 103, Score: 0.00024\n",
            "Feature: 104, Score: 0.00072\n",
            "Feature: 105, Score: 0.00260\n",
            "Feature: 106, Score: 0.00006\n",
            "Feature: 107, Score: 0.00130\n",
            "Feature: 108, Score: 0.00378\n",
            "Feature: 109, Score: 0.00275\n",
            "Feature: 110, Score: 0.00141\n",
            "Feature: 111, Score: 0.00241\n",
            "Feature: 112, Score: 0.00260\n",
            "Feature: 113, Score: 0.00181\n",
            "Feature: 114, Score: 0.00418\n",
            "Feature: 115, Score: 0.00139\n",
            "Feature: 116, Score: 0.00249\n",
            "Feature: 117, Score: 0.00946\n",
            "Feature: 118, Score: 0.00283\n",
            "Feature: 119, Score: 0.00241\n",
            "Feature: 120, Score: 0.00804\n",
            "Feature: 121, Score: 0.00229\n",
            "Feature: 122, Score: 0.00120\n",
            "Feature: 123, Score: 0.00366\n",
            "Feature: 124, Score: 0.00031\n",
            "Feature: 125, Score: 0.00185\n",
            "Feature: 126, Score: 0.00248\n",
            "Feature: 127, Score: 0.00476\n",
            "Feature: 128, Score: 0.00106\n",
            "Feature: 129, Score: 0.00218\n",
            "Feature: 130, Score: 0.01119\n",
            "Feature: 131, Score: 0.00092\n",
            "Feature: 132, Score: 0.00293\n",
            "Feature: 133, Score: 0.00176\n",
            "Feature: 134, Score: 0.00315\n",
            "Feature: 135, Score: 0.00096\n",
            "Feature: 136, Score: 0.00244\n",
            "Feature: 137, Score: 0.00459\n",
            "Feature: 138, Score: 0.00047\n",
            "Feature: 139, Score: 0.00136\n",
            "Feature: 140, Score: 0.00738\n",
            "Feature: 141, Score: 0.00168\n",
            "Feature: 142, Score: 0.00356\n",
            "Feature: 143, Score: 0.00247\n",
            "Feature: 144, Score: 0.00330\n",
            "Feature: 145, Score: 0.01533\n",
            "Feature: 146, Score: 0.00103\n",
            "Feature: 147, Score: 0.00482\n",
            "Feature: 148, Score: 0.00360\n",
            "Feature: 149, Score: 0.00137\n",
            "Feature: 150, Score: 0.00528\n",
            "Feature: 151, Score: 0.00066\n",
            "Feature: 152, Score: 0.00109\n",
            "Feature: 153, Score: 0.00113\n",
            "Feature: 154, Score: 0.00240\n",
            "Feature: 155, Score: 0.00901\n",
            "Feature: 156, Score: 0.00353\n",
            "Feature: 157, Score: 0.00056\n",
            "Feature: 158, Score: 0.00396\n",
            "Feature: 159, Score: 0.00669\n",
            "Feature: 160, Score: 0.00637\n",
            "Feature: 161, Score: 0.00250\n",
            "Feature: 162, Score: 0.00368\n",
            "Feature: 163, Score: 0.00458\n",
            "Feature: 164, Score: 0.00127\n",
            "Feature: 165, Score: 0.00175\n",
            "Feature: 166, Score: 0.00312\n",
            "Feature: 167, Score: 0.00184\n",
            "Feature: 168, Score: 0.00043\n",
            "Feature: 169, Score: 0.00607\n",
            "Feature: 170, Score: 0.00468\n",
            "Feature: 171, Score: 0.00149\n",
            "Feature: 172, Score: 0.00367\n",
            "Feature: 173, Score: 0.00198\n",
            "Feature: 174, Score: 0.00189\n",
            "Feature: 175, Score: 0.00192\n",
            "Feature: 176, Score: 0.00816\n",
            "Feature: 177, Score: 0.00545\n",
            "Feature: 178, Score: 0.00099\n",
            "Feature: 179, Score: 0.00861\n",
            "Feature: 180, Score: 0.00240\n",
            "Feature: 181, Score: 0.00091\n",
            "Feature: 182, Score: 0.00279\n",
            "Feature: 183, Score: 0.00602\n",
            "Feature: 184, Score: 0.00206\n",
            "Feature: 185, Score: 0.00067\n",
            "Feature: 186, Score: 0.00239\n",
            "Feature: 187, Score: 0.00147\n",
            "Feature: 188, Score: 0.01418\n",
            "Feature: 189, Score: 0.00133\n",
            "Feature: 190, Score: 0.00443\n",
            "Feature: 191, Score: 0.00274\n",
            "Feature: 192, Score: 0.00384\n",
            "Feature: 193, Score: 0.00323\n",
            "Feature: 194, Score: 0.00410\n",
            "Feature: 195, Score: 0.00138\n",
            "Feature: 196, Score: 0.00308\n",
            "Feature: 197, Score: 0.00161\n",
            "Feature: 198, Score: 0.00387\n",
            "Feature: 199, Score: 0.00271\n",
            "Feature: 200, Score: 0.00173\n",
            "Feature: 201, Score: 0.00091\n",
            "Feature: 202, Score: 0.00210\n",
            "Feature: 203, Score: 0.00262\n",
            "Feature: 204, Score: 0.00232\n",
            "Feature: 205, Score: 0.00069\n",
            "Feature: 206, Score: 0.00174\n",
            "Feature: 207, Score: 0.00243\n",
            "Feature: 208, Score: 0.00048\n",
            "Feature: 209, Score: 0.00082\n",
            "Feature: 210, Score: 0.00057\n",
            "Feature: 211, Score: 0.00389\n",
            "Feature: 212, Score: 0.00101\n",
            "Feature: 213, Score: 0.00246\n",
            "Feature: 214, Score: 0.00214\n",
            "Feature: 215, Score: 0.00343\n",
            "Feature: 216, Score: 0.00317\n",
            "Feature: 217, Score: 0.00274\n",
            "Feature: 218, Score: 0.00230\n",
            "Feature: 219, Score: 0.00213\n",
            "Feature: 220, Score: 0.00111\n",
            "Feature: 221, Score: 0.00098\n",
            "Feature: 222, Score: 0.00150\n",
            "Feature: 223, Score: 0.01121\n",
            "Feature: 224, Score: 0.00252\n",
            "Feature: 225, Score: 0.00260\n",
            "Feature: 226, Score: 0.00206\n",
            "Feature: 227, Score: 0.00185\n",
            "Feature: 228, Score: 0.00252\n",
            "Feature: 229, Score: 0.00310\n",
            "Feature: 230, Score: 0.00947\n",
            "Feature: 231, Score: 0.00095\n",
            "Feature: 232, Score: 0.00160\n",
            "Feature: 233, Score: 0.00537\n",
            "Feature: 234, Score: 0.00070\n",
            "Feature: 235, Score: 0.00206\n",
            "Feature: 236, Score: 0.00309\n",
            "Feature: 237, Score: 0.00149\n",
            "Feature: 238, Score: 0.00443\n",
            "Feature: 239, Score: 0.00368\n",
            "Feature: 240, Score: 0.00114\n",
            "Feature: 241, Score: 0.00510\n",
            "Feature: 242, Score: 0.00307\n",
            "Feature: 243, Score: 0.00103\n",
            "Feature: 244, Score: 0.00163\n",
            "Feature: 245, Score: 0.00360\n",
            "Feature: 246, Score: 0.00244\n",
            "Feature: 247, Score: 0.00329\n",
            "Feature: 248, Score: 0.00047\n",
            "Feature: 249, Score: 0.00322\n",
            "Feature: 250, Score: 0.00189\n",
            "Feature: 251, Score: 0.00155\n",
            "Feature: 252, Score: 0.00122\n",
            "Feature: 253, Score: 0.00074\n",
            "Feature: 254, Score: 0.00065\n",
            "Feature: 255, Score: 0.00165\n",
            "Feature: 256, Score: 0.00123\n",
            "Feature: 257, Score: 0.00137\n",
            "Feature: 258, Score: 0.00111\n",
            "Feature: 259, Score: 0.00122\n",
            "Feature: 260, Score: 0.00123\n",
            "Feature: 261, Score: 0.00022\n",
            "Feature: 262, Score: 0.00162\n",
            "Feature: 263, Score: 0.00138\n",
            "Feature: 264, Score: 0.00054\n",
            "Feature: 265, Score: 0.00412\n",
            "Feature: 266, Score: 0.00150\n",
            "Feature: 267, Score: 0.00492\n",
            "Feature: 268, Score: 0.00351\n",
            "Feature: 269, Score: 0.00176\n",
            "Feature: 270, Score: 0.00281\n",
            "Feature: 271, Score: 0.00105\n",
            "Feature: 272, Score: 0.00103\n",
            "Feature: 273, Score: 0.00325\n",
            "Feature: 274, Score: 0.00257\n",
            "Feature: 275, Score: 0.00071\n",
            "Feature: 276, Score: 0.00248\n",
            "Feature: 277, Score: 0.00322\n",
            "Feature: 278, Score: 0.00164\n",
            "Feature: 279, Score: 0.00468\n",
            "Feature: 280, Score: 0.00085\n",
            "Feature: 281, Score: 0.00570\n",
            "Feature: 282, Score: 0.00129\n",
            "Feature: 283, Score: 0.00158\n",
            "Feature: 284, Score: 0.00581\n",
            "Feature: 285, Score: 0.00159\n",
            "Feature: 286, Score: 0.00107\n",
            "Feature: 287, Score: 0.00041\n",
            "Feature: 288, Score: 0.00149\n",
            "Feature: 289, Score: 0.00552\n",
            "Feature: 290, Score: 0.00049\n",
            "Feature: 291, Score: 0.00229\n",
            "Feature: 292, Score: 0.00082\n",
            "Feature: 293, Score: 0.00213\n",
            "Feature: 294, Score: 0.00132\n",
            "Feature: 295, Score: 0.00011\n",
            "Feature: 296, Score: 0.00221\n",
            "Feature: 297, Score: 0.00038\n",
            "Feature: 298, Score: 0.00079\n",
            "Feature: 299, Score: 0.00000\n",
            "Feature: 300, Score: 0.00194\n",
            "Feature: 301, Score: 0.00319\n",
            "Feature: 302, Score: 0.00069\n",
            "Feature: 303, Score: 0.00218\n",
            "Feature: 304, Score: 0.00158\n",
            "Feature: 305, Score: 0.00267\n",
            "Feature: 306, Score: 0.00074\n",
            "Feature: 307, Score: 0.00052\n",
            "Feature: 308, Score: 0.00205\n",
            "Feature: 309, Score: 0.00336\n",
            "Feature: 310, Score: 0.00221\n",
            "Feature: 311, Score: 0.00154\n",
            "Feature: 312, Score: 0.00050\n",
            "Feature: 313, Score: 0.00278\n",
            "Feature: 314, Score: 0.00289\n",
            "Feature: 315, Score: 0.00049\n",
            "Feature: 316, Score: 0.00167\n",
            "Feature: 317, Score: 0.00340\n",
            "Feature: 318, Score: 0.00162\n",
            "Feature: 319, Score: 0.00110\n",
            "Feature: 320, Score: 0.00091\n",
            "Feature: 321, Score: 0.00066\n",
            "Feature: 322, Score: 0.00257\n",
            "Feature: 323, Score: 0.00148\n",
            "Feature: 324, Score: 0.00120\n",
            "Feature: 325, Score: 0.00000\n",
            "Feature: 326, Score: 0.00105\n",
            "Feature: 327, Score: 0.00000\n",
            "Feature: 328, Score: 0.00168\n",
            "Feature: 329, Score: 0.00132\n",
            "Feature: 330, Score: 0.00028\n",
            "Feature: 331, Score: 0.00196\n",
            "Feature: 332, Score: 0.00000\n",
            "Feature: 333, Score: 0.00107\n",
            "Feature: 334, Score: 0.00059\n",
            "Feature: 335, Score: 0.00091\n",
            "Feature: 336, Score: 0.00156\n",
            "Feature: 337, Score: 0.00219\n",
            "Feature: 338, Score: 0.00056\n",
            "Feature: 339, Score: 0.00139\n",
            "Feature: 340, Score: 0.00445\n",
            "Feature: 341, Score: 0.00047\n",
            "Feature: 342, Score: 0.00802\n",
            "Feature: 343, Score: 0.00046\n",
            "Feature: 344, Score: 0.00033\n",
            "Feature: 345, Score: 0.00052\n",
            "Feature: 346, Score: 0.00101\n",
            "Feature: 347, Score: 0.00018\n",
            "Feature: 348, Score: 0.00256\n",
            "Feature: 349, Score: 0.00093\n",
            "Feature: 350, Score: 0.00112\n",
            "Feature: 351, Score: 0.00503\n",
            "Feature: 352, Score: 0.00392\n",
            "Feature: 353, Score: 0.00289\n",
            "Feature: 354, Score: 0.00101\n",
            "Feature: 355, Score: 0.00257\n",
            "Feature: 356, Score: 0.00154\n",
            "Feature: 357, Score: 0.00000\n",
            "Feature: 358, Score: 0.00000\n",
            "Feature: 359, Score: 0.00255\n",
            "Feature: 360, Score: 0.00195\n",
            "Feature: 361, Score: 0.00308\n",
            "Feature: 362, Score: 0.00099\n",
            "Feature: 363, Score: 0.00319\n",
            "Feature: 364, Score: 0.00050\n",
            "Feature: 365, Score: 0.00031\n",
            "Feature: 366, Score: 0.00459\n",
            "Feature: 367, Score: 0.00144\n",
            "Feature: 368, Score: 0.00289\n",
            "Feature: 369, Score: 0.00238\n",
            "Feature: 370, Score: 0.00165\n",
            "Feature: 371, Score: 0.00124\n",
            "Feature: 372, Score: 0.00223\n",
            "Feature: 373, Score: 0.00000\n",
            "Feature: 374, Score: 0.00371\n",
            "Feature: 375, Score: 0.00000\n",
            "Feature: 376, Score: 0.00162\n",
            "Feature: 377, Score: 0.00200\n",
            "Feature: 378, Score: 0.00156\n",
            "Feature: 379, Score: 0.00345\n",
            "Feature: 380, Score: 0.00068\n",
            "Feature: 381, Score: 0.00047\n",
            "Feature: 382, Score: 0.00442\n",
            "Feature: 383, Score: 0.00052\n",
            "Feature: 384, Score: 0.00117\n",
            "Feature: 385, Score: 0.00169\n",
            "Feature: 386, Score: 0.00136\n",
            "Feature: 387, Score: 0.00129\n",
            "Feature: 388, Score: 0.00329\n",
            "Feature: 389, Score: 0.00000\n",
            "Feature: 390, Score: 0.00087\n",
            "Feature: 391, Score: 0.00038\n",
            "Feature: 392, Score: 0.00594\n",
            "Feature: 393, Score: 0.00267\n",
            "Feature: 394, Score: 0.00585\n",
            "Feature: 395, Score: 0.00751\n",
            "Feature: 396, Score: 0.00119\n",
            "Feature: 397, Score: 0.00755\n",
            "Feature: 398, Score: 0.00844\n",
            "Feature: 399, Score: 0.00161\n",
            "Feature: 400, Score: 0.00357\n",
            "Feature: 401, Score: 0.00424\n",
            "Feature: 402, Score: 0.00270\n",
            "Feature: 403, Score: 0.01272\n",
            "Feature: 404, Score: 0.00000\n",
            "Feature: 405, Score: 0.00276\n",
            "Feature: 406, Score: 0.00263\n",
            "Feature: 407, Score: 0.00000\n",
            "Feature: 408, Score: 0.00073\n",
            "Feature: 409, Score: 0.00246\n",
            "Feature: 410, Score: 0.00438\n",
            "Feature: 411, Score: 0.00313\n",
            "Feature: 412, Score: 0.00045\n",
            "Feature: 413, Score: 0.00135\n",
            "Feature: 414, Score: 0.00242\n",
            "Feature: 415, Score: 0.00257\n"
          ]
        }
      ],
      "source": [
        "featureScore(xg_reg.feature_importances_)"
      ]
    },
    {
      "cell_type": "code",
      "source": [
        "dict_info = {'Model': [], 'RMSE': [], 'R2': [],'MAE': [], 'RMSLE': [],'max_error_':[]}\n",
        "\n",
        "rmse,R2,MAE,MSE,RMSLE,max_error_= metrics(y_test_w2v_df,y_pred_W2vec_xgboost)\n",
        "\n",
        "dict_info['Model'].append('XGboost')\n",
        "dict_info['RMSE'].append(rmse)\n",
        "dict_info['R2'].append(R2)\n",
        "dict_info['MAE'].append(MAE)\n",
        "dict_info['RMSLE'].append(RMSLE)\n",
        "dict_info['max_error_'].append(max_error_)"
      ],
      "metadata": {
        "id": "vQXtJJSAHxwb"
      },
      "execution_count": 26,
      "outputs": []
    },
    {
      "cell_type": "markdown",
      "source": [
        "## Random Forest"
      ],
      "metadata": {
        "id": "Id2atL0ODFFt"
      }
    },
    {
      "cell_type": "code",
      "execution_count": 27,
      "metadata": {
        "id": "fnRPNF-qYV1w"
      },
      "outputs": [],
      "source": [
        "# utils.hyperparameterTuning_RandomForest(x_train_w2v_df,y_train_w2v_df)\n",
        "rnd_clf = RandomForestRegressor(n_estimators=20, min_samples_split=10, min_samples_leaf=4,max_features='sqrt',max_depth=10,bootstrap=True)\n",
        "rnd_clf.fit(x_train_w2v_df, y_train_w2v_df)\n",
        "y_pred_w2vec_rnd = rnd_clf.predict(x_test_w2v_df)"
      ]
    },
    {
      "cell_type": "code",
      "source": [
        "utils.plot_feature_importance(rnd_clf.feature_importances_,x_train_w2v_df.columns,'RANDOM FOREST')"
      ],
      "metadata": {
        "colab": {
          "base_uri": "https://localhost:8080/",
          "height": 1000
        },
        "id": "w-MNHA10CLYI",
        "outputId": "66651a9e-4aed-4bef-8db3-12721e09c337"
      },
      "execution_count": 28,
      "outputs": [
        {
          "output_type": "display_data",
          "data": {
            "text/plain": [
              "<Figure size 1440x1440 with 1 Axes>"
            ],
            "image/png": "[encoded data removed]"
          },
          "metadata": {
            "needs_background": "light"
          }
        }
      ]
    },
    {
      "cell_type": "code",
      "execution_count": 29,
      "metadata": {
        "id": "SclZyA0oYV1y"
      },
      "outputs": [],
      "source": [
        "rmse,R2,MAE,MSE,RMSLE,max_error_= metrics(y_test_w2v_df,y_pred_w2vec_rnd)\n",
        "\n",
        "dict_info['Model'].append('Random Forest')\n",
        "dict_info['RMSE'].append(rmse)\n",
        "dict_info['R2'].append(R2)\n",
        "dict_info['MAE'].append(MAE)\n",
        "dict_info['RMSLE'].append(RMSLE)\n",
        "dict_info['max_error_'].append(max_error_)"
      ]
    },
    {
      "cell_type": "markdown",
      "source": [
        "## MLP"
      ],
      "metadata": {
        "id": "PoVguWe_DHVb"
      }
    },
    {
      "cell_type": "code",
      "source": [
        "from sklearn.neural_network import MLPRegressor\n",
        "mlp_GS = MLPRegressor(activation='relu',alpha=0.001,hidden_layer_sizes=(50, 50, 50),learning_rate='constant',solver='adam')\n",
        "mlp_GS.fit(x_train_w2v_df, y_train_w2v_df)\n",
        "y_pred_w2vec_mlp = mlp_GS.predict(x_test_w2v_df)"
      ],
      "metadata": {
        "id": "vf9HksRgDIxb"
      },
      "execution_count": 30,
      "outputs": []
    },
    {
      "cell_type": "code",
      "source": [
        "# utils.metrics(y_test_w2v_df,y_pred_mlp)"
      ],
      "metadata": {
        "colab": {
          "base_uri": "https://localhost:8080/"
        },
        "id": "PwrAtKTRDS8r",
        "outputId": "b21e72be-4918-4f2c-9472-49be53196903"
      },
      "execution_count": 31,
      "outputs": [
        {
          "output_type": "execute_result",
          "data": {
            "text/plain": [
              "(0.035355352862510486,\n",
              " 0.33030179675232574,\n",
              " 0.015293884787792693,\n",
              " 0.0012500009760326287,\n",
              " -3.3423054734210647,\n",
              " 0.610817120642467)"
            ]
          },
          "metadata": {},
          "execution_count": 31
        }
      ]
    },
    {
      "cell_type": "code",
      "source": [
        "rmse,R2,MAE,MSE,RMSLE,max_error_= metrics(y_test_w2v_df,y_pred_w2vec_mlp)\n",
        "\n",
        "dict_info['Model'].append('MLP')\n",
        "dict_info['RMSE'].append(rmse)\n",
        "dict_info['R2'].append(R2)\n",
        "dict_info['MAE'].append(MAE)\n",
        "dict_info['RMSLE'].append(RMSLE)\n",
        "dict_info['max_error_'].append(max_error_)"
      ],
      "metadata": {
        "id": "k-NydUUQIC8q"
      },
      "execution_count": 32,
      "outputs": []
    },
    {
      "cell_type": "markdown",
      "source": [
        "## SVC"
      ],
      "metadata": {
        "id": "7biV3moUEVxo"
      }
    },
    {
      "cell_type": "code",
      "source": [
        "from sklearn.svm import LinearSVR\n",
        "svr= LinearSVR(C=1.0, dual=True, epsilon=1.5, fit_intercept=True,intercept_scaling=1.0, loss='epsilon_insensitive', max_iter=1000,tol=0.0001, verbose=0)\n",
        "svr.fit(x_train_w2v_df, y_train_w2v_df)\n",
        "y_pred_w2vec_SVR = svr.predict(x_test_w2v_df)"
      ],
      "metadata": {
        "id": "jqfS76ZnEW73"
      },
      "execution_count": 33,
      "outputs": []
    },
    {
      "cell_type": "code",
      "source": [
        "# utils.metrics(y_test_w2v_df,y_pred_SVR)"
      ],
      "metadata": {
        "id": "SsJKopkwEZmZ"
      },
      "execution_count": null,
      "outputs": []
    },
    {
      "cell_type": "code",
      "source": [
        "rmse,R2,MAE,MSE,RMSLE,max_error_= metrics(y_test_w2v_df,y_pred_w2vec_SVR)\n",
        "\n",
        "dict_info['Model'].append('SVR')\n",
        "dict_info['RMSE'].append(rmse)\n",
        "dict_info['R2'].append(R2)\n",
        "dict_info['MAE'].append(MAE)\n",
        "dict_info['RMSLE'].append(RMSLE)\n",
        "dict_info['max_error_'].append(max_error_)"
      ],
      "metadata": {
        "id": "zZj5yp5EIN8h"
      },
      "execution_count": 34,
      "outputs": []
    },
    {
      "cell_type": "code",
      "source": [
        "dfData = pd.DataFrame(dict_info)\n",
        "dfData"
      ],
      "metadata": {
        "colab": {
          "base_uri": "https://localhost:8080/",
          "height": 175
        },
        "id": "sfxyyLzeI6GP",
        "outputId": "a3fea801-8b36-488e-bfca-8caeba5d9ea6"
      },
      "execution_count": 35,
      "outputs": [
        {
          "output_type": "execute_result",
          "data": {
            "text/plain": [
              "           Model      RMSE        R2       MAE     RMSLE  max_error_\n",
              "0        XGboost  0.029182  0.543754  0.009052 -3.534203    0.643448\n",
              "1  Random Forest  0.034657  0.356504  0.011940 -3.362261    0.643518\n",
              "2            MLP  0.035355  0.330302  0.015294 -3.342305    0.610817\n",
              "3            SVR  0.045590 -0.113524  0.014557 -3.088077    0.806034"
            ],
            "text/html": [
              "\n",
              "  <div id=\"df-c23f6a9e-41fc-49c6-b6ea-db65ace2e357\">\n",
              "    <div class=\"colab-df-container\">\n",
              "      <div>\n",
              "<style scoped>\n",
              "    .dataframe tbody tr th:only-of-type {\n",
              "        vertical-align: middle;\n",
              "    }\n",
              "\n",
              "    .dataframe tbody tr th {\n",
              "        vertical-align: top;\n",
              "    }\n",
              "\n",
              "    .dataframe thead th {\n",
              "        text-align: right;\n",
              "    }\n",
              "</style>\n",
              "<table border=\"1\" class=\"dataframe\">\n",
              "  <thead>\n",
              "    <tr style=\"text-align: right;\">\n",
              "      <th></th>\n",
              "      <th>Model</th>\n",
              "      <th>RMSE</th>\n",
              "      <th>R2</th>\n",
              "      <th>MAE</th>\n",
              "      <th>RMSLE</th>\n",
              "      <th>max_error_</th>\n",
              "    </tr>\n",
              "  </thead>\n",
              "  <tbody>\n",
              "    <tr>\n",
              "      <th>0</th>\n",
              "      <td>XGboost</td>\n",
              "      <td>0.029182</td>\n",
              "      <td>0.543754</td>\n",
              "      <td>0.009052</td>\n",
              "      <td>-3.534203</td>\n",
              "      <td>0.643448</td>\n",
              "    </tr>\n",
              "    <tr>\n",
              "      <th>1</th>\n",
              "      <td>Random Forest</td>\n",
              "      <td>0.034657</td>\n",
              "      <td>0.356504</td>\n",
              "      <td>0.011940</td>\n",
              "      <td>-3.362261</td>\n",
              "      <td>0.643518</td>\n",
              "    </tr>\n",
              "    <tr>\n",
              "      <th>2</th>\n",
              "      <td>MLP</td>\n",
              "      <td>0.035355</td>\n",
              "      <td>0.330302</td>\n",
              "      <td>0.015294</td>\n",
              "      <td>-3.342305</td>\n",
              "      <td>0.610817</td>\n",
              "    </tr>\n",
              "    <tr>\n",
              "      <th>3</th>\n",
              "      <td>SVR</td>\n",
              "      <td>0.045590</td>\n",
              "      <td>-0.113524</td>\n",
              "      <td>0.014557</td>\n",
              "      <td>-3.088077</td>\n",
              "      <td>0.806034</td>\n",
              "    </tr>\n",
              "  </tbody>\n",
              "</table>\n",
              "</div>\n",
              "      <button class=\"colab-df-convert\" onclick=\"convertToInteractive('df-c23f6a9e-41fc-49c6-b6ea-db65ace2e357')\"\n",
              "              title=\"Convert this dataframe to an interactive table.\"\n",
              "              style=\"display:none;\">\n",
              "        \n",
              "  <svg xmlns=\"http://www.w3.org/2000/svg\" height=\"24px\"viewBox=\"0 0 24 24\"\n",
              "       width=\"24px\">\n",
              "    <path d=\"M0 0h24v24H0V0z\" fill=\"none\"/>\n",
              "    <path d=\"M18.56 5.44l.94 2.06.94-2.06 2.06-.94-2.06-.94-.94-2.06-.94 2.06-2.06.94zm-11 1L8.5 8.5l.94-2.06 2.06-.94-2.06-.94L8.5 2.5l-.94 2.06-2.06.94zm10 10l.94 2.06.94-2.06 2.06-.94-2.06-.94-.94-2.06-.94 2.06-2.06.94z\"/><path d=\"M17.41 7.96l-1.37-1.37c-.4-.4-.92-.59-1.43-.59-.52 0-1.04.2-1.43.59L10.3 9.45l-7.72 7.72c-.78.78-.78 2.05 0 2.83L4 21.41c.39.39.9.59 1.41.59.51 0 1.02-.2 1.41-.59l7.78-7.78 2.81-2.81c.8-.78.8-2.07 0-2.86zM5.41 20L4 18.59l7.72-7.72 1.47 1.35L5.41 20z\"/>\n",
              "  </svg>\n",
              "      </button>\n",
              "      \n",
              "  <style>\n",
              "    .colab-df-container {\n",
              "      display:flex;\n",
              "      flex-wrap:wrap;\n",
              "      gap: 12px;\n",
              "    }\n",
              "\n",
              "    .colab-df-convert {\n",
              "      background-color: #E8F0FE;\n",
              "      border: none;\n",
              "      border-radius: 50%;\n",
              "      cursor: pointer;\n",
              "      display: none;\n",
              "      fill: #1967D2;\n",
              "      height: 32px;\n",
              "      padding: 0 0 0 0;\n",
              "      width: 32px;\n",
              "    }\n",
              "\n",
              "    .colab-df-convert:hover {\n",
              "      background-color: #E2EBFA;\n",
              "      box-shadow: 0px 1px 2px rgba(60, 64, 67, 0.3), 0px 1px 3px 1px rgba(60, 64, 67, 0.15);\n",
              "      fill: #174EA6;\n",
              "    }\n",
              "\n",
              "    [theme=dark] .colab-df-convert {\n",
              "      background-color: #3B4455;\n",
              "      fill: #D2E3FC;\n",
              "    }\n",
              "\n",
              "    [theme=dark] .colab-df-convert:hover {\n",
              "      background-color: #434B5C;\n",
              "      box-shadow: 0px 1px 3px 1px rgba(0, 0, 0, 0.15);\n",
              "      filter: drop-shadow(0px 1px 2px rgba(0, 0, 0, 0.3));\n",
              "      fill: #FFFFFF;\n",
              "    }\n",
              "  </style>\n",
              "\n",
              "      <script>\n",
              "        const buttonEl =\n",
              "          document.querySelector('#df-c23f6a9e-41fc-49c6-b6ea-db65ace2e357 button.colab-df-convert');\n",
              "        buttonEl.style.display =\n",
              "          google.colab.kernel.accessAllowed ? 'block' : 'none';\n",
              "\n",
              "        async function convertToInteractive(key) {\n",
              "          const element = document.querySelector('#df-c23f6a9e-41fc-49c6-b6ea-db65ace2e357');\n",
              "          const dataTable =\n",
              "            await google.colab.kernel.invokeFunction('convertToInteractive',\n",
              "                                                     [key], {});\n",
              "          if (!dataTable) return;\n",
              "\n",
              "          const docLinkHtml = 'Like what you see? Visit the ' +\n",
              "            '<a target=\"_blank\" href=https://colab.research.google.com/notebooks/data_table.ipynb>data table notebook</a>'\n",
              "            + ' to learn more about interactive tables.';\n",
              "          element.innerHTML = '';\n",
              "          dataTable['output_type'] = 'display_data';\n",
              "          await google.colab.output.renderOutput(dataTable, element);\n",
              "          const docLink = document.createElement('div');\n",
              "          docLink.innerHTML = docLinkHtml;\n",
              "          element.appendChild(docLink);\n",
              "        }\n",
              "      </script>\n",
              "    </div>\n",
              "  </div>\n",
              "  "
            ]
          },
          "metadata": {},
          "execution_count": 35
        }
      ]
    }
  ],
  "metadata": {
    "interpreter": {
      "hash": "886d5d2b530556012cff849b271299f0b84687e7f7ab1c5229f64e691d612960"
    },
    "kernelspec": {
      "display_name": "Python 3.8.13 ('newInsta')",
      "language": "python",
      "name": "python3"
    },
    "language_info": {
      "codemirror_mode": {
        "name": "ipython",
        "version": 3
      },
      "file_extension": ".py",
      "mimetype": "text/x-python",
      "name": "python",
      "nbconvert_exporter": "python",
      "pygments_lexer": "ipython3",
      "version": "3.8.13"
    },
    "orig_nbformat": 4,
    "colab": {
      "name": "Word2vec_skipgram.ipynb",
      "provenance": []
    }
  },
  "nbformat": 4,
  "nbformat_minor": 0
}