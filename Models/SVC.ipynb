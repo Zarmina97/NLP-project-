{
  "cells": [
    {
      "cell_type": "markdown",
      "source": [
        "##Modules"
      ],
      "metadata": {
        "id": "wWZYlUrdxTnJ"
      }
    },
    {
      "cell_type": "code",
      "execution_count": 1,
      "metadata": {
        "id": "Cbac0nnQoC08"
      },
      "outputs": [],
      "source": [
        "import pandas as pd\n",
        "import numpy as np\n",
        "import gensim\n",
        "from matplotlib import pyplot as plt\n",
        "from sklearn.decomposition import PCA\n",
        "from sklearn.manifold import TSNE\n",
        "%matplotlib inline\n",
        "import re  # For preprocessing\n",
        "import pandas as pd  # For data handling\n",
        "from time import time  # To time our operations\n",
        "from collections import defaultdict  # For word frequency\n",
        "import seaborn as sns\n",
        "import spacy  # For preprocessing\n",
        "import warnings\n",
        "warnings.filterwarnings('ignore')\n",
        "import logging  # Setting up the loggings to monitor gensim\n",
        "logging.basicConfig(format=\"%(levelname)s - %(asctime)s: %(message)s\", datefmt= '%H:%M:%S', level=logging.INFO)\n",
        "from sklearn.model_selection import train_test_split\n",
        "from sklearn.metrics import mean_squared_error\n",
        "from sklearn.metrics import r2_score\n",
        "\n",
        "from sklearn.svm import SVC\n",
        "from sklearn.metrics import classification_report, confusion_matrix\n",
        "from sklearn.model_selection import GridSearchCV\n"
      ]
    },
    {
      "cell_type": "code",
      "execution_count": 2,
      "metadata": {
        "id": "DwNeSafZoHSJ"
      },
      "outputs": [],
      "source": [
        "#tfid_df=pd.read_csv('.csv')\n",
        "#bow_df=pd.read_csv('.csv')\n",
        "w2v_df=pd.read_csv('w2v_df.csv')\n",
        "d2v_df=pd.read_csv('d2v_df.csv')\n"
      ]
    },
    {
      "cell_type": "markdown",
      "metadata": {
        "id": "7d67oh-RvhXy"
      },
      "source": [
        "#bow"
      ]
    },
    {
      "cell_type": "markdown",
      "metadata": {
        "id": "X2V3V7fOvjXV"
      },
      "source": [
        "#tfid"
      ]
    },
    {
      "cell_type": "markdown",
      "metadata": {
        "id": "L_8urJmsvkZM"
      },
      "source": [
        "#w2v"
      ]
    },
    {
      "cell_type": "code",
      "execution_count": 3,
      "metadata": {
        "id": "-Ie5G07_vpeY"
      },
      "outputs": [],
      "source": [
        "y = w2v_df['1003']          #Target Variable\n",
        "X = w2v_df.drop('1003',1)   #Feature Matrix\n",
        "X=pd.DataFrame(X)\n",
        "y=pd.DataFrame(y)\n",
        "for i in X.columns:\n",
        "  X[i]=pd.to_numeric(X[i])\n",
        "for i in y.columns:\n",
        "  y[i]=pd.to_numeric(y[i])\n",
        "\n",
        "\n",
        "x_train, x_test, y_train, y_test = train_test_split(X, y, test_size=0.2)"
      ]
    },
    {
      "cell_type": "code",
      "execution_count": 4,
      "metadata": {
        "colab": {
          "base_uri": "https://localhost:8080/"
        },
        "id": "dathaI9xv0g6",
        "outputId": "c5da842a-5b21-4e42-a5f9-1a460dba51fb"
      },
      "outputs": [
        {
          "output_type": "stream",
          "name": "stdout",
          "text": [
            "Fitting 5 folds for each of 25 candidates, totalling 125 fits\n",
            "[CV 1/5] END ........C=0.1, gamma=1, kernel=rbf;, score=0.006 total time=   1.6s\n",
            "[CV 2/5] END ........C=0.1, gamma=1, kernel=rbf;, score=0.006 total time=   1.7s\n",
            "[CV 3/5] END ........C=0.1, gamma=1, kernel=rbf;, score=0.006 total time=   1.8s\n",
            "[CV 4/5] END ........C=0.1, gamma=1, kernel=rbf;, score=0.006 total time=   1.7s\n",
            "[CV 5/5] END ........C=0.1, gamma=1, kernel=rbf;, score=0.006 total time=   1.5s\n",
            "[CV 1/5] END ......C=0.1, gamma=0.1, kernel=rbf;, score=0.006 total time=   1.7s\n",
            "[CV 2/5] END ......C=0.1, gamma=0.1, kernel=rbf;, score=0.006 total time=   2.1s\n",
            "[CV 3/5] END ......C=0.1, gamma=0.1, kernel=rbf;, score=0.006 total time=   2.3s\n",
            "[CV 4/5] END ......C=0.1, gamma=0.1, kernel=rbf;, score=0.006 total time=   1.7s\n",
            "[CV 5/5] END ......C=0.1, gamma=0.1, kernel=rbf;, score=0.006 total time=   1.9s\n",
            "[CV 1/5] END .....C=0.1, gamma=0.01, kernel=rbf;, score=0.006 total time=   1.9s\n",
            "[CV 2/5] END .....C=0.1, gamma=0.01, kernel=rbf;, score=0.006 total time=   2.0s\n",
            "[CV 3/5] END .....C=0.1, gamma=0.01, kernel=rbf;, score=0.006 total time=   1.6s\n",
            "[CV 4/5] END .....C=0.1, gamma=0.01, kernel=rbf;, score=0.006 total time=   0.8s\n",
            "[CV 5/5] END .....C=0.1, gamma=0.01, kernel=rbf;, score=0.006 total time=   0.8s\n",
            "[CV 1/5] END ....C=0.1, gamma=0.001, kernel=rbf;, score=0.006 total time=   0.8s\n",
            "[CV 2/5] END ....C=0.1, gamma=0.001, kernel=rbf;, score=0.006 total time=   0.8s\n",
            "[CV 3/5] END ....C=0.1, gamma=0.001, kernel=rbf;, score=0.006 total time=   0.8s\n",
            "[CV 4/5] END ....C=0.1, gamma=0.001, kernel=rbf;, score=0.006 total time=   0.8s\n",
            "[CV 5/5] END ....C=0.1, gamma=0.001, kernel=rbf;, score=0.006 total time=   0.8s\n",
            "[CV 1/5] END ...C=0.1, gamma=0.0001, kernel=rbf;, score=0.006 total time=   0.8s\n",
            "[CV 2/5] END ...C=0.1, gamma=0.0001, kernel=rbf;, score=0.006 total time=   0.8s\n",
            "[CV 3/5] END ...C=0.1, gamma=0.0001, kernel=rbf;, score=0.006 total time=   0.8s\n",
            "[CV 4/5] END ...C=0.1, gamma=0.0001, kernel=rbf;, score=0.006 total time=   0.8s\n",
            "[CV 5/5] END ...C=0.1, gamma=0.0001, kernel=rbf;, score=0.000 total time=   0.8s\n",
            "[CV 1/5] END ..........C=1, gamma=1, kernel=rbf;, score=0.006 total time=   0.8s\n",
            "[CV 2/5] END ..........C=1, gamma=1, kernel=rbf;, score=0.006 total time=   0.8s\n",
            "[CV 3/5] END ..........C=1, gamma=1, kernel=rbf;, score=0.006 total time=   0.8s\n",
            "[CV 4/5] END ..........C=1, gamma=1, kernel=rbf;, score=0.006 total time=   0.8s\n",
            "[CV 5/5] END ..........C=1, gamma=1, kernel=rbf;, score=0.006 total time=   0.8s\n",
            "[CV 1/5] END ........C=1, gamma=0.1, kernel=rbf;, score=0.006 total time=   0.8s\n",
            "[CV 2/5] END ........C=1, gamma=0.1, kernel=rbf;, score=0.006 total time=   0.8s\n",
            "[CV 3/5] END ........C=1, gamma=0.1, kernel=rbf;, score=0.006 total time=   0.8s\n",
            "[CV 4/5] END ........C=1, gamma=0.1, kernel=rbf;, score=0.006 total time=   0.8s\n",
            "[CV 5/5] END ........C=1, gamma=0.1, kernel=rbf;, score=0.006 total time=   0.8s\n",
            "[CV 1/5] END .......C=1, gamma=0.01, kernel=rbf;, score=0.006 total time=   0.8s\n",
            "[CV 2/5] END .......C=1, gamma=0.01, kernel=rbf;, score=0.013 total time=   0.8s\n",
            "[CV 3/5] END .......C=1, gamma=0.01, kernel=rbf;, score=0.006 total time=   0.8s\n",
            "[CV 4/5] END .......C=1, gamma=0.01, kernel=rbf;, score=0.006 total time=   0.8s\n",
            "[CV 5/5] END .......C=1, gamma=0.01, kernel=rbf;, score=0.006 total time=   0.8s\n",
            "[CV 1/5] END ......C=1, gamma=0.001, kernel=rbf;, score=0.013 total time=   0.8s\n",
            "[CV 2/5] END ......C=1, gamma=0.001, kernel=rbf;, score=0.031 total time=   0.8s\n",
            "[CV 3/5] END ......C=1, gamma=0.001, kernel=rbf;, score=0.006 total time=   0.8s\n",
            "[CV 4/5] END ......C=1, gamma=0.001, kernel=rbf;, score=0.013 total time=   0.8s\n",
            "[CV 5/5] END ......C=1, gamma=0.001, kernel=rbf;, score=0.025 total time=   0.8s\n",
            "[CV 1/5] END .....C=1, gamma=0.0001, kernel=rbf;, score=0.006 total time=   0.8s\n",
            "[CV 2/5] END .....C=1, gamma=0.0001, kernel=rbf;, score=0.025 total time=   0.8s\n",
            "[CV 3/5] END .....C=1, gamma=0.0001, kernel=rbf;, score=0.006 total time=   0.8s\n",
            "[CV 4/5] END .....C=1, gamma=0.0001, kernel=rbf;, score=0.006 total time=   0.8s\n",
            "[CV 5/5] END .....C=1, gamma=0.0001, kernel=rbf;, score=0.019 total time=   0.8s\n",
            "[CV 1/5] END .........C=10, gamma=1, kernel=rbf;, score=0.006 total time=   0.8s\n",
            "[CV 2/5] END .........C=10, gamma=1, kernel=rbf;, score=0.006 total time=   0.8s\n",
            "[CV 3/5] END .........C=10, gamma=1, kernel=rbf;, score=0.006 total time=   0.8s\n",
            "[CV 4/5] END .........C=10, gamma=1, kernel=rbf;, score=0.006 total time=   0.8s\n",
            "[CV 5/5] END .........C=10, gamma=1, kernel=rbf;, score=0.006 total time=   0.8s\n",
            "[CV 1/5] END .......C=10, gamma=0.1, kernel=rbf;, score=0.006 total time=   0.8s\n",
            "[CV 2/5] END .......C=10, gamma=0.1, kernel=rbf;, score=0.006 total time=   0.8s\n",
            "[CV 3/5] END .......C=10, gamma=0.1, kernel=rbf;, score=0.006 total time=   0.8s\n",
            "[CV 4/5] END .......C=10, gamma=0.1, kernel=rbf;, score=0.013 total time=   0.8s\n",
            "[CV 5/5] END .......C=10, gamma=0.1, kernel=rbf;, score=0.006 total time=   0.8s\n",
            "[CV 1/5] END ......C=10, gamma=0.01, kernel=rbf;, score=0.006 total time=   0.8s\n",
            "[CV 2/5] END ......C=10, gamma=0.01, kernel=rbf;, score=0.006 total time=   0.8s\n",
            "[CV 3/5] END ......C=10, gamma=0.01, kernel=rbf;, score=0.006 total time=   0.8s\n",
            "[CV 4/5] END ......C=10, gamma=0.01, kernel=rbf;, score=0.006 total time=   0.8s\n",
            "[CV 5/5] END ......C=10, gamma=0.01, kernel=rbf;, score=0.006 total time=   0.8s\n",
            "[CV 1/5] END .....C=10, gamma=0.001, kernel=rbf;, score=0.006 total time=   0.8s\n",
            "[CV 2/5] END .....C=10, gamma=0.001, kernel=rbf;, score=0.019 total time=   0.8s\n",
            "[CV 3/5] END .....C=10, gamma=0.001, kernel=rbf;, score=0.006 total time=   0.8s\n",
            "[CV 4/5] END .....C=10, gamma=0.001, kernel=rbf;, score=0.006 total time=   0.8s\n",
            "[CV 5/5] END .....C=10, gamma=0.001, kernel=rbf;, score=0.019 total time=   0.8s\n",
            "[CV 1/5] END ....C=10, gamma=0.0001, kernel=rbf;, score=0.006 total time=   0.8s\n",
            "[CV 2/5] END ....C=10, gamma=0.0001, kernel=rbf;, score=0.025 total time=   0.8s\n",
            "[CV 3/5] END ....C=10, gamma=0.0001, kernel=rbf;, score=0.000 total time=   0.8s\n",
            "[CV 4/5] END ....C=10, gamma=0.0001, kernel=rbf;, score=0.013 total time=   0.8s\n",
            "[CV 5/5] END ....C=10, gamma=0.0001, kernel=rbf;, score=0.025 total time=   0.8s\n",
            "[CV 1/5] END ........C=100, gamma=1, kernel=rbf;, score=0.006 total time=   0.8s\n",
            "[CV 2/5] END ........C=100, gamma=1, kernel=rbf;, score=0.006 total time=   0.8s\n",
            "[CV 3/5] END ........C=100, gamma=1, kernel=rbf;, score=0.006 total time=   0.8s\n",
            "[CV 4/5] END ........C=100, gamma=1, kernel=rbf;, score=0.006 total time=   0.8s\n",
            "[CV 5/5] END ........C=100, gamma=1, kernel=rbf;, score=0.006 total time=   0.8s\n",
            "[CV 1/5] END ......C=100, gamma=0.1, kernel=rbf;, score=0.006 total time=   0.8s\n",
            "[CV 2/5] END ......C=100, gamma=0.1, kernel=rbf;, score=0.006 total time=   0.8s\n",
            "[CV 3/5] END ......C=100, gamma=0.1, kernel=rbf;, score=0.006 total time=   0.8s\n",
            "[CV 4/5] END ......C=100, gamma=0.1, kernel=rbf;, score=0.013 total time=   0.8s\n",
            "[CV 5/5] END ......C=100, gamma=0.1, kernel=rbf;, score=0.006 total time=   0.8s\n",
            "[CV 1/5] END .....C=100, gamma=0.01, kernel=rbf;, score=0.006 total time=   0.8s\n",
            "[CV 2/5] END .....C=100, gamma=0.01, kernel=rbf;, score=0.006 total time=   0.8s\n",
            "[CV 3/5] END .....C=100, gamma=0.01, kernel=rbf;, score=0.006 total time=   0.8s\n",
            "[CV 4/5] END .....C=100, gamma=0.01, kernel=rbf;, score=0.006 total time=   0.8s\n",
            "[CV 5/5] END .....C=100, gamma=0.01, kernel=rbf;, score=0.006 total time=   0.8s\n",
            "[CV 1/5] END ....C=100, gamma=0.001, kernel=rbf;, score=0.006 total time=   0.8s\n",
            "[CV 2/5] END ....C=100, gamma=0.001, kernel=rbf;, score=0.019 total time=   0.8s\n",
            "[CV 3/5] END ....C=100, gamma=0.001, kernel=rbf;, score=0.006 total time=   0.8s\n",
            "[CV 4/5] END ....C=100, gamma=0.001, kernel=rbf;, score=0.006 total time=   0.8s\n",
            "[CV 5/5] END ....C=100, gamma=0.001, kernel=rbf;, score=0.019 total time=   0.8s\n",
            "[CV 1/5] END ...C=100, gamma=0.0001, kernel=rbf;, score=0.013 total time=   0.8s\n",
            "[CV 2/5] END ...C=100, gamma=0.0001, kernel=rbf;, score=0.013 total time=   0.8s\n",
            "[CV 3/5] END ...C=100, gamma=0.0001, kernel=rbf;, score=0.000 total time=   0.8s\n",
            "[CV 4/5] END ...C=100, gamma=0.0001, kernel=rbf;, score=0.000 total time=   0.8s\n",
            "[CV 5/5] END ...C=100, gamma=0.0001, kernel=rbf;, score=0.019 total time=   0.8s\n",
            "[CV 1/5] END .......C=1000, gamma=1, kernel=rbf;, score=0.006 total time=   0.8s\n",
            "[CV 2/5] END .......C=1000, gamma=1, kernel=rbf;, score=0.006 total time=   0.8s\n",
            "[CV 3/5] END .......C=1000, gamma=1, kernel=rbf;, score=0.006 total time=   0.8s\n",
            "[CV 4/5] END .......C=1000, gamma=1, kernel=rbf;, score=0.006 total time=   0.8s\n",
            "[CV 5/5] END .......C=1000, gamma=1, kernel=rbf;, score=0.006 total time=   0.8s\n",
            "[CV 1/5] END .....C=1000, gamma=0.1, kernel=rbf;, score=0.006 total time=   0.8s\n",
            "[CV 2/5] END .....C=1000, gamma=0.1, kernel=rbf;, score=0.006 total time=   0.8s\n",
            "[CV 3/5] END .....C=1000, gamma=0.1, kernel=rbf;, score=0.006 total time=   0.8s\n",
            "[CV 4/5] END .....C=1000, gamma=0.1, kernel=rbf;, score=0.013 total time=   0.8s\n",
            "[CV 5/5] END .....C=1000, gamma=0.1, kernel=rbf;, score=0.006 total time=   0.8s\n",
            "[CV 1/5] END ....C=1000, gamma=0.01, kernel=rbf;, score=0.006 total time=   0.8s\n",
            "[CV 2/5] END ....C=1000, gamma=0.01, kernel=rbf;, score=0.006 total time=   0.8s\n",
            "[CV 3/5] END ....C=1000, gamma=0.01, kernel=rbf;, score=0.006 total time=   0.8s\n",
            "[CV 4/5] END ....C=1000, gamma=0.01, kernel=rbf;, score=0.006 total time=   0.8s\n",
            "[CV 5/5] END ....C=1000, gamma=0.01, kernel=rbf;, score=0.006 total time=   0.8s\n",
            "[CV 1/5] END ...C=1000, gamma=0.001, kernel=rbf;, score=0.006 total time=   0.8s\n",
            "[CV 2/5] END ...C=1000, gamma=0.001, kernel=rbf;, score=0.019 total time=   0.8s\n",
            "[CV 3/5] END ...C=1000, gamma=0.001, kernel=rbf;, score=0.006 total time=   0.8s\n",
            "[CV 4/5] END ...C=1000, gamma=0.001, kernel=rbf;, score=0.006 total time=   0.8s\n",
            "[CV 5/5] END ...C=1000, gamma=0.001, kernel=rbf;, score=0.019 total time=   0.8s\n",
            "[CV 1/5] END ..C=1000, gamma=0.0001, kernel=rbf;, score=0.000 total time=   0.8s\n",
            "[CV 2/5] END ..C=1000, gamma=0.0001, kernel=rbf;, score=0.013 total time=   0.8s\n",
            "[CV 3/5] END ..C=1000, gamma=0.0001, kernel=rbf;, score=0.000 total time=   0.9s\n",
            "[CV 4/5] END ..C=1000, gamma=0.0001, kernel=rbf;, score=0.000 total time=   0.8s\n",
            "[CV 5/5] END ..C=1000, gamma=0.0001, kernel=rbf;, score=0.019 total time=   0.8s\n",
            "{'C': 1, 'gamma': 0.001, 'kernel': 'rbf'}\n",
            "SVC(C=1, gamma=0.001)\n"
          ]
        }
      ],
      "source": [
        "# defining parameter range\n",
        "param_grid = {'C': [0.1, 1, 10, 100, 1000],\n",
        "              'gamma': [1, 0.1, 0.01, 0.001, 0.0001],\n",
        "              'kernel': ['rbf']}\n",
        " \n",
        "grid = GridSearchCV(SVC(), param_grid, refit = True, verbose = 3)\n",
        " \n",
        "# fitting the model for grid search\n",
        "grid.fit(x_train, y_train)\n",
        "\n",
        "\n",
        "# print best parameter after tuning\n",
        "print(grid.best_params_)\n",
        " \n",
        "# print how our model looks after hyper-parameter tuning\n",
        "print(grid.best_estimator_)"
      ]
    },
    {
      "cell_type": "code",
      "execution_count": 5,
      "metadata": {
        "colab": {
          "base_uri": "https://localhost:8080/"
        },
        "id": "a6H6zSUHv9DJ",
        "outputId": "d760433d-bdd8-4f1f-8999-bd5b2c6f4e03"
      },
      "outputs": [
        {
          "output_type": "stream",
          "name": "stdout",
          "text": [
            "RMSE: 421.946359\n",
            "R2 Score: -0.141849\n"
          ]
        }
      ],
      "source": [
        "\n",
        "svc = SVC(C=1, gamma=0.001, kernel='rbf')\n",
        "svc.fit(x_train, y_train)\n",
        "y_pred = svc.predict(x_test)\n",
        " \n",
        "# print classification report\n",
        "#print(classification_report(y_test, y_pred))\n",
        "\n",
        "rmse = np.sqrt(mean_squared_error(y_test, y_pred))\n",
        "print(\"RMSE: %f\" % (rmse))\n",
        "\n",
        "R2=r2_score(y_test,y_pred)\n",
        "print(\"R2 Score: %f\" % (R2))"
      ]
    },
    {
      "cell_type": "markdown",
      "metadata": {
        "id": "USO7BPKwvlub"
      },
      "source": [
        "#d2v"
      ]
    },
    {
      "cell_type": "code",
      "execution_count": 6,
      "metadata": {
        "id": "95PdEIWGv_QO"
      },
      "outputs": [],
      "source": [
        "y = d2v_df['1203']          #Target Variable\n",
        "X = d2v_df.drop('1203',1)   #Feature Matrix\n",
        "X=pd.DataFrame(X)\n",
        "y=pd.DataFrame(y)\n",
        "\n",
        "for i in X.columns:\n",
        "  X[i]=pd.to_numeric(X[i])\n",
        "for i in y.columns:\n",
        "  y[i]=pd.to_numeric(y[i])\n",
        "\n",
        "\n",
        "x_train, x_test, y_train, y_test = train_test_split(X, y, test_size=0.2)"
      ]
    },
    {
      "cell_type": "code",
      "execution_count": 7,
      "metadata": {
        "colab": {
          "base_uri": "https://localhost:8080/"
        },
        "id": "MX2tcrAowH_s",
        "outputId": "e5da85d5-1b4f-4e34-ec7f-864328c62789"
      },
      "outputs": [
        {
          "output_type": "stream",
          "name": "stdout",
          "text": [
            "Fitting 5 folds for each of 25 candidates, totalling 125 fits\n",
            "[CV 1/5] END ........C=0.1, gamma=1, kernel=rbf;, score=0.006 total time=   0.9s\n",
            "[CV 2/5] END ........C=0.1, gamma=1, kernel=rbf;, score=0.006 total time=   0.9s\n",
            "[CV 3/5] END ........C=0.1, gamma=1, kernel=rbf;, score=0.006 total time=   0.9s\n",
            "[CV 4/5] END ........C=0.1, gamma=1, kernel=rbf;, score=0.013 total time=   0.9s\n",
            "[CV 5/5] END ........C=0.1, gamma=1, kernel=rbf;, score=0.006 total time=   1.3s\n",
            "[CV 1/5] END ......C=0.1, gamma=0.1, kernel=rbf;, score=0.006 total time=   0.9s\n",
            "[CV 2/5] END ......C=0.1, gamma=0.1, kernel=rbf;, score=0.006 total time=   0.9s\n",
            "[CV 3/5] END ......C=0.1, gamma=0.1, kernel=rbf;, score=0.000 total time=   0.9s\n",
            "[CV 4/5] END ......C=0.1, gamma=0.1, kernel=rbf;, score=0.019 total time=   0.9s\n",
            "[CV 5/5] END ......C=0.1, gamma=0.1, kernel=rbf;, score=0.000 total time=   0.9s\n",
            "[CV 1/5] END .....C=0.1, gamma=0.01, kernel=rbf;, score=0.006 total time=   0.9s\n",
            "[CV 2/5] END .....C=0.1, gamma=0.01, kernel=rbf;, score=0.006 total time=   0.9s\n",
            "[CV 3/5] END .....C=0.1, gamma=0.01, kernel=rbf;, score=0.000 total time=   0.9s\n",
            "[CV 4/5] END .....C=0.1, gamma=0.01, kernel=rbf;, score=0.019 total time=   0.9s\n",
            "[CV 5/5] END .....C=0.1, gamma=0.01, kernel=rbf;, score=0.000 total time=   0.9s\n",
            "[CV 1/5] END ....C=0.1, gamma=0.001, kernel=rbf;, score=0.006 total time=   0.9s\n",
            "[CV 2/5] END ....C=0.1, gamma=0.001, kernel=rbf;, score=0.000 total time=   0.9s\n",
            "[CV 3/5] END ....C=0.1, gamma=0.001, kernel=rbf;, score=0.000 total time=   0.9s\n",
            "[CV 4/5] END ....C=0.1, gamma=0.001, kernel=rbf;, score=0.019 total time=   0.9s\n",
            "[CV 5/5] END ....C=0.1, gamma=0.001, kernel=rbf;, score=0.000 total time=   0.9s\n",
            "[CV 1/5] END ...C=0.1, gamma=0.0001, kernel=rbf;, score=0.006 total time=   0.9s\n",
            "[CV 2/5] END ...C=0.1, gamma=0.0001, kernel=rbf;, score=0.006 total time=   0.9s\n",
            "[CV 3/5] END ...C=0.1, gamma=0.0001, kernel=rbf;, score=0.000 total time=   0.9s\n",
            "[CV 4/5] END ...C=0.1, gamma=0.0001, kernel=rbf;, score=0.019 total time=   0.9s\n",
            "[CV 5/5] END ...C=0.1, gamma=0.0001, kernel=rbf;, score=0.000 total time=   0.9s\n",
            "[CV 1/5] END ..........C=1, gamma=1, kernel=rbf;, score=0.006 total time=   0.9s\n",
            "[CV 2/5] END ..........C=1, gamma=1, kernel=rbf;, score=0.006 total time=   0.9s\n",
            "[CV 3/5] END ..........C=1, gamma=1, kernel=rbf;, score=0.006 total time=   0.9s\n",
            "[CV 4/5] END ..........C=1, gamma=1, kernel=rbf;, score=0.013 total time=   0.9s\n",
            "[CV 5/5] END ..........C=1, gamma=1, kernel=rbf;, score=0.006 total time=   0.9s\n",
            "[CV 1/5] END ........C=1, gamma=0.1, kernel=rbf;, score=0.006 total time=   0.9s\n",
            "[CV 2/5] END ........C=1, gamma=0.1, kernel=rbf;, score=0.006 total time=   0.9s\n",
            "[CV 3/5] END ........C=1, gamma=0.1, kernel=rbf;, score=0.000 total time=   0.9s\n",
            "[CV 4/5] END ........C=1, gamma=0.1, kernel=rbf;, score=0.019 total time=   0.9s\n",
            "[CV 5/5] END ........C=1, gamma=0.1, kernel=rbf;, score=0.000 total time=   0.9s\n",
            "[CV 1/5] END .......C=1, gamma=0.01, kernel=rbf;, score=0.013 total time=   0.9s\n",
            "[CV 2/5] END .......C=1, gamma=0.01, kernel=rbf;, score=0.000 total time=   0.9s\n",
            "[CV 3/5] END .......C=1, gamma=0.01, kernel=rbf;, score=0.000 total time=   0.9s\n",
            "[CV 4/5] END .......C=1, gamma=0.01, kernel=rbf;, score=0.013 total time=   0.9s\n",
            "[CV 5/5] END .......C=1, gamma=0.01, kernel=rbf;, score=0.006 total time=   0.9s\n",
            "[CV 1/5] END ......C=1, gamma=0.001, kernel=rbf;, score=0.019 total time=   0.9s\n",
            "[CV 2/5] END ......C=1, gamma=0.001, kernel=rbf;, score=0.006 total time=   0.9s\n",
            "[CV 3/5] END ......C=1, gamma=0.001, kernel=rbf;, score=0.000 total time=   0.9s\n",
            "[CV 4/5] END ......C=1, gamma=0.001, kernel=rbf;, score=0.019 total time=   0.9s\n",
            "[CV 5/5] END ......C=1, gamma=0.001, kernel=rbf;, score=0.013 total time=   0.9s\n",
            "[CV 1/5] END .....C=1, gamma=0.0001, kernel=rbf;, score=0.013 total time=   0.9s\n",
            "[CV 2/5] END .....C=1, gamma=0.0001, kernel=rbf;, score=0.006 total time=   0.9s\n",
            "[CV 3/5] END .....C=1, gamma=0.0001, kernel=rbf;, score=0.006 total time=   0.9s\n",
            "[CV 4/5] END .....C=1, gamma=0.0001, kernel=rbf;, score=0.013 total time=   0.9s\n",
            "[CV 5/5] END .....C=1, gamma=0.0001, kernel=rbf;, score=0.006 total time=   0.9s\n",
            "[CV 1/5] END .........C=10, gamma=1, kernel=rbf;, score=0.006 total time=   0.9s\n",
            "[CV 2/5] END .........C=10, gamma=1, kernel=rbf;, score=0.006 total time=   0.9s\n",
            "[CV 3/5] END .........C=10, gamma=1, kernel=rbf;, score=0.006 total time=   0.9s\n",
            "[CV 4/5] END .........C=10, gamma=1, kernel=rbf;, score=0.013 total time=   0.9s\n",
            "[CV 5/5] END .........C=10, gamma=1, kernel=rbf;, score=0.006 total time=   0.9s\n",
            "[CV 1/5] END .......C=10, gamma=0.1, kernel=rbf;, score=0.006 total time=   0.9s\n",
            "[CV 2/5] END .......C=10, gamma=0.1, kernel=rbf;, score=0.006 total time=   0.9s\n",
            "[CV 3/5] END .......C=10, gamma=0.1, kernel=rbf;, score=0.000 total time=   0.9s\n",
            "[CV 4/5] END .......C=10, gamma=0.1, kernel=rbf;, score=0.019 total time=   0.9s\n",
            "[CV 5/5] END .......C=10, gamma=0.1, kernel=rbf;, score=0.000 total time=   0.9s\n",
            "[CV 1/5] END ......C=10, gamma=0.01, kernel=rbf;, score=0.006 total time=   0.9s\n",
            "[CV 2/5] END ......C=10, gamma=0.01, kernel=rbf;, score=0.000 total time=   0.9s\n",
            "[CV 3/5] END ......C=10, gamma=0.01, kernel=rbf;, score=0.000 total time=   0.9s\n",
            "[CV 4/5] END ......C=10, gamma=0.01, kernel=rbf;, score=0.013 total time=   0.9s\n",
            "[CV 5/5] END ......C=10, gamma=0.01, kernel=rbf;, score=0.006 total time=   0.9s\n",
            "[CV 1/5] END .....C=10, gamma=0.001, kernel=rbf;, score=0.019 total time=   0.9s\n",
            "[CV 2/5] END .....C=10, gamma=0.001, kernel=rbf;, score=0.000 total time=   0.9s\n",
            "[CV 3/5] END .....C=10, gamma=0.001, kernel=rbf;, score=0.000 total time=   0.9s\n",
            "[CV 4/5] END .....C=10, gamma=0.001, kernel=rbf;, score=0.019 total time=   0.9s\n",
            "[CV 5/5] END .....C=10, gamma=0.001, kernel=rbf;, score=0.013 total time=   0.9s\n",
            "[CV 1/5] END ....C=10, gamma=0.0001, kernel=rbf;, score=0.019 total time=   0.9s\n",
            "[CV 2/5] END ....C=10, gamma=0.0001, kernel=rbf;, score=0.006 total time=   0.9s\n",
            "[CV 3/5] END ....C=10, gamma=0.0001, kernel=rbf;, score=0.000 total time=   0.9s\n",
            "[CV 4/5] END ....C=10, gamma=0.0001, kernel=rbf;, score=0.019 total time=   0.9s\n",
            "[CV 5/5] END ....C=10, gamma=0.0001, kernel=rbf;, score=0.013 total time=   0.9s\n",
            "[CV 1/5] END ........C=100, gamma=1, kernel=rbf;, score=0.006 total time=   0.9s\n",
            "[CV 2/5] END ........C=100, gamma=1, kernel=rbf;, score=0.006 total time=   0.9s\n",
            "[CV 3/5] END ........C=100, gamma=1, kernel=rbf;, score=0.006 total time=   0.9s\n",
            "[CV 4/5] END ........C=100, gamma=1, kernel=rbf;, score=0.013 total time=   0.9s\n",
            "[CV 5/5] END ........C=100, gamma=1, kernel=rbf;, score=0.006 total time=   0.9s\n",
            "[CV 1/5] END ......C=100, gamma=0.1, kernel=rbf;, score=0.006 total time=   0.9s\n",
            "[CV 2/5] END ......C=100, gamma=0.1, kernel=rbf;, score=0.006 total time=   0.9s\n",
            "[CV 3/5] END ......C=100, gamma=0.1, kernel=rbf;, score=0.000 total time=   0.9s\n",
            "[CV 4/5] END ......C=100, gamma=0.1, kernel=rbf;, score=0.019 total time=   0.9s\n",
            "[CV 5/5] END ......C=100, gamma=0.1, kernel=rbf;, score=0.000 total time=   0.9s\n",
            "[CV 1/5] END .....C=100, gamma=0.01, kernel=rbf;, score=0.006 total time=   0.9s\n",
            "[CV 2/5] END .....C=100, gamma=0.01, kernel=rbf;, score=0.000 total time=   0.9s\n",
            "[CV 3/5] END .....C=100, gamma=0.01, kernel=rbf;, score=0.000 total time=   0.9s\n",
            "[CV 4/5] END .....C=100, gamma=0.01, kernel=rbf;, score=0.013 total time=   0.9s\n",
            "[CV 5/5] END .....C=100, gamma=0.01, kernel=rbf;, score=0.006 total time=   0.9s\n",
            "[CV 1/5] END ....C=100, gamma=0.001, kernel=rbf;, score=0.013 total time=   0.9s\n",
            "[CV 2/5] END ....C=100, gamma=0.001, kernel=rbf;, score=0.000 total time=   0.9s\n",
            "[CV 3/5] END ....C=100, gamma=0.001, kernel=rbf;, score=0.000 total time=   0.9s\n",
            "[CV 4/5] END ....C=100, gamma=0.001, kernel=rbf;, score=0.019 total time=   0.9s\n",
            "[CV 5/5] END ....C=100, gamma=0.001, kernel=rbf;, score=0.006 total time=   0.9s\n",
            "[CV 1/5] END ...C=100, gamma=0.0001, kernel=rbf;, score=0.019 total time=   0.9s\n",
            "[CV 2/5] END ...C=100, gamma=0.0001, kernel=rbf;, score=0.000 total time=   0.9s\n",
            "[CV 3/5] END ...C=100, gamma=0.0001, kernel=rbf;, score=0.000 total time=   0.9s\n",
            "[CV 4/5] END ...C=100, gamma=0.0001, kernel=rbf;, score=0.013 total time=   0.9s\n",
            "[CV 5/5] END ...C=100, gamma=0.0001, kernel=rbf;, score=0.013 total time=   0.9s\n",
            "[CV 1/5] END .......C=1000, gamma=1, kernel=rbf;, score=0.006 total time=   0.9s\n",
            "[CV 2/5] END .......C=1000, gamma=1, kernel=rbf;, score=0.006 total time=   0.9s\n",
            "[CV 3/5] END .......C=1000, gamma=1, kernel=rbf;, score=0.006 total time=   0.9s\n",
            "[CV 4/5] END .......C=1000, gamma=1, kernel=rbf;, score=0.013 total time=   0.9s\n",
            "[CV 5/5] END .......C=1000, gamma=1, kernel=rbf;, score=0.006 total time=   0.9s\n",
            "[CV 1/5] END .....C=1000, gamma=0.1, kernel=rbf;, score=0.006 total time=   0.9s\n",
            "[CV 2/5] END .....C=1000, gamma=0.1, kernel=rbf;, score=0.006 total time=   0.9s\n",
            "[CV 3/5] END .....C=1000, gamma=0.1, kernel=rbf;, score=0.000 total time=   0.9s\n",
            "[CV 4/5] END .....C=1000, gamma=0.1, kernel=rbf;, score=0.019 total time=   0.9s\n",
            "[CV 5/5] END .....C=1000, gamma=0.1, kernel=rbf;, score=0.000 total time=   0.9s\n",
            "[CV 1/5] END ....C=1000, gamma=0.01, kernel=rbf;, score=0.006 total time=   0.9s\n",
            "[CV 2/5] END ....C=1000, gamma=0.01, kernel=rbf;, score=0.000 total time=   0.9s\n",
            "[CV 3/5] END ....C=1000, gamma=0.01, kernel=rbf;, score=0.000 total time=   0.9s\n",
            "[CV 4/5] END ....C=1000, gamma=0.01, kernel=rbf;, score=0.013 total time=   0.9s\n",
            "[CV 5/5] END ....C=1000, gamma=0.01, kernel=rbf;, score=0.006 total time=   0.9s\n",
            "[CV 1/5] END ...C=1000, gamma=0.001, kernel=rbf;, score=0.013 total time=   0.9s\n",
            "[CV 2/5] END ...C=1000, gamma=0.001, kernel=rbf;, score=0.000 total time=   0.9s\n",
            "[CV 3/5] END ...C=1000, gamma=0.001, kernel=rbf;, score=0.000 total time=   0.9s\n",
            "[CV 4/5] END ...C=1000, gamma=0.001, kernel=rbf;, score=0.019 total time=   0.9s\n",
            "[CV 5/5] END ...C=1000, gamma=0.001, kernel=rbf;, score=0.006 total time=   0.9s\n",
            "[CV 1/5] END ..C=1000, gamma=0.0001, kernel=rbf;, score=0.019 total time=   0.9s\n",
            "[CV 2/5] END ..C=1000, gamma=0.0001, kernel=rbf;, score=0.000 total time=   0.9s\n",
            "[CV 3/5] END ..C=1000, gamma=0.0001, kernel=rbf;, score=0.000 total time=   0.9s\n",
            "[CV 4/5] END ..C=1000, gamma=0.0001, kernel=rbf;, score=0.013 total time=   1.4s\n",
            "[CV 5/5] END ..C=1000, gamma=0.0001, kernel=rbf;, score=0.006 total time=   0.9s\n",
            "{'C': 1, 'gamma': 0.001, 'kernel': 'rbf'}\n",
            "SVC(C=1, gamma=0.001)\n"
          ]
        }
      ],
      "source": [
        "# defining parameter range\n",
        "param_grid = {'C': [0.1, 1, 10, 100, 1000],\n",
        "              'gamma': [1, 0.1, 0.01, 0.001, 0.0001],\n",
        "              'kernel': ['rbf']}\n",
        " \n",
        "grid = GridSearchCV(SVC(), param_grid, refit = True, verbose = 3)\n",
        " \n",
        "# fitting the model for grid search\n",
        "grid.fit(x_train, y_train)\n",
        "\n",
        "\n",
        "# print best parameter after tuning\n",
        "print(grid.best_params_)\n",
        " \n",
        "# print how our model looks after hyper-parameter tuning\n",
        "print(grid.best_estimator_)"
      ]
    },
    {
      "cell_type": "code",
      "execution_count": 8,
      "metadata": {
        "id": "mYCgSPDLwKz4",
        "colab": {
          "base_uri": "https://localhost:8080/"
        },
        "outputId": "f34bef66-d2b2-4773-ac6a-1a34d57eb1e1"
      },
      "outputs": [
        {
          "output_type": "stream",
          "name": "stdout",
          "text": [
            "RMSE: 296.261810\n",
            "R2 Score: -0.151660\n"
          ]
        }
      ],
      "source": [
        "svc_clf=SVC(C=1, gamma=0.001, kernel='rbf')\n",
        "svc_clf.fit(x_train, y_train)\n",
        "grid_predictions = grid.predict(x_test)\n",
        " \n",
        "\n",
        "rmse_rnd = np.sqrt(mean_squared_error(y_test, grid_predictions))\n",
        "print(\"RMSE: %f\" % (rmse_rnd))\n",
        "\n",
        "R2_rnd=r2_score(y_test, grid_predictions)\n",
        "print(\"R2 Score: %f\" % (R2_rnd))"
      ]
    }
  ],
  "metadata": {
    "colab": {
      "collapsed_sections": [],
      "name": "SVC.ipynb",
      "provenance": [],
      "toc_visible": true
    },
    "kernelspec": {
      "display_name": "Python 3",
      "name": "python3"
    },
    "language_info": {
      "name": "python"
    }
  },
  "nbformat": 4,
  "nbformat_minor": 0
}