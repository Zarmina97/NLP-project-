{
 "cells": [
  {
   "cell_type": "code",
   "execution_count": 30,
   "metadata": {},
   "outputs": [],
   "source": [
    "import pandas as pd\n",
    "import numpy as np\n",
    "import gensim\n",
    "import utils\n",
    "%matplotlib inline\n",
    "import re  # For preprocessing\n",
    "import seaborn as sns\n",
    "import warnings\n",
    "import xgboost as xgb\n",
    "from sklearn.manifold import TSNE\n",
    "from sklearn import preprocessing\n",
    "from matplotlib import pyplot as plt\n",
    "from sklearn.decomposition import PCA\n",
    "from collections import defaultdict  # For word frequency\n",
    "from sklearn.model_selection import train_test_split\n",
    "from sklearn.ensemble import RandomForestRegressor"
   ]
  },
  {
   "cell_type": "code",
   "execution_count": 31,
   "metadata": {},
   "outputs": [],
   "source": [
    "path='C:\\\\Users\\\\jyoti\\\\Desktop\\\\NLP\\\\NLP_project\\\\NLP-project-\\\\'\n",
    "df=pd.read_csv(path + 'Dataset\\\\3.csv')"
   ]
  },
  {
   "cell_type": "markdown",
   "metadata": {},
   "source": [
    "## Skipgram"
   ]
  },
  {
   "cell_type": "code",
   "execution_count": 32,
   "metadata": {},
   "outputs": [],
   "source": [
    "tokenized_caption = df['caption'].apply(lambda x: str(x).split()) # tokenizing \n",
    "model_w2v_caption = gensim.models.Word2Vec(tokenized_caption,\n",
    "        size=250, # desired no. of features/independent variables\n",
    "        window=5, # context window size\n",
    "        min_count=2, # Ignores all words with total frequency lower than 2.                                  \n",
    "        sg = 1, # 1 for skip-gram model\n",
    "        hs = 0,\n",
    "        negative = 10, # for negative sampling\n",
    "        workers= 32 # no.of cores\n",
    "        )\n",
    "model_w2v_caption.train(tokenized_caption, total_examples= len(df['caption']), epochs=20)\n",
    "model_w2v_caption.save(path + \"Save Models\\\\200_Word2vec_Skipgram_Caption.model\")"
   ]
  },
  {
   "cell_type": "code",
   "execution_count": 33,
   "metadata": {},
   "outputs": [],
   "source": [
    "def word_vector(tokens, size,model):\n",
    "    vec = np.zeros(size).reshape((1, size))\n",
    "    count = 0\n",
    "    for word in tokens:\n",
    "        try:\n",
    "            vec += model[word].reshape((1, size))\n",
    "            count += 1.\n",
    "        except KeyError:\n",
    "            continue\n",
    "    if count != 0:\n",
    "        vec /= count\n",
    "    return vec"
   ]
  },
  {
   "cell_type": "code",
   "execution_count": 34,
   "metadata": {},
   "outputs": [
    {
     "name": "stderr",
     "output_type": "stream",
     "text": [
      "C:\\Users\\jyoti\\anaconda3\\envs\\nlp\\lib\\site-packages\\ipykernel_launcher.py:6: DeprecationWarning: Call to deprecated `__getitem__` (Method will be removed in 4.0.0, use self.wv.__getitem__() instead).\n",
      "  \n"
     ]
    },
    {
     "data": {
      "text/plain": [
       "(26800, 250)"
      ]
     },
     "execution_count": 34,
     "metadata": {},
     "output_type": "execute_result"
    }
   ],
   "source": [
    "wordvec_arrays = np.zeros((len(tokenized_caption), 250)) \n",
    "for i in range(len(tokenized_caption)):\n",
    "    wordvec_arrays[i,:] = word_vector(tokenized_caption[i], 250,model_w2v_caption)\n",
    "w2v_df_caption = pd.DataFrame(wordvec_arrays)\n",
    "w2v_df_caption.shape"
   ]
  },
  {
   "cell_type": "markdown",
   "metadata": {},
   "source": [
    "## hashtags"
   ]
  },
  {
   "cell_type": "code",
   "execution_count": 35,
   "metadata": {},
   "outputs": [],
   "source": [
    "# tokenized_hash = df['hashtags'].apply(lambda x: str(x).split()) # tokenizing \n",
    "# model_w2v_hashtag = gensim.models.Word2Vec(tokenized_hash,\n",
    "#             size=250, # desired no. of features/independent variables\n",
    "#             window=5, # context window size\n",
    "#             min_count=2, # Ignores all words with total frequency lower than 2.                                  \n",
    "#             sg = 1, # 1 for skip-gram model\n",
    "#             hs = 0,\n",
    "#             negative = 10, # for negative sampling\n",
    "#             workers= 32 # no.of cores\n",
    "# )\n",
    "# model_w2v_hashtag.train(tokenized_hash, total_examples= len(df['hashtags']), epochs=20)\n",
    "# model_w2v_hashtag.save(path + \"Save Models\\\\200_Word2vec_Skipgram_Hashtag.model\")"
   ]
  },
  {
   "cell_type": "code",
   "execution_count": 36,
   "metadata": {},
   "outputs": [],
   "source": [
    "# wordvec_arrays_hash = np.zeros((len(tokenized_hash), 250)) \n",
    "# for i in range(len(tokenized_hash)):\n",
    "#     wordvec_arrays_hash[i,:] = word_vector(tokenized_hash[i], 250,model_w2v_hashtag)\n",
    "# w2v_df_hashtag = pd.DataFrame(wordvec_arrays_hash)\n",
    "# w2v_df_hashtag.shape"
   ]
  },
  {
   "cell_type": "markdown",
   "metadata": {},
   "source": [
    "## mentions"
   ]
  },
  {
   "cell_type": "code",
   "execution_count": 37,
   "metadata": {},
   "outputs": [],
   "source": [
    "# tokenized_ment = df['mentions'].apply(lambda x: str(x).split()) # tokenizing \n",
    "# model_w2v_mentions = gensim.models.Word2Vec(tokenized_ment,\n",
    "#             size=250, # desired no. of features/independent variables\n",
    "#             window=5, # context window size\n",
    "#             min_count=2, # Ignores all words with total frequency lower than 2.                                  \n",
    "#             sg = 1, # 1 for skip-gram model\n",
    "#             hs = 0,\n",
    "#             negative = 10, # for negative sampling\n",
    "#             workers= 32 # no.of cores\n",
    "# )\n",
    "# model_w2v_mentions.train(tokenized_ment, total_examples= len(df['mentions']), epochs=20)\n",
    "# model_w2v_mentions.save(path + \"Save Models\\\\200_Word2vec_Skipgram_mentions.model\")"
   ]
  },
  {
   "cell_type": "code",
   "execution_count": 38,
   "metadata": {},
   "outputs": [],
   "source": [
    "# wordvec_arrays_ment = np.zeros((len(tokenized_ment), 250)) \n",
    "# for i in range(len(tokenized_caption)):\n",
    "#     wordvec_arrays_ment[i,:] = word_vector(tokenized_ment[i], 250,model_w2v_mentions)\n",
    "# w2v_dF_mentions = pd.DataFrame(wordvec_arrays_ment)\n",
    "# w2v_dF_mentions.shape"
   ]
  },
  {
   "cell_type": "code",
   "execution_count": 39,
   "metadata": {},
   "outputs": [],
   "source": [
    "w2v_Df = pd.DataFrame(np.hstack((w2v_df_caption, df)))"
   ]
  },
  {
   "cell_type": "code",
   "execution_count": 40,
   "metadata": {},
   "outputs": [
    {
     "data": {
      "text/html": [
       "<div>\n",
       "<style scoped>\n",
       "    .dataframe tbody tr th:only-of-type {\n",
       "        vertical-align: middle;\n",
       "    }\n",
       "\n",
       "    .dataframe tbody tr th {\n",
       "        vertical-align: top;\n",
       "    }\n",
       "\n",
       "    .dataframe thead th {\n",
       "        text-align: right;\n",
       "    }\n",
       "</style>\n",
       "<table border=\"1\" class=\"dataframe\">\n",
       "  <thead>\n",
       "    <tr style=\"text-align: right;\">\n",
       "      <th></th>\n",
       "      <th>0</th>\n",
       "      <th>1</th>\n",
       "      <th>2</th>\n",
       "      <th>3</th>\n",
       "      <th>4</th>\n",
       "      <th>5</th>\n",
       "      <th>6</th>\n",
       "      <th>7</th>\n",
       "      <th>8</th>\n",
       "      <th>9</th>\n",
       "      <th>...</th>\n",
       "      <th>263</th>\n",
       "      <th>264</th>\n",
       "      <th>265</th>\n",
       "      <th>266</th>\n",
       "      <th>267</th>\n",
       "      <th>268</th>\n",
       "      <th>269</th>\n",
       "      <th>270</th>\n",
       "      <th>271</th>\n",
       "      <th>272</th>\n",
       "    </tr>\n",
       "  </thead>\n",
       "  <tbody>\n",
       "    <tr>\n",
       "      <th>0</th>\n",
       "      <td>-0.249953</td>\n",
       "      <td>0.532897</td>\n",
       "      <td>0.400055</td>\n",
       "      <td>-0.0485807</td>\n",
       "      <td>0.120604</td>\n",
       "      <td>-0.18166</td>\n",
       "      <td>-0.0202972</td>\n",
       "      <td>-0.221866</td>\n",
       "      <td>-0.0613042</td>\n",
       "      <td>-0.142154</td>\n",
       "      <td>...</td>\n",
       "      <td>0</td>\n",
       "      <td>0</td>\n",
       "      <td>0</td>\n",
       "      <td>'#edinburghfoodies', '#edinburghrestaurants', ...</td>\n",
       "      <td>25</td>\n",
       "      <td>NaN</td>\n",
       "      <td>0</td>\n",
       "      <td>[]</td>\n",
       "      <td>NaN</td>\n",
       "      <td>0</td>\n",
       "    </tr>\n",
       "    <tr>\n",
       "      <th>1</th>\n",
       "      <td>-0.028879</td>\n",
       "      <td>0.609161</td>\n",
       "      <td>0.212907</td>\n",
       "      <td>0.195298</td>\n",
       "      <td>0.158012</td>\n",
       "      <td>-0.160842</td>\n",
       "      <td>-0.207414</td>\n",
       "      <td>-0.121827</td>\n",
       "      <td>-0.0371201</td>\n",
       "      <td>0.0266939</td>\n",
       "      <td>...</td>\n",
       "      <td>0</td>\n",
       "      <td>0.333333</td>\n",
       "      <td>0.25</td>\n",
       "      <td>'#michelin', '#michelinstar', '#michelinuk', '...</td>\n",
       "      <td>28</td>\n",
       "      <td>NaN</td>\n",
       "      <td>0</td>\n",
       "      <td>[]</td>\n",
       "      <td>NaN</td>\n",
       "      <td>0</td>\n",
       "    </tr>\n",
       "    <tr>\n",
       "      <th>2</th>\n",
       "      <td>0.009516</td>\n",
       "      <td>0.393482</td>\n",
       "      <td>0.324104</td>\n",
       "      <td>0.0679904</td>\n",
       "      <td>0.344626</td>\n",
       "      <td>-0.271651</td>\n",
       "      <td>-0.106228</td>\n",
       "      <td>-0.147</td>\n",
       "      <td>-0.0294725</td>\n",
       "      <td>0.340887</td>\n",
       "      <td>...</td>\n",
       "      <td>0</td>\n",
       "      <td>0.333333</td>\n",
       "      <td>0.166667</td>\n",
       "      <td>'#michelin', '#michelinstar', '#michelinuk', '...</td>\n",
       "      <td>28</td>\n",
       "      <td>'@castlegamescotland', '@wellocksfood'</td>\n",
       "      <td>2</td>\n",
       "      <td>[]</td>\n",
       "      <td>NaN</td>\n",
       "      <td>0</td>\n",
       "    </tr>\n",
       "    <tr>\n",
       "      <th>3</th>\n",
       "      <td>0.0427693</td>\n",
       "      <td>0.336523</td>\n",
       "      <td>0.149523</td>\n",
       "      <td>0.16208</td>\n",
       "      <td>0.386487</td>\n",
       "      <td>-0.122692</td>\n",
       "      <td>0.0270971</td>\n",
       "      <td>-0.122955</td>\n",
       "      <td>-0.0737492</td>\n",
       "      <td>0.22793</td>\n",
       "      <td>...</td>\n",
       "      <td>0</td>\n",
       "      <td>0</td>\n",
       "      <td>0</td>\n",
       "      <td>'#michelin', '#michelinstar', '#michelinuk', '...</td>\n",
       "      <td>30</td>\n",
       "      <td>NaN</td>\n",
       "      <td>0</td>\n",
       "      <td>[]</td>\n",
       "      <td>NaN</td>\n",
       "      <td>0</td>\n",
       "    </tr>\n",
       "    <tr>\n",
       "      <th>4</th>\n",
       "      <td>-0.0295043</td>\n",
       "      <td>-0.0571176</td>\n",
       "      <td>0.200799</td>\n",
       "      <td>0.136031</td>\n",
       "      <td>0.0727942</td>\n",
       "      <td>-0.124845</td>\n",
       "      <td>-0.0892332</td>\n",
       "      <td>-0.0812815</td>\n",
       "      <td>-0.148615</td>\n",
       "      <td>0.0249047</td>\n",
       "      <td>...</td>\n",
       "      <td>0</td>\n",
       "      <td>0.791667</td>\n",
       "      <td>-0.0416667</td>\n",
       "      <td>NaN</td>\n",
       "      <td>0</td>\n",
       "      <td>'@_mark_donald', '@theglenturretlalique', '@ca...</td>\n",
       "      <td>11</td>\n",
       "      <td>[]</td>\n",
       "      <td>NaN</td>\n",
       "      <td>0</td>\n",
       "    </tr>\n",
       "    <tr>\n",
       "      <th>...</th>\n",
       "      <td>...</td>\n",
       "      <td>...</td>\n",
       "      <td>...</td>\n",
       "      <td>...</td>\n",
       "      <td>...</td>\n",
       "      <td>...</td>\n",
       "      <td>...</td>\n",
       "      <td>...</td>\n",
       "      <td>...</td>\n",
       "      <td>...</td>\n",
       "      <td>...</td>\n",
       "      <td>...</td>\n",
       "      <td>...</td>\n",
       "      <td>...</td>\n",
       "      <td>...</td>\n",
       "      <td>...</td>\n",
       "      <td>...</td>\n",
       "      <td>...</td>\n",
       "      <td>...</td>\n",
       "      <td>...</td>\n",
       "      <td>...</td>\n",
       "    </tr>\n",
       "    <tr>\n",
       "      <th>26795</th>\n",
       "      <td>-0.0192448</td>\n",
       "      <td>0.0865451</td>\n",
       "      <td>0.0533272</td>\n",
       "      <td>0.145261</td>\n",
       "      <td>0.0936872</td>\n",
       "      <td>-0.0893175</td>\n",
       "      <td>-0.0901227</td>\n",
       "      <td>0.1138</td>\n",
       "      <td>-0.156645</td>\n",
       "      <td>-0.000527506</td>\n",
       "      <td>...</td>\n",
       "      <td>0</td>\n",
       "      <td>0.506629</td>\n",
       "      <td>0.42803</td>\n",
       "      <td>'#lookingforward', '#theatreland', '#performin...</td>\n",
       "      <td>6</td>\n",
       "      <td>'@evening', '@tiktok', '@nationalyouththeatre'...</td>\n",
       "      <td>4</td>\n",
       "      <td>[]</td>\n",
       "      <td>NaN</td>\n",
       "      <td>0</td>\n",
       "    </tr>\n",
       "    <tr>\n",
       "      <th>26796</th>\n",
       "      <td>0.113651</td>\n",
       "      <td>0.0236181</td>\n",
       "      <td>0.0832359</td>\n",
       "      <td>0.216008</td>\n",
       "      <td>0.131878</td>\n",
       "      <td>-0.0459229</td>\n",
       "      <td>-0.0464613</td>\n",
       "      <td>0.0303035</td>\n",
       "      <td>-0.0657885</td>\n",
       "      <td>-0.108803</td>\n",
       "      <td>...</td>\n",
       "      <td>0</td>\n",
       "      <td>0.416667</td>\n",
       "      <td>0.491667</td>\n",
       "      <td>'#lookingforward', '#travelinspiration', '#lov...</td>\n",
       "      <td>7</td>\n",
       "      <td>'@youmustgoblog'</td>\n",
       "      <td>1</td>\n",
       "      <td>['🍾']</td>\n",
       "      <td>'bottle with popping cork'</td>\n",
       "      <td>1</td>\n",
       "    </tr>\n",
       "    <tr>\n",
       "      <th>26797</th>\n",
       "      <td>0.167428</td>\n",
       "      <td>0.178933</td>\n",
       "      <td>0.116139</td>\n",
       "      <td>0.204664</td>\n",
       "      <td>0.210174</td>\n",
       "      <td>-0.0683209</td>\n",
       "      <td>-0.0148606</td>\n",
       "      <td>0.0844554</td>\n",
       "      <td>-0.0546531</td>\n",
       "      <td>-0.056875</td>\n",
       "      <td>...</td>\n",
       "      <td>0</td>\n",
       "      <td>0.510417</td>\n",
       "      <td>0.260417</td>\n",
       "      <td>'#lookingforward', '#londonviews', '#prettycit...</td>\n",
       "      <td>8</td>\n",
       "      <td>'@damienhewetson'</td>\n",
       "      <td>1</td>\n",
       "      <td>[]</td>\n",
       "      <td>NaN</td>\n",
       "      <td>0</td>\n",
       "    </tr>\n",
       "    <tr>\n",
       "      <th>26798</th>\n",
       "      <td>0.0992637</td>\n",
       "      <td>0.110083</td>\n",
       "      <td>0.0745982</td>\n",
       "      <td>0.171991</td>\n",
       "      <td>0.0815111</td>\n",
       "      <td>-0.160755</td>\n",
       "      <td>-0.0092217</td>\n",
       "      <td>0.0926276</td>\n",
       "      <td>-0.169815</td>\n",
       "      <td>0.0503913</td>\n",
       "      <td>...</td>\n",
       "      <td>0</td>\n",
       "      <td>0.708333</td>\n",
       "      <td>0.445833</td>\n",
       "      <td>'#lookingforward', '#travelinspo', '#datenight...</td>\n",
       "      <td>7</td>\n",
       "      <td>NaN</td>\n",
       "      <td>0</td>\n",
       "      <td>[]</td>\n",
       "      <td>NaN</td>\n",
       "      <td>0</td>\n",
       "    </tr>\n",
       "    <tr>\n",
       "      <th>26799</th>\n",
       "      <td>0.0478637</td>\n",
       "      <td>0.0294624</td>\n",
       "      <td>0.226</td>\n",
       "      <td>0.191033</td>\n",
       "      <td>0.229773</td>\n",
       "      <td>-0.156604</td>\n",
       "      <td>-0.00783686</td>\n",
       "      <td>0.142036</td>\n",
       "      <td>-0.0659618</td>\n",
       "      <td>-0.0426369</td>\n",
       "      <td>...</td>\n",
       "      <td>0</td>\n",
       "      <td>0.401543</td>\n",
       "      <td>0.0975309</td>\n",
       "      <td>'#christmas', '#christmasdecorations', '#festi...</td>\n",
       "      <td>6</td>\n",
       "      <td>NaN</td>\n",
       "      <td>0</td>\n",
       "      <td>[]</td>\n",
       "      <td>NaN</td>\n",
       "      <td>0</td>\n",
       "    </tr>\n",
       "  </tbody>\n",
       "</table>\n",
       "<p>26800 rows × 273 columns</p>\n",
       "</div>"
      ],
      "text/plain": [
       "             0          1          2          3          4          5    \\\n",
       "0      -0.249953   0.532897   0.400055 -0.0485807   0.120604   -0.18166   \n",
       "1      -0.028879   0.609161   0.212907   0.195298   0.158012  -0.160842   \n",
       "2       0.009516   0.393482   0.324104  0.0679904   0.344626  -0.271651   \n",
       "3      0.0427693   0.336523   0.149523    0.16208   0.386487  -0.122692   \n",
       "4     -0.0295043 -0.0571176   0.200799   0.136031  0.0727942  -0.124845   \n",
       "...          ...        ...        ...        ...        ...        ...   \n",
       "26795 -0.0192448  0.0865451  0.0533272   0.145261  0.0936872 -0.0893175   \n",
       "26796   0.113651  0.0236181  0.0832359   0.216008   0.131878 -0.0459229   \n",
       "26797   0.167428   0.178933   0.116139   0.204664   0.210174 -0.0683209   \n",
       "26798  0.0992637   0.110083  0.0745982   0.171991  0.0815111  -0.160755   \n",
       "26799  0.0478637  0.0294624      0.226   0.191033   0.229773  -0.156604   \n",
       "\n",
       "              6          7          8            9    ... 263       264  \\\n",
       "0      -0.0202972  -0.221866 -0.0613042    -0.142154  ...   0         0   \n",
       "1       -0.207414  -0.121827 -0.0371201    0.0266939  ...   0  0.333333   \n",
       "2       -0.106228     -0.147 -0.0294725     0.340887  ...   0  0.333333   \n",
       "3       0.0270971  -0.122955 -0.0737492      0.22793  ...   0         0   \n",
       "4      -0.0892332 -0.0812815  -0.148615    0.0249047  ...   0  0.791667   \n",
       "...           ...        ...        ...          ...  ...  ..       ...   \n",
       "26795  -0.0901227     0.1138  -0.156645 -0.000527506  ...   0  0.506629   \n",
       "26796  -0.0464613  0.0303035 -0.0657885    -0.108803  ...   0  0.416667   \n",
       "26797  -0.0148606  0.0844554 -0.0546531    -0.056875  ...   0  0.510417   \n",
       "26798  -0.0092217  0.0926276  -0.169815    0.0503913  ...   0  0.708333   \n",
       "26799 -0.00783686   0.142036 -0.0659618   -0.0426369  ...   0  0.401543   \n",
       "\n",
       "             265                                                266 267  \\\n",
       "0              0  '#edinburghfoodies', '#edinburghrestaurants', ...  25   \n",
       "1           0.25  '#michelin', '#michelinstar', '#michelinuk', '...  28   \n",
       "2       0.166667  '#michelin', '#michelinstar', '#michelinuk', '...  28   \n",
       "3              0  '#michelin', '#michelinstar', '#michelinuk', '...  30   \n",
       "4     -0.0416667                                                NaN   0   \n",
       "...          ...                                                ...  ..   \n",
       "26795    0.42803  '#lookingforward', '#theatreland', '#performin...   6   \n",
       "26796   0.491667  '#lookingforward', '#travelinspiration', '#lov...   7   \n",
       "26797   0.260417  '#lookingforward', '#londonviews', '#prettycit...   8   \n",
       "26798   0.445833  '#lookingforward', '#travelinspo', '#datenight...   7   \n",
       "26799  0.0975309  '#christmas', '#christmasdecorations', '#festi...   6   \n",
       "\n",
       "                                                     268 269    270  \\\n",
       "0                                                    NaN   0     []   \n",
       "1                                                    NaN   0     []   \n",
       "2                 '@castlegamescotland', '@wellocksfood'   2     []   \n",
       "3                                                    NaN   0     []   \n",
       "4      '@_mark_donald', '@theglenturretlalique', '@ca...  11     []   \n",
       "...                                                  ...  ..    ...   \n",
       "26795  '@evening', '@tiktok', '@nationalyouththeatre'...   4     []   \n",
       "26796                                   '@youmustgoblog'   1  ['🍾']   \n",
       "26797                                  '@damienhewetson'   1     []   \n",
       "26798                                                NaN   0     []   \n",
       "26799                                                NaN   0     []   \n",
       "\n",
       "                              271 272  \n",
       "0                             NaN   0  \n",
       "1                             NaN   0  \n",
       "2                             NaN   0  \n",
       "3                             NaN   0  \n",
       "4                             NaN   0  \n",
       "...                           ...  ..  \n",
       "26795                         NaN   0  \n",
       "26796  'bottle with popping cork'   1  \n",
       "26797                         NaN   0  \n",
       "26798                         NaN   0  \n",
       "26799                         NaN   0  \n",
       "\n",
       "[26800 rows x 273 columns]"
      ]
     },
     "execution_count": 40,
     "metadata": {},
     "output_type": "execute_result"
    }
   ],
   "source": [
    "w2v_Df"
   ]
  },
  {
   "cell_type": "code",
   "execution_count": 41,
   "metadata": {},
   "outputs": [
    {
     "ename": "KeyError",
     "evalue": "'[751 766 768 770 771] not found in axis'",
     "output_type": "error",
     "traceback": [
      "\u001b[1;31m---------------------------------------------------------------------------\u001b[0m",
      "\u001b[1;31mKeyError\u001b[0m                                  Traceback (most recent call last)",
      "\u001b[1;32m~\\AppData\\Local\\Temp\\ipykernel_9988\\2037334278.py\u001b[0m in \u001b[0;36m<module>\u001b[1;34m\u001b[0m\n\u001b[0;32m      1\u001b[0m \u001b[0mdropped\u001b[0m \u001b[1;33m=\u001b[0m \u001b[1;33m[\u001b[0m\u001b[1;36m751\u001b[0m\u001b[1;33m,\u001b[0m\u001b[1;36m766\u001b[0m\u001b[1;33m,\u001b[0m\u001b[1;36m768\u001b[0m\u001b[1;33m,\u001b[0m\u001b[1;36m770\u001b[0m\u001b[1;33m,\u001b[0m\u001b[1;36m771\u001b[0m\u001b[1;33m]\u001b[0m\u001b[1;33m\u001b[0m\u001b[0m\n\u001b[1;32m----> 2\u001b[1;33m \u001b[0mw2v_df\u001b[0m \u001b[1;33m=\u001b[0m \u001b[0mw2v_Df\u001b[0m\u001b[1;33m.\u001b[0m\u001b[0mdrop\u001b[0m\u001b[1;33m(\u001b[0m\u001b[0mdropped\u001b[0m\u001b[1;33m,\u001b[0m\u001b[0maxis\u001b[0m\u001b[1;33m=\u001b[0m\u001b[1;36m1\u001b[0m\u001b[1;33m)\u001b[0m\u001b[1;33m\u001b[0m\u001b[0m\n\u001b[0m\u001b[0;32m      3\u001b[0m \u001b[0mw2v_df\u001b[0m\u001b[1;33m\u001b[0m\u001b[0m\n",
      "\u001b[1;32m~\\anaconda3\\envs\\nlp\\lib\\site-packages\\pandas\\core\\frame.py\u001b[0m in \u001b[0;36mdrop\u001b[1;34m(self, labels, axis, index, columns, level, inplace, errors)\u001b[0m\n\u001b[0;32m   4172\u001b[0m             \u001b[0mlevel\u001b[0m\u001b[1;33m=\u001b[0m\u001b[0mlevel\u001b[0m\u001b[1;33m,\u001b[0m\u001b[1;33m\u001b[0m\u001b[0m\n\u001b[0;32m   4173\u001b[0m             \u001b[0minplace\u001b[0m\u001b[1;33m=\u001b[0m\u001b[0minplace\u001b[0m\u001b[1;33m,\u001b[0m\u001b[1;33m\u001b[0m\u001b[0m\n\u001b[1;32m-> 4174\u001b[1;33m             \u001b[0merrors\u001b[0m\u001b[1;33m=\u001b[0m\u001b[0merrors\u001b[0m\u001b[1;33m,\u001b[0m\u001b[1;33m\u001b[0m\u001b[0m\n\u001b[0m\u001b[0;32m   4175\u001b[0m         )\n\u001b[0;32m   4176\u001b[0m \u001b[1;33m\u001b[0m\u001b[0m\n",
      "\u001b[1;32m~\\anaconda3\\envs\\nlp\\lib\\site-packages\\pandas\\core\\generic.py\u001b[0m in \u001b[0;36mdrop\u001b[1;34m(self, labels, axis, index, columns, level, inplace, errors)\u001b[0m\n\u001b[0;32m   3887\u001b[0m         \u001b[1;32mfor\u001b[0m \u001b[0maxis\u001b[0m\u001b[1;33m,\u001b[0m \u001b[0mlabels\u001b[0m \u001b[1;32min\u001b[0m \u001b[0maxes\u001b[0m\u001b[1;33m.\u001b[0m\u001b[0mitems\u001b[0m\u001b[1;33m(\u001b[0m\u001b[1;33m)\u001b[0m\u001b[1;33m:\u001b[0m\u001b[1;33m\u001b[0m\u001b[0m\n\u001b[0;32m   3888\u001b[0m             \u001b[1;32mif\u001b[0m \u001b[0mlabels\u001b[0m \u001b[1;32mis\u001b[0m \u001b[1;32mnot\u001b[0m \u001b[1;32mNone\u001b[0m\u001b[1;33m:\u001b[0m\u001b[1;33m\u001b[0m\u001b[0m\n\u001b[1;32m-> 3889\u001b[1;33m                 \u001b[0mobj\u001b[0m \u001b[1;33m=\u001b[0m \u001b[0mobj\u001b[0m\u001b[1;33m.\u001b[0m\u001b[0m_drop_axis\u001b[0m\u001b[1;33m(\u001b[0m\u001b[0mlabels\u001b[0m\u001b[1;33m,\u001b[0m \u001b[0maxis\u001b[0m\u001b[1;33m,\u001b[0m \u001b[0mlevel\u001b[0m\u001b[1;33m=\u001b[0m\u001b[0mlevel\u001b[0m\u001b[1;33m,\u001b[0m \u001b[0merrors\u001b[0m\u001b[1;33m=\u001b[0m\u001b[0merrors\u001b[0m\u001b[1;33m)\u001b[0m\u001b[1;33m\u001b[0m\u001b[0m\n\u001b[0m\u001b[0;32m   3890\u001b[0m \u001b[1;33m\u001b[0m\u001b[0m\n\u001b[0;32m   3891\u001b[0m         \u001b[1;32mif\u001b[0m \u001b[0minplace\u001b[0m\u001b[1;33m:\u001b[0m\u001b[1;33m\u001b[0m\u001b[0m\n",
      "\u001b[1;32m~\\anaconda3\\envs\\nlp\\lib\\site-packages\\pandas\\core\\generic.py\u001b[0m in \u001b[0;36m_drop_axis\u001b[1;34m(self, labels, axis, level, errors)\u001b[0m\n\u001b[0;32m   3921\u001b[0m                 \u001b[0mnew_axis\u001b[0m \u001b[1;33m=\u001b[0m \u001b[0maxis\u001b[0m\u001b[1;33m.\u001b[0m\u001b[0mdrop\u001b[0m\u001b[1;33m(\u001b[0m\u001b[0mlabels\u001b[0m\u001b[1;33m,\u001b[0m \u001b[0mlevel\u001b[0m\u001b[1;33m=\u001b[0m\u001b[0mlevel\u001b[0m\u001b[1;33m,\u001b[0m \u001b[0merrors\u001b[0m\u001b[1;33m=\u001b[0m\u001b[0merrors\u001b[0m\u001b[1;33m)\u001b[0m\u001b[1;33m\u001b[0m\u001b[0m\n\u001b[0;32m   3922\u001b[0m             \u001b[1;32melse\u001b[0m\u001b[1;33m:\u001b[0m\u001b[1;33m\u001b[0m\u001b[0m\n\u001b[1;32m-> 3923\u001b[1;33m                 \u001b[0mnew_axis\u001b[0m \u001b[1;33m=\u001b[0m \u001b[0maxis\u001b[0m\u001b[1;33m.\u001b[0m\u001b[0mdrop\u001b[0m\u001b[1;33m(\u001b[0m\u001b[0mlabels\u001b[0m\u001b[1;33m,\u001b[0m \u001b[0merrors\u001b[0m\u001b[1;33m=\u001b[0m\u001b[0merrors\u001b[0m\u001b[1;33m)\u001b[0m\u001b[1;33m\u001b[0m\u001b[0m\n\u001b[0m\u001b[0;32m   3924\u001b[0m             \u001b[0mresult\u001b[0m \u001b[1;33m=\u001b[0m \u001b[0mself\u001b[0m\u001b[1;33m.\u001b[0m\u001b[0mreindex\u001b[0m\u001b[1;33m(\u001b[0m\u001b[1;33m**\u001b[0m\u001b[1;33m{\u001b[0m\u001b[0maxis_name\u001b[0m\u001b[1;33m:\u001b[0m \u001b[0mnew_axis\u001b[0m\u001b[1;33m}\u001b[0m\u001b[1;33m)\u001b[0m\u001b[1;33m\u001b[0m\u001b[0m\n\u001b[0;32m   3925\u001b[0m \u001b[1;33m\u001b[0m\u001b[0m\n",
      "\u001b[1;32m~\\anaconda3\\envs\\nlp\\lib\\site-packages\\pandas\\core\\indexes\\base.py\u001b[0m in \u001b[0;36mdrop\u001b[1;34m(self, labels, errors)\u001b[0m\n\u001b[0;32m   5285\u001b[0m         \u001b[1;32mif\u001b[0m \u001b[0mmask\u001b[0m\u001b[1;33m.\u001b[0m\u001b[0many\u001b[0m\u001b[1;33m(\u001b[0m\u001b[1;33m)\u001b[0m\u001b[1;33m:\u001b[0m\u001b[1;33m\u001b[0m\u001b[0m\n\u001b[0;32m   5286\u001b[0m             \u001b[1;32mif\u001b[0m \u001b[0merrors\u001b[0m \u001b[1;33m!=\u001b[0m \u001b[1;34m\"ignore\"\u001b[0m\u001b[1;33m:\u001b[0m\u001b[1;33m\u001b[0m\u001b[0m\n\u001b[1;32m-> 5287\u001b[1;33m                 \u001b[1;32mraise\u001b[0m \u001b[0mKeyError\u001b[0m\u001b[1;33m(\u001b[0m\u001b[1;34mf\"{labels[mask]} not found in axis\"\u001b[0m\u001b[1;33m)\u001b[0m\u001b[1;33m\u001b[0m\u001b[0m\n\u001b[0m\u001b[0;32m   5288\u001b[0m             \u001b[0mindexer\u001b[0m \u001b[1;33m=\u001b[0m \u001b[0mindexer\u001b[0m\u001b[1;33m[\u001b[0m\u001b[1;33m~\u001b[0m\u001b[0mmask\u001b[0m\u001b[1;33m]\u001b[0m\u001b[1;33m\u001b[0m\u001b[0m\n\u001b[0;32m   5289\u001b[0m         \u001b[1;32mreturn\u001b[0m \u001b[0mself\u001b[0m\u001b[1;33m.\u001b[0m\u001b[0mdelete\u001b[0m\u001b[1;33m(\u001b[0m\u001b[0mindexer\u001b[0m\u001b[1;33m)\u001b[0m\u001b[1;33m\u001b[0m\u001b[0m\n",
      "\u001b[1;31mKeyError\u001b[0m: '[751 766 768 770 771] not found in axis'"
     ]
    }
   ],
   "source": [
    "dropped = [751,766,768,770,771]\n",
    "w2v_df = w2v_Df.drop(dropped,axis=1)\n",
    "w2v_df"
   ]
  },
  {
   "cell_type": "code",
   "execution_count": null,
   "metadata": {},
   "outputs": [],
   "source": [
    "w2v_df = pd.DataFrame(w2v_df)\n",
    "data=w2v_df.astype(str)\n",
    "\n",
    "normalizer = preprocessing.MinMaxScaler(feature_range=(0, 1))\n",
    "w2v_df = pd.DataFrame(normalizer.fit_transform(data),  columns = data.columns)"
   ]
  },
  {
   "cell_type": "code",
   "execution_count": null,
   "metadata": {},
   "outputs": [],
   "source": [
    "y=w2v_df.iloc[ :, -1:]  #Target Variable          \n",
    "X=w2v_df.iloc[: , :-1]  #Feature Matrix \n",
    "\n",
    "X=pd.DataFrame(X)\n",
    "y=pd.DataFrame(y)\n",
    "for i in X.columns:\n",
    "  X[i]=pd.to_numeric(X[i])\n",
    "for i in y.columns:\n",
    "  y[i]=pd.to_numeric(y[i])\n",
    "\n",
    "\n",
    "x_train_w2v_df, x_test_w2v_df, y_train_w2v_df, y_test_w2v_df = train_test_split(X, y, test_size=0.2,random_state=2022)"
   ]
  },
  {
   "cell_type": "code",
   "execution_count": null,
   "metadata": {},
   "outputs": [
    {
     "data": {
      "image/png": "[encoded data removed]",
      "text/plain": [
       "<Figure size 1440x1440 with 1 Axes>"
      ]
     },
     "metadata": {
      "needs_background": "light"
     },
     "output_type": "display_data"
    }
   ],
   "source": [
    "# utils.hyperparameterTuning_XGBoost(x_train_w2v_df,y_train_w2v_df)\n",
    "xg_reg = xgb.XGBRegressor(objective ='reg:squarederror', colsample_bytree = 0.7, learning_rate = 0.03,max_depth = 5, min_child_weight=4,nthread = 4, n_estimators = 500,subsample=0.7)\n",
    "xg_reg.fit(x_train_w2v_df, y_train_w2v_df)\n",
    "y_pred = xg_reg.predict(x_test_w2v_df)\n",
    "utils.plot_feature_importance(xg_reg.feature_importances_,x_train_w2v_df.columns,'XG BOOST')"
   ]
  },
  {
   "cell_type": "code",
   "execution_count": null,
   "metadata": {},
   "outputs": [
    {
     "name": "stdout",
     "output_type": "stream",
     "text": [
      "RMSE: 0.042646\n",
      "\n",
      "R2 Score: 0.335118\n",
      "\n",
      "MAE : 0.025546\n",
      "\n",
      "MSE : 0.001819\n",
      "\n",
      "RMSLE : -3.154829\n",
      "\n",
      "max_error : 0.832655\n",
      "\n"
     ]
    }
   ],
   "source": [
    "utils.metrics(y_test_w2v_df,y_pred)"
   ]
  },
  {
   "cell_type": "code",
   "execution_count": null,
   "metadata": {},
   "outputs": [
    {
     "name": "stderr",
     "output_type": "stream",
     "text": [
      "C:\\Users\\jyoti\\anaconda3\\envs\\nlp\\lib\\site-packages\\ipykernel_launcher.py:3: DataConversionWarning: A column-vector y was passed when a 1d array was expected. Please change the shape of y to (n_samples,), for example using ravel().\n",
      "  This is separate from the ipykernel package so we can avoid doing imports until\n"
     ]
    },
    {
     "name": "stdout",
     "output_type": "stream",
     "text": [
      "RMSE: 0.048068\n",
      "\n",
      "R2 Score: 0.155284\n",
      "\n",
      "MAE : 0.029808\n",
      "\n",
      "MSE : 0.002311\n",
      "\n",
      "RMSLE : -3.035134\n",
      "\n",
      "max_error : 0.834336\n",
      "\n"
     ]
    },
    {
     "data": {
      "image/png": "[encoded data removed]",
      "text/plain": [
       "<Figure size 1440x1440 with 1 Axes>"
      ]
     },
     "metadata": {
      "needs_background": "light"
     },
     "output_type": "display_data"
    }
   ],
   "source": [
    "# utils.hyperparameterTuning_RandomForest(x_train_w2v_df,y_train_w2v_df)\n",
    "rnd_clf = RandomForestRegressor(n_estimators=20, min_samples_split=10, min_samples_leaf=4,max_features='sqrt',max_depth=10,bootstrap=True)\n",
    "rnd_clf.fit(x_train_w2v_df, y_train_w2v_df)\n",
    "y_pred_w2v_df = rnd_clf.predict(x_test_w2v_df)\n",
    "utils.metrics(y_test_w2v_df,y_pred_w2v_df)\n",
    "utils.plot_feature_importance(rnd_clf.feature_importances_,x_train_w2v_df.columns,'RANDOM FOREST')"
   ]
  },
  {
   "cell_type": "code",
   "execution_count": null,
   "metadata": {},
   "outputs": [
    {
     "name": "stdout",
     "output_type": "stream",
     "text": [
      "RMSE: 0.048068\n",
      "\n",
      "R2 Score: 0.155284\n",
      "\n",
      "MAE : 0.029808\n",
      "\n",
      "MSE : 0.002311\n",
      "\n",
      "RMSLE : -3.035134\n",
      "\n",
      "max_error : 0.834336\n",
      "\n"
     ]
    }
   ],
   "source": [
    "utils.metrics(y_test_w2v_df,y_pred_w2v_df)"
   ]
  }
 ],
 "metadata": {
  "interpreter": {
   "hash": "01c34cb7c62c3cc5ddf875ae436936e21dfce03f83f3c287be9fa8f130c5338a"
  },
  "kernelspec": {
   "display_name": "Python 3.7.0 ('nlp')",
   "language": "python",
   "name": "python3"
  },
  "language_info": {
   "codemirror_mode": {
    "name": "ipython",
    "version": 3
   },
   "file_extension": ".py",
   "mimetype": "text/x-python",
   "name": "python",
   "nbconvert_exporter": "python",
   "pygments_lexer": "ipython3",
   "version": "3.7.0"
  },
  "orig_nbformat": 4
 },
 "nbformat": 4,
 "nbformat_minor": 2
}
