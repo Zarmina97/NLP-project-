{
 "cells": [
  {
   "cell_type": "markdown",
   "metadata": {},
   "source": [
    "## Imports"
   ]
  },
  {
   "cell_type": "code",
   "execution_count": 24,
   "metadata": {},
   "outputs": [],
   "source": [
    "import pandas as pd\n",
    "import numpy as np\n",
    "import re\n",
    "import nltk\n",
    "import string"
   ]
  },
  {
   "cell_type": "code",
   "execution_count": 6,
   "metadata": {},
   "outputs": [
    {
     "name": "stderr",
     "output_type": "stream",
     "text": [
      "[nltk_data] Downloading package stopwords to\n",
      "[nltk_data]     C:\\Users\\jyoti\\AppData\\Roaming\\nltk_data...\n",
      "[nltk_data]   Unzipping corpora\\stopwords.zip.\n",
      "[nltk_data] Downloading package wordnet to\n",
      "[nltk_data]     C:\\Users\\jyoti\\AppData\\Roaming\\nltk_data...\n",
      "[nltk_data]   Unzipping corpora\\wordnet.zip.\n"
     ]
    }
   ],
   "source": [
    "! python preprocessing_functions.py"
   ]
  },
  {
   "cell_type": "markdown",
   "metadata": {},
   "source": [
    "## Text reading & extracting information"
   ]
  },
  {
   "cell_type": "code",
   "execution_count": 8,
   "metadata": {},
   "outputs": [
    {
     "name": "stderr",
     "output_type": "stream",
     "text": [
      "C:\\Users\\jyoti\\anaconda3\\envs\\yourenvname\\lib\\site-packages\\IPython\\core\\interactiveshell.py:3441: DtypeWarning: Columns (4,10,20,26,27,44) have mixed types.Specify dtype option on import or set low_memory=False.\n",
      "  exec(code_obj, self.user_global_ns, self.user_ns)\n"
     ]
    },
    {
     "data": {
      "text/plain": [
       "id                                           NaN\n",
       "username                                     NaN\n",
       "fbid                                         NaN\n",
       "connected_fb_page                            NaN\n",
       "profile_pic_url                              NaN\n",
       "full_name                                    NaN\n",
       "biography                                    NaN\n",
       "external_url                                 NaN\n",
       "is_verified                                  NaN\n",
       "is_private                                   NaN\n",
       "category_name                                NaN\n",
       "category_enum                                NaN\n",
       "is_joined_recently                           NaN\n",
       "highlight_reel_count                         NaN\n",
       "has_ar_effects                               NaN\n",
       "has_clips                                    NaN\n",
       "has_guides                                   NaN\n",
       "has_channel                                  NaN\n",
       "is_business_account                          NaN\n",
       "business_address_json                        NaN\n",
       "business_contact_method                      NaN\n",
       "business_email                               NaN\n",
       "business_phone_number                        NaN\n",
       "followers                                    NaN\n",
       "posts_count                                  NaN\n",
       "following                                    NaN\n",
       "status                                       NaN\n",
       "description                                  NaN\n",
       "user_id                                      NaN\n",
       "account                                      NaN\n",
       "caption                                      NaN\n",
       "profile_name                                 NaN\n",
       "profile_image_link                           NaN\n",
       "likes                                        NaN\n",
       "datetime                                     NaN\n",
       "image_url                                    NaN\n",
       "url                                          NaN\n",
       "comments                                     NaN\n",
       "thumbnails                                   NaN\n",
       "input_account                          152harley\n",
       "input_posts_number                         365.0\n",
       "input_post_type                      NormalPosts\n",
       "input_stop_id                                NaN\n",
       "input_date_of_post                           NaN\n",
       "warning                    Page is not available\n",
       "error                                        NaN\n",
       "Name: 0, dtype: object"
      ]
     },
     "execution_count": 8,
     "metadata": {},
     "output_type": "execute_result"
    }
   ],
   "source": [
    "dfRaw = pd.read_csv('Dataset\\Instagram_profile_20220206_113245.csv')\n",
    "dfRaw.iloc[0]"
   ]
  },
  {
   "cell_type": "markdown",
   "metadata": {},
   "source": [
    "## Exploration"
   ]
  },
  {
   "cell_type": "code",
   "execution_count": 10,
   "metadata": {},
   "outputs": [],
   "source": [
    "columns_to_drop = ['username',\n",
    " 'fbid',\n",
    " 'connected_fb_page',\n",
    " 'profile_pic_url',\n",
    " 'full_name',\n",
    " 'is_verified',\n",
    " 'is_private',\n",
    " 'category_name',\n",
    " 'category_enum',\n",
    " 'is_joined_recently',\n",
    " 'highlight_reel_count',\n",
    " 'has_ar_effects',\n",
    " 'has_clips',\n",
    " 'has_guides',\n",
    " 'has_channel',\n",
    " 'is_business_account',\n",
    " 'business_address_json',\n",
    " 'business_contact_method',\n",
    " 'business_email',\n",
    " 'business_phone_number',\n",
    " 'status',\n",
    " 'description',\n",
    " 'user_id',\n",
    " 'input_posts_number',\n",
    " 'input_post_type',\n",
    " 'input_stop_id',\n",
    " 'input_date_of_post',\n",
    " 'warning',\n",
    " 'error']"
   ]
  },
  {
   "cell_type": "markdown",
   "metadata": {},
   "source": [
    "1. likes/followers - ER\n",
    "2. Considering only those accounts who have more than 100 posts. \n",
    "3. Considering the number of likes in the past k days.\n",
    "4. two ways for feature processing - \n",
    "    a. Considering only last k post per user\n",
    "    b. Considering all the posts of the past and deriving (L-k) features in repetivive manner.\n",
    "5. "
   ]
  },
  {
   "cell_type": "code",
   "execution_count": 11,
   "metadata": {},
   "outputs": [
    {
     "data": {
      "text/plain": [
       "29"
      ]
     },
     "execution_count": 11,
     "metadata": {},
     "output_type": "execute_result"
    }
   ],
   "source": [
    "def check_nanColumns(dfRaw):\n",
    "    nan_col = []\n",
    "    cols = list(dfRaw.columns)\n",
    "    for col in cols:\n",
    "        if dfRaw[col].isnull().values.any() == True:\n",
    "            nan_col.append(col)\n",
    "    return nan_col\n",
    "\n",
    "len(columns_to_drop)"
   ]
  },
  {
   "cell_type": "code",
   "execution_count": 12,
   "metadata": {},
   "outputs": [],
   "source": [
    "dfRaw.drop(columns_to_drop, axis = 1, inplace=True)"
   ]
  },
  {
   "cell_type": "code",
   "execution_count": 13,
   "metadata": {},
   "outputs": [
    {
     "name": "stdout",
     "output_type": "stream",
     "text": [
      "Total columns:  ['id', 'biography', 'external_url', 'followers', 'posts_count', 'following', 'account', 'caption', 'profile_name', 'profile_image_link', 'likes', 'datetime', 'image_url', 'url', 'comments', 'thumbnails', 'input_account']  with length:  17 \n",
      " Columns containing nan values:  ['id', 'biography', 'external_url', 'followers', 'posts_count', 'following', 'account', 'caption', 'profile_name', 'profile_image_link', 'likes', 'datetime', 'image_url', 'url', 'comments', 'thumbnails', 'input_account']  and length:  17\n",
      "Shape of dataframe:  (62921, 17)\n"
     ]
    }
   ],
   "source": [
    "cols = list(dfRaw.columns)\n",
    "nan_cols = (check_nanColumns(dfRaw))\n",
    "print('Total columns: ', cols, ' with length: ', len(cols), '\\n','Columns containing nan values: ',nan_cols,' and length: ', len(nan_cols)) #if the columns where nan is accepted, can be dealt here.\n",
    "print('Shape of dataframe: ', dfRaw.shape)"
   ]
  },
  {
   "cell_type": "code",
   "execution_count": 14,
   "metadata": {},
   "outputs": [
    {
     "name": "stdout",
     "output_type": "stream",
     "text": [
      "New shape after removing nan:  (58929, 17)\n"
     ]
    }
   ],
   "source": [
    "#Removing the nan rows from all the columns:\n",
    "dfRaw = dfRaw.dropna()\n",
    "print(\"New shape after removing nan: \", dfRaw.shape)\n"
   ]
  },
  {
   "cell_type": "code",
   "execution_count": 15,
   "metadata": {},
   "outputs": [
    {
     "name": "stdout",
     "output_type": "stream",
     "text": [
      "Total columns:  ['id', 'biography', 'external_url', 'followers', 'posts_count', 'following', 'account', 'caption', 'profile_name', 'profile_image_link', 'likes', 'datetime', 'image_url', 'url', 'comments', 'thumbnails', 'input_account']  with length:  17 \n",
      " Columns containing nan values:  []  and length:  0\n",
      "Shape of dataframe:  (58929, 17)\n"
     ]
    }
   ],
   "source": [
    "cols = list(dfRaw.columns)\n",
    "nan_cols = (check_nanColumns(dfRaw))\n",
    "print('Total columns: ', cols, ' with length: ', len(cols), '\\n','Columns containing nan values: ',nan_cols,' and length: ', len(nan_cols)) #if the columns where nan is accepted, can be dealt here.\n",
    "print('Shape of dataframe: ', dfRaw.shape)"
   ]
  },
  {
   "cell_type": "markdown",
   "metadata": {},
   "source": [
    "## Observations:\n",
    "    1. Thumbnails contains the images as post. Redundant in case of images. \n",
    "    3. POST attribute => image_url, url, thumbnails \n",
    "    2. USER attribute => id, account, profile_name, input_account\n"
   ]
  },
  {
   "cell_type": "code",
   "execution_count": 16,
   "metadata": {},
   "outputs": [
    {
     "data": {
      "text/html": [
       "<div>\n",
       "<style scoped>\n",
       "    .dataframe tbody tr th:only-of-type {\n",
       "        vertical-align: middle;\n",
       "    }\n",
       "\n",
       "    .dataframe tbody tr th {\n",
       "        vertical-align: top;\n",
       "    }\n",
       "\n",
       "    .dataframe thead th {\n",
       "        text-align: right;\n",
       "    }\n",
       "</style>\n",
       "<table border=\"1\" class=\"dataframe\">\n",
       "  <thead>\n",
       "    <tr style=\"text-align: right;\">\n",
       "      <th></th>\n",
       "      <th>id</th>\n",
       "      <th>account</th>\n",
       "      <th>profile_name</th>\n",
       "      <th>input_account</th>\n",
       "    </tr>\n",
       "  </thead>\n",
       "  <tbody>\n",
       "    <tr>\n",
       "      <th>29</th>\n",
       "      <td>2.77E+18</td>\n",
       "      <td>maurino_joffily</td>\n",
       "      <td>Dr. Maurino Joffily</td>\n",
       "      <td>maurino_joffily</td>\n",
       "    </tr>\n",
       "    <tr>\n",
       "      <th>30</th>\n",
       "      <td>2.76E+18</td>\n",
       "      <td>maurino_joffily</td>\n",
       "      <td>Dr. Maurino Joffily</td>\n",
       "      <td>maurino_joffily</td>\n",
       "    </tr>\n",
       "    <tr>\n",
       "      <th>31</th>\n",
       "      <td>2.76E+18</td>\n",
       "      <td>maurino_joffily</td>\n",
       "      <td>Dr. Maurino Joffily</td>\n",
       "      <td>maurino_joffily</td>\n",
       "    </tr>\n",
       "    <tr>\n",
       "      <th>32</th>\n",
       "      <td>2.76E+18</td>\n",
       "      <td>maurino_joffily</td>\n",
       "      <td>Dr. Maurino Joffily</td>\n",
       "      <td>maurino_joffily</td>\n",
       "    </tr>\n",
       "    <tr>\n",
       "      <th>33</th>\n",
       "      <td>2.75E+18</td>\n",
       "      <td>maurino_joffily</td>\n",
       "      <td>Dr. Maurino Joffily</td>\n",
       "      <td>maurino_joffily</td>\n",
       "    </tr>\n",
       "  </tbody>\n",
       "</table>\n",
       "</div>"
      ],
      "text/plain": [
       "          id          account         profile_name    input_account\n",
       "29  2.77E+18  maurino_joffily  Dr. Maurino Joffily  maurino_joffily\n",
       "30  2.76E+18  maurino_joffily  Dr. Maurino Joffily  maurino_joffily\n",
       "31  2.76E+18  maurino_joffily  Dr. Maurino Joffily  maurino_joffily\n",
       "32  2.76E+18  maurino_joffily  Dr. Maurino Joffily  maurino_joffily\n",
       "33  2.75E+18  maurino_joffily  Dr. Maurino Joffily  maurino_joffily"
      ]
     },
     "execution_count": 16,
     "metadata": {},
     "output_type": "execute_result"
    }
   ],
   "source": [
    "dfRaw[['id', 'account', 'profile_name', 'input_account']][:5]"
   ]
  },
  {
   "cell_type": "code",
   "execution_count": 17,
   "metadata": {},
   "outputs": [
    {
     "data": {
      "text/html": [
       "<div>\n",
       "<style scoped>\n",
       "    .dataframe tbody tr th:only-of-type {\n",
       "        vertical-align: middle;\n",
       "    }\n",
       "\n",
       "    .dataframe tbody tr th {\n",
       "        vertical-align: top;\n",
       "    }\n",
       "\n",
       "    .dataframe thead th {\n",
       "        text-align: right;\n",
       "    }\n",
       "</style>\n",
       "<table border=\"1\" class=\"dataframe\">\n",
       "  <thead>\n",
       "    <tr style=\"text-align: right;\">\n",
       "      <th></th>\n",
       "      <th>image_url</th>\n",
       "      <th>url</th>\n",
       "      <th>thumbnails</th>\n",
       "    </tr>\n",
       "  </thead>\n",
       "  <tbody>\n",
       "    <tr>\n",
       "      <th>29</th>\n",
       "      <td>https://instagram.fuvf1-1.fna.fbcdn.net/v/t51....</td>\n",
       "      <td>https://www.instagram.com/p/CZki1wfvXYq/</td>\n",
       "      <td>[{\"src\":\"https://instagram.fuvf1-1.fna.fbcdn.n...</td>\n",
       "    </tr>\n",
       "    <tr>\n",
       "      <th>30</th>\n",
       "      <td>https://instagram.fuvf1-1.fna.fbcdn.net/v/t51....</td>\n",
       "      <td>https://www.instagram.com/p/CZUrYFrOO5v/</td>\n",
       "      <td>[{\"src\":\"https://instagram.fuvf1-1.fna.fbcdn.n...</td>\n",
       "    </tr>\n",
       "    <tr>\n",
       "      <th>31</th>\n",
       "      <td>https://instagram.fuvf1-1.fna.fbcdn.net/v/t51....</td>\n",
       "      <td>https://www.instagram.com/p/CZAgVoyPi0i/</td>\n",
       "      <td>[{\"src\":\"https://instagram.fuvf1-1.fna.fbcdn.n...</td>\n",
       "    </tr>\n",
       "    <tr>\n",
       "      <th>32</th>\n",
       "      <td>https://instagram.fuvf1-1.fna.fbcdn.net/v/t51....</td>\n",
       "      <td>https://www.instagram.com/p/CY9pMGVP_BY/</td>\n",
       "      <td>[{\"src\":\"https://instagram.fuvf1-1.fna.fbcdn.n...</td>\n",
       "    </tr>\n",
       "    <tr>\n",
       "      <th>33</th>\n",
       "      <td>https://instagram.fuvf1-1.fna.fbcdn.net/v/t51....</td>\n",
       "      <td>https://www.instagram.com/p/CYrbwXQrY3v/</td>\n",
       "      <td>[{\"src\":\"https://instagram.fuvf1-1.fna.fbcdn.n...</td>\n",
       "    </tr>\n",
       "  </tbody>\n",
       "</table>\n",
       "</div>"
      ],
      "text/plain": [
       "                                            image_url  \\\n",
       "29  https://instagram.fuvf1-1.fna.fbcdn.net/v/t51....   \n",
       "30  https://instagram.fuvf1-1.fna.fbcdn.net/v/t51....   \n",
       "31  https://instagram.fuvf1-1.fna.fbcdn.net/v/t51....   \n",
       "32  https://instagram.fuvf1-1.fna.fbcdn.net/v/t51....   \n",
       "33  https://instagram.fuvf1-1.fna.fbcdn.net/v/t51....   \n",
       "\n",
       "                                         url  \\\n",
       "29  https://www.instagram.com/p/CZki1wfvXYq/   \n",
       "30  https://www.instagram.com/p/CZUrYFrOO5v/   \n",
       "31  https://www.instagram.com/p/CZAgVoyPi0i/   \n",
       "32  https://www.instagram.com/p/CY9pMGVP_BY/   \n",
       "33  https://www.instagram.com/p/CYrbwXQrY3v/   \n",
       "\n",
       "                                           thumbnails  \n",
       "29  [{\"src\":\"https://instagram.fuvf1-1.fna.fbcdn.n...  \n",
       "30  [{\"src\":\"https://instagram.fuvf1-1.fna.fbcdn.n...  \n",
       "31  [{\"src\":\"https://instagram.fuvf1-1.fna.fbcdn.n...  \n",
       "32  [{\"src\":\"https://instagram.fuvf1-1.fna.fbcdn.n...  \n",
       "33  [{\"src\":\"https://instagram.fuvf1-1.fna.fbcdn.n...  "
      ]
     },
     "execution_count": 17,
     "metadata": {},
     "output_type": "execute_result"
    }
   ],
   "source": [
    "dfRaw[['image_url', 'url', 'thumbnails']][:5]"
   ]
  },
  {
   "cell_type": "markdown",
   "metadata": {},
   "source": [
    "* Hence we keep only *account* & *image_url* for further preprocessing. \n",
    "* We divide the df in two parts:\n",
    "    1. **dfUser**: contains details about user. Since this is repetitive data wrt insta posts.\n",
    "    2. **dfPost**: contains details about the post by the user.  "
   ]
  },
  {
   "cell_type": "code",
   "execution_count": 18,
   "metadata": {},
   "outputs": [
    {
     "name": "stdout",
     "output_type": "stream",
     "text": [
      "17 12\n"
     ]
    }
   ],
   "source": [
    "colsUser = ['account', 'followers','posts_count', 'following', 'biography','external_url', 'profile_image_link']\n",
    "colsPost = ['account','caption', 'likes', 'datetime', 'image_url']\n",
    "print(len(dfRaw.columns), len(colsUser)+len(colsPost))"
   ]
  },
  {
   "cell_type": "code",
   "execution_count": 19,
   "metadata": {},
   "outputs": [
    {
     "data": {
      "text/html": [
       "<div>\n",
       "<style scoped>\n",
       "    .dataframe tbody tr th:only-of-type {\n",
       "        vertical-align: middle;\n",
       "    }\n",
       "\n",
       "    .dataframe tbody tr th {\n",
       "        vertical-align: top;\n",
       "    }\n",
       "\n",
       "    .dataframe thead th {\n",
       "        text-align: right;\n",
       "    }\n",
       "</style>\n",
       "<table border=\"1\" class=\"dataframe\">\n",
       "  <thead>\n",
       "    <tr style=\"text-align: right;\">\n",
       "      <th></th>\n",
       "      <th>account</th>\n",
       "      <th>followers</th>\n",
       "      <th>posts_count</th>\n",
       "      <th>following</th>\n",
       "      <th>biography</th>\n",
       "      <th>external_url</th>\n",
       "      <th>profile_image_link</th>\n",
       "    </tr>\n",
       "  </thead>\n",
       "  <tbody>\n",
       "    <tr>\n",
       "      <th>29</th>\n",
       "      <td>maurino_joffily</td>\n",
       "      <td>23300.0</td>\n",
       "      <td>276.0</td>\n",
       "      <td>7003.0</td>\n",
       "      <td>Have your BBL with an authentic expertðŸ‡§ðŸ‡·...</td>\n",
       "      <td>http://www.drjoffily.co.uk/</td>\n",
       "      <td>https://instagram.fwzy1-2.fna.fbcdn.net/v/t51....</td>\n",
       "    </tr>\n",
       "    <tr>\n",
       "      <th>30</th>\n",
       "      <td>maurino_joffily</td>\n",
       "      <td>23300.0</td>\n",
       "      <td>276.0</td>\n",
       "      <td>7003.0</td>\n",
       "      <td>Have your BBL with an authentic expertðŸ‡§ðŸ‡·...</td>\n",
       "      <td>http://www.drjoffily.co.uk/</td>\n",
       "      <td>https://instagram.fwzy1-2.fna.fbcdn.net/v/t51....</td>\n",
       "    </tr>\n",
       "    <tr>\n",
       "      <th>31</th>\n",
       "      <td>maurino_joffily</td>\n",
       "      <td>23300.0</td>\n",
       "      <td>276.0</td>\n",
       "      <td>7003.0</td>\n",
       "      <td>Have your BBL with an authentic expertðŸ‡§ðŸ‡·...</td>\n",
       "      <td>http://www.drjoffily.co.uk/</td>\n",
       "      <td>https://instagram.fwzy1-2.fna.fbcdn.net/v/t51....</td>\n",
       "    </tr>\n",
       "    <tr>\n",
       "      <th>32</th>\n",
       "      <td>maurino_joffily</td>\n",
       "      <td>23300.0</td>\n",
       "      <td>276.0</td>\n",
       "      <td>7003.0</td>\n",
       "      <td>Have your BBL with an authentic expertðŸ‡§ðŸ‡·...</td>\n",
       "      <td>http://www.drjoffily.co.uk/</td>\n",
       "      <td>https://instagram.fwzy1-2.fna.fbcdn.net/v/t51....</td>\n",
       "    </tr>\n",
       "    <tr>\n",
       "      <th>33</th>\n",
       "      <td>maurino_joffily</td>\n",
       "      <td>23300.0</td>\n",
       "      <td>276.0</td>\n",
       "      <td>7003.0</td>\n",
       "      <td>Have your BBL with an authentic expertðŸ‡§ðŸ‡·...</td>\n",
       "      <td>http://www.drjoffily.co.uk/</td>\n",
       "      <td>https://instagram.fwzy1-2.fna.fbcdn.net/v/t51....</td>\n",
       "    </tr>\n",
       "  </tbody>\n",
       "</table>\n",
       "</div>"
      ],
      "text/plain": [
       "            account  followers  posts_count  following  \\\n",
       "29  maurino_joffily    23300.0        276.0     7003.0   \n",
       "30  maurino_joffily    23300.0        276.0     7003.0   \n",
       "31  maurino_joffily    23300.0        276.0     7003.0   \n",
       "32  maurino_joffily    23300.0        276.0     7003.0   \n",
       "33  maurino_joffily    23300.0        276.0     7003.0   \n",
       "\n",
       "                                            biography  \\\n",
       "29  Have your BBL with an authentic expertðŸ‡§ðŸ‡·...   \n",
       "30  Have your BBL with an authentic expertðŸ‡§ðŸ‡·...   \n",
       "31  Have your BBL with an authentic expertðŸ‡§ðŸ‡·...   \n",
       "32  Have your BBL with an authentic expertðŸ‡§ðŸ‡·...   \n",
       "33  Have your BBL with an authentic expertðŸ‡§ðŸ‡·...   \n",
       "\n",
       "                   external_url  \\\n",
       "29  http://www.drjoffily.co.uk/   \n",
       "30  http://www.drjoffily.co.uk/   \n",
       "31  http://www.drjoffily.co.uk/   \n",
       "32  http://www.drjoffily.co.uk/   \n",
       "33  http://www.drjoffily.co.uk/   \n",
       "\n",
       "                                   profile_image_link  \n",
       "29  https://instagram.fwzy1-2.fna.fbcdn.net/v/t51....  \n",
       "30  https://instagram.fwzy1-2.fna.fbcdn.net/v/t51....  \n",
       "31  https://instagram.fwzy1-2.fna.fbcdn.net/v/t51....  \n",
       "32  https://instagram.fwzy1-2.fna.fbcdn.net/v/t51....  \n",
       "33  https://instagram.fwzy1-2.fna.fbcdn.net/v/t51....  "
      ]
     },
     "execution_count": 19,
     "metadata": {},
     "output_type": "execute_result"
    }
   ],
   "source": [
    "dfUser = dfRaw[colsUser]\n",
    "dfPost = dfRaw[colsPost]\n",
    "dfUser.head()"
   ]
  },
  {
   "cell_type": "code",
   "execution_count": 20,
   "metadata": {},
   "outputs": [
    {
     "data": {
      "text/html": [
       "<div>\n",
       "<style scoped>\n",
       "    .dataframe tbody tr th:only-of-type {\n",
       "        vertical-align: middle;\n",
       "    }\n",
       "\n",
       "    .dataframe tbody tr th {\n",
       "        vertical-align: top;\n",
       "    }\n",
       "\n",
       "    .dataframe thead th {\n",
       "        text-align: right;\n",
       "    }\n",
       "</style>\n",
       "<table border=\"1\" class=\"dataframe\">\n",
       "  <thead>\n",
       "    <tr style=\"text-align: right;\">\n",
       "      <th></th>\n",
       "      <th>account</th>\n",
       "      <th>caption</th>\n",
       "      <th>likes</th>\n",
       "      <th>datetime</th>\n",
       "      <th>image_url</th>\n",
       "    </tr>\n",
       "  </thead>\n",
       "  <tbody>\n",
       "    <tr>\n",
       "      <th>29</th>\n",
       "      <td>maurino_joffily</td>\n",
       "      <td>Quick recovery and result after 10 days only #...</td>\n",
       "      <td>173.0</td>\n",
       "      <td>1.640000e+12</td>\n",
       "      <td>https://instagram.fuvf1-1.fna.fbcdn.net/v/t51....</td>\n",
       "    </tr>\n",
       "    <tr>\n",
       "      <th>30</th>\n",
       "      <td>maurino_joffily</td>\n",
       "      <td>This patient is very happy with this change on...</td>\n",
       "      <td>388.0</td>\n",
       "      <td>1.640000e+12</td>\n",
       "      <td>https://instagram.fuvf1-1.fna.fbcdn.net/v/t51....</td>\n",
       "    </tr>\n",
       "    <tr>\n",
       "      <th>31</th>\n",
       "      <td>maurino_joffily</td>\n",
       "      <td>360 Vaser lipo and fat transfer to correct a h...</td>\n",
       "      <td>160.0</td>\n",
       "      <td>1.640000e+12</td>\n",
       "      <td>https://instagram.fuvf1-1.fna.fbcdn.net/v/t51....</td>\n",
       "    </tr>\n",
       "    <tr>\n",
       "      <th>32</th>\n",
       "      <td>maurino_joffily</td>\n",
       "      <td>Breast uplift without implants is a good combi...</td>\n",
       "      <td>211.0</td>\n",
       "      <td>1.640000e+12</td>\n",
       "      <td>https://instagram.fuvf1-1.fna.fbcdn.net/v/t51....</td>\n",
       "    </tr>\n",
       "    <tr>\n",
       "      <th>33</th>\n",
       "      <td>maurino_joffily</td>\n",
       "      <td>Great transformation after these combined proc...</td>\n",
       "      <td>210.0</td>\n",
       "      <td>1.640000e+12</td>\n",
       "      <td>https://instagram.fuvf1-1.fna.fbcdn.net/v/t51....</td>\n",
       "    </tr>\n",
       "  </tbody>\n",
       "</table>\n",
       "</div>"
      ],
      "text/plain": [
       "            account                                            caption  likes  \\\n",
       "29  maurino_joffily  Quick recovery and result after 10 days only #...  173.0   \n",
       "30  maurino_joffily  This patient is very happy with this change on...  388.0   \n",
       "31  maurino_joffily  360 Vaser lipo and fat transfer to correct a h...  160.0   \n",
       "32  maurino_joffily  Breast uplift without implants is a good combi...  211.0   \n",
       "33  maurino_joffily  Great transformation after these combined proc...  210.0   \n",
       "\n",
       "        datetime                                          image_url  \n",
       "29  1.640000e+12  https://instagram.fuvf1-1.fna.fbcdn.net/v/t51....  \n",
       "30  1.640000e+12  https://instagram.fuvf1-1.fna.fbcdn.net/v/t51....  \n",
       "31  1.640000e+12  https://instagram.fuvf1-1.fna.fbcdn.net/v/t51....  \n",
       "32  1.640000e+12  https://instagram.fuvf1-1.fna.fbcdn.net/v/t51....  \n",
       "33  1.640000e+12  https://instagram.fuvf1-1.fna.fbcdn.net/v/t51....  "
      ]
     },
     "execution_count": 20,
     "metadata": {},
     "output_type": "execute_result"
    }
   ],
   "source": [
    "dfPost.head()"
   ]
  },
  {
   "cell_type": "markdown",
   "metadata": {},
   "source": [
    "### Removing duplicates from the dfUser & dfPost\n",
    "* 'account' works as key for both the dataframes dfUser and dfPost"
   ]
  },
  {
   "cell_type": "code",
   "execution_count": 21,
   "metadata": {},
   "outputs": [
    {
     "name": "stdout",
     "output_type": "stream",
     "text": [
      "Shapes before dropping the duplicates in dfPost and dfUser:  (58929, 5) (58929, 7)\n",
      "Shapes after dropping the duplicates in dfPost and dfUser:  (58929, 5) (367, 7)\n"
     ]
    },
    {
     "name": "stderr",
     "output_type": "stream",
     "text": [
      "C:\\Users\\jyoti\\anaconda3\\envs\\yourenvname\\lib\\site-packages\\pandas\\util\\_decorators.py:311: SettingWithCopyWarning: \n",
      "A value is trying to be set on a copy of a slice from a DataFrame\n",
      "\n",
      "See the caveats in the documentation: https://pandas.pydata.org/pandas-docs/stable/user_guide/indexing.html#returning-a-view-versus-a-copy\n",
      "  return func(*args, **kwargs)\n"
     ]
    }
   ],
   "source": [
    "print('Shapes before dropping the duplicates in dfPost and dfUser: ', dfPost.shape, dfUser.shape)\n",
    "dfPost.drop_duplicates(inplace=True)\n",
    "dfUser.drop_duplicates(inplace=True)\n",
    "print('Shapes after dropping the duplicates in dfPost and dfUser: ', dfPost.shape, dfUser.shape) "
   ]
  },
  {
   "cell_type": "markdown",
   "metadata": {},
   "source": [
    "## Insights in UserData"
   ]
  },
  {
   "cell_type": "code",
   "execution_count": 62,
   "metadata": {},
   "outputs": [
    {
     "data": {
      "text/html": [
       "<div>\n",
       "<style scoped>\n",
       "    .dataframe tbody tr th:only-of-type {\n",
       "        vertical-align: middle;\n",
       "    }\n",
       "\n",
       "    .dataframe tbody tr th {\n",
       "        vertical-align: top;\n",
       "    }\n",
       "\n",
       "    .dataframe thead th {\n",
       "        text-align: right;\n",
       "    }\n",
       "</style>\n",
       "<table border=\"1\" class=\"dataframe\">\n",
       "  <thead>\n",
       "    <tr style=\"text-align: right;\">\n",
       "      <th></th>\n",
       "      <th>account</th>\n",
       "      <th>followers</th>\n",
       "      <th>posts_count</th>\n",
       "      <th>following</th>\n",
       "      <th>biography</th>\n",
       "      <th>external_url</th>\n",
       "      <th>profile_image_link</th>\n",
       "    </tr>\n",
       "  </thead>\n",
       "  <tbody>\n",
       "    <tr>\n",
       "      <th>29</th>\n",
       "      <td>maurino_joffily</td>\n",
       "      <td>23300.0</td>\n",
       "      <td>276.0</td>\n",
       "      <td>7003.0</td>\n",
       "      <td>Have your BBL with an authentic expert🇧🇷\\nSpec...</td>\n",
       "      <td>http://www.drjoffily.co.uk/</td>\n",
       "      <td>https://instagram.fwzy1-2.fna.fbcdn.net/v/t51....</td>\n",
       "    </tr>\n",
       "    <tr>\n",
       "      <th>124</th>\n",
       "      <td>CosmeticSurgeonsLondon</td>\n",
       "      <td>77790.0</td>\n",
       "      <td>1041.0</td>\n",
       "      <td>2954.0</td>\n",
       "      <td>📍London &amp; Herts\\n🩺 Plastic Surgeon 20yr experi...</td>\n",
       "      <td>http://www.cosmeticsurgeonslondon.co.uk/</td>\n",
       "      <td>https://scontent-lga3-2.cdninstagram.com/v/t51...</td>\n",
       "    </tr>\n",
       "    <tr>\n",
       "      <th>173</th>\n",
       "      <td>neilbulstrode</td>\n",
       "      <td>576.0</td>\n",
       "      <td>10.0</td>\n",
       "      <td>24.0</td>\n",
       "      <td>Consultant Plastic Reconstructive and Cosmetic...</td>\n",
       "      <td>http://www.neilbulstrode.com/</td>\n",
       "      <td>https://scontent-bos3-1.cdninstagram.com/v/t51...</td>\n",
       "    </tr>\n",
       "    <tr>\n",
       "      <th>177</th>\n",
       "      <td>capitolcitydental</td>\n",
       "      <td>37.0</td>\n",
       "      <td>4.0</td>\n",
       "      <td>34.0</td>\n",
       "      <td>I can’t feel my face when I’m with you 💉 😷</td>\n",
       "      <td>http://capitolcitydental.com/</td>\n",
       "      <td>https://instagram.fmia1-2.fna.fbcdn.net/v/t51....</td>\n",
       "    </tr>\n",
       "    <tr>\n",
       "      <th>180</th>\n",
       "      <td>bodysilk</td>\n",
       "      <td>291.0</td>\n",
       "      <td>156.0</td>\n",
       "      <td>708.0</td>\n",
       "      <td>#Startyourownsalon with Body Silk #franchise. ...</td>\n",
       "      <td>http://www.bodysilk.co.uk/</td>\n",
       "      <td>https://scontent-atl3-1.cdninstagram.com/v/t51...</td>\n",
       "    </tr>\n",
       "  </tbody>\n",
       "</table>\n",
       "</div>"
      ],
      "text/plain": [
       "                    account  followers  posts_count  following  \\\n",
       "29          maurino_joffily    23300.0        276.0     7003.0   \n",
       "124  CosmeticSurgeonsLondon    77790.0       1041.0     2954.0   \n",
       "173           neilbulstrode      576.0         10.0       24.0   \n",
       "177       capitolcitydental       37.0          4.0       34.0   \n",
       "180                bodysilk      291.0        156.0      708.0   \n",
       "\n",
       "                                             biography  \\\n",
       "29   Have your BBL with an authentic expert🇧🇷\\nSpec...   \n",
       "124  📍London & Herts\\n🩺 Plastic Surgeon 20yr experi...   \n",
       "173  Consultant Plastic Reconstructive and Cosmetic...   \n",
       "177         I can’t feel my face when I’m with you 💉 😷   \n",
       "180  #Startyourownsalon with Body Silk #franchise. ...   \n",
       "\n",
       "                                 external_url  \\\n",
       "29                http://www.drjoffily.co.uk/   \n",
       "124  http://www.cosmeticsurgeonslondon.co.uk/   \n",
       "173             http://www.neilbulstrode.com/   \n",
       "177             http://capitolcitydental.com/   \n",
       "180                http://www.bodysilk.co.uk/   \n",
       "\n",
       "                                    profile_image_link  \n",
       "29   https://instagram.fwzy1-2.fna.fbcdn.net/v/t51....  \n",
       "124  https://scontent-lga3-2.cdninstagram.com/v/t51...  \n",
       "173  https://scontent-bos3-1.cdninstagram.com/v/t51...  \n",
       "177  https://instagram.fmia1-2.fna.fbcdn.net/v/t51....  \n",
       "180  https://scontent-atl3-1.cdninstagram.com/v/t51...  "
      ]
     },
     "execution_count": 62,
     "metadata": {},
     "output_type": "execute_result"
    }
   ],
   "source": [
    "dfUser.head()"
   ]
  },
  {
   "cell_type": "code",
   "execution_count": 72,
   "metadata": {},
   "outputs": [],
   "source": [
    "quantUser_hi = dfUser['followers'].quantile(.80)\n",
    "quantUser_lo = dfUser['followers'].quantile (.10)\n",
    "dfUserFiltered = dfUser[(dfUser[\"followers\"] < quantUser_hi) & (dfUser[\"followers\"] > quantUser_lo)]"
   ]
  },
  {
   "cell_type": "code",
   "execution_count": 80,
   "metadata": {},
   "outputs": [
    {
     "data": {
      "image/png": "[encoded data removed]",
      "text/plain": [
       "<Figure size 1008x504 with 2 Axes>"
      ]
     },
     "metadata": {},
     "output_type": "display_data"
    }
   ],
   "source": [
    "fig, (ax1, ax2) = plt.subplots(2)\n",
    "ax1.bar(dfUser['account'], dfUser['followers'])\n",
    "ax2.bar(dfUserFiltered['account'], dfUserFiltered['followers'] )\n",
    "plt.show()"
   ]
  },
  {
   "cell_type": "code",
   "execution_count": 81,
   "metadata": {},
   "outputs": [
    {
     "data": {
      "text/plain": [
       "(58929, 5)"
      ]
     },
     "execution_count": 81,
     "metadata": {},
     "output_type": "execute_result"
    }
   ],
   "source": [
    "dfPost.shape"
   ]
  },
  {
   "cell_type": "code",
   "execution_count": null,
   "metadata": {},
   "outputs": [],
   "source": [
    "'''\n",
    "nunmber of likes vs ~ time in the week\n",
    "dealing with organic likes\n",
    "clustering on the df, \n",
    "\n",
    "'''"
   ]
  }
 ],
 "metadata": {
  "interpreter": {
   "hash": "10344cc2630caee6c426f20c539f54d9cac1d1c4347cedafcb6cd557f4800b22"
  },
  "kernelspec": {
   "display_name": "Python 3.8.8 64-bit ('base': conda)",
   "language": "python",
   "name": "python3"
  },
  "language_info": {
   "codemirror_mode": {
    "name": "ipython",
    "version": 3
   },
   "file_extension": ".py",
   "mimetype": "text/x-python",
   "name": "python",
   "nbconvert_exporter": "python",
   "pygments_lexer": "ipython3",
   "version": "3.8.8"
  },
  "orig_nbformat": 4
 },
 "nbformat": 4,
 "nbformat_minor": 2
}
