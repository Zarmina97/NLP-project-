{
  "nbformat": 4,
  "nbformat_minor": 0,
  "metadata": {
    "colab": {
      "name": "doc2vec model.ipynb",
      "provenance": [],
      "toc_visible": true
    },
    "kernelspec": {
      "name": "python3",
      "display_name": "Python 3"
    },
    "language_info": {
      "name": "python"
    }
  },
  "cells": [
    {
      "cell_type": "code",
      "execution_count": 24,
      "metadata": {
        "id": "oz9ozsbb7r8Y"
      },
      "outputs": [],
      "source": [
        "import re  # For preprocessing\n",
        "import pandas as pd  # For data handling\n",
        "from time import time  # To time our operations\n",
        "from collections import defaultdict  # For word frequency\n",
        "import seaborn as sns\n",
        "import spacy  # For preprocessing\n",
        "\n",
        "import logging  # Setting up the loggings to monitor gensim\n",
        "logging.basicConfig(format=\"%(levelname)s - %(asctime)s: %(message)s\", datefmt= '%H:%M:%S', level=logging.INFO)\n",
        "\n",
        "import multiprocessing\n",
        "import numpy as np\n",
        "import matplotlib.pyplot as plt\n",
        "from sklearn.decomposition import PCA\n",
        "from sklearn.manifold import TSNE\n",
        "\n",
        "from gensim.models import Doc2Vec"
      ]
    },
    {
      "cell_type": "code",
      "source": [
        "df=pd.read_csv('after_preprocessing.csv')"
      ],
      "metadata": {
        "id": "Yc99eHiO78nU"
      },
      "execution_count": 3,
      "outputs": []
    },
    {
      "cell_type": "code",
      "source": [
        "data=df[['caption', 'hashtags', 'biography']]"
      ],
      "metadata": {
        "id": "mBGWUkBV7983"
      },
      "execution_count": 4,
      "outputs": []
    },
    {
      "cell_type": "code",
      "source": [
        "from gensim.models.phrases import Phrases, Phraser"
      ],
      "metadata": {
        "id": "AMQDzDax7_o5"
      },
      "execution_count": 5,
      "outputs": []
    },
    {
      "cell_type": "markdown",
      "source": [
        "#Caption"
      ],
      "metadata": {
        "id": "JkSgT61q8CfD"
      }
    },
    {
      "cell_type": "code",
      "source": [
        "sent_cap = [str(row).split() for row in data['caption']]\n",
        "phrases = Phrases(sent_cap, min_count=30, progress_per=10000)\n",
        "bigram_cap = Phraser(phrases)\n",
        "sentences_cap = bigram_cap[sent_cap]"
      ],
      "metadata": {
        "colab": {
          "base_uri": "https://localhost:8080/"
        },
        "id": "PIrLouqi8DtL",
        "outputId": "284239f7-5bdd-4309-9392-a5b54f355299"
      },
      "execution_count": 6,
      "outputs": [
        {
          "output_type": "stream",
          "name": "stderr",
          "text": [
            "INFO - 14:07:47: collecting all words and their counts\n",
            "INFO - 14:07:47: PROGRESS: at sentence #0, processed 0 words and 0 word types\n",
            "INFO - 14:07:48: PROGRESS: at sentence #10000, processed 418087 words and 278239 word types\n",
            "INFO - 14:07:49: PROGRESS: at sentence #20000, processed 807461 words and 488196 word types\n",
            "INFO - 14:07:49: PROGRESS: at sentence #30000, processed 1210158 words and 680680 word types\n",
            "INFO - 14:07:50: PROGRESS: at sentence #40000, processed 1612559 words and 854072 word types\n",
            "INFO - 14:07:51: collected 923614 word types from a corpus of 1788870 words (unigram + bigrams) and 44159 sentences\n",
            "INFO - 14:07:51: using 923614 counts as vocab in Phrases<0 vocab, min_count=30, threshold=10.0, max_vocab_size=40000000>\n",
            "INFO - 14:07:51: source_vocab length 923614\n",
            "INFO - 14:08:00: Phraser built with 2882 phrasegrams\n"
          ]
        }
      ]
    },
    {
      "cell_type": "code",
      "source": [
        "cores = multiprocessing.cpu_count() # Count the number of cores in a computer\n",
        "d2v_model_caption = Doc2Vec(min_count=20,\n",
        "                     window=2,\n",
        "                     size=300,\n",
        "                     sample=6e-5, \n",
        "                     alpha=0.03, \n",
        "                     min_alpha=0.0007, \n",
        "                     negative=20,\n",
        "                     workers=cores-1)"
      ],
      "metadata": {
        "colab": {
          "base_uri": "https://localhost:8080/"
        },
        "id": "UuHWMUIW8S1-",
        "outputId": "f9f3018c-6655-4a55-8c65-dca0ac0b066e"
      },
      "execution_count": 7,
      "outputs": [
        {
          "output_type": "stream",
          "name": "stderr",
          "text": [
            "/usr/local/lib/python3.7/dist-packages/gensim/models/doc2vec.py:570: UserWarning: The parameter `size` is deprecated, will be removed in 4.0.0, use `vector_size` instead.\n",
            "  warnings.warn(\"The parameter `size` is deprecated, will be removed in 4.0.0, use `vector_size` instead.\")\n"
          ]
        }
      ]
    },
    {
      "cell_type": "code",
      "source": [
        "t = time()\n",
        "#d=Doc2Vec()\n",
        "from gensim.models.doc2vec import Doc2Vec, TaggedDocument\n",
        "\n",
        "sentences = [TaggedDocument(sentence, 'tag') for sentence in sentences_cap]\n",
        "\n",
        "d2v_model_caption.build_vocab(sentences, progress_per=10000)\n",
        "\n",
        "print('Time to build vocab: {} mins'.format(round((time() - t) / 60, 2)))"
      ],
      "metadata": {
        "colab": {
          "base_uri": "https://localhost:8080/"
        },
        "id": "Lxz-hL9Z8anu",
        "outputId": "314320c4-756c-46fb-fd2a-c3d3bcd24fa8"
      },
      "execution_count": 15,
      "outputs": [
        {
          "output_type": "stream",
          "name": "stderr",
          "text": [
            "INFO - 14:29:26: collecting all words and their counts\n",
            "INFO - 14:29:26: PROGRESS: at example #0, processed 0 words (0/s), 0 word types, 0 tags\n",
            "INFO - 14:29:26: PROGRESS: at example #10000, processed 375856 words (2006753/s), 39009 word types, 3 tags\n",
            "INFO - 14:29:26: PROGRESS: at example #20000, processed 725579 words (1784910/s), 62739 word types, 3 tags\n",
            "INFO - 14:29:26: PROGRESS: at example #30000, processed 1085634 words (1802453/s), 82876 word types, 3 tags\n",
            "INFO - 14:29:27: PROGRESS: at example #40000, processed 1445891 words (1639332/s), 99458 word types, 3 tags\n",
            "INFO - 14:29:27: collected 105808 word types and 3 unique tags from a corpus of 44159 examples and 1602615 words\n",
            "INFO - 14:29:27: Loading a fresh vocabulary\n",
            "INFO - 14:29:27: effective_min_count=20 retains 10103 unique words (9% of original 105808, drops 95705)\n",
            "INFO - 14:29:27: effective_min_count=20 leaves 1356398 word corpus (84% of original 1602615, drops 246217)\n",
            "INFO - 14:29:27: deleting the raw counts dictionary of 105808 items\n",
            "INFO - 14:29:27: sample=6e-05 downsamples 1265 most-common words\n",
            "INFO - 14:29:27: downsampling leaves estimated 894140 word corpus (65.9% of prior 1356398)\n",
            "INFO - 14:29:27: estimated required memory for 10103 words and 300 dimensions: 29302900 bytes\n",
            "INFO - 14:29:27: resetting layer weights\n"
          ]
        },
        {
          "output_type": "stream",
          "name": "stdout",
          "text": [
            "Time to build vocab: 0.15 mins\n"
          ]
        }
      ]
    },
    {
      "cell_type": "code",
      "source": [
        "t = time()\n",
        "\n",
        "d2v_model_caption.train(sentences, total_examples=d2v_model_caption.corpus_count, epochs=30, report_delay=1)\n",
        "\n",
        "print('Time to train the model: {} mins'.format(round((time() - t) / 60, 2)))"
      ],
      "metadata": {
        "colab": {
          "base_uri": "https://localhost:8080/"
        },
        "id": "b75Zruf38eeM",
        "outputId": "3d2a031a-d0ec-4c32-9e19-a48a4aa7e3de"
      },
      "execution_count": 16,
      "outputs": [
        {
          "output_type": "stream",
          "name": "stderr",
          "text": [
            "INFO - 14:29:43: training model with 1 workers on 10103 vocabulary and 300 features, using sg=0 hs=0 sample=6e-05 negative=20 window=2\n",
            "INFO - 14:29:44: EPOCH 1 - PROGRESS: at 10.19% examples, 96473 words/s, in_qsize 1, out_qsize 0\n",
            "INFO - 14:29:45: EPOCH 1 - PROGRESS: at 19.59% examples, 96853 words/s, in_qsize 2, out_qsize 0\n",
            "INFO - 14:29:47: EPOCH 1 - PROGRESS: at 28.95% examples, 97580 words/s, in_qsize 1, out_qsize 0\n",
            "INFO - 14:29:48: EPOCH 1 - PROGRESS: at 39.91% examples, 97581 words/s, in_qsize 1, out_qsize 0\n",
            "INFO - 14:29:49: EPOCH 1 - PROGRESS: at 50.28% examples, 97372 words/s, in_qsize 1, out_qsize 0\n",
            "INFO - 14:29:50: EPOCH 1 - PROGRESS: at 60.00% examples, 97337 words/s, in_qsize 2, out_qsize 0\n",
            "INFO - 14:29:51: EPOCH 1 - PROGRESS: at 69.70% examples, 97286 words/s, in_qsize 1, out_qsize 0\n",
            "INFO - 14:29:52: EPOCH 1 - PROGRESS: at 79.24% examples, 97536 words/s, in_qsize 1, out_qsize 0\n",
            "INFO - 14:29:53: EPOCH 1 - PROGRESS: at 90.00% examples, 97823 words/s, in_qsize 1, out_qsize 0\n",
            "INFO - 14:29:54: EPOCH 1 - PROGRESS: at 99.67% examples, 97718 words/s, in_qsize 1, out_qsize 0\n",
            "INFO - 14:29:54: worker thread finished; awaiting finish of 0 more threads\n",
            "INFO - 14:29:54: EPOCH - 1 : training on 1602615 raw words (1026979 effective words) took 10.5s, 97683 effective words/s\n",
            "INFO - 14:29:55: EPOCH 2 - PROGRESS: at 10.19% examples, 96715 words/s, in_qsize 1, out_qsize 0\n",
            "INFO - 14:29:56: EPOCH 2 - PROGRESS: at 19.59% examples, 97154 words/s, in_qsize 1, out_qsize 0\n",
            "INFO - 14:29:57: EPOCH 2 - PROGRESS: at 28.95% examples, 97249 words/s, in_qsize 1, out_qsize 0\n",
            "INFO - 14:29:58: EPOCH 2 - PROGRESS: at 39.26% examples, 96759 words/s, in_qsize 2, out_qsize 0\n",
            "INFO - 14:29:59: EPOCH 2 - PROGRESS: at 49.92% examples, 97020 words/s, in_qsize 1, out_qsize 0\n",
            "INFO - 14:30:00: EPOCH 2 - PROGRESS: at 59.36% examples, 97066 words/s, in_qsize 1, out_qsize 0\n",
            "INFO - 14:30:01: EPOCH 2 - PROGRESS: at 69.15% examples, 97080 words/s, in_qsize 2, out_qsize 0\n",
            "INFO - 14:30:02: EPOCH 2 - PROGRESS: at 78.43% examples, 97187 words/s, in_qsize 1, out_qsize 0\n",
            "INFO - 14:30:03: EPOCH 2 - PROGRESS: at 88.53% examples, 97294 words/s, in_qsize 2, out_qsize 0\n",
            "INFO - 14:30:04: EPOCH 2 - PROGRESS: at 98.27% examples, 97443 words/s, in_qsize 2, out_qsize 0\n",
            "INFO - 14:30:04: worker thread finished; awaiting finish of 0 more threads\n",
            "INFO - 14:30:04: EPOCH - 2 : training on 1602615 raw words (1026518 effective words) took 10.5s, 97445 effective words/s\n",
            "INFO - 14:30:05: EPOCH 3 - PROGRESS: at 10.19% examples, 96848 words/s, in_qsize 2, out_qsize 0\n",
            "INFO - 14:30:07: EPOCH 3 - PROGRESS: at 19.59% examples, 98605 words/s, in_qsize 1, out_qsize 0\n",
            "INFO - 14:30:08: EPOCH 3 - PROGRESS: at 28.95% examples, 98771 words/s, in_qsize 1, out_qsize 0\n",
            "INFO - 14:30:09: EPOCH 3 - PROGRESS: at 39.26% examples, 98098 words/s, in_qsize 1, out_qsize 0\n",
            "INFO - 14:30:10: EPOCH 3 - PROGRESS: at 49.04% examples, 97382 words/s, in_qsize 1, out_qsize 0\n",
            "INFO - 14:30:11: EPOCH 3 - PROGRESS: at 58.79% examples, 97276 words/s, in_qsize 1, out_qsize 0\n",
            "INFO - 14:30:12: EPOCH 3 - PROGRESS: at 68.62% examples, 97535 words/s, in_qsize 1, out_qsize 0\n",
            "INFO - 14:30:13: EPOCH 3 - PROGRESS: at 77.83% examples, 97490 words/s, in_qsize 2, out_qsize 0\n",
            "INFO - 14:30:14: EPOCH 3 - PROGRESS: at 88.53% examples, 97828 words/s, in_qsize 1, out_qsize 0\n",
            "INFO - 14:30:15: EPOCH 3 - PROGRESS: at 98.27% examples, 98020 words/s, in_qsize 1, out_qsize 0\n",
            "INFO - 14:30:15: worker thread finished; awaiting finish of 0 more threads\n",
            "INFO - 14:30:15: EPOCH - 3 : training on 1602615 raw words (1025818 effective words) took 10.5s, 98009 effective words/s\n",
            "INFO - 14:30:16: EPOCH 4 - PROGRESS: at 10.19% examples, 99931 words/s, in_qsize 1, out_qsize 0\n",
            "INFO - 14:30:17: EPOCH 4 - PROGRESS: at 19.59% examples, 100561 words/s, in_qsize 1, out_qsize 0\n",
            "INFO - 14:30:18: EPOCH 4 - PROGRESS: at 28.95% examples, 100393 words/s, in_qsize 1, out_qsize 0\n",
            "INFO - 14:30:19: EPOCH 4 - PROGRESS: at 39.91% examples, 99818 words/s, in_qsize 1, out_qsize 0\n",
            "INFO - 14:30:20: EPOCH 4 - PROGRESS: at 50.28% examples, 99975 words/s, in_qsize 1, out_qsize 0\n",
            "INFO - 14:30:21: EPOCH 4 - PROGRESS: at 60.87% examples, 100284 words/s, in_qsize 1, out_qsize 0\n",
            "INFO - 14:30:22: EPOCH 4 - PROGRESS: at 70.92% examples, 100615 words/s, in_qsize 1, out_qsize 0\n",
            "INFO - 14:30:23: EPOCH 4 - PROGRESS: at 81.49% examples, 100660 words/s, in_qsize 1, out_qsize 0\n",
            "INFO - 14:30:24: EPOCH 4 - PROGRESS: at 91.74% examples, 100531 words/s, in_qsize 1, out_qsize 0\n",
            "INFO - 14:30:25: worker thread finished; awaiting finish of 0 more threads\n",
            "INFO - 14:30:25: EPOCH - 4 : training on 1602615 raw words (1025661 effective words) took 10.2s, 100638 effective words/s\n",
            "INFO - 14:30:26: EPOCH 5 - PROGRESS: at 10.89% examples, 102538 words/s, in_qsize 1, out_qsize 0\n",
            "INFO - 14:30:27: EPOCH 5 - PROGRESS: at 20.59% examples, 103424 words/s, in_qsize 1, out_qsize 0\n",
            "INFO - 14:30:28: EPOCH 5 - PROGRESS: at 31.02% examples, 103412 words/s, in_qsize 1, out_qsize 0\n",
            "INFO - 14:30:29: EPOCH 5 - PROGRESS: at 41.79% examples, 103124 words/s, in_qsize 1, out_qsize 0\n",
            "INFO - 14:30:30: EPOCH 5 - PROGRESS: at 52.13% examples, 102862 words/s, in_qsize 1, out_qsize 0\n",
            "INFO - 14:30:31: EPOCH 5 - PROGRESS: at 63.08% examples, 102803 words/s, in_qsize 1, out_qsize 0\n",
            "INFO - 14:30:32: EPOCH 5 - PROGRESS: at 72.72% examples, 103037 words/s, in_qsize 1, out_qsize 0\n",
            "INFO - 14:30:33: EPOCH 5 - PROGRESS: at 83.51% examples, 103128 words/s, in_qsize 2, out_qsize 0\n",
            "INFO - 14:30:34: EPOCH 5 - PROGRESS: at 93.88% examples, 103180 words/s, in_qsize 2, out_qsize 0\n",
            "INFO - 14:30:35: worker thread finished; awaiting finish of 0 more threads\n",
            "INFO - 14:30:35: EPOCH - 5 : training on 1602615 raw words (1026369 effective words) took 10.0s, 103118 effective words/s\n",
            "INFO - 14:30:36: EPOCH 6 - PROGRESS: at 10.89% examples, 101812 words/s, in_qsize 1, out_qsize 0\n",
            "INFO - 14:30:37: EPOCH 6 - PROGRESS: at 20.59% examples, 102767 words/s, in_qsize 1, out_qsize 0\n",
            "INFO - 14:30:38: EPOCH 6 - PROGRESS: at 30.19% examples, 101248 words/s, in_qsize 1, out_qsize 0\n",
            "INFO - 14:30:39: EPOCH 6 - PROGRESS: at 41.26% examples, 100833 words/s, in_qsize 2, out_qsize 0\n",
            "INFO - 14:30:40: EPOCH 6 - PROGRESS: at 51.59% examples, 100861 words/s, in_qsize 1, out_qsize 0\n",
            "INFO - 14:30:41: EPOCH 6 - PROGRESS: at 62.26% examples, 101113 words/s, in_qsize 1, out_qsize 0\n",
            "INFO - 14:30:42: EPOCH 6 - PROGRESS: at 72.01% examples, 101413 words/s, in_qsize 1, out_qsize 0\n",
            "INFO - 14:30:43: EPOCH 6 - PROGRESS: at 82.18% examples, 101376 words/s, in_qsize 1, out_qsize 0\n",
            "INFO - 14:30:44: EPOCH 6 - PROGRESS: at 92.45% examples, 101312 words/s, in_qsize 1, out_qsize 0\n",
            "INFO - 14:30:45: worker thread finished; awaiting finish of 0 more threads\n",
            "INFO - 14:30:45: EPOCH - 6 : training on 1602615 raw words (1026853 effective words) took 10.1s, 101423 effective words/s\n",
            "INFO - 14:30:46: EPOCH 7 - PROGRESS: at 10.19% examples, 101077 words/s, in_qsize 1, out_qsize 0\n",
            "INFO - 14:30:47: EPOCH 7 - PROGRESS: at 19.59% examples, 101398 words/s, in_qsize 2, out_qsize 0\n",
            "INFO - 14:30:48: EPOCH 7 - PROGRESS: at 28.95% examples, 101366 words/s, in_qsize 1, out_qsize 0\n",
            "INFO - 14:30:49: EPOCH 7 - PROGRESS: at 39.91% examples, 100782 words/s, in_qsize 1, out_qsize 0\n",
            "INFO - 14:30:50: EPOCH 7 - PROGRESS: at 50.28% examples, 99980 words/s, in_qsize 1, out_qsize 0\n",
            "INFO - 14:30:51: EPOCH 7 - PROGRESS: at 60.00% examples, 100096 words/s, in_qsize 1, out_qsize 0\n",
            "INFO - 14:30:52: EPOCH 7 - PROGRESS: at 69.70% examples, 100267 words/s, in_qsize 1, out_qsize 0\n",
            "INFO - 14:30:53: EPOCH 7 - PROGRESS: at 79.72% examples, 99961 words/s, in_qsize 1, out_qsize 0\n",
            "INFO - 14:30:55: EPOCH 7 - PROGRESS: at 86.46% examples, 94958 words/s, in_qsize 2, out_qsize 0\n",
            "INFO - 14:30:56: EPOCH 7 - PROGRESS: at 93.22% examples, 91705 words/s, in_qsize 1, out_qsize 0\n",
            "INFO - 14:30:56: worker thread finished; awaiting finish of 0 more threads\n",
            "INFO - 14:30:56: EPOCH - 7 : training on 1602615 raw words (1026852 effective words) took 11.3s, 91082 effective words/s\n",
            "INFO - 14:30:57: EPOCH 8 - PROGRESS: at 10.19% examples, 101263 words/s, in_qsize 1, out_qsize 0\n",
            "INFO - 14:30:59: EPOCH 8 - PROGRESS: at 20.10% examples, 102614 words/s, in_qsize 1, out_qsize 0\n",
            "INFO - 14:31:00: EPOCH 8 - PROGRESS: at 30.19% examples, 102349 words/s, in_qsize 1, out_qsize 0\n",
            "INFO - 14:31:01: EPOCH 8 - PROGRESS: at 41.26% examples, 101538 words/s, in_qsize 1, out_qsize 0\n",
            "INFO - 14:31:02: EPOCH 8 - PROGRESS: at 51.59% examples, 101188 words/s, in_qsize 1, out_qsize 0\n",
            "INFO - 14:31:03: EPOCH 8 - PROGRESS: at 61.63% examples, 101020 words/s, in_qsize 1, out_qsize 0\n",
            "INFO - 14:31:04: EPOCH 8 - PROGRESS: at 71.46% examples, 101312 words/s, in_qsize 1, out_qsize 0\n",
            "INFO - 14:31:05: EPOCH 8 - PROGRESS: at 82.18% examples, 101352 words/s, in_qsize 1, out_qsize 0\n",
            "INFO - 14:31:06: EPOCH 8 - PROGRESS: at 92.45% examples, 101523 words/s, in_qsize 1, out_qsize 0\n",
            "INFO - 14:31:07: worker thread finished; awaiting finish of 0 more threads\n",
            "INFO - 14:31:07: EPOCH - 8 : training on 1602615 raw words (1026877 effective words) took 10.1s, 101596 effective words/s\n",
            "INFO - 14:31:08: EPOCH 9 - PROGRESS: at 10.89% examples, 102787 words/s, in_qsize 1, out_qsize 0\n",
            "INFO - 14:31:09: EPOCH 9 - PROGRESS: at 20.10% examples, 102218 words/s, in_qsize 1, out_qsize 0\n",
            "INFO - 14:31:10: EPOCH 9 - PROGRESS: at 29.62% examples, 101022 words/s, in_qsize 1, out_qsize 0\n",
            "INFO - 14:31:11: EPOCH 9 - PROGRESS: at 40.47% examples, 100796 words/s, in_qsize 1, out_qsize 0\n",
            "INFO - 14:31:12: EPOCH 9 - PROGRESS: at 50.92% examples, 101057 words/s, in_qsize 1, out_qsize 0\n",
            "INFO - 14:31:13: EPOCH 9 - PROGRESS: at 60.87% examples, 101020 words/s, in_qsize 1, out_qsize 0\n",
            "INFO - 14:31:14: EPOCH 9 - PROGRESS: at 70.92% examples, 101282 words/s, in_qsize 1, out_qsize 0\n",
            "INFO - 14:31:15: EPOCH 9 - PROGRESS: at 81.49% examples, 101319 words/s, in_qsize 1, out_qsize 0\n",
            "INFO - 14:31:16: EPOCH 9 - PROGRESS: at 91.74% examples, 101572 words/s, in_qsize 1, out_qsize 0\n",
            "INFO - 14:31:17: worker thread finished; awaiting finish of 0 more threads\n",
            "INFO - 14:31:17: EPOCH - 9 : training on 1602615 raw words (1026475 effective words) took 10.1s, 101858 effective words/s\n",
            "INFO - 14:31:18: EPOCH 10 - PROGRESS: at 10.89% examples, 102482 words/s, in_qsize 1, out_qsize 0\n",
            "INFO - 14:31:19: EPOCH 10 - PROGRESS: at 20.59% examples, 103034 words/s, in_qsize 1, out_qsize 0\n",
            "INFO - 14:31:20: EPOCH 10 - PROGRESS: at 31.02% examples, 102943 words/s, in_qsize 1, out_qsize 0\n",
            "INFO - 14:31:21: EPOCH 10 - PROGRESS: at 41.79% examples, 102804 words/s, in_qsize 1, out_qsize 0\n",
            "INFO - 14:31:22: EPOCH 10 - PROGRESS: at 52.69% examples, 102883 words/s, in_qsize 1, out_qsize 0\n",
            "INFO - 14:31:23: EPOCH 10 - PROGRESS: at 63.63% examples, 103199 words/s, in_qsize 1, out_qsize 0\n",
            "INFO - 14:31:24: EPOCH 10 - PROGRESS: at 73.36% examples, 103403 words/s, in_qsize 1, out_qsize 0\n",
            "INFO - 14:31:25: EPOCH 10 - PROGRESS: at 84.05% examples, 103231 words/s, in_qsize 1, out_qsize 0\n",
            "INFO - 14:31:26: EPOCH 10 - PROGRESS: at 94.92% examples, 103411 words/s, in_qsize 1, out_qsize 0\n",
            "INFO - 14:31:27: worker thread finished; awaiting finish of 0 more threads\n",
            "INFO - 14:31:27: EPOCH - 10 : training on 1602615 raw words (1025822 effective words) took 9.9s, 103434 effective words/s\n",
            "INFO - 14:31:28: EPOCH 11 - PROGRESS: at 10.19% examples, 100877 words/s, in_qsize 2, out_qsize 0\n",
            "INFO - 14:31:29: EPOCH 11 - PROGRESS: at 20.10% examples, 103046 words/s, in_qsize 1, out_qsize 0\n",
            "INFO - 14:31:30: EPOCH 11 - PROGRESS: at 30.19% examples, 102653 words/s, in_qsize 1, out_qsize 0\n",
            "INFO - 14:31:31: EPOCH 11 - PROGRESS: at 41.26% examples, 102641 words/s, in_qsize 1, out_qsize 0\n",
            "INFO - 14:31:32: EPOCH 11 - PROGRESS: at 50.92% examples, 99475 words/s, in_qsize 2, out_qsize 0\n",
            "INFO - 14:31:33: EPOCH 11 - PROGRESS: at 60.87% examples, 99515 words/s, in_qsize 1, out_qsize 0\n",
            "INFO - 14:31:34: EPOCH 11 - PROGRESS: at 70.92% examples, 100298 words/s, in_qsize 1, out_qsize 0\n",
            "INFO - 14:31:35: EPOCH 11 - PROGRESS: at 81.49% examples, 100723 words/s, in_qsize 1, out_qsize 0\n",
            "INFO - 14:31:36: EPOCH 11 - PROGRESS: at 92.45% examples, 101142 words/s, in_qsize 2, out_qsize 0\n",
            "INFO - 14:31:37: worker thread finished; awaiting finish of 0 more threads\n",
            "INFO - 14:31:37: EPOCH - 11 : training on 1602615 raw words (1026666 effective words) took 10.1s, 101379 effective words/s\n",
            "INFO - 14:31:38: EPOCH 12 - PROGRESS: at 10.89% examples, 102073 words/s, in_qsize 1, out_qsize 0\n",
            "INFO - 14:31:39: EPOCH 12 - PROGRESS: at 20.59% examples, 102806 words/s, in_qsize 1, out_qsize 0\n",
            "INFO - 14:31:40: EPOCH 12 - PROGRESS: at 31.02% examples, 102544 words/s, in_qsize 2, out_qsize 0\n",
            "INFO - 14:31:41: EPOCH 12 - PROGRESS: at 42.59% examples, 102938 words/s, in_qsize 1, out_qsize 0\n",
            "INFO - 14:31:42: EPOCH 12 - PROGRESS: at 52.69% examples, 102666 words/s, in_qsize 1, out_qsize 0\n",
            "INFO - 14:31:43: EPOCH 12 - PROGRESS: at 63.63% examples, 102747 words/s, in_qsize 1, out_qsize 0\n",
            "INFO - 14:31:44: EPOCH 12 - PROGRESS: at 73.36% examples, 102924 words/s, in_qsize 1, out_qsize 0\n",
            "INFO - 14:31:45: EPOCH 12 - PROGRESS: at 84.05% examples, 103040 words/s, in_qsize 1, out_qsize 0\n",
            "INFO - 14:31:46: EPOCH 12 - PROGRESS: at 94.92% examples, 103308 words/s, in_qsize 1, out_qsize 0\n",
            "INFO - 14:31:47: worker thread finished; awaiting finish of 0 more threads\n",
            "INFO - 14:31:47: EPOCH - 12 : training on 1602615 raw words (1026246 effective words) took 9.9s, 103335 effective words/s\n",
            "INFO - 14:31:48: EPOCH 13 - PROGRESS: at 10.89% examples, 103771 words/s, in_qsize 1, out_qsize 0\n",
            "INFO - 14:31:49: EPOCH 13 - PROGRESS: at 20.59% examples, 103849 words/s, in_qsize 1, out_qsize 0\n",
            "INFO - 14:31:50: EPOCH 13 - PROGRESS: at 31.02% examples, 103579 words/s, in_qsize 1, out_qsize 0\n",
            "INFO - 14:31:51: EPOCH 13 - PROGRESS: at 41.79% examples, 103392 words/s, in_qsize 1, out_qsize 0\n",
            "INFO - 14:31:52: EPOCH 13 - PROGRESS: at 52.13% examples, 103076 words/s, in_qsize 1, out_qsize 0\n",
            "INFO - 14:31:53: EPOCH 13 - PROGRESS: at 63.08% examples, 103205 words/s, in_qsize 1, out_qsize 0\n",
            "INFO - 14:31:54: EPOCH 13 - PROGRESS: at 72.72% examples, 103685 words/s, in_qsize 1, out_qsize 0\n",
            "INFO - 14:31:55: EPOCH 13 - PROGRESS: at 83.51% examples, 103973 words/s, in_qsize 1, out_qsize 0\n",
            "INFO - 14:31:56: EPOCH 13 - PROGRESS: at 94.46% examples, 104367 words/s, in_qsize 1, out_qsize 0\n",
            "INFO - 14:31:57: worker thread finished; awaiting finish of 0 more threads\n",
            "INFO - 14:31:57: EPOCH - 13 : training on 1602615 raw words (1025993 effective words) took 9.8s, 104474 effective words/s\n",
            "INFO - 14:31:58: EPOCH 14 - PROGRESS: at 10.89% examples, 104158 words/s, in_qsize 1, out_qsize 0\n",
            "INFO - 14:31:59: EPOCH 14 - PROGRESS: at 20.59% examples, 105024 words/s, in_qsize 1, out_qsize 0\n",
            "INFO - 14:32:00: EPOCH 14 - PROGRESS: at 31.02% examples, 104726 words/s, in_qsize 1, out_qsize 0\n",
            "INFO - 14:32:01: EPOCH 14 - PROGRESS: at 42.59% examples, 104532 words/s, in_qsize 1, out_qsize 0\n",
            "INFO - 14:32:02: EPOCH 14 - PROGRESS: at 53.17% examples, 104404 words/s, in_qsize 2, out_qsize 0\n",
            "INFO - 14:32:03: EPOCH 14 - PROGRESS: at 64.31% examples, 103965 words/s, in_qsize 2, out_qsize 0\n",
            "INFO - 14:32:04: EPOCH 14 - PROGRESS: at 73.94% examples, 104255 words/s, in_qsize 2, out_qsize 0\n",
            "INFO - 14:32:05: EPOCH 14 - PROGRESS: at 84.67% examples, 104599 words/s, in_qsize 2, out_qsize 0\n",
            "INFO - 14:32:06: EPOCH 14 - PROGRESS: at 95.24% examples, 105007 words/s, in_qsize 1, out_qsize 0\n",
            "INFO - 14:32:06: worker thread finished; awaiting finish of 0 more threads\n",
            "INFO - 14:32:06: EPOCH - 14 : training on 1602615 raw words (1026242 effective words) took 9.8s, 105043 effective words/s\n",
            "INFO - 14:32:07: EPOCH 15 - PROGRESS: at 10.89% examples, 104774 words/s, in_qsize 1, out_qsize 0\n",
            "INFO - 14:32:08: EPOCH 15 - PROGRESS: at 20.59% examples, 105526 words/s, in_qsize 1, out_qsize 0\n",
            "INFO - 14:32:09: EPOCH 15 - PROGRESS: at 31.02% examples, 104514 words/s, in_qsize 1, out_qsize 0\n",
            "INFO - 14:32:10: EPOCH 15 - PROGRESS: at 42.59% examples, 105154 words/s, in_qsize 1, out_qsize 0\n",
            "INFO - 14:32:11: EPOCH 15 - PROGRESS: at 53.17% examples, 105174 words/s, in_qsize 1, out_qsize 0\n",
            "INFO - 14:32:12: EPOCH 15 - PROGRESS: at 63.63% examples, 104273 words/s, in_qsize 1, out_qsize 0\n",
            "INFO - 14:32:14: EPOCH 15 - PROGRESS: at 73.36% examples, 104145 words/s, in_qsize 1, out_qsize 0\n",
            "INFO - 14:32:15: EPOCH 15 - PROGRESS: at 84.05% examples, 104335 words/s, in_qsize 2, out_qsize 0\n",
            "INFO - 14:32:16: EPOCH 15 - PROGRESS: at 94.92% examples, 104535 words/s, in_qsize 1, out_qsize 0\n",
            "INFO - 14:32:16: worker thread finished; awaiting finish of 0 more threads\n",
            "INFO - 14:32:16: EPOCH - 15 : training on 1602615 raw words (1026980 effective words) took 9.8s, 104522 effective words/s\n",
            "INFO - 14:32:17: EPOCH 16 - PROGRESS: at 10.89% examples, 105821 words/s, in_qsize 1, out_qsize 0\n",
            "INFO - 14:32:18: EPOCH 16 - PROGRESS: at 20.59% examples, 106383 words/s, in_qsize 1, out_qsize 0\n",
            "INFO - 14:32:19: EPOCH 16 - PROGRESS: at 31.02% examples, 106683 words/s, in_qsize 2, out_qsize 0\n",
            "INFO - 14:32:20: EPOCH 16 - PROGRESS: at 42.59% examples, 106948 words/s, in_qsize 2, out_qsize 0\n",
            "INFO - 14:32:21: EPOCH 16 - PROGRESS: at 53.17% examples, 106993 words/s, in_qsize 1, out_qsize 0\n",
            "INFO - 14:32:22: EPOCH 16 - PROGRESS: at 64.92% examples, 107352 words/s, in_qsize 1, out_qsize 0\n",
            "INFO - 14:32:23: EPOCH 16 - PROGRESS: at 74.40% examples, 107150 words/s, in_qsize 1, out_qsize 0\n",
            "INFO - 14:32:24: EPOCH 16 - PROGRESS: at 85.18% examples, 107237 words/s, in_qsize 1, out_qsize 0\n",
            "INFO - 14:32:25: EPOCH 16 - PROGRESS: at 95.83% examples, 107493 words/s, in_qsize 1, out_qsize 0\n",
            "INFO - 14:32:26: worker thread finished; awaiting finish of 0 more threads\n",
            "INFO - 14:32:26: EPOCH - 16 : training on 1602615 raw words (1026212 effective words) took 9.6s, 107295 effective words/s\n",
            "INFO - 14:32:27: EPOCH 17 - PROGRESS: at 10.89% examples, 106984 words/s, in_qsize 1, out_qsize 0\n",
            "INFO - 14:32:28: EPOCH 17 - PROGRESS: at 21.15% examples, 108198 words/s, in_qsize 1, out_qsize 0\n",
            "INFO - 14:32:29: EPOCH 17 - PROGRESS: at 31.62% examples, 107763 words/s, in_qsize 1, out_qsize 0\n",
            "INFO - 14:32:30: EPOCH 17 - PROGRESS: at 43.22% examples, 107314 words/s, in_qsize 1, out_qsize 0\n",
            "INFO - 14:32:31: EPOCH 17 - PROGRESS: at 53.64% examples, 107270 words/s, in_qsize 1, out_qsize 0\n",
            "INFO - 14:32:32: EPOCH 17 - PROGRESS: at 64.92% examples, 107292 words/s, in_qsize 1, out_qsize 0\n",
            "INFO - 14:32:33: EPOCH 17 - PROGRESS: at 74.40% examples, 107073 words/s, in_qsize 1, out_qsize 0\n",
            "INFO - 14:32:34: EPOCH 17 - PROGRESS: at 85.18% examples, 107015 words/s, in_qsize 1, out_qsize 0\n",
            "INFO - 14:32:35: EPOCH 17 - PROGRESS: at 95.83% examples, 106915 words/s, in_qsize 1, out_qsize 0\n",
            "INFO - 14:32:35: worker thread finished; awaiting finish of 0 more threads\n",
            "INFO - 14:32:35: EPOCH - 17 : training on 1602615 raw words (1027100 effective words) took 9.6s, 106686 effective words/s\n",
            "INFO - 14:32:36: EPOCH 18 - PROGRESS: at 10.89% examples, 106848 words/s, in_qsize 1, out_qsize 0\n",
            "INFO - 14:32:37: EPOCH 18 - PROGRESS: at 20.59% examples, 107573 words/s, in_qsize 1, out_qsize 0\n",
            "INFO - 14:32:38: EPOCH 18 - PROGRESS: at 31.02% examples, 107005 words/s, in_qsize 1, out_qsize 0\n",
            "INFO - 14:32:39: EPOCH 18 - PROGRESS: at 41.79% examples, 105790 words/s, in_qsize 1, out_qsize 0\n",
            "INFO - 14:32:40: EPOCH 18 - PROGRESS: at 52.69% examples, 104953 words/s, in_qsize 1, out_qsize 0\n",
            "INFO - 14:32:41: EPOCH 18 - PROGRESS: at 63.63% examples, 104405 words/s, in_qsize 1, out_qsize 0\n",
            "INFO - 14:32:43: EPOCH 18 - PROGRESS: at 73.36% examples, 104685 words/s, in_qsize 1, out_qsize 0\n",
            "INFO - 14:32:44: EPOCH 18 - PROGRESS: at 83.51% examples, 104232 words/s, in_qsize 1, out_qsize 0\n",
            "INFO - 14:32:45: EPOCH 18 - PROGRESS: at 93.88% examples, 104149 words/s, in_qsize 1, out_qsize 0\n",
            "INFO - 14:32:45: worker thread finished; awaiting finish of 0 more threads\n",
            "INFO - 14:32:45: EPOCH - 18 : training on 1602615 raw words (1026608 effective words) took 9.9s, 104207 effective words/s\n",
            "INFO - 14:32:46: EPOCH 19 - PROGRESS: at 10.89% examples, 104084 words/s, in_qsize 1, out_qsize 0\n",
            "INFO - 14:32:47: EPOCH 19 - PROGRESS: at 20.59% examples, 105391 words/s, in_qsize 1, out_qsize 0\n",
            "INFO - 14:32:48: EPOCH 19 - PROGRESS: at 31.02% examples, 104823 words/s, in_qsize 1, out_qsize 0\n",
            "INFO - 14:32:49: EPOCH 19 - PROGRESS: at 42.59% examples, 104586 words/s, in_qsize 1, out_qsize 0\n",
            "INFO - 14:32:50: EPOCH 19 - PROGRESS: at 52.69% examples, 103669 words/s, in_qsize 1, out_qsize 0\n",
            "INFO - 14:32:51: EPOCH 19 - PROGRESS: at 63.08% examples, 103264 words/s, in_qsize 1, out_qsize 0\n",
            "INFO - 14:32:52: EPOCH 19 - PROGRESS: at 72.72% examples, 103625 words/s, in_qsize 2, out_qsize 0\n",
            "INFO - 14:32:53: EPOCH 19 - PROGRESS: at 83.51% examples, 103559 words/s, in_qsize 1, out_qsize 0\n",
            "INFO - 14:32:54: EPOCH 19 - PROGRESS: at 94.46% examples, 103859 words/s, in_qsize 1, out_qsize 0\n",
            "INFO - 14:32:55: worker thread finished; awaiting finish of 0 more threads\n",
            "INFO - 14:32:55: EPOCH - 19 : training on 1602615 raw words (1027109 effective words) took 9.9s, 103885 effective words/s\n",
            "INFO - 14:32:56: EPOCH 20 - PROGRESS: at 10.89% examples, 104167 words/s, in_qsize 1, out_qsize 0\n",
            "INFO - 14:32:57: EPOCH 20 - PROGRESS: at 20.59% examples, 105095 words/s, in_qsize 1, out_qsize 0\n",
            "INFO - 14:32:58: EPOCH 20 - PROGRESS: at 31.02% examples, 105264 words/s, in_qsize 2, out_qsize 0\n",
            "INFO - 14:32:59: EPOCH 20 - PROGRESS: at 41.79% examples, 104397 words/s, in_qsize 1, out_qsize 0\n",
            "INFO - 14:33:00: EPOCH 20 - PROGRESS: at 52.69% examples, 104482 words/s, in_qsize 2, out_qsize 0\n",
            "INFO - 14:33:01: EPOCH 20 - PROGRESS: at 63.63% examples, 104593 words/s, in_qsize 2, out_qsize 0\n",
            "INFO - 14:33:02: EPOCH 20 - PROGRESS: at 73.36% examples, 104942 words/s, in_qsize 1, out_qsize 0\n",
            "INFO - 14:33:03: EPOCH 20 - PROGRESS: at 84.05% examples, 104801 words/s, in_qsize 1, out_qsize 0\n",
            "INFO - 14:33:04: EPOCH 20 - PROGRESS: at 94.46% examples, 104447 words/s, in_qsize 1, out_qsize 0\n",
            "INFO - 14:33:05: worker thread finished; awaiting finish of 0 more threads\n",
            "INFO - 14:33:05: EPOCH - 20 : training on 1602615 raw words (1026415 effective words) took 9.8s, 104406 effective words/s\n",
            "INFO - 14:33:06: EPOCH 21 - PROGRESS: at 10.89% examples, 103448 words/s, in_qsize 1, out_qsize 0\n",
            "INFO - 14:33:07: EPOCH 21 - PROGRESS: at 20.59% examples, 103730 words/s, in_qsize 2, out_qsize 0\n",
            "INFO - 14:33:08: EPOCH 21 - PROGRESS: at 31.02% examples, 103459 words/s, in_qsize 1, out_qsize 0\n",
            "INFO - 14:33:09: EPOCH 21 - PROGRESS: at 41.79% examples, 103194 words/s, in_qsize 1, out_qsize 0\n",
            "INFO - 14:33:10: EPOCH 21 - PROGRESS: at 52.13% examples, 102576 words/s, in_qsize 1, out_qsize 0\n",
            "INFO - 14:33:11: EPOCH 21 - PROGRESS: at 62.26% examples, 102344 words/s, in_qsize 1, out_qsize 0\n",
            "INFO - 14:33:12: EPOCH 21 - PROGRESS: at 71.46% examples, 102218 words/s, in_qsize 1, out_qsize 0\n",
            "INFO - 14:33:13: EPOCH 21 - PROGRESS: at 82.18% examples, 102091 words/s, in_qsize 2, out_qsize 0\n",
            "INFO - 14:33:14: EPOCH 21 - PROGRESS: at 92.45% examples, 101833 words/s, in_qsize 2, out_qsize 0\n",
            "INFO - 14:33:15: worker thread finished; awaiting finish of 0 more threads\n",
            "INFO - 14:33:15: EPOCH - 21 : training on 1602615 raw words (1025838 effective words) took 10.0s, 102079 effective words/s\n",
            "INFO - 14:33:16: EPOCH 22 - PROGRESS: at 10.89% examples, 104179 words/s, in_qsize 1, out_qsize 0\n",
            "INFO - 14:33:17: EPOCH 22 - PROGRESS: at 20.59% examples, 104097 words/s, in_qsize 2, out_qsize 0\n",
            "INFO - 14:33:18: EPOCH 22 - PROGRESS: at 31.02% examples, 104005 words/s, in_qsize 1, out_qsize 0\n",
            "INFO - 14:33:19: EPOCH 22 - PROGRESS: at 42.59% examples, 103950 words/s, in_qsize 1, out_qsize 0\n",
            "INFO - 14:33:20: EPOCH 22 - PROGRESS: at 53.17% examples, 103653 words/s, in_qsize 1, out_qsize 0\n",
            "INFO - 14:33:21: EPOCH 22 - PROGRESS: at 64.31% examples, 103748 words/s, in_qsize 1, out_qsize 0\n",
            "INFO - 14:33:22: EPOCH 22 - PROGRESS: at 73.94% examples, 103738 words/s, in_qsize 1, out_qsize 0\n",
            "INFO - 14:33:23: EPOCH 22 - PROGRESS: at 84.05% examples, 103486 words/s, in_qsize 1, out_qsize 0\n",
            "INFO - 14:33:24: EPOCH 22 - PROGRESS: at 94.46% examples, 102914 words/s, in_qsize 1, out_qsize 0\n",
            "INFO - 14:33:25: worker thread finished; awaiting finish of 0 more threads\n",
            "INFO - 14:33:25: EPOCH - 22 : training on 1602615 raw words (1027031 effective words) took 10.0s, 102772 effective words/s\n",
            "INFO - 14:33:26: EPOCH 23 - PROGRESS: at 10.89% examples, 101557 words/s, in_qsize 1, out_qsize 0\n",
            "INFO - 14:33:27: EPOCH 23 - PROGRESS: at 20.10% examples, 101709 words/s, in_qsize 1, out_qsize 0\n",
            "INFO - 14:33:28: EPOCH 23 - PROGRESS: at 30.19% examples, 101638 words/s, in_qsize 2, out_qsize 0\n",
            "INFO - 14:33:29: EPOCH 23 - PROGRESS: at 41.26% examples, 101834 words/s, in_qsize 1, out_qsize 0\n",
            "INFO - 14:33:30: EPOCH 23 - PROGRESS: at 51.59% examples, 101370 words/s, in_qsize 1, out_qsize 0\n",
            "INFO - 14:33:31: EPOCH 23 - PROGRESS: at 62.26% examples, 101473 words/s, in_qsize 1, out_qsize 0\n",
            "INFO - 14:33:32: EPOCH 23 - PROGRESS: at 71.46% examples, 100989 words/s, in_qsize 1, out_qsize 0\n",
            "INFO - 14:33:33: EPOCH 23 - PROGRESS: at 81.49% examples, 100490 words/s, in_qsize 1, out_qsize 0\n",
            "INFO - 14:33:34: EPOCH 23 - PROGRESS: at 91.74% examples, 100660 words/s, in_qsize 2, out_qsize 0\n",
            "INFO - 14:33:35: worker thread finished; awaiting finish of 0 more threads\n",
            "INFO - 14:33:35: EPOCH - 23 : training on 1602615 raw words (1026575 effective words) took 10.2s, 100513 effective words/s\n",
            "INFO - 14:33:36: EPOCH 24 - PROGRESS: at 10.19% examples, 99810 words/s, in_qsize 1, out_qsize 0\n",
            "INFO - 14:33:37: EPOCH 24 - PROGRESS: at 20.10% examples, 101900 words/s, in_qsize 1, out_qsize 0\n",
            "INFO - 14:33:38: EPOCH 24 - PROGRESS: at 30.19% examples, 101883 words/s, in_qsize 1, out_qsize 0\n",
            "INFO - 14:33:39: EPOCH 24 - PROGRESS: at 41.26% examples, 101027 words/s, in_qsize 1, out_qsize 0\n",
            "INFO - 14:33:40: EPOCH 24 - PROGRESS: at 50.92% examples, 99796 words/s, in_qsize 1, out_qsize 0\n",
            "INFO - 14:33:41: EPOCH 24 - PROGRESS: at 60.87% examples, 99859 words/s, in_qsize 1, out_qsize 0\n",
            "INFO - 14:33:42: EPOCH 24 - PROGRESS: at 70.39% examples, 100022 words/s, in_qsize 1, out_qsize 0\n",
            "INFO - 14:33:43: EPOCH 24 - PROGRESS: at 80.71% examples, 100233 words/s, in_qsize 1, out_qsize 0\n",
            "INFO - 14:33:44: EPOCH 24 - PROGRESS: at 91.06% examples, 100289 words/s, in_qsize 1, out_qsize 0\n",
            "INFO - 14:33:45: worker thread finished; awaiting finish of 0 more threads\n",
            "INFO - 14:33:45: EPOCH - 24 : training on 1602615 raw words (1026571 effective words) took 10.3s, 99921 effective words/s\n",
            "INFO - 14:33:47: EPOCH 25 - PROGRESS: at 10.19% examples, 98071 words/s, in_qsize 2, out_qsize 0\n",
            "INFO - 14:33:48: EPOCH 25 - PROGRESS: at 19.59% examples, 98683 words/s, in_qsize 1, out_qsize 0\n",
            "INFO - 14:33:49: EPOCH 25 - PROGRESS: at 28.95% examples, 98951 words/s, in_qsize 1, out_qsize 0\n",
            "INFO - 14:33:50: EPOCH 25 - PROGRESS: at 39.91% examples, 98936 words/s, in_qsize 1, out_qsize 0\n",
            "INFO - 14:33:51: EPOCH 25 - PROGRESS: at 50.28% examples, 98748 words/s, in_qsize 1, out_qsize 0\n",
            "INFO - 14:33:52: EPOCH 25 - PROGRESS: at 60.00% examples, 98796 words/s, in_qsize 1, out_qsize 0\n",
            "INFO - 14:33:53: EPOCH 25 - PROGRESS: at 69.70% examples, 98860 words/s, in_qsize 1, out_qsize 0\n",
            "INFO - 14:33:54: EPOCH 25 - PROGRESS: at 79.24% examples, 98996 words/s, in_qsize 1, out_qsize 0\n",
            "INFO - 14:33:55: EPOCH 25 - PROGRESS: at 90.00% examples, 99171 words/s, in_qsize 1, out_qsize 0\n",
            "INFO - 14:33:56: EPOCH 25 - PROGRESS: at 99.67% examples, 99014 words/s, in_qsize 1, out_qsize 0\n",
            "INFO - 14:33:56: worker thread finished; awaiting finish of 0 more threads\n",
            "INFO - 14:33:56: EPOCH - 25 : training on 1602615 raw words (1025959 effective words) took 10.4s, 99019 effective words/s\n",
            "INFO - 14:33:57: EPOCH 26 - PROGRESS: at 10.19% examples, 98401 words/s, in_qsize 1, out_qsize 0\n",
            "INFO - 14:33:58: EPOCH 26 - PROGRESS: at 19.59% examples, 98639 words/s, in_qsize 1, out_qsize 0\n",
            "INFO - 14:33:59: EPOCH 26 - PROGRESS: at 28.95% examples, 99189 words/s, in_qsize 1, out_qsize 0\n",
            "INFO - 14:34:00: EPOCH 26 - PROGRESS: at 39.91% examples, 99268 words/s, in_qsize 1, out_qsize 0\n",
            "INFO - 14:34:01: EPOCH 26 - PROGRESS: at 50.28% examples, 99240 words/s, in_qsize 1, out_qsize 0\n",
            "INFO - 14:34:02: EPOCH 26 - PROGRESS: at 60.00% examples, 99071 words/s, in_qsize 1, out_qsize 0\n",
            "INFO - 14:34:03: EPOCH 26 - PROGRESS: at 69.70% examples, 99159 words/s, in_qsize 2, out_qsize 0\n",
            "INFO - 14:34:04: EPOCH 26 - PROGRESS: at 79.24% examples, 99004 words/s, in_qsize 1, out_qsize 0\n",
            "INFO - 14:34:05: EPOCH 26 - PROGRESS: at 90.00% examples, 99059 words/s, in_qsize 1, out_qsize 0\n",
            "INFO - 14:34:06: EPOCH 26 - PROGRESS: at 99.67% examples, 98901 words/s, in_qsize 1, out_qsize 0\n",
            "INFO - 14:34:06: worker thread finished; awaiting finish of 0 more threads\n",
            "INFO - 14:34:06: EPOCH - 26 : training on 1602615 raw words (1026637 effective words) took 10.4s, 98886 effective words/s\n",
            "INFO - 14:34:07: EPOCH 27 - PROGRESS: at 10.19% examples, 100080 words/s, in_qsize 1, out_qsize 0\n",
            "INFO - 14:34:08: EPOCH 27 - PROGRESS: at 19.59% examples, 100228 words/s, in_qsize 1, out_qsize 0\n",
            "INFO - 14:34:09: EPOCH 27 - PROGRESS: at 28.95% examples, 99344 words/s, in_qsize 1, out_qsize 0\n",
            "INFO - 14:34:10: EPOCH 27 - PROGRESS: at 39.26% examples, 98388 words/s, in_qsize 1, out_qsize 0\n",
            "INFO - 14:34:11: EPOCH 27 - PROGRESS: at 49.92% examples, 98480 words/s, in_qsize 1, out_qsize 0\n",
            "INFO - 14:34:12: EPOCH 27 - PROGRESS: at 59.36% examples, 98820 words/s, in_qsize 1, out_qsize 0\n",
            "INFO - 14:34:13: EPOCH 27 - PROGRESS: at 69.15% examples, 99035 words/s, in_qsize 1, out_qsize 0\n",
            "INFO - 14:34:14: EPOCH 27 - PROGRESS: at 78.43% examples, 98528 words/s, in_qsize 2, out_qsize 0\n",
            "INFO - 14:34:15: EPOCH 27 - PROGRESS: at 88.53% examples, 98494 words/s, in_qsize 1, out_qsize 0\n",
            "INFO - 14:34:16: EPOCH 27 - PROGRESS: at 97.44% examples, 98061 words/s, in_qsize 1, out_qsize 0\n",
            "INFO - 14:34:17: worker thread finished; awaiting finish of 0 more threads\n",
            "INFO - 14:34:17: EPOCH - 27 : training on 1602615 raw words (1025604 effective words) took 10.5s, 97991 effective words/s\n",
            "INFO - 14:34:18: EPOCH 28 - PROGRESS: at 10.19% examples, 95845 words/s, in_qsize 1, out_qsize 0\n",
            "INFO - 14:34:19: EPOCH 28 - PROGRESS: at 19.01% examples, 95262 words/s, in_qsize 1, out_qsize 0\n",
            "INFO - 14:34:20: EPOCH 28 - PROGRESS: at 27.77% examples, 94752 words/s, in_qsize 1, out_qsize 0\n",
            "INFO - 14:34:21: EPOCH 28 - PROGRESS: at 37.76% examples, 94536 words/s, in_qsize 1, out_qsize 0\n",
            "INFO - 14:34:22: EPOCH 28 - PROGRESS: at 48.50% examples, 94954 words/s, in_qsize 2, out_qsize 0\n",
            "INFO - 14:34:23: EPOCH 28 - PROGRESS: at 58.06% examples, 95105 words/s, in_qsize 2, out_qsize 0\n",
            "INFO - 14:34:24: EPOCH 28 - PROGRESS: at 67.48% examples, 95141 words/s, in_qsize 1, out_qsize 0\n",
            "INFO - 14:34:25: EPOCH 28 - PROGRESS: at 76.14% examples, 94977 words/s, in_qsize 1, out_qsize 0\n",
            "INFO - 14:34:26: EPOCH 28 - PROGRESS: at 85.70% examples, 94629 words/s, in_qsize 1, out_qsize 0\n",
            "INFO - 14:34:27: EPOCH 28 - PROGRESS: at 94.92% examples, 94223 words/s, in_qsize 1, out_qsize 0\n",
            "INFO - 14:34:28: worker thread finished; awaiting finish of 0 more threads\n",
            "INFO - 14:34:28: EPOCH - 28 : training on 1602615 raw words (1027226 effective words) took 10.9s, 94005 effective words/s\n",
            "INFO - 14:34:29: EPOCH 29 - PROGRESS: at 9.51% examples, 91904 words/s, in_qsize 1, out_qsize 0\n",
            "INFO - 14:34:30: EPOCH 29 - PROGRESS: at 18.52% examples, 91435 words/s, in_qsize 1, out_qsize 0\n",
            "INFO - 14:34:31: EPOCH 29 - PROGRESS: at 27.17% examples, 91845 words/s, in_qsize 1, out_qsize 0\n",
            "INFO - 14:34:32: EPOCH 29 - PROGRESS: at 36.99% examples, 91999 words/s, in_qsize 1, out_qsize 0\n",
            "INFO - 14:34:33: EPOCH 29 - PROGRESS: at 46.92% examples, 91975 words/s, in_qsize 1, out_qsize 0\n",
            "INFO - 14:34:34: EPOCH 29 - PROGRESS: at 56.01% examples, 91677 words/s, in_qsize 1, out_qsize 0\n",
            "INFO - 14:34:35: EPOCH 29 - PROGRESS: at 65.82% examples, 91828 words/s, in_qsize 1, out_qsize 0\n",
            "INFO - 14:34:36: EPOCH 29 - PROGRESS: at 74.40% examples, 92066 words/s, in_qsize 2, out_qsize 0\n",
            "INFO - 14:34:37: EPOCH 29 - PROGRESS: at 84.05% examples, 92253 words/s, in_qsize 1, out_qsize 0\n",
            "INFO - 14:34:38: EPOCH 29 - PROGRESS: at 93.88% examples, 92444 words/s, in_qsize 1, out_qsize 0\n",
            "INFO - 14:34:39: worker thread finished; awaiting finish of 0 more threads\n",
            "INFO - 14:34:39: EPOCH - 29 : training on 1602615 raw words (1026715 effective words) took 11.1s, 92479 effective words/s\n",
            "INFO - 14:34:40: EPOCH 30 - PROGRESS: at 9.51% examples, 91445 words/s, in_qsize 1, out_qsize 0\n",
            "INFO - 14:34:41: EPOCH 30 - PROGRESS: at 18.52% examples, 93282 words/s, in_qsize 1, out_qsize 0\n",
            "INFO - 14:34:42: EPOCH 30 - PROGRESS: at 27.77% examples, 94339 words/s, in_qsize 2, out_qsize 0\n",
            "INFO - 14:34:43: EPOCH 30 - PROGRESS: at 38.56% examples, 94852 words/s, in_qsize 1, out_qsize 0\n",
            "INFO - 14:34:44: EPOCH 30 - PROGRESS: at 48.50% examples, 94934 words/s, in_qsize 1, out_qsize 0\n",
            "INFO - 14:34:45: EPOCH 30 - PROGRESS: at 58.06% examples, 95254 words/s, in_qsize 1, out_qsize 0\n",
            "INFO - 14:34:46: EPOCH 30 - PROGRESS: at 68.00% examples, 95480 words/s, in_qsize 2, out_qsize 0\n",
            "INFO - 14:34:47: EPOCH 30 - PROGRESS: at 76.86% examples, 95178 words/s, in_qsize 1, out_qsize 0\n",
            "INFO - 14:34:48: EPOCH 30 - PROGRESS: at 86.46% examples, 95312 words/s, in_qsize 1, out_qsize 0\n",
            "INFO - 14:34:49: EPOCH 30 - PROGRESS: at 95.83% examples, 95374 words/s, in_qsize 1, out_qsize 0\n",
            "INFO - 14:34:50: worker thread finished; awaiting finish of 0 more threads\n",
            "INFO - 14:34:50: EPOCH - 30 : training on 1602615 raw words (1026965 effective words) took 10.8s, 95317 effective words/s\n",
            "INFO - 14:34:50: training on a 48078450 raw words (30794916 effective words) took 306.2s, 100583 effective words/s\n"
          ]
        },
        {
          "output_type": "stream",
          "name": "stdout",
          "text": [
            "Time to train the model: 5.1 mins\n"
          ]
        }
      ]
    },
    {
      "cell_type": "code",
      "source": [
        "d2v_model_caption.wv.most_similar(positive=[\"good\"])"
      ],
      "metadata": {
        "colab": {
          "base_uri": "https://localhost:8080/"
        },
        "id": "UEQzMAOU8jJb",
        "outputId": "498f5376-251d-4185-c1d7-479ef5b40736"
      },
      "execution_count": 17,
      "outputs": [
        {
          "output_type": "stream",
          "name": "stderr",
          "text": [
            "INFO - 14:34:50: precomputing L2-norms of word weight vectors\n"
          ]
        },
        {
          "output_type": "execute_result",
          "data": {
            "text/plain": [
              "[('great', 0.54768967628479),\n",
              " ('even_better', 0.47865885496139526),\n",
              " ('bore', 0.4769342839717865),\n",
              " ('damn', 0.468082070350647),\n",
              " ('better', 0.46640533208847046),\n",
              " ('way_start', 0.4647727310657501),\n",
              " ('honest', 0.4573303461074829),\n",
              " ('isn’t', 0.45688629150390625),\n",
              " ('bad', 0.44805920124053955),\n",
              " ('alway', 0.44329553842544556)]"
            ]
          },
          "metadata": {},
          "execution_count": 17
        }
      ]
    },
    {
      "cell_type": "code",
      "source": [
        "d2v_model_caption.wv.doesnt_match(['good', 'great', 'damn'])"
      ],
      "metadata": {
        "colab": {
          "base_uri": "https://localhost:8080/",
          "height": 92
        },
        "id": "NgHSBmjRDcOs",
        "outputId": "819b3ba7-0c94-4fe1-e126-13db622ae8c3"
      },
      "execution_count": 18,
      "outputs": [
        {
          "output_type": "stream",
          "name": "stderr",
          "text": [
            "/usr/local/lib/python3.7/dist-packages/gensim/models/keyedvectors.py:895: FutureWarning: arrays to stack must be passed as a \"sequence\" type such as list or tuple. Support for non-sequence iterables such as generators is deprecated as of NumPy 1.16 and will raise an error in the future.\n",
            "  vectors = vstack(self.word_vec(word, use_norm=True) for word in used_words).astype(REAL)\n"
          ]
        },
        {
          "output_type": "execute_result",
          "data": {
            "text/plain": [
              "'damn'"
            ],
            "application/vnd.google.colaboratory.intrinsic+json": {
              "type": "string"
            }
          },
          "metadata": {},
          "execution_count": 18
        }
      ]
    },
    {
      "cell_type": "code",
      "source": [
        "def tsnescatterplot(model, word, list_names):\n",
        "    \"\"\" Plot in seaborn the results from the t-SNE dimensionality reduction algorithm of the vectors of a query word,\n",
        "    its list of most similar words, and a list of words.\n",
        "    \"\"\"\n",
        "    arrays = np.empty((0, 300), dtype='f')\n",
        "    word_labels = [word]\n",
        "    color_list  = ['red']\n",
        "\n",
        "    # adds the vector of the query word\n",
        "    arrays = np.append(arrays, model.wv.__getitem__([word]), axis=0)\n",
        "    \n",
        "    # gets list of most similar words\n",
        "    close_words = model.wv.most_similar([word])\n",
        "    \n",
        "    # adds the vector for each of the closest words to the array\n",
        "    for wrd_score in close_words:\n",
        "        wrd_vector = model.wv.__getitem__([wrd_score[0]])\n",
        "        word_labels.append(wrd_score[0])\n",
        "        color_list.append('blue')\n",
        "        arrays = np.append(arrays, wrd_vector, axis=0)\n",
        "    \n",
        "    # adds the vector for each of the words from list_names to the array\n",
        "    for wrd in list_names:\n",
        "        wrd_vector = model.wv.__getitem__([wrd])\n",
        "        word_labels.append(wrd)\n",
        "        color_list.append('green')\n",
        "        arrays = np.append(arrays, wrd_vector, axis=0)\n",
        "        \n",
        "    # Reduces the dimensionality from 300 to 50 dimensions with PCA\n",
        "    reduc = PCA(n_components=10).fit_transform(arrays)\n",
        "    \n",
        "    # Finds t-SNE coordinates for 2 dimensions\n",
        "    np.set_printoptions(suppress=True)\n",
        "    \n",
        "    Y = TSNE(n_components=2, random_state=0, perplexity=15).fit_transform(reduc)\n",
        "    \n",
        "    # Sets everything up to plot\n",
        "    df = pd.DataFrame({'x': [x for x in Y[:, 0]],\n",
        "                       'y': [y for y in Y[:, 1]],\n",
        "                       'words': word_labels,\n",
        "                       'color': color_list})\n",
        "    \n",
        "    fig, _ = plt.subplots()\n",
        "    fig.set_size_inches(9, 9)\n",
        "    \n",
        "    # Basic plot\n",
        "    p1 = sns.regplot(data=df,\n",
        "                     x=\"x\",\n",
        "                     y=\"y\",\n",
        "                     fit_reg=False,\n",
        "                     marker=\"o\",\n",
        "                     scatter_kws={'s': 40,\n",
        "                                  'facecolors': df['color']\n",
        "                                 }\n",
        "                    )\n",
        "    \n",
        "    # Adds annotations one by one with a loop\n",
        "    for line in range(0, df.shape[0]):\n",
        "         p1.text(df[\"x\"][line],\n",
        "                 df['y'][line],\n",
        "                 '  ' + df[\"words\"][line].title(),\n",
        "                 horizontalalignment='left',\n",
        "                 verticalalignment='bottom', size='medium',\n",
        "                 color=df['color'][line],\n",
        "                 weight='normal'\n",
        "                ).set_size(15)\n",
        "\n",
        "    \n",
        "    plt.xlim(Y[:, 0].min()-50, Y[:, 0].max()+50)\n",
        "    plt.ylim(Y[:, 1].min()-50, Y[:, 1].max()+50)\n",
        "            \n",
        "    plt.title('t-SNE visualization for {}'.format(word.title()))\n",
        "    #plt.savefig('tsne caption.png')"
      ],
      "metadata": {
        "id": "u0GZdC2SDg91"
      },
      "execution_count": 25,
      "outputs": []
    },
    {
      "cell_type": "code",
      "source": [
        "tsnescatterplot(d2v_model_caption, 'art', ['damn', 'cake', 'nail', 'art'])"
      ],
      "metadata": {
        "colab": {
          "base_uri": "https://localhost:8080/",
          "height": 659
        },
        "id": "1d0PEfb4Djsi",
        "outputId": "f654000d-b57b-4878-cf42-9f83b29b7123"
      },
      "execution_count": 26,
      "outputs": [
        {
          "output_type": "stream",
          "name": "stderr",
          "text": [
            "/usr/local/lib/python3.7/dist-packages/sklearn/manifold/_t_sne.py:783: FutureWarning: The default initialization in TSNE will change from 'random' to 'pca' in 1.2.\n",
            "  FutureWarning,\n",
            "/usr/local/lib/python3.7/dist-packages/sklearn/manifold/_t_sne.py:793: FutureWarning: The default learning rate in TSNE will change from 200.0 to 'auto' in 1.2.\n",
            "  FutureWarning,\n"
          ]
        },
        {
          "output_type": "display_data",
          "data": {
            "text/plain": [
              "<Figure size 648x648 with 1 Axes>"
            ],
            "image/png": "[encoded data removed]"
          },
          "metadata": {
            "needs_background": "light"
          }
        }
      ]
    },
    {
      "cell_type": "code",
      "source": [
        "tsnescatterplot(d2v_model_caption, 'art', [i[0] for i in d2v_model_caption.wv.most_similar(negative=[\"art\"])])"
      ],
      "metadata": {
        "id": "JPcj_4DTD__0"
      },
      "execution_count": null,
      "outputs": []
    },
    {
      "cell_type": "markdown",
      "source": [
        "#Hashtags"
      ],
      "metadata": {
        "id": "KXGgL_1C82da"
      }
    },
    {
      "cell_type": "code",
      "source": [
        "new_data=data[data['hashtags']!='[]']\n",
        "new_data=new_data.drop(['caption', 'biography'], axis=1)\n",
        "\n",
        "\n",
        "new_data=new_data.apply(lambda x: x.astype(str).str.lstrip('['))\n",
        "new_data=new_data.apply(lambda x: x.astype(str).str.replace(\"'\",''))\n",
        "new_data=new_data.apply(lambda x: x.astype(str).str.replace(\",\",''))\n",
        "new_data=new_data.apply(lambda x: x.astype(str).str.replace(\"#\",''))\n",
        "new_data=new_data.apply(lambda x: x.astype(str).str.rstrip(']'))"
      ],
      "metadata": {
        "id": "uVk-M1Oj84J5"
      },
      "execution_count": 36,
      "outputs": []
    },
    {
      "cell_type": "code",
      "source": [
        "sent_hash = [str(row).split() for row in new_data['hashtags']]\n",
        "phrases = Phrases(sent_hash, min_count=30, progress_per=10000)\n",
        "bigram_hash = Phraser(phrases)\n",
        "sentences_hash = bigram_hash[sent_hash]\n",
        "sentences_hash = [TaggedDocument(sentence, 'tag') for sentence in sentences_hash]\n"
      ],
      "metadata": {
        "colab": {
          "base_uri": "https://localhost:8080/"
        },
        "id": "hj8r9d6IENnR",
        "outputId": "5149a2b5-a2cd-43bb-eb2a-726f4c58fead"
      },
      "execution_count": 37,
      "outputs": [
        {
          "output_type": "stream",
          "name": "stderr",
          "text": [
            "INFO - 14:44:20: collecting all words and their counts\n",
            "INFO - 14:44:20: PROGRESS: at sentence #0, processed 0 words and 0 word types\n",
            "INFO - 14:44:21: PROGRESS: at sentence #10000, processed 113842 words and 69449 word types\n",
            "INFO - 14:44:21: PROGRESS: at sentence #20000, processed 219614 words and 122719 word types\n",
            "INFO - 14:44:21: collected 154178 word types from a corpus of 295590 words (unigram + bigrams) and 26444 sentences\n",
            "INFO - 14:44:21: using 154178 counts as vocab in Phrases<0 vocab, min_count=30, threshold=10.0, max_vocab_size=40000000>\n",
            "INFO - 14:44:21: source_vocab length 154178\n",
            "INFO - 14:44:22: Phraser built with 907 phrasegrams\n"
          ]
        }
      ]
    },
    {
      "cell_type": "code",
      "source": [
        "d2v_model_hash = Doc2Vec(min_count=20,\n",
        "                     window=2,\n",
        "                     size=300,\n",
        "                     sample=6e-5, \n",
        "                     alpha=0.03, \n",
        "                     min_alpha=0.0007, \n",
        "                     negative=20,\n",
        "                     workers=cores-1)"
      ],
      "metadata": {
        "colab": {
          "base_uri": "https://localhost:8080/"
        },
        "id": "U3Ps-cY0Eaiy",
        "outputId": "a055d232-c43c-4094-d204-0440eb4d25f8"
      },
      "execution_count": 38,
      "outputs": [
        {
          "output_type": "stream",
          "name": "stderr",
          "text": [
            "/usr/local/lib/python3.7/dist-packages/gensim/models/doc2vec.py:570: UserWarning: The parameter `size` is deprecated, will be removed in 4.0.0, use `vector_size` instead.\n",
            "  warnings.warn(\"The parameter `size` is deprecated, will be removed in 4.0.0, use `vector_size` instead.\")\n"
          ]
        }
      ]
    },
    {
      "cell_type": "code",
      "source": [
        "t = time()\n",
        "\n",
        "d2v_model_hash.build_vocab(sentences_hash, progress_per=10000)\n",
        "\n",
        "print('Time to build vocab: {} mins'.format(round((time() - t) / 60, 2)))"
      ],
      "metadata": {
        "colab": {
          "base_uri": "https://localhost:8080/"
        },
        "id": "nBvjic-LEhWn",
        "outputId": "466fe996-680c-49a1-c5ed-452a12c34cc8"
      },
      "execution_count": 39,
      "outputs": [
        {
          "output_type": "stream",
          "name": "stderr",
          "text": [
            "INFO - 14:44:27: collecting all words and their counts\n",
            "INFO - 14:44:27: PROGRESS: at example #0, processed 0 words (0/s), 0 word types, 0 tags\n",
            "INFO - 14:44:27: PROGRESS: at example #10000, processed 101749 words (760270/s), 20901 word types, 3 tags\n",
            "INFO - 14:44:27: PROGRESS: at example #20000, processed 195079 words (775083/s), 34582 word types, 3 tags\n",
            "INFO - 14:44:27: collected 42029 word types and 3 unique tags from a corpus of 26444 examples and 261405 words\n",
            "INFO - 14:44:27: Loading a fresh vocabulary\n",
            "INFO - 14:44:28: effective_min_count=20 retains 2781 unique words (6% of original 42029, drops 39248)\n",
            "INFO - 14:44:28: effective_min_count=20 leaves 160796 word corpus (61% of original 261405, drops 100609)\n",
            "INFO - 14:44:28: deleting the raw counts dictionary of 42029 items\n",
            "INFO - 14:44:28: sample=6e-05 downsamples 2223 most-common words\n",
            "INFO - 14:44:28: downsampling leaves estimated 86134 word corpus (53.6% of prior 160796)\n",
            "INFO - 14:44:28: estimated required memory for 2781 words and 300 dimensions: 8069100 bytes\n",
            "INFO - 14:44:28: resetting layer weights\n"
          ]
        },
        {
          "output_type": "stream",
          "name": "stdout",
          "text": [
            "Time to build vocab: 0.02 mins\n"
          ]
        }
      ]
    },
    {
      "cell_type": "code",
      "source": [
        "t = time()\n",
        "\n",
        "d2v_model_hash.train(sentences_hash, total_examples=d2v_model_hash.corpus_count, epochs=30, report_delay=1)\n",
        "\n",
        "print('Time to train the model: {} mins'.format(round((time() - t) / 60, 2)))"
      ],
      "metadata": {
        "colab": {
          "base_uri": "https://localhost:8080/"
        },
        "id": "lLbYkOtiEmin",
        "outputId": "4439166a-39ae-4ccd-d114-521db46db55c"
      },
      "execution_count": 40,
      "outputs": [
        {
          "output_type": "stream",
          "name": "stderr",
          "text": [
            "INFO - 14:44:30: training model with 1 workers on 2781 vocabulary and 300 features, using sg=0 hs=0 sample=6e-05 negative=20 window=2\n",
            "INFO - 14:44:31: EPOCH 1 - PROGRESS: at 66.87% examples, 108056 words/s, in_qsize 1, out_qsize 0\n",
            "INFO - 14:44:32: worker thread finished; awaiting finish of 0 more threads\n",
            "INFO - 14:44:32: EPOCH - 1 : training on 261405 raw words (165314 effective words) took 1.5s, 109006 effective words/s\n",
            "INFO - 14:44:33: EPOCH 2 - PROGRESS: at 69.89% examples, 110655 words/s, in_qsize 1, out_qsize 0\n",
            "INFO - 14:44:33: worker thread finished; awaiting finish of 0 more threads\n",
            "INFO - 14:44:33: EPOCH - 2 : training on 261405 raw words (165239 effective words) took 1.5s, 109047 effective words/s\n",
            "INFO - 14:44:34: EPOCH 3 - PROGRESS: at 69.89% examples, 110149 words/s, in_qsize 1, out_qsize 0\n",
            "INFO - 14:44:35: worker thread finished; awaiting finish of 0 more threads\n",
            "INFO - 14:44:35: EPOCH - 3 : training on 261405 raw words (165365 effective words) took 1.5s, 110227 effective words/s\n",
            "INFO - 14:44:36: EPOCH 4 - PROGRESS: at 66.87% examples, 103989 words/s, in_qsize 1, out_qsize 0\n",
            "INFO - 14:44:37: worker thread finished; awaiting finish of 0 more threads\n",
            "INFO - 14:44:37: EPOCH - 4 : training on 261405 raw words (165586 effective words) took 1.6s, 105043 effective words/s\n",
            "INFO - 14:44:38: EPOCH 5 - PROGRESS: at 69.89% examples, 110522 words/s, in_qsize 1, out_qsize 0\n",
            "INFO - 14:44:38: worker thread finished; awaiting finish of 0 more threads\n",
            "INFO - 14:44:38: EPOCH - 5 : training on 261405 raw words (165612 effective words) took 1.5s, 109944 effective words/s\n",
            "INFO - 14:44:39: EPOCH 6 - PROGRESS: at 69.89% examples, 109112 words/s, in_qsize 1, out_qsize 0\n",
            "INFO - 14:44:40: worker thread finished; awaiting finish of 0 more threads\n",
            "INFO - 14:44:40: EPOCH - 6 : training on 261405 raw words (165428 effective words) took 1.5s, 108507 effective words/s\n",
            "INFO - 14:44:41: EPOCH 7 - PROGRESS: at 69.89% examples, 110812 words/s, in_qsize 1, out_qsize 0\n",
            "INFO - 14:44:41: worker thread finished; awaiting finish of 0 more threads\n",
            "INFO - 14:44:41: EPOCH - 7 : training on 261405 raw words (165108 effective words) took 1.5s, 110426 effective words/s\n",
            "INFO - 14:44:42: EPOCH 8 - PROGRESS: at 69.89% examples, 110184 words/s, in_qsize 1, out_qsize 0\n",
            "INFO - 14:44:43: worker thread finished; awaiting finish of 0 more threads\n",
            "INFO - 14:44:43: EPOCH - 8 : training on 261405 raw words (164963 effective words) took 1.5s, 109315 effective words/s\n",
            "INFO - 14:44:44: EPOCH 9 - PROGRESS: at 69.89% examples, 111709 words/s, in_qsize 1, out_qsize 0\n",
            "INFO - 14:44:44: worker thread finished; awaiting finish of 0 more threads\n",
            "INFO - 14:44:44: EPOCH - 9 : training on 261405 raw words (165409 effective words) took 1.5s, 111537 effective words/s\n",
            "INFO - 14:44:45: EPOCH 10 - PROGRESS: at 69.89% examples, 112318 words/s, in_qsize 1, out_qsize 0\n",
            "INFO - 14:44:46: worker thread finished; awaiting finish of 0 more threads\n",
            "INFO - 14:44:46: EPOCH - 10 : training on 261405 raw words (165281 effective words) took 1.5s, 111791 effective words/s\n",
            "INFO - 14:44:47: EPOCH 11 - PROGRESS: at 69.89% examples, 112138 words/s, in_qsize 1, out_qsize 0\n",
            "INFO - 14:44:48: worker thread finished; awaiting finish of 0 more threads\n",
            "INFO - 14:44:48: EPOCH - 11 : training on 261405 raw words (165675 effective words) took 2.0s, 83844 effective words/s\n",
            "INFO - 14:44:49: EPOCH 12 - PROGRESS: at 62.69% examples, 98219 words/s, in_qsize 1, out_qsize 0\n",
            "INFO - 14:44:49: worker thread finished; awaiting finish of 0 more threads\n",
            "INFO - 14:44:49: EPOCH - 12 : training on 261405 raw words (165683 effective words) took 1.6s, 103780 effective words/s\n",
            "INFO - 14:44:50: EPOCH 13 - PROGRESS: at 69.89% examples, 111795 words/s, in_qsize 1, out_qsize 0\n",
            "INFO - 14:44:51: worker thread finished; awaiting finish of 0 more threads\n",
            "INFO - 14:44:51: EPOCH - 13 : training on 261405 raw words (165165 effective words) took 1.6s, 102051 effective words/s\n",
            "INFO - 14:44:52: EPOCH 14 - PROGRESS: at 34.33% examples, 42390 words/s, in_qsize 2, out_qsize 0\n",
            "INFO - 14:44:53: EPOCH 14 - PROGRESS: at 69.89% examples, 48566 words/s, in_qsize 1, out_qsize 0\n",
            "INFO - 14:44:54: worker thread finished; awaiting finish of 0 more threads\n",
            "INFO - 14:44:54: EPOCH - 14 : training on 261405 raw words (165337 effective words) took 2.8s, 58563 effective words/s\n",
            "INFO - 14:44:55: EPOCH 15 - PROGRESS: at 29.48% examples, 45872 words/s, in_qsize 2, out_qsize 0\n",
            "INFO - 14:44:56: EPOCH 15 - PROGRESS: at 66.87% examples, 51904 words/s, in_qsize 1, out_qsize 0\n",
            "INFO - 14:44:56: worker thread finished; awaiting finish of 0 more threads\n",
            "INFO - 14:44:56: EPOCH - 15 : training on 261405 raw words (165877 effective words) took 2.8s, 60318 effective words/s\n",
            "INFO - 14:44:58: EPOCH 16 - PROGRESS: at 34.33% examples, 52474 words/s, in_qsize 1, out_qsize 0\n",
            "INFO - 14:44:59: EPOCH 16 - PROGRESS: at 53.74% examples, 42185 words/s, in_qsize 2, out_qsize 0\n",
            "INFO - 14:45:00: EPOCH 16 - PROGRESS: at 92.62% examples, 48552 words/s, in_qsize 2, out_qsize 0\n",
            "INFO - 14:45:00: worker thread finished; awaiting finish of 0 more threads\n",
            "INFO - 14:45:00: EPOCH - 16 : training on 261405 raw words (165451 effective words) took 3.3s, 50512 effective words/s\n",
            "INFO - 14:45:01: EPOCH 17 - PROGRESS: at 66.87% examples, 101682 words/s, in_qsize 2, out_qsize 0\n",
            "INFO - 14:45:01: worker thread finished; awaiting finish of 0 more threads\n",
            "INFO - 14:45:01: EPOCH - 17 : training on 261405 raw words (165582 effective words) took 1.8s, 92840 effective words/s\n",
            "INFO - 14:45:03: EPOCH 18 - PROGRESS: at 45.22% examples, 74062 words/s, in_qsize 2, out_qsize 0\n",
            "INFO - 14:45:04: EPOCH 18 - PROGRESS: at 77.19% examples, 59112 words/s, in_qsize 1, out_qsize 0\n",
            "INFO - 14:45:05: worker thread finished; awaiting finish of 0 more threads\n",
            "INFO - 14:45:05: EPOCH - 18 : training on 261405 raw words (165527 effective words) took 3.1s, 52931 effective words/s\n",
            "INFO - 14:45:06: EPOCH 19 - PROGRESS: at 41.36% examples, 63005 words/s, in_qsize 2, out_qsize 0\n",
            "INFO - 14:45:07: EPOCH 19 - PROGRESS: at 73.28% examples, 56620 words/s, in_qsize 2, out_qsize 0\n",
            "INFO - 14:45:08: worker thread finished; awaiting finish of 0 more threads\n",
            "INFO - 14:45:08: EPOCH - 19 : training on 261405 raw words (165693 effective words) took 2.9s, 56414 effective words/s\n",
            "INFO - 14:45:09: EPOCH 20 - PROGRESS: at 37.21% examples, 59326 words/s, in_qsize 1, out_qsize 0\n",
            "INFO - 14:45:10: EPOCH 20 - PROGRESS: at 73.28% examples, 57299 words/s, in_qsize 1, out_qsize 0\n",
            "INFO - 14:45:10: worker thread finished; awaiting finish of 0 more threads\n",
            "INFO - 14:45:10: EPOCH - 20 : training on 261405 raw words (165457 effective words) took 2.9s, 57182 effective words/s\n",
            "INFO - 14:45:12: EPOCH 21 - PROGRESS: at 34.33% examples, 56474 words/s, in_qsize 1, out_qsize 0\n",
            "INFO - 14:45:13: EPOCH 21 - PROGRESS: at 99.60% examples, 80739 words/s, in_qsize 1, out_qsize 0\n",
            "INFO - 14:45:13: worker thread finished; awaiting finish of 0 more threads\n",
            "INFO - 14:45:13: EPOCH - 21 : training on 261405 raw words (165410 effective words) took 2.1s, 80608 effective words/s\n",
            "INFO - 14:45:14: EPOCH 22 - PROGRESS: at 58.21% examples, 90747 words/s, in_qsize 1, out_qsize 0\n",
            "INFO - 14:45:15: EPOCH 22 - PROGRESS: at 99.60% examples, 79186 words/s, in_qsize 1, out_qsize 0\n",
            "INFO - 14:45:15: worker thread finished; awaiting finish of 0 more threads\n",
            "INFO - 14:45:15: EPOCH - 22 : training on 261405 raw words (165689 effective words) took 2.1s, 78737 effective words/s\n",
            "INFO - 14:45:16: EPOCH 23 - PROGRESS: at 37.21% examples, 58698 words/s, in_qsize 2, out_qsize 0\n",
            "INFO - 14:45:17: EPOCH 23 - PROGRESS: at 81.15% examples, 63497 words/s, in_qsize 2, out_qsize 0\n",
            "INFO - 14:45:17: worker thread finished; awaiting finish of 0 more threads\n",
            "INFO - 14:45:17: EPOCH - 23 : training on 261405 raw words (165477 effective words) took 2.5s, 65392 effective words/s\n",
            "INFO - 14:45:18: EPOCH 24 - PROGRESS: at 34.33% examples, 56097 words/s, in_qsize 2, out_qsize 0\n",
            "INFO - 14:45:19: EPOCH 24 - PROGRESS: at 58.21% examples, 46796 words/s, in_qsize 1, out_qsize 0\n",
            "INFO - 14:45:20: EPOCH 24 - PROGRESS: at 85.18% examples, 43917 words/s, in_qsize 1, out_qsize 0\n",
            "INFO - 14:45:21: worker thread finished; awaiting finish of 0 more threads\n",
            "INFO - 14:45:21: EPOCH - 24 : training on 261405 raw words (165368 effective words) took 3.9s, 42634 effective words/s\n",
            "INFO - 14:45:22: EPOCH 25 - PROGRESS: at 34.33% examples, 51527 words/s, in_qsize 2, out_qsize 0\n",
            "INFO - 14:45:23: EPOCH 25 - PROGRESS: at 73.28% examples, 55622 words/s, in_qsize 2, out_qsize 0\n",
            "INFO - 14:45:24: worker thread finished; awaiting finish of 0 more threads\n",
            "INFO - 14:45:24: EPOCH - 25 : training on 261405 raw words (165505 effective words) took 3.0s, 54901 effective words/s\n",
            "INFO - 14:45:25: EPOCH 26 - PROGRESS: at 29.48% examples, 47842 words/s, in_qsize 1, out_qsize 0\n",
            "INFO - 14:45:26: EPOCH 26 - PROGRESS: at 99.60% examples, 78934 words/s, in_qsize 1, out_qsize 0\n",
            "INFO - 14:45:26: worker thread finished; awaiting finish of 0 more threads\n",
            "INFO - 14:45:26: EPOCH - 26 : training on 261405 raw words (165311 effective words) took 2.1s, 78815 effective words/s\n",
            "INFO - 14:45:27: EPOCH 27 - PROGRESS: at 69.89% examples, 107201 words/s, in_qsize 1, out_qsize 0\n",
            "INFO - 14:45:28: worker thread finished; awaiting finish of 0 more threads\n",
            "INFO - 14:45:28: EPOCH - 27 : training on 261405 raw words (165130 effective words) took 1.5s, 107069 effective words/s\n",
            "INFO - 14:45:29: EPOCH 28 - PROGRESS: at 66.87% examples, 108279 words/s, in_qsize 2, out_qsize 0\n",
            "INFO - 14:45:30: worker thread finished; awaiting finish of 0 more threads\n",
            "INFO - 14:45:30: EPOCH - 28 : training on 261405 raw words (165786 effective words) took 1.8s, 91481 effective words/s\n",
            "INFO - 14:45:31: EPOCH 29 - PROGRESS: at 37.21% examples, 57189 words/s, in_qsize 1, out_qsize 0\n",
            "INFO - 14:45:32: EPOCH 29 - PROGRESS: at 62.69% examples, 43007 words/s, in_qsize 2, out_qsize 0\n",
            "INFO - 14:45:33: EPOCH 29 - PROGRESS: at 85.18% examples, 39660 words/s, in_qsize 1, out_qsize 0\n",
            "INFO - 14:45:34: EPOCH 29 - PROGRESS: at 99.60% examples, 35375 words/s, in_qsize 1, out_qsize 0\n",
            "INFO - 14:45:34: worker thread finished; awaiting finish of 0 more threads\n",
            "INFO - 14:45:34: EPOCH - 29 : training on 261405 raw words (165559 effective words) took 4.7s, 35203 effective words/s\n",
            "INFO - 14:45:35: EPOCH 30 - PROGRESS: at 18.32% examples, 31110 words/s, in_qsize 1, out_qsize 0\n",
            "INFO - 14:45:36: EPOCH 30 - PROGRESS: at 37.21% examples, 31230 words/s, in_qsize 2, out_qsize 0\n",
            "INFO - 14:45:37: EPOCH 30 - PROGRESS: at 62.69% examples, 33387 words/s, in_qsize 2, out_qsize 0\n",
            "INFO - 14:45:39: EPOCH 30 - PROGRESS: at 92.62% examples, 36918 words/s, in_qsize 2, out_qsize 0\n",
            "INFO - 14:45:39: worker thread finished; awaiting finish of 0 more threads\n",
            "INFO - 14:45:39: EPOCH - 30 : training on 261405 raw words (165580 effective words) took 4.4s, 37403 effective words/s\n",
            "INFO - 14:45:39: training on a 7842150 raw words (4963567 effective words) took 68.5s, 72507 effective words/s\n"
          ]
        },
        {
          "output_type": "stream",
          "name": "stdout",
          "text": [
            "Time to train the model: 1.14 mins\n"
          ]
        }
      ]
    },
    {
      "cell_type": "code",
      "source": [
        "d2v_model_hash.wv.most_similar(positive=[\"happynewyear\"])"
      ],
      "metadata": {
        "colab": {
          "base_uri": "https://localhost:8080/"
        },
        "id": "yXutltWDEtBW",
        "outputId": "6c4eeca1-e215-4b3f-d230-3252c6efced8"
      },
      "execution_count": 41,
      "outputs": [
        {
          "output_type": "stream",
          "name": "stderr",
          "text": [
            "INFO - 14:45:51: precomputing L2-norms of word weight vectors\n"
          ]
        },
        {
          "output_type": "execute_result",
          "data": {
            "text/plain": [
              "[('celebrate', 0.9347885847091675),\n",
              " ('edinburghchristmas', 0.9170191884040833),\n",
              " ('bread', 0.8846942186355591),\n",
              " ('competition', 0.8843389749526978),\n",
              " ('design', 0.8832675218582153),\n",
              " ('edinburgh_scotland', 0.8808362483978271),\n",
              " ('bristol', 0.8738811016082764),\n",
              " ('stockbridge', 0.872738242149353),\n",
              " ('champagne', 0.8701140880584717),\n",
              " ('saturdayvibes', 0.8623183965682983)]"
            ]
          },
          "metadata": {},
          "execution_count": 41
        }
      ]
    },
    {
      "cell_type": "code",
      "source": [
        "tsnescatterplot(d2v_model_hash, 'happynewyear', ['2022','newyear','summer', 'beer', 'londonlife', 'pub'])"
      ],
      "metadata": {
        "colab": {
          "base_uri": "https://localhost:8080/",
          "height": 659
        },
        "id": "cvjFPgFuExsn",
        "outputId": "81af0865-ea15-490f-cb15-46e099a2593a"
      },
      "execution_count": 43,
      "outputs": [
        {
          "output_type": "stream",
          "name": "stderr",
          "text": [
            "/usr/local/lib/python3.7/dist-packages/sklearn/manifold/_t_sne.py:783: FutureWarning: The default initialization in TSNE will change from 'random' to 'pca' in 1.2.\n",
            "  FutureWarning,\n",
            "/usr/local/lib/python3.7/dist-packages/sklearn/manifold/_t_sne.py:793: FutureWarning: The default learning rate in TSNE will change from 200.0 to 'auto' in 1.2.\n",
            "  FutureWarning,\n"
          ]
        },
        {
          "output_type": "display_data",
          "data": {
            "text/plain": [
              "<Figure size 648x648 with 1 Axes>"
            ],
            "image/png": "[encoded data removed]"
          },
          "metadata": {
            "needs_background": "light"
          }
        }
      ]
    },
    {
      "cell_type": "markdown",
      "source": [
        "#Biography"
      ],
      "metadata": {
        "id": "sAkvpmRrFKvQ"
      }
    },
    {
      "cell_type": "code",
      "source": [
        "sent_bio = [str(row).split() for row in data['biography']]\n",
        "phrases = Phrases(sent_bio, min_count=30, progress_per=10000)\n",
        "bigram_bio = Phraser(phrases)\n",
        "sentences_bio = bigram_bio[sent_bio]\n",
        "sentences_bio = [TaggedDocument(sentence, 'tag') for sentence in sentences_bio]\n"
      ],
      "metadata": {
        "colab": {
          "base_uri": "https://localhost:8080/"
        },
        "id": "Dhv1yBJzFMlV",
        "outputId": "8010830d-7f02-4a22-b7b4-68b5eda3e83f"
      },
      "execution_count": 44,
      "outputs": [
        {
          "output_type": "stream",
          "name": "stderr",
          "text": [
            "INFO - 14:46:19: collecting all words and their counts\n",
            "INFO - 14:46:19: PROGRESS: at sentence #0, processed 0 words and 0 word types\n",
            "INFO - 14:46:20: PROGRESS: at sentence #10000, processed 144530 words and 4546 word types\n",
            "INFO - 14:46:20: PROGRESS: at sentence #20000, processed 282657 words and 7276 word types\n",
            "INFO - 14:46:20: PROGRESS: at sentence #30000, processed 420143 words and 9023 word types\n",
            "INFO - 14:46:20: PROGRESS: at sentence #40000, processed 560109 words and 9895 word types\n",
            "INFO - 14:46:20: collected 10263 word types from a corpus of 617565 words (unigram + bigrams) and 44159 sentences\n",
            "INFO - 14:46:20: using 10263 counts as vocab in Phrases<0 vocab, min_count=30, threshold=10.0, max_vocab_size=40000000>\n",
            "INFO - 14:46:20: source_vocab length 10263\n",
            "INFO - 14:46:20: Phraser built with 1829 phrasegrams\n"
          ]
        }
      ]
    },
    {
      "cell_type": "code",
      "source": [
        "from gensim.models import doc2vec\n",
        "d2v_model_bio = Doc2Vec(min_count=20,\n",
        "                     window=2,\n",
        "                     size=300,\n",
        "                     sample=6e-5, \n",
        "                     alpha=0.03, \n",
        "                     min_alpha=0.0007, \n",
        "                     negative=20,\n",
        "                     workers=cores-1)"
      ],
      "metadata": {
        "colab": {
          "base_uri": "https://localhost:8080/"
        },
        "id": "c0Pd5iC_FnDX",
        "outputId": "0e249966-49be-45a6-e514-59ec454d019f"
      },
      "execution_count": 45,
      "outputs": [
        {
          "output_type": "stream",
          "name": "stderr",
          "text": [
            "/usr/local/lib/python3.7/dist-packages/gensim/models/doc2vec.py:570: UserWarning: The parameter `size` is deprecated, will be removed in 4.0.0, use `vector_size` instead.\n",
            "  warnings.warn(\"The parameter `size` is deprecated, will be removed in 4.0.0, use `vector_size` instead.\")\n"
          ]
        }
      ]
    },
    {
      "cell_type": "code",
      "source": [
        "t = time()\n",
        "\n",
        "d2v_model_bio.build_vocab(sentences_bio, progress_per=10000)\n",
        "\n",
        "print('Time to build vocab: {} mins'.format(round((time() - t) / 60, 2)))"
      ],
      "metadata": {
        "colab": {
          "base_uri": "https://localhost:8080/"
        },
        "id": "SZqYlpvjFsmU",
        "outputId": "ecf0868f-8618-410e-8684-7b036a77e968"
      },
      "execution_count": 46,
      "outputs": [
        {
          "output_type": "stream",
          "name": "stderr",
          "text": [
            "INFO - 14:46:25: collecting all words and their counts\n",
            "INFO - 14:46:25: PROGRESS: at example #0, processed 0 words (0/s), 0 word types, 0 tags\n",
            "INFO - 14:46:25: PROGRESS: at example #10000, processed 118994 words (998850/s), 1506 word types, 3 tags\n",
            "INFO - 14:46:25: PROGRESS: at example #20000, processed 231182 words (974572/s), 2307 word types, 3 tags\n",
            "INFO - 14:46:26: PROGRESS: at example #30000, processed 342765 words (969307/s), 2775 word types, 3 tags\n",
            "INFO - 14:46:26: PROGRESS: at example #40000, processed 454786 words (991885/s), 3012 word types, 3 tags\n",
            "INFO - 14:46:26: collected 3107 word types and 3 unique tags from a corpus of 44159 examples and 500683 words\n",
            "INFO - 14:46:26: Loading a fresh vocabulary\n",
            "INFO - 14:46:26: effective_min_count=20 retains 2612 unique words (84% of original 3107, drops 495)\n",
            "INFO - 14:46:26: effective_min_count=20 leaves 497242 word corpus (99% of original 500683, drops 3441)\n",
            "INFO - 14:46:26: deleting the raw counts dictionary of 3107 items\n",
            "INFO - 14:46:26: sample=6e-05 downsamples 1487 most-common words\n",
            "INFO - 14:46:26: downsampling leaves estimated 217113 word corpus (43.7% of prior 497242)\n",
            "INFO - 14:46:26: estimated required memory for 2612 words and 300 dimensions: 7579000 bytes\n",
            "INFO - 14:46:26: resetting layer weights\n"
          ]
        },
        {
          "output_type": "stream",
          "name": "stdout",
          "text": [
            "Time to build vocab: 0.02 mins\n"
          ]
        }
      ]
    },
    {
      "cell_type": "code",
      "source": [
        "t = time()\n",
        "\n",
        "d2v_model_bio.train(sentences_bio, total_examples=d2v_model_bio.corpus_count, epochs=30, report_delay=1)\n",
        "\n",
        "print('Time to train the model: {} mins'.format(round((time() - t) / 60, 2)))"
      ],
      "metadata": {
        "colab": {
          "base_uri": "https://localhost:8080/"
        },
        "id": "POLTayg0FwaJ",
        "outputId": "61084052-3764-4fa3-8493-62a1362ed4a3"
      },
      "execution_count": 47,
      "outputs": [
        {
          "output_type": "stream",
          "name": "stderr",
          "text": [
            "INFO - 14:46:30: training model with 1 workers on 2612 vocabulary and 300 features, using sg=0 hs=0 sample=6e-05 negative=20 window=2\n",
            "INFO - 14:46:31: EPOCH 1 - PROGRESS: at 34.88% examples, 123771 words/s, in_qsize 1, out_qsize 0\n",
            "INFO - 14:46:32: EPOCH 1 - PROGRESS: at 71.40% examples, 123018 words/s, in_qsize 1, out_qsize 0\n",
            "INFO - 14:46:33: worker thread finished; awaiting finish of 0 more threads\n",
            "INFO - 14:46:33: EPOCH - 1 : training on 500683 raw words (349614 effective words) took 2.9s, 122470 effective words/s\n",
            "INFO - 14:46:34: EPOCH 2 - PROGRESS: at 34.88% examples, 122569 words/s, in_qsize 1, out_qsize 0\n",
            "INFO - 14:46:35: EPOCH 2 - PROGRESS: at 71.40% examples, 121564 words/s, in_qsize 1, out_qsize 0\n",
            "INFO - 14:46:35: worker thread finished; awaiting finish of 0 more threads\n",
            "INFO - 14:46:35: EPOCH - 2 : training on 500683 raw words (349466 effective words) took 2.9s, 121896 effective words/s\n",
            "INFO - 14:46:36: EPOCH 3 - PROGRESS: at 34.88% examples, 123764 words/s, in_qsize 1, out_qsize 0\n",
            "INFO - 14:46:37: EPOCH 3 - PROGRESS: at 71.40% examples, 122736 words/s, in_qsize 1, out_qsize 0\n",
            "INFO - 14:46:38: worker thread finished; awaiting finish of 0 more threads\n",
            "INFO - 14:46:38: EPOCH - 3 : training on 500683 raw words (349648 effective words) took 2.8s, 122691 effective words/s\n",
            "INFO - 14:46:39: EPOCH 4 - PROGRESS: at 34.88% examples, 121746 words/s, in_qsize 1, out_qsize 0\n",
            "INFO - 14:46:40: EPOCH 4 - PROGRESS: at 71.40% examples, 120929 words/s, in_qsize 1, out_qsize 0\n",
            "INFO - 14:46:41: worker thread finished; awaiting finish of 0 more threads\n",
            "INFO - 14:46:41: EPOCH - 4 : training on 500683 raw words (349257 effective words) took 2.9s, 121620 effective words/s\n",
            "INFO - 14:46:42: EPOCH 5 - PROGRESS: at 36.99% examples, 125135 words/s, in_qsize 1, out_qsize 0\n",
            "INFO - 14:46:43: EPOCH 5 - PROGRESS: at 73.39% examples, 124502 words/s, in_qsize 2, out_qsize 0\n",
            "INFO - 14:46:44: worker thread finished; awaiting finish of 0 more threads\n",
            "INFO - 14:46:44: EPOCH - 5 : training on 500683 raw words (349636 effective words) took 2.8s, 124971 effective words/s\n",
            "INFO - 14:46:45: EPOCH 6 - PROGRESS: at 36.99% examples, 126371 words/s, in_qsize 2, out_qsize 0\n",
            "INFO - 14:46:46: EPOCH 6 - PROGRESS: at 75.25% examples, 126532 words/s, in_qsize 1, out_qsize 0\n",
            "INFO - 14:46:47: worker thread finished; awaiting finish of 0 more threads\n",
            "INFO - 14:46:47: EPOCH - 6 : training on 500683 raw words (349878 effective words) took 2.8s, 126947 effective words/s\n",
            "INFO - 14:46:48: EPOCH 7 - PROGRESS: at 36.99% examples, 129413 words/s, in_qsize 1, out_qsize 0\n",
            "INFO - 14:46:49: EPOCH 7 - PROGRESS: at 67.24% examples, 113874 words/s, in_qsize 2, out_qsize 0\n",
            "INFO - 14:46:50: EPOCH 7 - PROGRESS: at 91.60% examples, 101659 words/s, in_qsize 1, out_qsize 0\n",
            "INFO - 14:46:50: worker thread finished; awaiting finish of 0 more threads\n",
            "INFO - 14:46:50: EPOCH - 7 : training on 500683 raw words (349146 effective words) took 3.6s, 96343 effective words/s\n",
            "INFO - 14:46:51: EPOCH 8 - PROGRESS: at 17.05% examples, 61518 words/s, in_qsize 1, out_qsize 0\n",
            "INFO - 14:46:52: EPOCH 8 - PROGRESS: at 34.88% examples, 61028 words/s, in_qsize 1, out_qsize 0\n",
            "INFO - 14:46:53: EPOCH 8 - PROGRESS: at 55.29% examples, 63216 words/s, in_qsize 1, out_qsize 0\n",
            "INFO - 14:46:55: EPOCH 8 - PROGRESS: at 75.25% examples, 63846 words/s, in_qsize 1, out_qsize 0\n",
            "INFO - 14:46:55: worker thread finished; awaiting finish of 0 more threads\n",
            "INFO - 14:46:55: EPOCH - 8 : training on 500683 raw words (349889 effective words) took 5.1s, 69190 effective words/s\n",
            "INFO - 14:46:56: EPOCH 9 - PROGRESS: at 36.99% examples, 130471 words/s, in_qsize 1, out_qsize 0\n",
            "INFO - 14:46:57: EPOCH 9 - PROGRESS: at 75.25% examples, 131441 words/s, in_qsize 1, out_qsize 0\n",
            "INFO - 14:46:58: worker thread finished; awaiting finish of 0 more threads\n",
            "INFO - 14:46:58: EPOCH - 9 : training on 500683 raw words (349620 effective words) took 2.7s, 131721 effective words/s\n",
            "INFO - 14:46:59: EPOCH 10 - PROGRESS: at 39.32% examples, 133357 words/s, in_qsize 1, out_qsize 0\n",
            "INFO - 14:47:00: EPOCH 10 - PROGRESS: at 77.41% examples, 131361 words/s, in_qsize 1, out_qsize 0\n",
            "INFO - 14:47:01: worker thread finished; awaiting finish of 0 more threads\n",
            "INFO - 14:47:01: EPOCH - 10 : training on 500683 raw words (349255 effective words) took 2.7s, 128067 effective words/s\n",
            "INFO - 14:47:02: EPOCH 11 - PROGRESS: at 19.06% examples, 65481 words/s, in_qsize 1, out_qsize 0\n",
            "INFO - 14:47:03: EPOCH 11 - PROGRESS: at 39.32% examples, 65729 words/s, in_qsize 1, out_qsize 0\n",
            "INFO - 14:47:04: EPOCH 11 - PROGRESS: at 59.08% examples, 66082 words/s, in_qsize 2, out_qsize 0\n",
            "INFO - 14:47:05: EPOCH 11 - PROGRESS: at 69.33% examples, 57659 words/s, in_qsize 2, out_qsize 0\n",
            "INFO - 14:47:06: EPOCH 11 - PROGRESS: at 82.08% examples, 54485 words/s, in_qsize 1, out_qsize 0\n",
            "INFO - 14:47:07: EPOCH 11 - PROGRESS: at 97.75% examples, 54042 words/s, in_qsize 2, out_qsize 0\n",
            "INFO - 14:47:07: worker thread finished; awaiting finish of 0 more threads\n",
            "INFO - 14:47:07: EPOCH - 11 : training on 500683 raw words (349105 effective words) took 6.4s, 54200 effective words/s\n",
            "INFO - 14:47:08: EPOCH 12 - PROGRESS: at 17.05% examples, 56422 words/s, in_qsize 1, out_qsize 0\n",
            "INFO - 14:47:09: EPOCH 12 - PROGRESS: at 34.88% examples, 58696 words/s, in_qsize 1, out_qsize 0\n",
            "INFO - 14:47:11: EPOCH 12 - PROGRESS: at 53.43% examples, 58668 words/s, in_qsize 1, out_qsize 0\n",
            "INFO - 14:47:12: EPOCH 12 - PROGRESS: at 73.39% examples, 60232 words/s, in_qsize 1, out_qsize 0\n",
            "INFO - 14:47:13: EPOCH 12 - PROGRESS: at 91.60% examples, 59871 words/s, in_qsize 1, out_qsize 0\n",
            "INFO - 14:47:13: worker thread finished; awaiting finish of 0 more threads\n",
            "INFO - 14:47:13: EPOCH - 12 : training on 500683 raw words (349913 effective words) took 5.7s, 61250 effective words/s\n",
            "INFO - 14:47:14: EPOCH 13 - PROGRESS: at 36.99% examples, 126964 words/s, in_qsize 1, out_qsize 0\n",
            "INFO - 14:47:15: EPOCH 13 - PROGRESS: at 75.25% examples, 128089 words/s, in_qsize 1, out_qsize 0\n",
            "INFO - 14:47:16: worker thread finished; awaiting finish of 0 more threads\n",
            "INFO - 14:47:16: EPOCH - 13 : training on 500683 raw words (349972 effective words) took 2.7s, 128309 effective words/s\n",
            "INFO - 14:47:17: EPOCH 14 - PROGRESS: at 36.99% examples, 131401 words/s, in_qsize 1, out_qsize 0\n",
            "INFO - 14:47:18: EPOCH 14 - PROGRESS: at 75.25% examples, 130853 words/s, in_qsize 2, out_qsize 0\n",
            "INFO - 14:47:18: worker thread finished; awaiting finish of 0 more threads\n",
            "INFO - 14:47:18: EPOCH - 14 : training on 500683 raw words (349576 effective words) took 2.7s, 131280 effective words/s\n",
            "INFO - 14:47:19: EPOCH 15 - PROGRESS: at 36.99% examples, 129603 words/s, in_qsize 1, out_qsize 0\n",
            "INFO - 14:47:21: EPOCH 15 - PROGRESS: at 75.25% examples, 129658 words/s, in_qsize 2, out_qsize 0\n",
            "INFO - 14:47:21: worker thread finished; awaiting finish of 0 more threads\n",
            "INFO - 14:47:21: EPOCH - 15 : training on 500683 raw words (349210 effective words) took 2.7s, 128901 effective words/s\n",
            "INFO - 14:47:22: EPOCH 16 - PROGRESS: at 36.99% examples, 130892 words/s, in_qsize 1, out_qsize 0\n",
            "INFO - 14:47:23: EPOCH 16 - PROGRESS: at 55.29% examples, 94718 words/s, in_qsize 1, out_qsize 0\n",
            "INFO - 14:47:24: EPOCH 16 - PROGRESS: at 93.55% examples, 106525 words/s, in_qsize 1, out_qsize 0\n",
            "INFO - 14:47:24: worker thread finished; awaiting finish of 0 more threads\n",
            "INFO - 14:47:24: EPOCH - 16 : training on 500683 raw words (349310 effective words) took 3.2s, 107838 effective words/s\n",
            "INFO - 14:47:25: EPOCH 17 - PROGRESS: at 36.99% examples, 130729 words/s, in_qsize 1, out_qsize 0\n",
            "INFO - 14:47:26: EPOCH 17 - PROGRESS: at 75.25% examples, 129410 words/s, in_qsize 2, out_qsize 0\n",
            "INFO - 14:47:27: worker thread finished; awaiting finish of 0 more threads\n",
            "INFO - 14:47:27: EPOCH - 17 : training on 500683 raw words (349429 effective words) took 2.7s, 128529 effective words/s\n",
            "INFO - 14:47:28: EPOCH 18 - PROGRESS: at 36.99% examples, 131047 words/s, in_qsize 1, out_qsize 0\n",
            "INFO - 14:47:29: EPOCH 18 - PROGRESS: at 75.25% examples, 130928 words/s, in_qsize 1, out_qsize 0\n",
            "INFO - 14:47:30: worker thread finished; awaiting finish of 0 more threads\n",
            "INFO - 14:47:30: EPOCH - 18 : training on 500683 raw words (349290 effective words) took 2.7s, 131051 effective words/s\n",
            "INFO - 14:47:31: EPOCH 19 - PROGRESS: at 39.32% examples, 132706 words/s, in_qsize 1, out_qsize 0\n",
            "INFO - 14:47:32: EPOCH 19 - PROGRESS: at 77.41% examples, 130516 words/s, in_qsize 1, out_qsize 0\n",
            "INFO - 14:47:33: worker thread finished; awaiting finish of 0 more threads\n",
            "INFO - 14:47:33: EPOCH - 19 : training on 500683 raw words (349077 effective words) took 2.7s, 130651 effective words/s\n",
            "INFO - 14:47:34: EPOCH 20 - PROGRESS: at 39.32% examples, 133971 words/s, in_qsize 1, out_qsize 0\n",
            "INFO - 14:47:35: EPOCH 20 - PROGRESS: at 79.74% examples, 132808 words/s, in_qsize 1, out_qsize 0\n",
            "INFO - 14:47:35: worker thread finished; awaiting finish of 0 more threads\n",
            "INFO - 14:47:35: EPOCH - 20 : training on 500683 raw words (349422 effective words) took 2.6s, 132016 effective words/s\n",
            "INFO - 14:47:36: EPOCH 21 - PROGRESS: at 39.32% examples, 132960 words/s, in_qsize 1, out_qsize 0\n",
            "INFO - 14:47:37: EPOCH 21 - PROGRESS: at 79.74% examples, 132476 words/s, in_qsize 1, out_qsize 0\n",
            "INFO - 14:47:38: worker thread finished; awaiting finish of 0 more threads\n",
            "INFO - 14:47:38: EPOCH - 21 : training on 500683 raw words (349908 effective words) took 2.6s, 132191 effective words/s\n",
            "INFO - 14:47:39: EPOCH 22 - PROGRESS: at 39.32% examples, 132158 words/s, in_qsize 1, out_qsize 0\n",
            "INFO - 14:47:40: EPOCH 22 - PROGRESS: at 79.74% examples, 132078 words/s, in_qsize 1, out_qsize 0\n",
            "INFO - 14:47:40: worker thread finished; awaiting finish of 0 more threads\n",
            "INFO - 14:47:40: EPOCH - 22 : training on 500683 raw words (349581 effective words) took 2.6s, 132044 effective words/s\n",
            "INFO - 14:47:42: EPOCH 23 - PROGRESS: at 36.99% examples, 130223 words/s, in_qsize 1, out_qsize 0\n",
            "INFO - 14:47:43: EPOCH 23 - PROGRESS: at 75.25% examples, 131139 words/s, in_qsize 1, out_qsize 0\n",
            "INFO - 14:47:43: worker thread finished; awaiting finish of 0 more threads\n",
            "INFO - 14:47:43: EPOCH - 23 : training on 500683 raw words (349600 effective words) took 2.7s, 131189 effective words/s\n",
            "INFO - 14:47:44: EPOCH 24 - PROGRESS: at 36.99% examples, 130811 words/s, in_qsize 1, out_qsize 0\n",
            "INFO - 14:47:45: EPOCH 24 - PROGRESS: at 75.25% examples, 131125 words/s, in_qsize 2, out_qsize 0\n",
            "INFO - 14:47:46: worker thread finished; awaiting finish of 0 more threads\n",
            "INFO - 14:47:46: EPOCH - 24 : training on 500683 raw words (349929 effective words) took 2.7s, 131066 effective words/s\n",
            "INFO - 14:47:47: EPOCH 25 - PROGRESS: at 39.32% examples, 134115 words/s, in_qsize 1, out_qsize 0\n",
            "INFO - 14:47:48: EPOCH 25 - PROGRESS: at 79.74% examples, 132841 words/s, in_qsize 1, out_qsize 0\n",
            "INFO - 14:47:49: worker thread finished; awaiting finish of 0 more threads\n",
            "INFO - 14:47:49: EPOCH - 25 : training on 500683 raw words (349402 effective words) took 2.6s, 132143 effective words/s\n",
            "INFO - 14:47:50: EPOCH 26 - PROGRESS: at 39.32% examples, 132572 words/s, in_qsize 1, out_qsize 0\n",
            "INFO - 14:47:51: EPOCH 26 - PROGRESS: at 77.41% examples, 131825 words/s, in_qsize 2, out_qsize 0\n",
            "INFO - 14:47:51: worker thread finished; awaiting finish of 0 more threads\n",
            "INFO - 14:47:51: EPOCH - 26 : training on 500683 raw words (350006 effective words) took 2.6s, 132183 effective words/s\n",
            "INFO - 14:47:52: EPOCH 27 - PROGRESS: at 36.99% examples, 129222 words/s, in_qsize 1, out_qsize 0\n",
            "INFO - 14:47:53: EPOCH 27 - PROGRESS: at 75.25% examples, 130082 words/s, in_qsize 1, out_qsize 0\n",
            "INFO - 14:47:54: worker thread finished; awaiting finish of 0 more threads\n",
            "INFO - 14:47:54: EPOCH - 27 : training on 500683 raw words (349336 effective words) took 2.7s, 130035 effective words/s\n",
            "INFO - 14:47:55: EPOCH 28 - PROGRESS: at 36.99% examples, 128846 words/s, in_qsize 1, out_qsize 0\n",
            "INFO - 14:47:56: EPOCH 28 - PROGRESS: at 75.25% examples, 128794 words/s, in_qsize 1, out_qsize 0\n",
            "INFO - 14:47:57: worker thread finished; awaiting finish of 0 more threads\n",
            "INFO - 14:47:57: EPOCH - 28 : training on 500683 raw words (349700 effective words) took 2.7s, 128378 effective words/s\n",
            "INFO - 14:47:58: EPOCH 29 - PROGRESS: at 36.99% examples, 130476 words/s, in_qsize 1, out_qsize 0\n",
            "INFO - 14:47:59: EPOCH 29 - PROGRESS: at 75.25% examples, 129398 words/s, in_qsize 1, out_qsize 0\n",
            "INFO - 14:47:59: worker thread finished; awaiting finish of 0 more threads\n",
            "INFO - 14:47:59: EPOCH - 29 : training on 500683 raw words (349779 effective words) took 2.7s, 129322 effective words/s\n",
            "INFO - 14:48:00: EPOCH 30 - PROGRESS: at 36.99% examples, 127865 words/s, in_qsize 1, out_qsize 0\n",
            "INFO - 14:48:01: EPOCH 30 - PROGRESS: at 75.25% examples, 128024 words/s, in_qsize 1, out_qsize 0\n",
            "INFO - 14:48:02: worker thread finished; awaiting finish of 0 more threads\n",
            "INFO - 14:48:02: EPOCH - 30 : training on 500683 raw words (349395 effective words) took 2.7s, 127164 effective words/s\n",
            "INFO - 14:48:02: training on a 15020490 raw words (10486349 effective words) took 92.4s, 113549 effective words/s\n"
          ]
        },
        {
          "output_type": "stream",
          "name": "stdout",
          "text": [
            "Time to train the model: 1.54 mins\n"
          ]
        }
      ]
    },
    {
      "cell_type": "code",
      "source": [
        "tsnescatterplot(d2v_model_bio, 'consult', [i[0] for i in d2v_model_bio.wv.most_similar(negative=[\"consult\"])])"
      ],
      "metadata": {
        "colab": {
          "base_uri": "https://localhost:8080/",
          "height": 678
        },
        "id": "94aHRnRLGD1l",
        "outputId": "c6d6bb43-e966-455b-c71f-3934c6a2c9fa"
      },
      "execution_count": 49,
      "outputs": [
        {
          "output_type": "stream",
          "name": "stderr",
          "text": [
            "INFO - 14:48:08: precomputing L2-norms of word weight vectors\n",
            "/usr/local/lib/python3.7/dist-packages/sklearn/manifold/_t_sne.py:783: FutureWarning: The default initialization in TSNE will change from 'random' to 'pca' in 1.2.\n",
            "  FutureWarning,\n",
            "/usr/local/lib/python3.7/dist-packages/sklearn/manifold/_t_sne.py:793: FutureWarning: The default learning rate in TSNE will change from 200.0 to 'auto' in 1.2.\n",
            "  FutureWarning,\n"
          ]
        },
        {
          "output_type": "display_data",
          "data": {
            "text/plain": [
              "<Figure size 648x648 with 1 Axes>"
            ],
            "image/png": "[encoded data removed]"
          },
          "metadata": {
            "needs_background": "light"
          }
        }
      ]
    }
  ]
}