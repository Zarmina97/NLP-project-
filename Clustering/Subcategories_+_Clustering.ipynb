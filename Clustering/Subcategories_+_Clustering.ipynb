{
  "cells": [
    {
      "cell_type": "markdown",
      "metadata": {
        "id": "cGZZZ8Lh6I09"
      },
      "source": [
        "#Datasets Analysis"
      ]
    },
    {
      "cell_type": "code",
      "execution_count": 62,
      "metadata": {
        "id": "_XARG41p6p7E"
      },
      "outputs": [],
      "source": [
        "import pandas as pd"
      ]
    },
    {
      "cell_type": "markdown",
      "metadata": {
        "id": "X4vMCvwQfX_7"
      },
      "source": [
        "##Original dataset"
      ]
    },
    {
      "cell_type": "code",
      "execution_count": 63,
      "metadata": {
        "colab": {
          "base_uri": "https://localhost:8080/"
        },
        "id": "zJOvJYKr9guY",
        "outputId": "036d4224-34d4-4f1d-cb0c-e06e1dcbdb5d"
      },
      "outputs": [
        {
          "output_type": "stream",
          "name": "stderr",
          "text": [
            "/usr/local/lib/python3.7/dist-packages/IPython/core/interactiveshell.py:2882: DtypeWarning: Columns (6,9,14,17) have mixed types.Specify dtype option on import or set low_memory=False.\n",
            "  exec(code_obj, self.user_global_ns, self.user_ns)\n"
          ]
        }
      ],
      "source": [
        "df=pd.read_csv('Instagram_profile_20220220_172954.success.csv', sep=',')"
      ]
    },
    {
      "cell_type": "code",
      "execution_count": 64,
      "metadata": {
        "id": "Szijj7lqKwY0"
      },
      "outputs": [],
      "source": [
        "df = df.dropna(axis=0, subset=['account'])"
      ]
    },
    {
      "cell_type": "code",
      "execution_count": 65,
      "metadata": {
        "colab": {
          "base_uri": "https://localhost:8080/"
        },
        "id": "J-SRh9m7K0iL",
        "outputId": "6e6394ad-9876-4a3d-81a2-8ba1e186f3b9"
      },
      "outputs": [
        {
          "output_type": "execute_result",
          "data": {
            "text/plain": [
              "(74508, 20)"
            ]
          },
          "metadata": {},
          "execution_count": 65
        }
      ],
      "source": [
        "df.shape"
      ]
    },
    {
      "cell_type": "code",
      "execution_count": 66,
      "metadata": {
        "colab": {
          "base_uri": "https://localhost:8080/"
        },
        "id": "Y6t_et1uWSjX",
        "outputId": "8f51cca9-e752-4db9-c3d9-a72dedb9981d"
      },
      "outputs": [
        {
          "output_type": "execute_result",
          "data": {
            "text/plain": [
              "Index(['account', 'caption', 'profile_name', 'profile_image_link', 'biography',\n",
              "       'id', 'business_email', 'external_url', 'following', 'likes',\n",
              "       'media_type', 'posts_count', 'followers', 'is_verified', 'datetime',\n",
              "       'image_url', 'url', 'comments', 'thumbnails', 'location'],\n",
              "      dtype='object')"
            ]
          },
          "metadata": {},
          "execution_count": 66
        }
      ],
      "source": [
        "df.columns"
      ]
    },
    {
      "cell_type": "markdown",
      "metadata": {
        "id": "Xga827hnRLCs"
      },
      "source": [
        "##Preprocessing"
      ]
    },
    {
      "cell_type": "code",
      "execution_count": 67,
      "metadata": {
        "id": "pF0HidsaZDog"
      },
      "outputs": [],
      "source": [
        "from functools import reduce\n"
      ]
    },
    {
      "cell_type": "code",
      "execution_count": 68,
      "metadata": {
        "colab": {
          "base_uri": "https://localhost:8080/"
        },
        "id": "ATmS6S91R3or",
        "outputId": "a7c8ce9a-b121-4ef6-a123-7cb7c8575f48"
      },
      "outputs": [
        {
          "output_type": "stream",
          "name": "stdout",
          "text": [
            "Requirement already satisfied: googletrans==3.1.0a0 in /usr/local/lib/python3.7/dist-packages (3.1.0a0)\n",
            "Requirement already satisfied: httpx==0.13.3 in /usr/local/lib/python3.7/dist-packages (from googletrans==3.1.0a0) (0.13.3)\n",
            "Requirement already satisfied: httpcore==0.9.* in /usr/local/lib/python3.7/dist-packages (from httpx==0.13.3->googletrans==3.1.0a0) (0.9.1)\n",
            "Requirement already satisfied: hstspreload in /usr/local/lib/python3.7/dist-packages (from httpx==0.13.3->googletrans==3.1.0a0) (2021.12.1)\n",
            "Requirement already satisfied: certifi in /usr/local/lib/python3.7/dist-packages (from httpx==0.13.3->googletrans==3.1.0a0) (2021.10.8)\n",
            "Requirement already satisfied: chardet==3.* in /usr/local/lib/python3.7/dist-packages (from httpx==0.13.3->googletrans==3.1.0a0) (3.0.4)\n",
            "Requirement already satisfied: idna==2.* in /usr/local/lib/python3.7/dist-packages (from httpx==0.13.3->googletrans==3.1.0a0) (2.10)\n",
            "Requirement already satisfied: rfc3986<2,>=1.3 in /usr/local/lib/python3.7/dist-packages (from httpx==0.13.3->googletrans==3.1.0a0) (1.5.0)\n",
            "Requirement already satisfied: sniffio in /usr/local/lib/python3.7/dist-packages (from httpx==0.13.3->googletrans==3.1.0a0) (1.2.0)\n",
            "Requirement already satisfied: h11<0.10,>=0.8 in /usr/local/lib/python3.7/dist-packages (from httpcore==0.9.*->httpx==0.13.3->googletrans==3.1.0a0) (0.9.0)\n",
            "Requirement already satisfied: h2==3.* in /usr/local/lib/python3.7/dist-packages (from httpcore==0.9.*->httpx==0.13.3->googletrans==3.1.0a0) (3.2.0)\n",
            "Requirement already satisfied: hpack<4,>=3.0 in /usr/local/lib/python3.7/dist-packages (from h2==3.*->httpcore==0.9.*->httpx==0.13.3->googletrans==3.1.0a0) (3.0.0)\n",
            "Requirement already satisfied: hyperframe<6,>=5.2.0 in /usr/local/lib/python3.7/dist-packages (from h2==3.*->httpcore==0.9.*->httpx==0.13.3->googletrans==3.1.0a0) (5.2.0)\n"
          ]
        }
      ],
      "source": [
        "%run preprocessing.ipynb"
      ]
    },
    {
      "cell_type": "code",
      "execution_count": 69,
      "metadata": {
        "id": "NtwLoulRRMjI"
      },
      "outputs": [],
      "source": [
        "PREPROCESSING_PIPELINE = [#translation,\n",
        "                          clean_mention,\n",
        "                          clean_hashtags,\n",
        "                          lower,\n",
        "                          replace_special_characters,\n",
        "                          replace_br,\n",
        "                          filter_out_uncommon_symbols,\n",
        "                          replace_by_underscore,\n",
        "                          remove_stopwords,\n",
        "                          strip_text,\n",
        "                          remove_emoji]\n",
        "\n",
        "PREPROCESSING_PIPELINE1 = [remove_brackets_from_list]\n",
        "\n",
        "\n",
        "# Anchor method\n",
        "\n",
        "def text_prepare(text: str,filter_methods = None) -> str:\n",
        "    \"\"\"\n",
        "    Applies a list of pre-processing functions in sequence (reduce).\n",
        "    Note that the order is important here!\n",
        "    \"\"\"\n",
        "    filter_methods = filter_methods if filter_methods is not None else PREPROCESSING_PIPELINE\n",
        "    return reduce(lambda txt, f: f(txt), filter_methods, text)\n",
        "\n",
        "\n",
        "\n",
        "def text_prepare1(text: str,filter_methods = None) -> str:\n",
        "    \"\"\"\n",
        "    Applies a list of pre-processing functions in sequence (reduce).\n",
        "    Note that the order is important here!\n",
        "    \"\"\"\n",
        "\n",
        "    filter_methods = filter_methods if filter_methods is not None else PREPROCESSING_PIPELINE1\n",
        "\n",
        "    return reduce(lambda txt, f: f(txt), filter_methods, text)\n",
        "\n",
        "\n",
        "# L=['hashtags','emoji_text','mentions']\n",
        "# A=['caption','emoji_text']\n",
        "\n",
        "# for i in L:\n",
        "#   df[i] = df[i].apply(lambda txt: text_prepare1(str(txt)[1:-1]))\n",
        "\n",
        "# for i in A:\n",
        "#   df[i]=df[i].apply(lambda txt: text_prepare(str(txt)))\n",
        "\n",
        "#df['caption'] = df['caption'].apply(lambda txt: text_prepare1(str(txt)[1:-1]))\n"
      ]
    },
    {
      "cell_type": "code",
      "execution_count": 70,
      "metadata": {
        "colab": {
          "base_uri": "https://localhost:8080/",
          "height": 1000
        },
        "id": "OnPv8NXcb_Kq",
        "outputId": "076c7967-2642-4b45-bac6-b97b37267634"
      },
      "outputs": [
        {
          "output_type": "execute_result",
          "data": {
            "text/plain": [
              "                     account  \\\n",
              "10     chelsea_bridge_clinic   \n",
              "11     chelsea_bridge_clinic   \n",
              "12             numberoneedin   \n",
              "13             numberoneedin   \n",
              "14             numberoneedin   \n",
              "...                      ...   \n",
              "74544         thesavoylondon   \n",
              "74545         thesavoylondon   \n",
              "74546         thesavoylondon   \n",
              "74547         thesavoylondon   \n",
              "74548         thesavoylondon   \n",
              "\n",
              "                                                 caption  \\\n",
              "10     𝗗𝗶𝗱 𝘆𝗼𝘂 𝗸𝗻𝗼𝘄 𝘁𝗵𝗮𝘁 𝘆𝗼𝘂 𝗰𝗮𝗻 𝘁𝗲𝘀𝘁 𝗳𝗼𝗿 𝗖𝗼𝘃𝗶𝗱 𝘄𝗶𝘁𝗵 ...   \n",
              "11     𝗧𝗛𝗔𝗡𝗞 𝗬𝗢𝗨  We grateful kind words feedback rec...   \n",
              "12     Hand dived Isle Jura scallop smoked roe leek c...   \n",
              "13     Jerusalem Artichoke prepared first dessert mal...   \n",
              "14     Main course seasonal  course menu: Borders Roe...   \n",
              "...                                                  ...   \n",
              "74544  Alongside hospitality performing arts also mas...   \n",
              "74545  This Isn’t looking forward Waking beautiful ni...   \n",
              "74546  For missing London town here’s shot really sho...   \n",
              "74547  While we’re closed we’re going try keep happy ...   \n",
              "74548  Today last day traditionally take decorations ...   \n",
              "\n",
              "                profile_name  \\\n",
              "10     Chelsea Bridge Clinic   \n",
              "11     Chelsea Bridge Clinic   \n",
              "12                Number One   \n",
              "13                Number One   \n",
              "14                Number One   \n",
              "...                      ...   \n",
              "74544                    NaN   \n",
              "74545                    NaN   \n",
              "74546                    NaN   \n",
              "74547                    NaN   \n",
              "74548                    NaN   \n",
              "\n",
              "                                      profile_image_link  \\\n",
              "10     https://scontent-lcy1-1.cdninstagram.com/v/t51...   \n",
              "11     https://scontent-lcy1-1.cdninstagram.com/v/t51...   \n",
              "12     https://scontent-lcy1-1.cdninstagram.com/v/t51...   \n",
              "13     https://scontent-lcy1-1.cdninstagram.com/v/t51...   \n",
              "14     https://scontent-lcy1-1.cdninstagram.com/v/t51...   \n",
              "...                                                  ...   \n",
              "74544  https://instagram.fbhx3-1.fna.fbcdn.net/v/t51....   \n",
              "74545  https://instagram.fbhx3-1.fna.fbcdn.net/v/t51....   \n",
              "74546  https://instagram.fbhx3-1.fna.fbcdn.net/v/t51....   \n",
              "74547  https://instagram.fbhx3-1.fna.fbcdn.net/v/t51....   \n",
              "74548  https://instagram.fbhx3-1.fna.fbcdn.net/v/t51....   \n",
              "\n",
              "                                               biography            id  \\\n",
              "10     General Health | Orthopaedic Care | Advanced A...  2.504540e+18   \n",
              "11     General Health | Orthopaedic Care | Advanced A...  2.491550e+18   \n",
              "12     A 4 AA Rosette restaurant @thebalmoral #Edinbu...  2.777225e+18   \n",
              "13     A 4 AA Rosette restaurant @thebalmoral #Edinbu...  2.763506e+18   \n",
              "14     A 4 AA Rosette restaurant @thebalmoral #Edinbu...  2.759822e+18   \n",
              "...                                                  ...           ...   \n",
              "74544  At the forefront of the luxury hotel scene for...  2.487324e+18   \n",
              "74545  At the forefront of the luxury hotel scene for...  2.485790e+18   \n",
              "74546  At the forefront of the luxury hotel scene for...  2.484262e+18   \n",
              "74547  At the forefront of the luxury hotel scene for...  2.480702e+18   \n",
              "74548  At the forefront of the luxury hotel scene for...  2.479390e+18   \n",
              "\n",
              "      business_email                                       external_url  \\\n",
              "10               NaN  https://www.chelseabridgeclinic.com/c19testing...   \n",
              "11               NaN  https://www.chelseabridgeclinic.com/c19testing...   \n",
              "12               NaN                     http://linktr.ee/numberoneedin   \n",
              "13               NaN                     http://linktr.ee/numberoneedin   \n",
              "14               NaN                     http://linktr.ee/numberoneedin   \n",
              "...              ...                                                ...   \n",
              "74544            NaN  https://www.thesavoylondon.com/restaurant/savo...   \n",
              "74545            NaN  https://www.thesavoylondon.com/restaurant/savo...   \n",
              "74546            NaN  https://www.thesavoylondon.com/restaurant/savo...   \n",
              "74547            NaN  https://www.thesavoylondon.com/restaurant/savo...   \n",
              "74548            NaN  https://www.thesavoylondon.com/restaurant/savo...   \n",
              "\n",
              "       following  likes media_type  posts_count  followers  is_verified  \\\n",
              "10         964.0   14.0   Carousel         47.0     1093.0          NaN   \n",
              "11         964.0   12.0   Carousel         47.0     1093.0          NaN   \n",
              "12         308.0  100.0      Image        343.0     4202.0          1.0   \n",
              "13         308.0   81.0      Image        343.0     4202.0          1.0   \n",
              "14         308.0  146.0      Image        343.0     4202.0          1.0   \n",
              "...          ...    ...        ...          ...        ...          ...   \n",
              "74544      599.0   4079      Image       1933.0   167394.0          1.0   \n",
              "74545      599.0   1621      Image       1933.0   167394.0          1.0   \n",
              "74546      599.0   1548      Image       1933.0   167394.0          1.0   \n",
              "74547      599.0   2637      Image       1933.0   167394.0          1.0   \n",
              "74548      599.0   5551   Carousel       1933.0   167394.0          1.0   \n",
              "\n",
              "              datetime                                          image_url  \\\n",
              "10     1612784425000.0  j_kzvc99wm2q4pjru5kn.abcda1ffd273a050538c28dff...   \n",
              "11     1611235877000.0  j_kzvc99wm2q4pjru5kn.abcda1ffd273a050538c28dff...   \n",
              "12     1645291057000.0  j_kzvc99wm2q4pjru5kn.19c16458b6085c27beaa3584f...   \n",
              "13     1643655662000.0  j_kzvc99wm2q4pjru5kn.19c16458b6085c27beaa3584f...   \n",
              "14     1643216482000.0  j_kzvc99wm2q4pjru5kn.19c16458b6085c27beaa3584f...   \n",
              "...                ...                                                ...   \n",
              "74544    1610732193000  j_kzvc99wm2q4pjru5kn.581c2c8ee819d0e36b84f684f...   \n",
              "74545    1610549312000  j_kzvc99wm2q4pjru5kn.581c2c8ee819d0e36b84f684f...   \n",
              "74546    1610367106000  j_kzvc99wm2q4pjru5kn.581c2c8ee819d0e36b84f684f...   \n",
              "74547    1609942717000  j_kzvc99wm2q4pjru5kn.581c2c8ee819d0e36b84f684f...   \n",
              "74548    1609786313000  j_kzvc99wm2q4pjru5kn.581c2c8ee819d0e36b84f684f...   \n",
              "\n",
              "                                            url comments  \\\n",
              "10     https://www.instagram.com/p/CLB6aHwlg_2/      0.0   \n",
              "11     https://www.instagram.com/p/CKTwyYEFklA/      0.0   \n",
              "12     https://www.instagram.com/p/CaKr4xcoJ4B/      2.0   \n",
              "13     https://www.instagram.com/p/CZZ8nMdt185/      1.0   \n",
              "14     https://www.instagram.com/p/CZM28YqA3bj/      1.0   \n",
              "...                                         ...      ...   \n",
              "74544  https://www.instagram.com/p/CKEwFdoAMaN/       67   \n",
              "74545  https://www.instagram.com/p/CJ_TRHuA5IE/       34   \n",
              "74546  https://www.instagram.com/p/CJ53vJDgJ2I/       28   \n",
              "74547  https://www.instagram.com/p/CJtOR1TALQ3/       68   \n",
              "74548  https://www.instagram.com/p/CJoj9ohAm3L/      153   \n",
              "\n",
              "                                              thumbnails  \\\n",
              "10     [{\"src\":\"https://instagram.flba1-1.fna.fbcdn.n...   \n",
              "11     [{\"src\":\"https://instagram.flba1-1.fna.fbcdn.n...   \n",
              "12     [{\"src\":\"https://scontent-lcy1-1.cdninstagram....   \n",
              "13     [{\"src\":\"https://scontent-lcy1-1.cdninstagram....   \n",
              "14     [{\"src\":\"https://scontent-lcy1-1.cdninstagram....   \n",
              "...                                                  ...   \n",
              "74544  [{\"src\":\"https://instagram.fbrs4-2.fna.fbcdn.n...   \n",
              "74545  [{\"src\":\"https://instagram.fbrs4-2.fna.fbcdn.n...   \n",
              "74546  [{\"src\":\"https://instagram.fbrs4-2.fna.fbcdn.n...   \n",
              "74547  [{\"src\":\"https://instagram.fbrs4-2.fna.fbcdn.n...   \n",
              "74548  [{\"src\":\"https://instagram.fbrs4-2.fna.fbcdn.n...   \n",
              "\n",
              "                    location  \n",
              "10     Chelsea Bridge Clinic  \n",
              "11     Chelsea Bridge Clinic  \n",
              "12                       NaN  \n",
              "13                Number One  \n",
              "14                Number One  \n",
              "...                      ...  \n",
              "74544                    NaN  \n",
              "74545              The Savoy  \n",
              "74546                    NaN  \n",
              "74547              The Savoy  \n",
              "74548              The Savoy  \n",
              "\n",
              "[74508 rows x 20 columns]"
            ],
            "text/html": [
              "\n",
              "  <div id=\"df-ef7c3df6-0c9e-47d0-92ab-17a375170782\">\n",
              "    <div class=\"colab-df-container\">\n",
              "      <div>\n",
              "<style scoped>\n",
              "    .dataframe tbody tr th:only-of-type {\n",
              "        vertical-align: middle;\n",
              "    }\n",
              "\n",
              "    .dataframe tbody tr th {\n",
              "        vertical-align: top;\n",
              "    }\n",
              "\n",
              "    .dataframe thead th {\n",
              "        text-align: right;\n",
              "    }\n",
              "</style>\n",
              "<table border=\"1\" class=\"dataframe\">\n",
              "  <thead>\n",
              "    <tr style=\"text-align: right;\">\n",
              "      <th></th>\n",
              "      <th>account</th>\n",
              "      <th>caption</th>\n",
              "      <th>profile_name</th>\n",
              "      <th>profile_image_link</th>\n",
              "      <th>biography</th>\n",
              "      <th>id</th>\n",
              "      <th>business_email</th>\n",
              "      <th>external_url</th>\n",
              "      <th>following</th>\n",
              "      <th>likes</th>\n",
              "      <th>media_type</th>\n",
              "      <th>posts_count</th>\n",
              "      <th>followers</th>\n",
              "      <th>is_verified</th>\n",
              "      <th>datetime</th>\n",
              "      <th>image_url</th>\n",
              "      <th>url</th>\n",
              "      <th>comments</th>\n",
              "      <th>thumbnails</th>\n",
              "      <th>location</th>\n",
              "    </tr>\n",
              "  </thead>\n",
              "  <tbody>\n",
              "    <tr>\n",
              "      <th>10</th>\n",
              "      <td>chelsea_bridge_clinic</td>\n",
              "      <td>𝗗𝗶𝗱 𝘆𝗼𝘂 𝗸𝗻𝗼𝘄 𝘁𝗵𝗮𝘁 𝘆𝗼𝘂 𝗰𝗮𝗻 𝘁𝗲𝘀𝘁 𝗳𝗼𝗿 𝗖𝗼𝘃𝗶𝗱 𝘄𝗶𝘁𝗵 ...</td>\n",
              "      <td>Chelsea Bridge Clinic</td>\n",
              "      <td>https://scontent-lcy1-1.cdninstagram.com/v/t51...</td>\n",
              "      <td>General Health | Orthopaedic Care | Advanced A...</td>\n",
              "      <td>2.504540e+18</td>\n",
              "      <td>NaN</td>\n",
              "      <td>https://www.chelseabridgeclinic.com/c19testing...</td>\n",
              "      <td>964.0</td>\n",
              "      <td>14.0</td>\n",
              "      <td>Carousel</td>\n",
              "      <td>47.0</td>\n",
              "      <td>1093.0</td>\n",
              "      <td>NaN</td>\n",
              "      <td>1612784425000.0</td>\n",
              "      <td>j_kzvc99wm2q4pjru5kn.abcda1ffd273a050538c28dff...</td>\n",
              "      <td>https://www.instagram.com/p/CLB6aHwlg_2/</td>\n",
              "      <td>0.0</td>\n",
              "      <td>[{\"src\":\"https://instagram.flba1-1.fna.fbcdn.n...</td>\n",
              "      <td>Chelsea Bridge Clinic</td>\n",
              "    </tr>\n",
              "    <tr>\n",
              "      <th>11</th>\n",
              "      <td>chelsea_bridge_clinic</td>\n",
              "      <td>𝗧𝗛𝗔𝗡𝗞 𝗬𝗢𝗨  We grateful kind words feedback rec...</td>\n",
              "      <td>Chelsea Bridge Clinic</td>\n",
              "      <td>https://scontent-lcy1-1.cdninstagram.com/v/t51...</td>\n",
              "      <td>General Health | Orthopaedic Care | Advanced A...</td>\n",
              "      <td>2.491550e+18</td>\n",
              "      <td>NaN</td>\n",
              "      <td>https://www.chelseabridgeclinic.com/c19testing...</td>\n",
              "      <td>964.0</td>\n",
              "      <td>12.0</td>\n",
              "      <td>Carousel</td>\n",
              "      <td>47.0</td>\n",
              "      <td>1093.0</td>\n",
              "      <td>NaN</td>\n",
              "      <td>1611235877000.0</td>\n",
              "      <td>j_kzvc99wm2q4pjru5kn.abcda1ffd273a050538c28dff...</td>\n",
              "      <td>https://www.instagram.com/p/CKTwyYEFklA/</td>\n",
              "      <td>0.0</td>\n",
              "      <td>[{\"src\":\"https://instagram.flba1-1.fna.fbcdn.n...</td>\n",
              "      <td>Chelsea Bridge Clinic</td>\n",
              "    </tr>\n",
              "    <tr>\n",
              "      <th>12</th>\n",
              "      <td>numberoneedin</td>\n",
              "      <td>Hand dived Isle Jura scallop smoked roe leek c...</td>\n",
              "      <td>Number One</td>\n",
              "      <td>https://scontent-lcy1-1.cdninstagram.com/v/t51...</td>\n",
              "      <td>A 4 AA Rosette restaurant @thebalmoral #Edinbu...</td>\n",
              "      <td>2.777225e+18</td>\n",
              "      <td>NaN</td>\n",
              "      <td>http://linktr.ee/numberoneedin</td>\n",
              "      <td>308.0</td>\n",
              "      <td>100.0</td>\n",
              "      <td>Image</td>\n",
              "      <td>343.0</td>\n",
              "      <td>4202.0</td>\n",
              "      <td>1.0</td>\n",
              "      <td>1645291057000.0</td>\n",
              "      <td>j_kzvc99wm2q4pjru5kn.19c16458b6085c27beaa3584f...</td>\n",
              "      <td>https://www.instagram.com/p/CaKr4xcoJ4B/</td>\n",
              "      <td>2.0</td>\n",
              "      <td>[{\"src\":\"https://scontent-lcy1-1.cdninstagram....</td>\n",
              "      <td>NaN</td>\n",
              "    </tr>\n",
              "    <tr>\n",
              "      <th>13</th>\n",
              "      <td>numberoneedin</td>\n",
              "      <td>Jerusalem Artichoke prepared first dessert mal...</td>\n",
              "      <td>Number One</td>\n",
              "      <td>https://scontent-lcy1-1.cdninstagram.com/v/t51...</td>\n",
              "      <td>A 4 AA Rosette restaurant @thebalmoral #Edinbu...</td>\n",
              "      <td>2.763506e+18</td>\n",
              "      <td>NaN</td>\n",
              "      <td>http://linktr.ee/numberoneedin</td>\n",
              "      <td>308.0</td>\n",
              "      <td>81.0</td>\n",
              "      <td>Image</td>\n",
              "      <td>343.0</td>\n",
              "      <td>4202.0</td>\n",
              "      <td>1.0</td>\n",
              "      <td>1643655662000.0</td>\n",
              "      <td>j_kzvc99wm2q4pjru5kn.19c16458b6085c27beaa3584f...</td>\n",
              "      <td>https://www.instagram.com/p/CZZ8nMdt185/</td>\n",
              "      <td>1.0</td>\n",
              "      <td>[{\"src\":\"https://scontent-lcy1-1.cdninstagram....</td>\n",
              "      <td>Number One</td>\n",
              "    </tr>\n",
              "    <tr>\n",
              "      <th>14</th>\n",
              "      <td>numberoneedin</td>\n",
              "      <td>Main course seasonal  course menu: Borders Roe...</td>\n",
              "      <td>Number One</td>\n",
              "      <td>https://scontent-lcy1-1.cdninstagram.com/v/t51...</td>\n",
              "      <td>A 4 AA Rosette restaurant @thebalmoral #Edinbu...</td>\n",
              "      <td>2.759822e+18</td>\n",
              "      <td>NaN</td>\n",
              "      <td>http://linktr.ee/numberoneedin</td>\n",
              "      <td>308.0</td>\n",
              "      <td>146.0</td>\n",
              "      <td>Image</td>\n",
              "      <td>343.0</td>\n",
              "      <td>4202.0</td>\n",
              "      <td>1.0</td>\n",
              "      <td>1643216482000.0</td>\n",
              "      <td>j_kzvc99wm2q4pjru5kn.19c16458b6085c27beaa3584f...</td>\n",
              "      <td>https://www.instagram.com/p/CZM28YqA3bj/</td>\n",
              "      <td>1.0</td>\n",
              "      <td>[{\"src\":\"https://scontent-lcy1-1.cdninstagram....</td>\n",
              "      <td>Number One</td>\n",
              "    </tr>\n",
              "    <tr>\n",
              "      <th>...</th>\n",
              "      <td>...</td>\n",
              "      <td>...</td>\n",
              "      <td>...</td>\n",
              "      <td>...</td>\n",
              "      <td>...</td>\n",
              "      <td>...</td>\n",
              "      <td>...</td>\n",
              "      <td>...</td>\n",
              "      <td>...</td>\n",
              "      <td>...</td>\n",
              "      <td>...</td>\n",
              "      <td>...</td>\n",
              "      <td>...</td>\n",
              "      <td>...</td>\n",
              "      <td>...</td>\n",
              "      <td>...</td>\n",
              "      <td>...</td>\n",
              "      <td>...</td>\n",
              "      <td>...</td>\n",
              "      <td>...</td>\n",
              "    </tr>\n",
              "    <tr>\n",
              "      <th>74544</th>\n",
              "      <td>thesavoylondon</td>\n",
              "      <td>Alongside hospitality performing arts also mas...</td>\n",
              "      <td>NaN</td>\n",
              "      <td>https://instagram.fbhx3-1.fna.fbcdn.net/v/t51....</td>\n",
              "      <td>At the forefront of the luxury hotel scene for...</td>\n",
              "      <td>2.487324e+18</td>\n",
              "      <td>NaN</td>\n",
              "      <td>https://www.thesavoylondon.com/restaurant/savo...</td>\n",
              "      <td>599.0</td>\n",
              "      <td>4079</td>\n",
              "      <td>Image</td>\n",
              "      <td>1933.0</td>\n",
              "      <td>167394.0</td>\n",
              "      <td>1.0</td>\n",
              "      <td>1610732193000</td>\n",
              "      <td>j_kzvc99wm2q4pjru5kn.581c2c8ee819d0e36b84f684f...</td>\n",
              "      <td>https://www.instagram.com/p/CKEwFdoAMaN/</td>\n",
              "      <td>67</td>\n",
              "      <td>[{\"src\":\"https://instagram.fbrs4-2.fna.fbcdn.n...</td>\n",
              "      <td>NaN</td>\n",
              "    </tr>\n",
              "    <tr>\n",
              "      <th>74545</th>\n",
              "      <td>thesavoylondon</td>\n",
              "      <td>This Isn’t looking forward Waking beautiful ni...</td>\n",
              "      <td>NaN</td>\n",
              "      <td>https://instagram.fbhx3-1.fna.fbcdn.net/v/t51....</td>\n",
              "      <td>At the forefront of the luxury hotel scene for...</td>\n",
              "      <td>2.485790e+18</td>\n",
              "      <td>NaN</td>\n",
              "      <td>https://www.thesavoylondon.com/restaurant/savo...</td>\n",
              "      <td>599.0</td>\n",
              "      <td>1621</td>\n",
              "      <td>Image</td>\n",
              "      <td>1933.0</td>\n",
              "      <td>167394.0</td>\n",
              "      <td>1.0</td>\n",
              "      <td>1610549312000</td>\n",
              "      <td>j_kzvc99wm2q4pjru5kn.581c2c8ee819d0e36b84f684f...</td>\n",
              "      <td>https://www.instagram.com/p/CJ_TRHuA5IE/</td>\n",
              "      <td>34</td>\n",
              "      <td>[{\"src\":\"https://instagram.fbrs4-2.fna.fbcdn.n...</td>\n",
              "      <td>The Savoy</td>\n",
              "    </tr>\n",
              "    <tr>\n",
              "      <th>74546</th>\n",
              "      <td>thesavoylondon</td>\n",
              "      <td>For missing London town here’s shot really sho...</td>\n",
              "      <td>NaN</td>\n",
              "      <td>https://instagram.fbhx3-1.fna.fbcdn.net/v/t51....</td>\n",
              "      <td>At the forefront of the luxury hotel scene for...</td>\n",
              "      <td>2.484262e+18</td>\n",
              "      <td>NaN</td>\n",
              "      <td>https://www.thesavoylondon.com/restaurant/savo...</td>\n",
              "      <td>599.0</td>\n",
              "      <td>1548</td>\n",
              "      <td>Image</td>\n",
              "      <td>1933.0</td>\n",
              "      <td>167394.0</td>\n",
              "      <td>1.0</td>\n",
              "      <td>1610367106000</td>\n",
              "      <td>j_kzvc99wm2q4pjru5kn.581c2c8ee819d0e36b84f684f...</td>\n",
              "      <td>https://www.instagram.com/p/CJ53vJDgJ2I/</td>\n",
              "      <td>28</td>\n",
              "      <td>[{\"src\":\"https://instagram.fbrs4-2.fna.fbcdn.n...</td>\n",
              "      <td>NaN</td>\n",
              "    </tr>\n",
              "    <tr>\n",
              "      <th>74547</th>\n",
              "      <td>thesavoylondon</td>\n",
              "      <td>While we’re closed we’re going try keep happy ...</td>\n",
              "      <td>NaN</td>\n",
              "      <td>https://instagram.fbhx3-1.fna.fbcdn.net/v/t51....</td>\n",
              "      <td>At the forefront of the luxury hotel scene for...</td>\n",
              "      <td>2.480702e+18</td>\n",
              "      <td>NaN</td>\n",
              "      <td>https://www.thesavoylondon.com/restaurant/savo...</td>\n",
              "      <td>599.0</td>\n",
              "      <td>2637</td>\n",
              "      <td>Image</td>\n",
              "      <td>1933.0</td>\n",
              "      <td>167394.0</td>\n",
              "      <td>1.0</td>\n",
              "      <td>1609942717000</td>\n",
              "      <td>j_kzvc99wm2q4pjru5kn.581c2c8ee819d0e36b84f684f...</td>\n",
              "      <td>https://www.instagram.com/p/CJtOR1TALQ3/</td>\n",
              "      <td>68</td>\n",
              "      <td>[{\"src\":\"https://instagram.fbrs4-2.fna.fbcdn.n...</td>\n",
              "      <td>The Savoy</td>\n",
              "    </tr>\n",
              "    <tr>\n",
              "      <th>74548</th>\n",
              "      <td>thesavoylondon</td>\n",
              "      <td>Today last day traditionally take decorations ...</td>\n",
              "      <td>NaN</td>\n",
              "      <td>https://instagram.fbhx3-1.fna.fbcdn.net/v/t51....</td>\n",
              "      <td>At the forefront of the luxury hotel scene for...</td>\n",
              "      <td>2.479390e+18</td>\n",
              "      <td>NaN</td>\n",
              "      <td>https://www.thesavoylondon.com/restaurant/savo...</td>\n",
              "      <td>599.0</td>\n",
              "      <td>5551</td>\n",
              "      <td>Carousel</td>\n",
              "      <td>1933.0</td>\n",
              "      <td>167394.0</td>\n",
              "      <td>1.0</td>\n",
              "      <td>1609786313000</td>\n",
              "      <td>j_kzvc99wm2q4pjru5kn.581c2c8ee819d0e36b84f684f...</td>\n",
              "      <td>https://www.instagram.com/p/CJoj9ohAm3L/</td>\n",
              "      <td>153</td>\n",
              "      <td>[{\"src\":\"https://instagram.fbrs4-2.fna.fbcdn.n...</td>\n",
              "      <td>The Savoy</td>\n",
              "    </tr>\n",
              "  </tbody>\n",
              "</table>\n",
              "<p>74508 rows × 20 columns</p>\n",
              "</div>\n",
              "      <button class=\"colab-df-convert\" onclick=\"convertToInteractive('df-ef7c3df6-0c9e-47d0-92ab-17a375170782')\"\n",
              "              title=\"Convert this dataframe to an interactive table.\"\n",
              "              style=\"display:none;\">\n",
              "        \n",
              "  <svg xmlns=\"http://www.w3.org/2000/svg\" height=\"24px\"viewBox=\"0 0 24 24\"\n",
              "       width=\"24px\">\n",
              "    <path d=\"M0 0h24v24H0V0z\" fill=\"none\"/>\n",
              "    <path d=\"M18.56 5.44l.94 2.06.94-2.06 2.06-.94-2.06-.94-.94-2.06-.94 2.06-2.06.94zm-11 1L8.5 8.5l.94-2.06 2.06-.94-2.06-.94L8.5 2.5l-.94 2.06-2.06.94zm10 10l.94 2.06.94-2.06 2.06-.94-2.06-.94-.94-2.06-.94 2.06-2.06.94z\"/><path d=\"M17.41 7.96l-1.37-1.37c-.4-.4-.92-.59-1.43-.59-.52 0-1.04.2-1.43.59L10.3 9.45l-7.72 7.72c-.78.78-.78 2.05 0 2.83L4 21.41c.39.39.9.59 1.41.59.51 0 1.02-.2 1.41-.59l7.78-7.78 2.81-2.81c.8-.78.8-2.07 0-2.86zM5.41 20L4 18.59l7.72-7.72 1.47 1.35L5.41 20z\"/>\n",
              "  </svg>\n",
              "      </button>\n",
              "      \n",
              "  <style>\n",
              "    .colab-df-container {\n",
              "      display:flex;\n",
              "      flex-wrap:wrap;\n",
              "      gap: 12px;\n",
              "    }\n",
              "\n",
              "    .colab-df-convert {\n",
              "      background-color: #E8F0FE;\n",
              "      border: none;\n",
              "      border-radius: 50%;\n",
              "      cursor: pointer;\n",
              "      display: none;\n",
              "      fill: #1967D2;\n",
              "      height: 32px;\n",
              "      padding: 0 0 0 0;\n",
              "      width: 32px;\n",
              "    }\n",
              "\n",
              "    .colab-df-convert:hover {\n",
              "      background-color: #E2EBFA;\n",
              "      box-shadow: 0px 1px 2px rgba(60, 64, 67, 0.3), 0px 1px 3px 1px rgba(60, 64, 67, 0.15);\n",
              "      fill: #174EA6;\n",
              "    }\n",
              "\n",
              "    [theme=dark] .colab-df-convert {\n",
              "      background-color: #3B4455;\n",
              "      fill: #D2E3FC;\n",
              "    }\n",
              "\n",
              "    [theme=dark] .colab-df-convert:hover {\n",
              "      background-color: #434B5C;\n",
              "      box-shadow: 0px 1px 3px 1px rgba(0, 0, 0, 0.15);\n",
              "      filter: drop-shadow(0px 1px 2px rgba(0, 0, 0, 0.3));\n",
              "      fill: #FFFFFF;\n",
              "    }\n",
              "  </style>\n",
              "\n",
              "      <script>\n",
              "        const buttonEl =\n",
              "          document.querySelector('#df-ef7c3df6-0c9e-47d0-92ab-17a375170782 button.colab-df-convert');\n",
              "        buttonEl.style.display =\n",
              "          google.colab.kernel.accessAllowed ? 'block' : 'none';\n",
              "\n",
              "        async function convertToInteractive(key) {\n",
              "          const element = document.querySelector('#df-ef7c3df6-0c9e-47d0-92ab-17a375170782');\n",
              "          const dataTable =\n",
              "            await google.colab.kernel.invokeFunction('convertToInteractive',\n",
              "                                                     [key], {});\n",
              "          if (!dataTable) return;\n",
              "\n",
              "          const docLinkHtml = 'Like what you see? Visit the ' +\n",
              "            '<a target=\"_blank\" href=https://colab.research.google.com/notebooks/data_table.ipynb>data table notebook</a>'\n",
              "            + ' to learn more about interactive tables.';\n",
              "          element.innerHTML = '';\n",
              "          dataTable['output_type'] = 'display_data';\n",
              "          await google.colab.output.renderOutput(dataTable, element);\n",
              "          const docLink = document.createElement('div');\n",
              "          docLink.innerHTML = docLinkHtml;\n",
              "          element.appendChild(docLink);\n",
              "        }\n",
              "      </script>\n",
              "    </div>\n",
              "  </div>\n",
              "  "
            ]
          },
          "metadata": {},
          "execution_count": 70
        }
      ],
      "source": [
        "df['caption']=df['caption'].apply(lambda txt: text_prepare(str(txt)))\n",
        "df"
      ]
    },
    {
      "cell_type": "code",
      "execution_count": 71,
      "metadata": {
        "id": "Ie4kWJ_VW26S"
      },
      "outputs": [],
      "source": [
        "# import advertools as adv\n",
        "# hashtag_summary = adv.extract_hashtags(df['caption'])\n",
        "# hashtag_summary.keys()"
      ]
    },
    {
      "cell_type": "code",
      "execution_count": 72,
      "metadata": {
        "id": "dG8aDomCeGwz"
      },
      "outputs": [],
      "source": [
        "# mention_summary = adv.extract_mentions(df['caption'])\n",
        "# mention_summary.keys()"
      ]
    },
    {
      "cell_type": "code",
      "execution_count": 73,
      "metadata": {
        "id": "-BMJUtfVeTpp"
      },
      "outputs": [],
      "source": [
        "# emoji_summary = adv.extract_emoji(df['caption'])\n",
        "# emoji_summary.keys()"
      ]
    },
    {
      "cell_type": "code",
      "execution_count": 74,
      "metadata": {
        "id": "871tbvy0eDUs"
      },
      "outputs": [],
      "source": [
        "# df =  (df.assign(hashtags=hashtag_summary['hashtags'],\n",
        "#          hashcounts=hashtag_summary['hashtag_counts'],\n",
        "#          mentions=mention_summary['mentions'],\n",
        "#          mention_count=mention_summary['mention_counts'],\n",
        "#          emoji=emoji_summary['emoji'],\n",
        "#          emoji_text=emoji_summary['emoji_text'],\n",
        "#          emoji_count=emoji_summary['emoji_counts']         \n",
        "#          ))\n",
        "\n",
        "# df.head(5)"
      ]
    },
    {
      "cell_type": "code",
      "execution_count": 75,
      "metadata": {
        "colab": {
          "base_uri": "https://localhost:8080/",
          "height": 1000
        },
        "id": "lXYb147LarLu",
        "outputId": "149d14fc-3929-43de-bf49-bcac8b554d4a"
      },
      "outputs": [
        {
          "output_type": "execute_result",
          "data": {
            "text/plain": [
              "                     account  \\\n",
              "10     chelsea_bridge_clinic   \n",
              "11     chelsea_bridge_clinic   \n",
              "12             numberoneedin   \n",
              "13             numberoneedin   \n",
              "14             numberoneedin   \n",
              "...                      ...   \n",
              "74544         thesavoylondon   \n",
              "74545         thesavoylondon   \n",
              "74546         thesavoylondon   \n",
              "74547         thesavoylondon   \n",
              "74548         thesavoylondon   \n",
              "\n",
              "                                                 caption  \\\n",
              "10     𝗗𝗶𝗱 𝘆𝗼𝘂 𝗸𝗻𝗼𝘄 𝘁𝗵𝗮𝘁 𝘆𝗼𝘂 𝗰𝗮𝗻 𝘁𝗲𝘀𝘁 𝗳𝗼𝗿 𝗖𝗼𝘃𝗶𝗱 𝘄𝗶𝘁𝗵 ...   \n",
              "11     𝗧𝗛𝗔𝗡𝗞 𝗬𝗢𝗨  We grateful kind words feedback rec...   \n",
              "12     Hand dived Isle Jura scallop smoked roe leek c...   \n",
              "13     Jerusalem Artichoke prepared first dessert mal...   \n",
              "14     Main course seasonal  course menu: Borders Roe...   \n",
              "...                                                  ...   \n",
              "74544  Alongside hospitality performing arts also mas...   \n",
              "74545  This Isn’t looking forward Waking beautiful ni...   \n",
              "74546  For missing London town here’s shot really sho...   \n",
              "74547  While we’re closed we’re going try keep happy ...   \n",
              "74548  Today last day traditionally take decorations ...   \n",
              "\n",
              "                profile_name  \\\n",
              "10     Chelsea Bridge Clinic   \n",
              "11     Chelsea Bridge Clinic   \n",
              "12                Number One   \n",
              "13                Number One   \n",
              "14                Number One   \n",
              "...                      ...   \n",
              "74544                    NaN   \n",
              "74545                    NaN   \n",
              "74546                    NaN   \n",
              "74547                    NaN   \n",
              "74548                    NaN   \n",
              "\n",
              "                                      profile_image_link  \\\n",
              "10     https://scontent-lcy1-1.cdninstagram.com/v/t51...   \n",
              "11     https://scontent-lcy1-1.cdninstagram.com/v/t51...   \n",
              "12     https://scontent-lcy1-1.cdninstagram.com/v/t51...   \n",
              "13     https://scontent-lcy1-1.cdninstagram.com/v/t51...   \n",
              "14     https://scontent-lcy1-1.cdninstagram.com/v/t51...   \n",
              "...                                                  ...   \n",
              "74544  https://instagram.fbhx3-1.fna.fbcdn.net/v/t51....   \n",
              "74545  https://instagram.fbhx3-1.fna.fbcdn.net/v/t51....   \n",
              "74546  https://instagram.fbhx3-1.fna.fbcdn.net/v/t51....   \n",
              "74547  https://instagram.fbhx3-1.fna.fbcdn.net/v/t51....   \n",
              "74548  https://instagram.fbhx3-1.fna.fbcdn.net/v/t51....   \n",
              "\n",
              "                                               biography            id  \\\n",
              "10     General Health | Orthopaedic Care | Advanced A...  2.504540e+18   \n",
              "11     General Health | Orthopaedic Care | Advanced A...  2.491550e+18   \n",
              "12     A 4 AA Rosette restaurant @thebalmoral #Edinbu...  2.777225e+18   \n",
              "13     A 4 AA Rosette restaurant @thebalmoral #Edinbu...  2.763506e+18   \n",
              "14     A 4 AA Rosette restaurant @thebalmoral #Edinbu...  2.759822e+18   \n",
              "...                                                  ...           ...   \n",
              "74544  At the forefront of the luxury hotel scene for...  2.487324e+18   \n",
              "74545  At the forefront of the luxury hotel scene for...  2.485790e+18   \n",
              "74546  At the forefront of the luxury hotel scene for...  2.484262e+18   \n",
              "74547  At the forefront of the luxury hotel scene for...  2.480702e+18   \n",
              "74548  At the forefront of the luxury hotel scene for...  2.479390e+18   \n",
              "\n",
              "      business_email                                       external_url  \\\n",
              "10               NaN  https://www.chelseabridgeclinic.com/c19testing...   \n",
              "11               NaN  https://www.chelseabridgeclinic.com/c19testing...   \n",
              "12               NaN                     http://linktr.ee/numberoneedin   \n",
              "13               NaN                     http://linktr.ee/numberoneedin   \n",
              "14               NaN                     http://linktr.ee/numberoneedin   \n",
              "...              ...                                                ...   \n",
              "74544            NaN  https://www.thesavoylondon.com/restaurant/savo...   \n",
              "74545            NaN  https://www.thesavoylondon.com/restaurant/savo...   \n",
              "74546            NaN  https://www.thesavoylondon.com/restaurant/savo...   \n",
              "74547            NaN  https://www.thesavoylondon.com/restaurant/savo...   \n",
              "74548            NaN  https://www.thesavoylondon.com/restaurant/savo...   \n",
              "\n",
              "       following  likes media_type  posts_count  followers  is_verified  \\\n",
              "10         964.0   14.0   Carousel         47.0     1093.0          NaN   \n",
              "11         964.0   12.0   Carousel         47.0     1093.0          NaN   \n",
              "12         308.0  100.0      Image        343.0     4202.0          1.0   \n",
              "13         308.0   81.0      Image        343.0     4202.0          1.0   \n",
              "14         308.0  146.0      Image        343.0     4202.0          1.0   \n",
              "...          ...    ...        ...          ...        ...          ...   \n",
              "74544      599.0   4079      Image       1933.0   167394.0          1.0   \n",
              "74545      599.0   1621      Image       1933.0   167394.0          1.0   \n",
              "74546      599.0   1548      Image       1933.0   167394.0          1.0   \n",
              "74547      599.0   2637      Image       1933.0   167394.0          1.0   \n",
              "74548      599.0   5551   Carousel       1933.0   167394.0          1.0   \n",
              "\n",
              "              datetime                                          image_url  \\\n",
              "10     1612784425000.0  j_kzvc99wm2q4pjru5kn.abcda1ffd273a050538c28dff...   \n",
              "11     1611235877000.0  j_kzvc99wm2q4pjru5kn.abcda1ffd273a050538c28dff...   \n",
              "12     1645291057000.0  j_kzvc99wm2q4pjru5kn.19c16458b6085c27beaa3584f...   \n",
              "13     1643655662000.0  j_kzvc99wm2q4pjru5kn.19c16458b6085c27beaa3584f...   \n",
              "14     1643216482000.0  j_kzvc99wm2q4pjru5kn.19c16458b6085c27beaa3584f...   \n",
              "...                ...                                                ...   \n",
              "74544    1610732193000  j_kzvc99wm2q4pjru5kn.581c2c8ee819d0e36b84f684f...   \n",
              "74545    1610549312000  j_kzvc99wm2q4pjru5kn.581c2c8ee819d0e36b84f684f...   \n",
              "74546    1610367106000  j_kzvc99wm2q4pjru5kn.581c2c8ee819d0e36b84f684f...   \n",
              "74547    1609942717000  j_kzvc99wm2q4pjru5kn.581c2c8ee819d0e36b84f684f...   \n",
              "74548    1609786313000  j_kzvc99wm2q4pjru5kn.581c2c8ee819d0e36b84f684f...   \n",
              "\n",
              "                                            url comments  \\\n",
              "10     https://www.instagram.com/p/CLB6aHwlg_2/      0.0   \n",
              "11     https://www.instagram.com/p/CKTwyYEFklA/      0.0   \n",
              "12     https://www.instagram.com/p/CaKr4xcoJ4B/      2.0   \n",
              "13     https://www.instagram.com/p/CZZ8nMdt185/      1.0   \n",
              "14     https://www.instagram.com/p/CZM28YqA3bj/      1.0   \n",
              "...                                         ...      ...   \n",
              "74544  https://www.instagram.com/p/CKEwFdoAMaN/       67   \n",
              "74545  https://www.instagram.com/p/CJ_TRHuA5IE/       34   \n",
              "74546  https://www.instagram.com/p/CJ53vJDgJ2I/       28   \n",
              "74547  https://www.instagram.com/p/CJtOR1TALQ3/       68   \n",
              "74548  https://www.instagram.com/p/CJoj9ohAm3L/      153   \n",
              "\n",
              "                                              thumbnails  \\\n",
              "10     [{\"src\":\"https://instagram.flba1-1.fna.fbcdn.n...   \n",
              "11     [{\"src\":\"https://instagram.flba1-1.fna.fbcdn.n...   \n",
              "12     [{\"src\":\"https://scontent-lcy1-1.cdninstagram....   \n",
              "13     [{\"src\":\"https://scontent-lcy1-1.cdninstagram....   \n",
              "14     [{\"src\":\"https://scontent-lcy1-1.cdninstagram....   \n",
              "...                                                  ...   \n",
              "74544  [{\"src\":\"https://instagram.fbrs4-2.fna.fbcdn.n...   \n",
              "74545  [{\"src\":\"https://instagram.fbrs4-2.fna.fbcdn.n...   \n",
              "74546  [{\"src\":\"https://instagram.fbrs4-2.fna.fbcdn.n...   \n",
              "74547  [{\"src\":\"https://instagram.fbrs4-2.fna.fbcdn.n...   \n",
              "74548  [{\"src\":\"https://instagram.fbrs4-2.fna.fbcdn.n...   \n",
              "\n",
              "                    location  \n",
              "10     Chelsea Bridge Clinic  \n",
              "11     Chelsea Bridge Clinic  \n",
              "12                       NaN  \n",
              "13                Number One  \n",
              "14                Number One  \n",
              "...                      ...  \n",
              "74544                    NaN  \n",
              "74545              The Savoy  \n",
              "74546                    NaN  \n",
              "74547              The Savoy  \n",
              "74548              The Savoy  \n",
              "\n",
              "[74508 rows x 20 columns]"
            ],
            "text/html": [
              "\n",
              "  <div id=\"df-dde87a4c-a40e-4bfc-a2a9-03757b81b53f\">\n",
              "    <div class=\"colab-df-container\">\n",
              "      <div>\n",
              "<style scoped>\n",
              "    .dataframe tbody tr th:only-of-type {\n",
              "        vertical-align: middle;\n",
              "    }\n",
              "\n",
              "    .dataframe tbody tr th {\n",
              "        vertical-align: top;\n",
              "    }\n",
              "\n",
              "    .dataframe thead th {\n",
              "        text-align: right;\n",
              "    }\n",
              "</style>\n",
              "<table border=\"1\" class=\"dataframe\">\n",
              "  <thead>\n",
              "    <tr style=\"text-align: right;\">\n",
              "      <th></th>\n",
              "      <th>account</th>\n",
              "      <th>caption</th>\n",
              "      <th>profile_name</th>\n",
              "      <th>profile_image_link</th>\n",
              "      <th>biography</th>\n",
              "      <th>id</th>\n",
              "      <th>business_email</th>\n",
              "      <th>external_url</th>\n",
              "      <th>following</th>\n",
              "      <th>likes</th>\n",
              "      <th>media_type</th>\n",
              "      <th>posts_count</th>\n",
              "      <th>followers</th>\n",
              "      <th>is_verified</th>\n",
              "      <th>datetime</th>\n",
              "      <th>image_url</th>\n",
              "      <th>url</th>\n",
              "      <th>comments</th>\n",
              "      <th>thumbnails</th>\n",
              "      <th>location</th>\n",
              "    </tr>\n",
              "  </thead>\n",
              "  <tbody>\n",
              "    <tr>\n",
              "      <th>10</th>\n",
              "      <td>chelsea_bridge_clinic</td>\n",
              "      <td>𝗗𝗶𝗱 𝘆𝗼𝘂 𝗸𝗻𝗼𝘄 𝘁𝗵𝗮𝘁 𝘆𝗼𝘂 𝗰𝗮𝗻 𝘁𝗲𝘀𝘁 𝗳𝗼𝗿 𝗖𝗼𝘃𝗶𝗱 𝘄𝗶𝘁𝗵 ...</td>\n",
              "      <td>Chelsea Bridge Clinic</td>\n",
              "      <td>https://scontent-lcy1-1.cdninstagram.com/v/t51...</td>\n",
              "      <td>General Health | Orthopaedic Care | Advanced A...</td>\n",
              "      <td>2.504540e+18</td>\n",
              "      <td>NaN</td>\n",
              "      <td>https://www.chelseabridgeclinic.com/c19testing...</td>\n",
              "      <td>964.0</td>\n",
              "      <td>14.0</td>\n",
              "      <td>Carousel</td>\n",
              "      <td>47.0</td>\n",
              "      <td>1093.0</td>\n",
              "      <td>NaN</td>\n",
              "      <td>1612784425000.0</td>\n",
              "      <td>j_kzvc99wm2q4pjru5kn.abcda1ffd273a050538c28dff...</td>\n",
              "      <td>https://www.instagram.com/p/CLB6aHwlg_2/</td>\n",
              "      <td>0.0</td>\n",
              "      <td>[{\"src\":\"https://instagram.flba1-1.fna.fbcdn.n...</td>\n",
              "      <td>Chelsea Bridge Clinic</td>\n",
              "    </tr>\n",
              "    <tr>\n",
              "      <th>11</th>\n",
              "      <td>chelsea_bridge_clinic</td>\n",
              "      <td>𝗧𝗛𝗔𝗡𝗞 𝗬𝗢𝗨  We grateful kind words feedback rec...</td>\n",
              "      <td>Chelsea Bridge Clinic</td>\n",
              "      <td>https://scontent-lcy1-1.cdninstagram.com/v/t51...</td>\n",
              "      <td>General Health | Orthopaedic Care | Advanced A...</td>\n",
              "      <td>2.491550e+18</td>\n",
              "      <td>NaN</td>\n",
              "      <td>https://www.chelseabridgeclinic.com/c19testing...</td>\n",
              "      <td>964.0</td>\n",
              "      <td>12.0</td>\n",
              "      <td>Carousel</td>\n",
              "      <td>47.0</td>\n",
              "      <td>1093.0</td>\n",
              "      <td>NaN</td>\n",
              "      <td>1611235877000.0</td>\n",
              "      <td>j_kzvc99wm2q4pjru5kn.abcda1ffd273a050538c28dff...</td>\n",
              "      <td>https://www.instagram.com/p/CKTwyYEFklA/</td>\n",
              "      <td>0.0</td>\n",
              "      <td>[{\"src\":\"https://instagram.flba1-1.fna.fbcdn.n...</td>\n",
              "      <td>Chelsea Bridge Clinic</td>\n",
              "    </tr>\n",
              "    <tr>\n",
              "      <th>12</th>\n",
              "      <td>numberoneedin</td>\n",
              "      <td>Hand dived Isle Jura scallop smoked roe leek c...</td>\n",
              "      <td>Number One</td>\n",
              "      <td>https://scontent-lcy1-1.cdninstagram.com/v/t51...</td>\n",
              "      <td>A 4 AA Rosette restaurant @thebalmoral #Edinbu...</td>\n",
              "      <td>2.777225e+18</td>\n",
              "      <td>NaN</td>\n",
              "      <td>http://linktr.ee/numberoneedin</td>\n",
              "      <td>308.0</td>\n",
              "      <td>100.0</td>\n",
              "      <td>Image</td>\n",
              "      <td>343.0</td>\n",
              "      <td>4202.0</td>\n",
              "      <td>1.0</td>\n",
              "      <td>1645291057000.0</td>\n",
              "      <td>j_kzvc99wm2q4pjru5kn.19c16458b6085c27beaa3584f...</td>\n",
              "      <td>https://www.instagram.com/p/CaKr4xcoJ4B/</td>\n",
              "      <td>2.0</td>\n",
              "      <td>[{\"src\":\"https://scontent-lcy1-1.cdninstagram....</td>\n",
              "      <td>NaN</td>\n",
              "    </tr>\n",
              "    <tr>\n",
              "      <th>13</th>\n",
              "      <td>numberoneedin</td>\n",
              "      <td>Jerusalem Artichoke prepared first dessert mal...</td>\n",
              "      <td>Number One</td>\n",
              "      <td>https://scontent-lcy1-1.cdninstagram.com/v/t51...</td>\n",
              "      <td>A 4 AA Rosette restaurant @thebalmoral #Edinbu...</td>\n",
              "      <td>2.763506e+18</td>\n",
              "      <td>NaN</td>\n",
              "      <td>http://linktr.ee/numberoneedin</td>\n",
              "      <td>308.0</td>\n",
              "      <td>81.0</td>\n",
              "      <td>Image</td>\n",
              "      <td>343.0</td>\n",
              "      <td>4202.0</td>\n",
              "      <td>1.0</td>\n",
              "      <td>1643655662000.0</td>\n",
              "      <td>j_kzvc99wm2q4pjru5kn.19c16458b6085c27beaa3584f...</td>\n",
              "      <td>https://www.instagram.com/p/CZZ8nMdt185/</td>\n",
              "      <td>1.0</td>\n",
              "      <td>[{\"src\":\"https://scontent-lcy1-1.cdninstagram....</td>\n",
              "      <td>Number One</td>\n",
              "    </tr>\n",
              "    <tr>\n",
              "      <th>14</th>\n",
              "      <td>numberoneedin</td>\n",
              "      <td>Main course seasonal  course menu: Borders Roe...</td>\n",
              "      <td>Number One</td>\n",
              "      <td>https://scontent-lcy1-1.cdninstagram.com/v/t51...</td>\n",
              "      <td>A 4 AA Rosette restaurant @thebalmoral #Edinbu...</td>\n",
              "      <td>2.759822e+18</td>\n",
              "      <td>NaN</td>\n",
              "      <td>http://linktr.ee/numberoneedin</td>\n",
              "      <td>308.0</td>\n",
              "      <td>146.0</td>\n",
              "      <td>Image</td>\n",
              "      <td>343.0</td>\n",
              "      <td>4202.0</td>\n",
              "      <td>1.0</td>\n",
              "      <td>1643216482000.0</td>\n",
              "      <td>j_kzvc99wm2q4pjru5kn.19c16458b6085c27beaa3584f...</td>\n",
              "      <td>https://www.instagram.com/p/CZM28YqA3bj/</td>\n",
              "      <td>1.0</td>\n",
              "      <td>[{\"src\":\"https://scontent-lcy1-1.cdninstagram....</td>\n",
              "      <td>Number One</td>\n",
              "    </tr>\n",
              "    <tr>\n",
              "      <th>...</th>\n",
              "      <td>...</td>\n",
              "      <td>...</td>\n",
              "      <td>...</td>\n",
              "      <td>...</td>\n",
              "      <td>...</td>\n",
              "      <td>...</td>\n",
              "      <td>...</td>\n",
              "      <td>...</td>\n",
              "      <td>...</td>\n",
              "      <td>...</td>\n",
              "      <td>...</td>\n",
              "      <td>...</td>\n",
              "      <td>...</td>\n",
              "      <td>...</td>\n",
              "      <td>...</td>\n",
              "      <td>...</td>\n",
              "      <td>...</td>\n",
              "      <td>...</td>\n",
              "      <td>...</td>\n",
              "      <td>...</td>\n",
              "    </tr>\n",
              "    <tr>\n",
              "      <th>74544</th>\n",
              "      <td>thesavoylondon</td>\n",
              "      <td>Alongside hospitality performing arts also mas...</td>\n",
              "      <td>NaN</td>\n",
              "      <td>https://instagram.fbhx3-1.fna.fbcdn.net/v/t51....</td>\n",
              "      <td>At the forefront of the luxury hotel scene for...</td>\n",
              "      <td>2.487324e+18</td>\n",
              "      <td>NaN</td>\n",
              "      <td>https://www.thesavoylondon.com/restaurant/savo...</td>\n",
              "      <td>599.0</td>\n",
              "      <td>4079</td>\n",
              "      <td>Image</td>\n",
              "      <td>1933.0</td>\n",
              "      <td>167394.0</td>\n",
              "      <td>1.0</td>\n",
              "      <td>1610732193000</td>\n",
              "      <td>j_kzvc99wm2q4pjru5kn.581c2c8ee819d0e36b84f684f...</td>\n",
              "      <td>https://www.instagram.com/p/CKEwFdoAMaN/</td>\n",
              "      <td>67</td>\n",
              "      <td>[{\"src\":\"https://instagram.fbrs4-2.fna.fbcdn.n...</td>\n",
              "      <td>NaN</td>\n",
              "    </tr>\n",
              "    <tr>\n",
              "      <th>74545</th>\n",
              "      <td>thesavoylondon</td>\n",
              "      <td>This Isn’t looking forward Waking beautiful ni...</td>\n",
              "      <td>NaN</td>\n",
              "      <td>https://instagram.fbhx3-1.fna.fbcdn.net/v/t51....</td>\n",
              "      <td>At the forefront of the luxury hotel scene for...</td>\n",
              "      <td>2.485790e+18</td>\n",
              "      <td>NaN</td>\n",
              "      <td>https://www.thesavoylondon.com/restaurant/savo...</td>\n",
              "      <td>599.0</td>\n",
              "      <td>1621</td>\n",
              "      <td>Image</td>\n",
              "      <td>1933.0</td>\n",
              "      <td>167394.0</td>\n",
              "      <td>1.0</td>\n",
              "      <td>1610549312000</td>\n",
              "      <td>j_kzvc99wm2q4pjru5kn.581c2c8ee819d0e36b84f684f...</td>\n",
              "      <td>https://www.instagram.com/p/CJ_TRHuA5IE/</td>\n",
              "      <td>34</td>\n",
              "      <td>[{\"src\":\"https://instagram.fbrs4-2.fna.fbcdn.n...</td>\n",
              "      <td>The Savoy</td>\n",
              "    </tr>\n",
              "    <tr>\n",
              "      <th>74546</th>\n",
              "      <td>thesavoylondon</td>\n",
              "      <td>For missing London town here’s shot really sho...</td>\n",
              "      <td>NaN</td>\n",
              "      <td>https://instagram.fbhx3-1.fna.fbcdn.net/v/t51....</td>\n",
              "      <td>At the forefront of the luxury hotel scene for...</td>\n",
              "      <td>2.484262e+18</td>\n",
              "      <td>NaN</td>\n",
              "      <td>https://www.thesavoylondon.com/restaurant/savo...</td>\n",
              "      <td>599.0</td>\n",
              "      <td>1548</td>\n",
              "      <td>Image</td>\n",
              "      <td>1933.0</td>\n",
              "      <td>167394.0</td>\n",
              "      <td>1.0</td>\n",
              "      <td>1610367106000</td>\n",
              "      <td>j_kzvc99wm2q4pjru5kn.581c2c8ee819d0e36b84f684f...</td>\n",
              "      <td>https://www.instagram.com/p/CJ53vJDgJ2I/</td>\n",
              "      <td>28</td>\n",
              "      <td>[{\"src\":\"https://instagram.fbrs4-2.fna.fbcdn.n...</td>\n",
              "      <td>NaN</td>\n",
              "    </tr>\n",
              "    <tr>\n",
              "      <th>74547</th>\n",
              "      <td>thesavoylondon</td>\n",
              "      <td>While we’re closed we’re going try keep happy ...</td>\n",
              "      <td>NaN</td>\n",
              "      <td>https://instagram.fbhx3-1.fna.fbcdn.net/v/t51....</td>\n",
              "      <td>At the forefront of the luxury hotel scene for...</td>\n",
              "      <td>2.480702e+18</td>\n",
              "      <td>NaN</td>\n",
              "      <td>https://www.thesavoylondon.com/restaurant/savo...</td>\n",
              "      <td>599.0</td>\n",
              "      <td>2637</td>\n",
              "      <td>Image</td>\n",
              "      <td>1933.0</td>\n",
              "      <td>167394.0</td>\n",
              "      <td>1.0</td>\n",
              "      <td>1609942717000</td>\n",
              "      <td>j_kzvc99wm2q4pjru5kn.581c2c8ee819d0e36b84f684f...</td>\n",
              "      <td>https://www.instagram.com/p/CJtOR1TALQ3/</td>\n",
              "      <td>68</td>\n",
              "      <td>[{\"src\":\"https://instagram.fbrs4-2.fna.fbcdn.n...</td>\n",
              "      <td>The Savoy</td>\n",
              "    </tr>\n",
              "    <tr>\n",
              "      <th>74548</th>\n",
              "      <td>thesavoylondon</td>\n",
              "      <td>Today last day traditionally take decorations ...</td>\n",
              "      <td>NaN</td>\n",
              "      <td>https://instagram.fbhx3-1.fna.fbcdn.net/v/t51....</td>\n",
              "      <td>At the forefront of the luxury hotel scene for...</td>\n",
              "      <td>2.479390e+18</td>\n",
              "      <td>NaN</td>\n",
              "      <td>https://www.thesavoylondon.com/restaurant/savo...</td>\n",
              "      <td>599.0</td>\n",
              "      <td>5551</td>\n",
              "      <td>Carousel</td>\n",
              "      <td>1933.0</td>\n",
              "      <td>167394.0</td>\n",
              "      <td>1.0</td>\n",
              "      <td>1609786313000</td>\n",
              "      <td>j_kzvc99wm2q4pjru5kn.581c2c8ee819d0e36b84f684f...</td>\n",
              "      <td>https://www.instagram.com/p/CJoj9ohAm3L/</td>\n",
              "      <td>153</td>\n",
              "      <td>[{\"src\":\"https://instagram.fbrs4-2.fna.fbcdn.n...</td>\n",
              "      <td>The Savoy</td>\n",
              "    </tr>\n",
              "  </tbody>\n",
              "</table>\n",
              "<p>74508 rows × 20 columns</p>\n",
              "</div>\n",
              "      <button class=\"colab-df-convert\" onclick=\"convertToInteractive('df-dde87a4c-a40e-4bfc-a2a9-03757b81b53f')\"\n",
              "              title=\"Convert this dataframe to an interactive table.\"\n",
              "              style=\"display:none;\">\n",
              "        \n",
              "  <svg xmlns=\"http://www.w3.org/2000/svg\" height=\"24px\"viewBox=\"0 0 24 24\"\n",
              "       width=\"24px\">\n",
              "    <path d=\"M0 0h24v24H0V0z\" fill=\"none\"/>\n",
              "    <path d=\"M18.56 5.44l.94 2.06.94-2.06 2.06-.94-2.06-.94-.94-2.06-.94 2.06-2.06.94zm-11 1L8.5 8.5l.94-2.06 2.06-.94-2.06-.94L8.5 2.5l-.94 2.06-2.06.94zm10 10l.94 2.06.94-2.06 2.06-.94-2.06-.94-.94-2.06-.94 2.06-2.06.94z\"/><path d=\"M17.41 7.96l-1.37-1.37c-.4-.4-.92-.59-1.43-.59-.52 0-1.04.2-1.43.59L10.3 9.45l-7.72 7.72c-.78.78-.78 2.05 0 2.83L4 21.41c.39.39.9.59 1.41.59.51 0 1.02-.2 1.41-.59l7.78-7.78 2.81-2.81c.8-.78.8-2.07 0-2.86zM5.41 20L4 18.59l7.72-7.72 1.47 1.35L5.41 20z\"/>\n",
              "  </svg>\n",
              "      </button>\n",
              "      \n",
              "  <style>\n",
              "    .colab-df-container {\n",
              "      display:flex;\n",
              "      flex-wrap:wrap;\n",
              "      gap: 12px;\n",
              "    }\n",
              "\n",
              "    .colab-df-convert {\n",
              "      background-color: #E8F0FE;\n",
              "      border: none;\n",
              "      border-radius: 50%;\n",
              "      cursor: pointer;\n",
              "      display: none;\n",
              "      fill: #1967D2;\n",
              "      height: 32px;\n",
              "      padding: 0 0 0 0;\n",
              "      width: 32px;\n",
              "    }\n",
              "\n",
              "    .colab-df-convert:hover {\n",
              "      background-color: #E2EBFA;\n",
              "      box-shadow: 0px 1px 2px rgba(60, 64, 67, 0.3), 0px 1px 3px 1px rgba(60, 64, 67, 0.15);\n",
              "      fill: #174EA6;\n",
              "    }\n",
              "\n",
              "    [theme=dark] .colab-df-convert {\n",
              "      background-color: #3B4455;\n",
              "      fill: #D2E3FC;\n",
              "    }\n",
              "\n",
              "    [theme=dark] .colab-df-convert:hover {\n",
              "      background-color: #434B5C;\n",
              "      box-shadow: 0px 1px 3px 1px rgba(0, 0, 0, 0.15);\n",
              "      filter: drop-shadow(0px 1px 2px rgba(0, 0, 0, 0.3));\n",
              "      fill: #FFFFFF;\n",
              "    }\n",
              "  </style>\n",
              "\n",
              "      <script>\n",
              "        const buttonEl =\n",
              "          document.querySelector('#df-dde87a4c-a40e-4bfc-a2a9-03757b81b53f button.colab-df-convert');\n",
              "        buttonEl.style.display =\n",
              "          google.colab.kernel.accessAllowed ? 'block' : 'none';\n",
              "\n",
              "        async function convertToInteractive(key) {\n",
              "          const element = document.querySelector('#df-dde87a4c-a40e-4bfc-a2a9-03757b81b53f');\n",
              "          const dataTable =\n",
              "            await google.colab.kernel.invokeFunction('convertToInteractive',\n",
              "                                                     [key], {});\n",
              "          if (!dataTable) return;\n",
              "\n",
              "          const docLinkHtml = 'Like what you see? Visit the ' +\n",
              "            '<a target=\"_blank\" href=https://colab.research.google.com/notebooks/data_table.ipynb>data table notebook</a>'\n",
              "            + ' to learn more about interactive tables.';\n",
              "          element.innerHTML = '';\n",
              "          dataTable['output_type'] = 'display_data';\n",
              "          await google.colab.output.renderOutput(dataTable, element);\n",
              "          const docLink = document.createElement('div');\n",
              "          docLink.innerHTML = docLinkHtml;\n",
              "          element.appendChild(docLink);\n",
              "        }\n",
              "      </script>\n",
              "    </div>\n",
              "  </div>\n",
              "  "
            ]
          },
          "metadata": {},
          "execution_count": 75
        }
      ],
      "source": [
        "df"
      ]
    },
    {
      "cell_type": "markdown",
      "metadata": {
        "id": "cid_EOhOfm_K"
      },
      "source": [
        "##Dataset of categories"
      ]
    },
    {
      "cell_type": "code",
      "execution_count": 76,
      "metadata": {
        "colab": {
          "base_uri": "https://localhost:8080/",
          "height": 53
        },
        "id": "UfUud0Ti7tQ7",
        "outputId": "4ccbad67-83ee-4b50-c76e-e44e3aa1b515"
      },
      "outputs": [
        {
          "output_type": "execute_result",
          "data": {
            "text/plain": [
              "\"\\nUTF-8 is prepared for world domination, Latin1 isn't.\\nIf you're trying to store non-Latin characters like Chinese, \\nJapanese, Hebrew, Russian, etc using Latin1 encoding, then they will end up as mojibake.\\n\""
            ],
            "application/vnd.google.colaboratory.intrinsic+json": {
              "type": "string"
            }
          },
          "metadata": {},
          "execution_count": 76
        }
      ],
      "source": [
        "df_cat=pd.read_csv('Master Mining Chris + Surg.csv', encoding='latin-1');\n",
        "'''\n",
        "UTF-8 is prepared for world domination, Latin1 isn't.\n",
        "If you're trying to store non-Latin characters like Chinese, \n",
        "Japanese, Hebrew, Russian, etc using Latin1 encoding, then they will end up as mojibake.\n",
        "'''"
      ]
    },
    {
      "cell_type": "code",
      "execution_count": 77,
      "metadata": {
        "id": "fAlIEsyHGw4V"
      },
      "outputs": [],
      "source": [
        "df_cat=df_cat.rename(columns={'ACCOUNT':'account'})"
      ]
    },
    {
      "cell_type": "code",
      "execution_count": 78,
      "metadata": {
        "colab": {
          "base_uri": "https://localhost:8080/"
        },
        "id": "XjXUDdl0NLny",
        "outputId": "8398cc99-cbc1-4962-8d41-13647d103630"
      },
      "outputs": [
        {
          "output_type": "execute_result",
          "data": {
            "text/plain": [
              "(834, 4)"
            ]
          },
          "metadata": {},
          "execution_count": 78
        }
      ],
      "source": [
        "df_cat.shape"
      ]
    },
    {
      "cell_type": "code",
      "execution_count": 79,
      "metadata": {
        "id": "kp07aWP7Gnbv"
      },
      "outputs": [],
      "source": [
        "mergedStuff=pd.merge(df, df_cat, on=['account'], how='inner')"
      ]
    },
    {
      "cell_type": "code",
      "execution_count": 80,
      "metadata": {
        "colab": {
          "base_uri": "https://localhost:8080/"
        },
        "id": "dJNQs3JIDrn1",
        "outputId": "546e910d-192b-40c7-affb-2c0b5db1bac2"
      },
      "outputs": [
        {
          "output_type": "execute_result",
          "data": {
            "text/plain": [
              "(74507, 23)"
            ]
          },
          "metadata": {},
          "execution_count": 80
        }
      ],
      "source": [
        "mergedStuff.shape"
      ]
    },
    {
      "cell_type": "code",
      "execution_count": 81,
      "metadata": {
        "colab": {
          "base_uri": "https://localhost:8080/",
          "height": 802
        },
        "id": "J5vkhi3pNwDO",
        "outputId": "80a906dd-c992-4cd8-caba-63677adb1853"
      },
      "outputs": [
        {
          "output_type": "execute_result",
          "data": {
            "text/plain": [
              "                 account                                            caption  \\\n",
              "0  chelsea_bridge_clinic  𝗗𝗶𝗱 𝘆𝗼𝘂 𝗸𝗻𝗼𝘄 𝘁𝗵𝗮𝘁 𝘆𝗼𝘂 𝗰𝗮𝗻 𝘁𝗲𝘀𝘁 𝗳𝗼𝗿 𝗖𝗼𝘃𝗶𝗱 𝘄𝗶𝘁𝗵 ...   \n",
              "1  chelsea_bridge_clinic  𝗧𝗛𝗔𝗡𝗞 𝗬𝗢𝗨  We grateful kind words feedback rec...   \n",
              "2          numberoneedin  Hand dived Isle Jura scallop smoked roe leek c...   \n",
              "3          numberoneedin  Jerusalem Artichoke prepared first dessert mal...   \n",
              "4          numberoneedin  Main course seasonal  course menu: Borders Roe...   \n",
              "\n",
              "            profile_name                                 profile_image_link  \\\n",
              "0  Chelsea Bridge Clinic  https://scontent-lcy1-1.cdninstagram.com/v/t51...   \n",
              "1  Chelsea Bridge Clinic  https://scontent-lcy1-1.cdninstagram.com/v/t51...   \n",
              "2             Number One  https://scontent-lcy1-1.cdninstagram.com/v/t51...   \n",
              "3             Number One  https://scontent-lcy1-1.cdninstagram.com/v/t51...   \n",
              "4             Number One  https://scontent-lcy1-1.cdninstagram.com/v/t51...   \n",
              "\n",
              "                                           biography            id  \\\n",
              "0  General Health | Orthopaedic Care | Advanced A...  2.504540e+18   \n",
              "1  General Health | Orthopaedic Care | Advanced A...  2.491550e+18   \n",
              "2  A 4 AA Rosette restaurant @thebalmoral #Edinbu...  2.777225e+18   \n",
              "3  A 4 AA Rosette restaurant @thebalmoral #Edinbu...  2.763506e+18   \n",
              "4  A 4 AA Rosette restaurant @thebalmoral #Edinbu...  2.759822e+18   \n",
              "\n",
              "  business_email                                       external_url  \\\n",
              "0            NaN  https://www.chelseabridgeclinic.com/c19testing...   \n",
              "1            NaN  https://www.chelseabridgeclinic.com/c19testing...   \n",
              "2            NaN                     http://linktr.ee/numberoneedin   \n",
              "3            NaN                     http://linktr.ee/numberoneedin   \n",
              "4            NaN                     http://linktr.ee/numberoneedin   \n",
              "\n",
              "   following  likes  ... is_verified         datetime  \\\n",
              "0      964.0   14.0  ...         NaN  1612784425000.0   \n",
              "1      964.0   12.0  ...         NaN  1611235877000.0   \n",
              "2      308.0  100.0  ...         1.0  1645291057000.0   \n",
              "3      308.0   81.0  ...         1.0  1643655662000.0   \n",
              "4      308.0  146.0  ...         1.0  1643216482000.0   \n",
              "\n",
              "                                           image_url  \\\n",
              "0  j_kzvc99wm2q4pjru5kn.abcda1ffd273a050538c28dff...   \n",
              "1  j_kzvc99wm2q4pjru5kn.abcda1ffd273a050538c28dff...   \n",
              "2  j_kzvc99wm2q4pjru5kn.19c16458b6085c27beaa3584f...   \n",
              "3  j_kzvc99wm2q4pjru5kn.19c16458b6085c27beaa3584f...   \n",
              "4  j_kzvc99wm2q4pjru5kn.19c16458b6085c27beaa3584f...   \n",
              "\n",
              "                                        url comments  \\\n",
              "0  https://www.instagram.com/p/CLB6aHwlg_2/      0.0   \n",
              "1  https://www.instagram.com/p/CKTwyYEFklA/      0.0   \n",
              "2  https://www.instagram.com/p/CaKr4xcoJ4B/      2.0   \n",
              "3  https://www.instagram.com/p/CZZ8nMdt185/      1.0   \n",
              "4  https://www.instagram.com/p/CZM28YqA3bj/      1.0   \n",
              "\n",
              "                                          thumbnails               location  \\\n",
              "0  [{\"src\":\"https://instagram.flba1-1.fna.fbcdn.n...  Chelsea Bridge Clinic   \n",
              "1  [{\"src\":\"https://instagram.flba1-1.fna.fbcdn.n...  Chelsea Bridge Clinic   \n",
              "2  [{\"src\":\"https://scontent-lcy1-1.cdninstagram....                    NaN   \n",
              "3  [{\"src\":\"https://scontent-lcy1-1.cdninstagram....             Number One   \n",
              "4  [{\"src\":\"https://scontent-lcy1-1.cdninstagram....             Number One   \n",
              "\n",
              "      INDUSTRY   SUB-CATEGORY REGION  \n",
              "0    cosmetics  beauty clinic     UK  \n",
              "1    cosmetics  beauty clinic     UK  \n",
              "2  hospitality     restaurant     UK  \n",
              "3  hospitality     restaurant     UK  \n",
              "4  hospitality     restaurant     UK  \n",
              "\n",
              "[5 rows x 23 columns]"
            ],
            "text/html": [
              "\n",
              "  <div id=\"df-bc408702-cd54-4e1d-851b-f10c6a062751\">\n",
              "    <div class=\"colab-df-container\">\n",
              "      <div>\n",
              "<style scoped>\n",
              "    .dataframe tbody tr th:only-of-type {\n",
              "        vertical-align: middle;\n",
              "    }\n",
              "\n",
              "    .dataframe tbody tr th {\n",
              "        vertical-align: top;\n",
              "    }\n",
              "\n",
              "    .dataframe thead th {\n",
              "        text-align: right;\n",
              "    }\n",
              "</style>\n",
              "<table border=\"1\" class=\"dataframe\">\n",
              "  <thead>\n",
              "    <tr style=\"text-align: right;\">\n",
              "      <th></th>\n",
              "      <th>account</th>\n",
              "      <th>caption</th>\n",
              "      <th>profile_name</th>\n",
              "      <th>profile_image_link</th>\n",
              "      <th>biography</th>\n",
              "      <th>id</th>\n",
              "      <th>business_email</th>\n",
              "      <th>external_url</th>\n",
              "      <th>following</th>\n",
              "      <th>likes</th>\n",
              "      <th>...</th>\n",
              "      <th>is_verified</th>\n",
              "      <th>datetime</th>\n",
              "      <th>image_url</th>\n",
              "      <th>url</th>\n",
              "      <th>comments</th>\n",
              "      <th>thumbnails</th>\n",
              "      <th>location</th>\n",
              "      <th>INDUSTRY</th>\n",
              "      <th>SUB-CATEGORY</th>\n",
              "      <th>REGION</th>\n",
              "    </tr>\n",
              "  </thead>\n",
              "  <tbody>\n",
              "    <tr>\n",
              "      <th>0</th>\n",
              "      <td>chelsea_bridge_clinic</td>\n",
              "      <td>𝗗𝗶𝗱 𝘆𝗼𝘂 𝗸𝗻𝗼𝘄 𝘁𝗵𝗮𝘁 𝘆𝗼𝘂 𝗰𝗮𝗻 𝘁𝗲𝘀𝘁 𝗳𝗼𝗿 𝗖𝗼𝘃𝗶𝗱 𝘄𝗶𝘁𝗵 ...</td>\n",
              "      <td>Chelsea Bridge Clinic</td>\n",
              "      <td>https://scontent-lcy1-1.cdninstagram.com/v/t51...</td>\n",
              "      <td>General Health | Orthopaedic Care | Advanced A...</td>\n",
              "      <td>2.504540e+18</td>\n",
              "      <td>NaN</td>\n",
              "      <td>https://www.chelseabridgeclinic.com/c19testing...</td>\n",
              "      <td>964.0</td>\n",
              "      <td>14.0</td>\n",
              "      <td>...</td>\n",
              "      <td>NaN</td>\n",
              "      <td>1612784425000.0</td>\n",
              "      <td>j_kzvc99wm2q4pjru5kn.abcda1ffd273a050538c28dff...</td>\n",
              "      <td>https://www.instagram.com/p/CLB6aHwlg_2/</td>\n",
              "      <td>0.0</td>\n",
              "      <td>[{\"src\":\"https://instagram.flba1-1.fna.fbcdn.n...</td>\n",
              "      <td>Chelsea Bridge Clinic</td>\n",
              "      <td>cosmetics</td>\n",
              "      <td>beauty clinic</td>\n",
              "      <td>UK</td>\n",
              "    </tr>\n",
              "    <tr>\n",
              "      <th>1</th>\n",
              "      <td>chelsea_bridge_clinic</td>\n",
              "      <td>𝗧𝗛𝗔𝗡𝗞 𝗬𝗢𝗨  We grateful kind words feedback rec...</td>\n",
              "      <td>Chelsea Bridge Clinic</td>\n",
              "      <td>https://scontent-lcy1-1.cdninstagram.com/v/t51...</td>\n",
              "      <td>General Health | Orthopaedic Care | Advanced A...</td>\n",
              "      <td>2.491550e+18</td>\n",
              "      <td>NaN</td>\n",
              "      <td>https://www.chelseabridgeclinic.com/c19testing...</td>\n",
              "      <td>964.0</td>\n",
              "      <td>12.0</td>\n",
              "      <td>...</td>\n",
              "      <td>NaN</td>\n",
              "      <td>1611235877000.0</td>\n",
              "      <td>j_kzvc99wm2q4pjru5kn.abcda1ffd273a050538c28dff...</td>\n",
              "      <td>https://www.instagram.com/p/CKTwyYEFklA/</td>\n",
              "      <td>0.0</td>\n",
              "      <td>[{\"src\":\"https://instagram.flba1-1.fna.fbcdn.n...</td>\n",
              "      <td>Chelsea Bridge Clinic</td>\n",
              "      <td>cosmetics</td>\n",
              "      <td>beauty clinic</td>\n",
              "      <td>UK</td>\n",
              "    </tr>\n",
              "    <tr>\n",
              "      <th>2</th>\n",
              "      <td>numberoneedin</td>\n",
              "      <td>Hand dived Isle Jura scallop smoked roe leek c...</td>\n",
              "      <td>Number One</td>\n",
              "      <td>https://scontent-lcy1-1.cdninstagram.com/v/t51...</td>\n",
              "      <td>A 4 AA Rosette restaurant @thebalmoral #Edinbu...</td>\n",
              "      <td>2.777225e+18</td>\n",
              "      <td>NaN</td>\n",
              "      <td>http://linktr.ee/numberoneedin</td>\n",
              "      <td>308.0</td>\n",
              "      <td>100.0</td>\n",
              "      <td>...</td>\n",
              "      <td>1.0</td>\n",
              "      <td>1645291057000.0</td>\n",
              "      <td>j_kzvc99wm2q4pjru5kn.19c16458b6085c27beaa3584f...</td>\n",
              "      <td>https://www.instagram.com/p/CaKr4xcoJ4B/</td>\n",
              "      <td>2.0</td>\n",
              "      <td>[{\"src\":\"https://scontent-lcy1-1.cdninstagram....</td>\n",
              "      <td>NaN</td>\n",
              "      <td>hospitality</td>\n",
              "      <td>restaurant</td>\n",
              "      <td>UK</td>\n",
              "    </tr>\n",
              "    <tr>\n",
              "      <th>3</th>\n",
              "      <td>numberoneedin</td>\n",
              "      <td>Jerusalem Artichoke prepared first dessert mal...</td>\n",
              "      <td>Number One</td>\n",
              "      <td>https://scontent-lcy1-1.cdninstagram.com/v/t51...</td>\n",
              "      <td>A 4 AA Rosette restaurant @thebalmoral #Edinbu...</td>\n",
              "      <td>2.763506e+18</td>\n",
              "      <td>NaN</td>\n",
              "      <td>http://linktr.ee/numberoneedin</td>\n",
              "      <td>308.0</td>\n",
              "      <td>81.0</td>\n",
              "      <td>...</td>\n",
              "      <td>1.0</td>\n",
              "      <td>1643655662000.0</td>\n",
              "      <td>j_kzvc99wm2q4pjru5kn.19c16458b6085c27beaa3584f...</td>\n",
              "      <td>https://www.instagram.com/p/CZZ8nMdt185/</td>\n",
              "      <td>1.0</td>\n",
              "      <td>[{\"src\":\"https://scontent-lcy1-1.cdninstagram....</td>\n",
              "      <td>Number One</td>\n",
              "      <td>hospitality</td>\n",
              "      <td>restaurant</td>\n",
              "      <td>UK</td>\n",
              "    </tr>\n",
              "    <tr>\n",
              "      <th>4</th>\n",
              "      <td>numberoneedin</td>\n",
              "      <td>Main course seasonal  course menu: Borders Roe...</td>\n",
              "      <td>Number One</td>\n",
              "      <td>https://scontent-lcy1-1.cdninstagram.com/v/t51...</td>\n",
              "      <td>A 4 AA Rosette restaurant @thebalmoral #Edinbu...</td>\n",
              "      <td>2.759822e+18</td>\n",
              "      <td>NaN</td>\n",
              "      <td>http://linktr.ee/numberoneedin</td>\n",
              "      <td>308.0</td>\n",
              "      <td>146.0</td>\n",
              "      <td>...</td>\n",
              "      <td>1.0</td>\n",
              "      <td>1643216482000.0</td>\n",
              "      <td>j_kzvc99wm2q4pjru5kn.19c16458b6085c27beaa3584f...</td>\n",
              "      <td>https://www.instagram.com/p/CZM28YqA3bj/</td>\n",
              "      <td>1.0</td>\n",
              "      <td>[{\"src\":\"https://scontent-lcy1-1.cdninstagram....</td>\n",
              "      <td>Number One</td>\n",
              "      <td>hospitality</td>\n",
              "      <td>restaurant</td>\n",
              "      <td>UK</td>\n",
              "    </tr>\n",
              "  </tbody>\n",
              "</table>\n",
              "<p>5 rows × 23 columns</p>\n",
              "</div>\n",
              "      <button class=\"colab-df-convert\" onclick=\"convertToInteractive('df-bc408702-cd54-4e1d-851b-f10c6a062751')\"\n",
              "              title=\"Convert this dataframe to an interactive table.\"\n",
              "              style=\"display:none;\">\n",
              "        \n",
              "  <svg xmlns=\"http://www.w3.org/2000/svg\" height=\"24px\"viewBox=\"0 0 24 24\"\n",
              "       width=\"24px\">\n",
              "    <path d=\"M0 0h24v24H0V0z\" fill=\"none\"/>\n",
              "    <path d=\"M18.56 5.44l.94 2.06.94-2.06 2.06-.94-2.06-.94-.94-2.06-.94 2.06-2.06.94zm-11 1L8.5 8.5l.94-2.06 2.06-.94-2.06-.94L8.5 2.5l-.94 2.06-2.06.94zm10 10l.94 2.06.94-2.06 2.06-.94-2.06-.94-.94-2.06-.94 2.06-2.06.94z\"/><path d=\"M17.41 7.96l-1.37-1.37c-.4-.4-.92-.59-1.43-.59-.52 0-1.04.2-1.43.59L10.3 9.45l-7.72 7.72c-.78.78-.78 2.05 0 2.83L4 21.41c.39.39.9.59 1.41.59.51 0 1.02-.2 1.41-.59l7.78-7.78 2.81-2.81c.8-.78.8-2.07 0-2.86zM5.41 20L4 18.59l7.72-7.72 1.47 1.35L5.41 20z\"/>\n",
              "  </svg>\n",
              "      </button>\n",
              "      \n",
              "  <style>\n",
              "    .colab-df-container {\n",
              "      display:flex;\n",
              "      flex-wrap:wrap;\n",
              "      gap: 12px;\n",
              "    }\n",
              "\n",
              "    .colab-df-convert {\n",
              "      background-color: #E8F0FE;\n",
              "      border: none;\n",
              "      border-radius: 50%;\n",
              "      cursor: pointer;\n",
              "      display: none;\n",
              "      fill: #1967D2;\n",
              "      height: 32px;\n",
              "      padding: 0 0 0 0;\n",
              "      width: 32px;\n",
              "    }\n",
              "\n",
              "    .colab-df-convert:hover {\n",
              "      background-color: #E2EBFA;\n",
              "      box-shadow: 0px 1px 2px rgba(60, 64, 67, 0.3), 0px 1px 3px 1px rgba(60, 64, 67, 0.15);\n",
              "      fill: #174EA6;\n",
              "    }\n",
              "\n",
              "    [theme=dark] .colab-df-convert {\n",
              "      background-color: #3B4455;\n",
              "      fill: #D2E3FC;\n",
              "    }\n",
              "\n",
              "    [theme=dark] .colab-df-convert:hover {\n",
              "      background-color: #434B5C;\n",
              "      box-shadow: 0px 1px 3px 1px rgba(0, 0, 0, 0.15);\n",
              "      filter: drop-shadow(0px 1px 2px rgba(0, 0, 0, 0.3));\n",
              "      fill: #FFFFFF;\n",
              "    }\n",
              "  </style>\n",
              "\n",
              "      <script>\n",
              "        const buttonEl =\n",
              "          document.querySelector('#df-bc408702-cd54-4e1d-851b-f10c6a062751 button.colab-df-convert');\n",
              "        buttonEl.style.display =\n",
              "          google.colab.kernel.accessAllowed ? 'block' : 'none';\n",
              "\n",
              "        async function convertToInteractive(key) {\n",
              "          const element = document.querySelector('#df-bc408702-cd54-4e1d-851b-f10c6a062751');\n",
              "          const dataTable =\n",
              "            await google.colab.kernel.invokeFunction('convertToInteractive',\n",
              "                                                     [key], {});\n",
              "          if (!dataTable) return;\n",
              "\n",
              "          const docLinkHtml = 'Like what you see? Visit the ' +\n",
              "            '<a target=\"_blank\" href=https://colab.research.google.com/notebooks/data_table.ipynb>data table notebook</a>'\n",
              "            + ' to learn more about interactive tables.';\n",
              "          element.innerHTML = '';\n",
              "          dataTable['output_type'] = 'display_data';\n",
              "          await google.colab.output.renderOutput(dataTable, element);\n",
              "          const docLink = document.createElement('div');\n",
              "          docLink.innerHTML = docLinkHtml;\n",
              "          element.appendChild(docLink);\n",
              "        }\n",
              "      </script>\n",
              "    </div>\n",
              "  </div>\n",
              "  "
            ]
          },
          "metadata": {},
          "execution_count": 81
        }
      ],
      "source": [
        "mergedStuff.head()"
      ]
    },
    {
      "cell_type": "markdown",
      "metadata": {
        "id": "2yV1Qsc2JTDa"
      },
      "source": [
        "https://www.cs.cornell.edu/~tomf/publications/supervised_kmeans-08.pdf\n",
        "\n",
        "I followed the paper above"
      ]
    },
    {
      "cell_type": "markdown",
      "metadata": {
        "id": "vnmXZqykhQnJ"
      },
      "source": [
        "#Splitting dataset\n",
        "\n"
      ]
    },
    {
      "cell_type": "code",
      "execution_count": 82,
      "metadata": {
        "id": "Fp17mm1Vh6Hh"
      },
      "outputs": [],
      "source": [
        "df_cosmetics=mergedStuff[mergedStuff['INDUSTRY']=='cosmetics']\n",
        "df_hospitality=mergedStuff[mergedStuff['INDUSTRY']=='hospitality']\n",
        "df_fitness=mergedStuff[mergedStuff['INDUSTRY']=='fitness']\n",
        "df_real_estate=mergedStuff[mergedStuff['INDUSTRY']=='real estate']\n",
        "df_retail=mergedStuff[mergedStuff['INDUSTRY']=='retail']\n",
        "df_sport_recreation=mergedStuff[mergedStuff['INDUSTRY']=='sport & recreation']\n",
        "df_fashion=mergedStuff[mergedStuff['INDUSTRY']=='fashion']\n",
        "df_childcare=mergedStuff[mergedStuff['INDUSTRY']=='childcare']"
      ]
    },
    {
      "cell_type": "code",
      "execution_count": 83,
      "metadata": {
        "colab": {
          "base_uri": "https://localhost:8080/"
        },
        "id": "vmMoKawAJnJv",
        "outputId": "36740f8e-bc68-47c9-b49e-84cc274a0646"
      },
      "outputs": [
        {
          "output_type": "stream",
          "name": "stdout",
          "text": [
            "(22916, 23)\n",
            "(49494, 23)\n",
            "(683, 23)\n",
            "(236, 23)\n",
            "(495, 23)\n",
            "(392, 23)\n",
            "(200, 23)\n",
            "(91, 23)\n"
          ]
        }
      ],
      "source": [
        "print(df_cosmetics.shape)\n",
        "print(df_hospitality.shape)\n",
        "print(df_fitness.shape)\n",
        "print(df_real_estate.shape)\n",
        "print(df_retail.shape)\n",
        "print(df_sport_recreation.shape)\n",
        "print(df_fashion.shape)\n",
        "print(df_childcare.shape)\n",
        "#The sum of shape[0] is 74507"
      ]
    },
    {
      "cell_type": "markdown",
      "source": [
        "#Clustering df_hospitality"
      ],
      "metadata": {
        "id": "p3TXfy2NDKZq"
      }
    },
    {
      "cell_type": "code",
      "source": [
        "from sklearn.feature_extraction.text import TfidfVectorizer\n",
        "\n",
        "# initialize the vectorizer\n",
        "vectorizer = TfidfVectorizer(sublinear_tf=True, min_df=5, max_df=0.95)\n",
        "# fit_transform applies TF-IDF to clean texts - we save the array of vectors in X\n",
        "X = vectorizer.fit_transform(df_hospitality['caption'])"
      ],
      "metadata": {
        "id": "-MFzGSpHDOa5"
      },
      "execution_count": 84,
      "outputs": []
    },
    {
      "cell_type": "code",
      "source": [
        "df_hospitality['SUB-CATEGORY'].unique() #27"
      ],
      "metadata": {
        "colab": {
          "base_uri": "https://localhost:8080/"
        },
        "id": "_-DnfZ1oDUOX",
        "outputId": "35e972af-5cd3-4661-8fbb-e0ba8db5fad2"
      },
      "execution_count": 85,
      "outputs": [
        {
          "output_type": "execute_result",
          "data": {
            "text/plain": [
              "array(['restaurant', 'hotel', 'pub', 'doughnut shop', 'bakery', 'café',\n",
              "       'bar & grill', 'bar & kitchen', 'breakfast & brunch restaurant',\n",
              "       'streetfood market', 'bar', 'pastry shop', 'chocolate shop',\n",
              "       'brewery', 'wine bar & shop', 'coffee / food shop', 'cocktail bar',\n",
              "       'ice cream shop', 'serviced apartments', 'pub & restaurant',\n",
              "       'fast food chain', 'empanadas store / delivery', 'wine bar',\n",
              "       'dessert shop',\n",
              "       'restaurants / lifestyle shop / deli / plant nursery',\n",
              "       'food delivery', 'beer garden'], dtype=object)"
            ]
          },
          "metadata": {},
          "execution_count": 85
        }
      ]
    },
    {
      "cell_type": "code",
      "source": [
        "from sklearn.cluster import KMeans\n",
        "\n",
        "# initialize kmeans with 3 centroids\n",
        "kmeans = KMeans(n_clusters=27, random_state=42)\n",
        "# fit the model\n",
        "kmeans.fit(X)\n",
        "# store cluster labels in a variable\n",
        "clusters = kmeans.labels_"
      ],
      "metadata": {
        "id": "VqiI-_0ADd79"
      },
      "execution_count": 86,
      "outputs": []
    },
    {
      "cell_type": "code",
      "source": [
        "# from sklearn.decomposition import PCA\n",
        "\n",
        "# # initialize PCA with 2 components\n",
        "# pca = PCA(n_components=2, random_state=42)\n",
        "# # pass our X to the pca and store the reduced vectors into pca_vecs\n",
        "# pca_vecs = pca.fit_transform(X.toarray())\n",
        "# # save our two dimensions into x0 and x1\n",
        "# x0 = pca_vecs[:, 0]\n",
        "# x1 = pca_vecs[:, 1]"
      ],
      "metadata": {
        "id": "5lKsFUh9DsAC"
      },
      "execution_count": 87,
      "outputs": []
    },
    {
      "cell_type": "markdown",
      "source": [
        "#Clustering df_fitness"
      ],
      "metadata": {
        "id": "nSovMH-oA2yy"
      }
    },
    {
      "cell_type": "code",
      "source": [
        "from sklearn.feature_extraction.text import TfidfVectorizer\n",
        "\n",
        "# initialize the vectorizer\n",
        "vectorizer = TfidfVectorizer(sublinear_tf=True, min_df=5, max_df=0.95)\n",
        "# fit_transform applies TF-IDF to clean texts - we save the array of vectors in X\n",
        "X = vectorizer.fit_transform(df_fitness['caption'])"
      ],
      "metadata": {
        "id": "LjuunbXFA6yd"
      },
      "execution_count": 88,
      "outputs": []
    },
    {
      "cell_type": "code",
      "source": [
        "df_fitness['SUB-CATEGORY'].unique()"
      ],
      "metadata": {
        "colab": {
          "base_uri": "https://localhost:8080/"
        },
        "id": "aOBVRz0IA_nw",
        "outputId": "650bab8f-b7ac-4c92-bea6-9e13c7260afc"
      },
      "execution_count": 89,
      "outputs": [
        {
          "output_type": "execute_result",
          "data": {
            "text/plain": [
              "array(['boutique wellness studio', 'gym', 'bootcamp classes'],\n",
              "      dtype=object)"
            ]
          },
          "metadata": {},
          "execution_count": 89
        }
      ]
    },
    {
      "cell_type": "code",
      "source": [
        "from sklearn.cluster import KMeans\n",
        "\n",
        "# initialize kmeans with 3 centroids\n",
        "kmeans = KMeans(n_clusters=3, random_state=42)\n",
        "# fit the model\n",
        "kmeans.fit(X)\n",
        "# store cluster labels in a variable\n",
        "clusters = kmeans.labels_"
      ],
      "metadata": {
        "id": "9Mnj0BCoBDMe"
      },
      "execution_count": 90,
      "outputs": []
    },
    {
      "cell_type": "code",
      "source": [
        "from sklearn.decomposition import PCA\n",
        "\n",
        "# initialize PCA with 2 components\n",
        "pca = PCA(n_components=2, random_state=42)\n",
        "# pass our X to the pca and store the reduced vectors into pca_vecs\n",
        "pca_vecs = pca.fit_transform(X.toarray())\n",
        "# save our two dimensions into x0 and x1\n",
        "x0 = pca_vecs[:, 0]\n",
        "x1 = pca_vecs[:, 1]"
      ],
      "metadata": {
        "id": "QJJGx17SBGr3"
      },
      "execution_count": 91,
      "outputs": []
    },
    {
      "cell_type": "code",
      "source": [
        "df_fitness['cluster'] = clusters\n",
        "df_fitness['x0'] = x0\n",
        "df_fitness['x1'] = x1\n",
        "\n",
        "cluster_map_fitness = {0: 'boutique wellness studio', 1:'gym', 2:'bootcamp classes'} # mapping found through get_top_keywords\n",
        "df_fitness['cluster'] = df_fitness['cluster'].map(cluster_map_fitness);"
      ],
      "metadata": {
        "colab": {
          "base_uri": "https://localhost:8080/"
        },
        "id": "uChRTJ5HBJm-",
        "outputId": "48e954ae-ae9d-4771-f623-e01884230bb2"
      },
      "execution_count": 92,
      "outputs": [
        {
          "output_type": "stream",
          "name": "stderr",
          "text": [
            "/usr/local/lib/python3.7/dist-packages/ipykernel_launcher.py:1: SettingWithCopyWarning: \n",
            "A value is trying to be set on a copy of a slice from a DataFrame.\n",
            "Try using .loc[row_indexer,col_indexer] = value instead\n",
            "\n",
            "See the caveats in the documentation: https://pandas.pydata.org/pandas-docs/stable/user_guide/indexing.html#returning-a-view-versus-a-copy\n",
            "  \"\"\"Entry point for launching an IPython kernel.\n",
            "/usr/local/lib/python3.7/dist-packages/ipykernel_launcher.py:2: SettingWithCopyWarning: \n",
            "A value is trying to be set on a copy of a slice from a DataFrame.\n",
            "Try using .loc[row_indexer,col_indexer] = value instead\n",
            "\n",
            "See the caveats in the documentation: https://pandas.pydata.org/pandas-docs/stable/user_guide/indexing.html#returning-a-view-versus-a-copy\n",
            "  \n",
            "/usr/local/lib/python3.7/dist-packages/ipykernel_launcher.py:3: SettingWithCopyWarning: \n",
            "A value is trying to be set on a copy of a slice from a DataFrame.\n",
            "Try using .loc[row_indexer,col_indexer] = value instead\n",
            "\n",
            "See the caveats in the documentation: https://pandas.pydata.org/pandas-docs/stable/user_guide/indexing.html#returning-a-view-versus-a-copy\n",
            "  This is separate from the ipykernel package so we can avoid doing imports until\n",
            "/usr/local/lib/python3.7/dist-packages/ipykernel_launcher.py:6: SettingWithCopyWarning: \n",
            "A value is trying to be set on a copy of a slice from a DataFrame.\n",
            "Try using .loc[row_indexer,col_indexer] = value instead\n",
            "\n",
            "See the caveats in the documentation: https://pandas.pydata.org/pandas-docs/stable/user_guide/indexing.html#returning-a-view-versus-a-copy\n",
            "  \n"
          ]
        }
      ]
    },
    {
      "cell_type": "code",
      "source": [
        "import numpy as np\n",
        "def get_top_keywords(n_terms, df):\n",
        "    \"\"\"This function returns the keywords for each centroid of the KMeans\"\"\"\n",
        "    df = pd.DataFrame(X.todense()).groupby(clusters).mean() # groups the TF-IDF vector by cluster\n",
        "    terms = vectorizer.get_feature_names_out() # access tf-idf terms\n",
        "    for i,r in df.iterrows():\n",
        "        print('\\nCluster {}'.format(i))\n",
        "        print(','.join([terms[t] for t in np.argsort(r)[-n_terms:]])) # for each row of the dataframe, find the n terms that have the highest tf idf score\n",
        "            \n",
        "get_top_keywords(20, df_fitness)"
      ],
      "metadata": {
        "colab": {
          "base_uri": "https://localhost:8080/"
        },
        "id": "MmBxgVXJBZtK",
        "outputId": "b2c1680f-e026-4b11-886b-da40febb9d9f"
      },
      "execution_count": 93,
      "outputs": [
        {
          "output_type": "stream",
          "name": "stdout",
          "text": [
            "\n",
            "Cluster 0\n",
            "people,re,tuesday,ve,gym,new,like,time,one,barch,know,what,us,everyone,love,get,it,class,day,we\n",
            "\n",
            "Cluster 1\n",
            "schedule,full,mat,uk,offer,co,see,trial,majestic,join,richmond,fitness,new,free,classes,week,studio,us,link,bio\n",
            "\n",
            "Cluster 2\n",
            "see,possibilities,mat,weekend,sunday,us,foundations,pilates,power,saturday,barre,restore,streamed,following,join,mindful,yang,flow,yoga,yin\n"
          ]
        }
      ]
    },
    {
      "cell_type": "code",
      "source": [
        "import matplotlib.pyplot as plt\n",
        "import seaborn as sns\n",
        "# set image size\n",
        "plt.figure(figsize=(12, 7))\n",
        "# set title\n",
        "plt.title(\"Grouping TF-IDF + KMeans \", fontdict={\"fontsize\": 18})\n",
        "# set axes names\n",
        "plt.xlabel(\"X0\", fontdict={\"fontsize\": 16})\n",
        "plt.ylabel(\"X1\", fontdict={\"fontsize\": 16})\n",
        "#  create scatter plot with seaborn, where hue is the class used to group the data\n",
        "sns.scatterplot(data=df_fitness, x='x0', y='x1', hue='cluster', palette=\"viridis\")\n",
        "plt.savefig('fitness_clustering.png')\n",
        "\n",
        "plt.show()"
      ],
      "metadata": {
        "colab": {
          "base_uri": "https://localhost:8080/",
          "height": 467
        },
        "id": "-HfD3SNlBfDd",
        "outputId": "c50b7a0f-5375-4bcb-be30-e1228ab2ca4d"
      },
      "execution_count": 95,
      "outputs": [
        {
          "output_type": "display_data",
          "data": {
            "text/plain": [
              "<Figure size 864x504 with 1 Axes>"
            ],
            "image/png": "[encoded data removed]"
          },
          "metadata": {
            "needs_background": "light"
          }
        }
      ]
    },
    {
      "cell_type": "markdown",
      "source": [
        "#Clustering real_estate"
      ],
      "metadata": {
        "id": "cUHTiiHF_zXS"
      }
    },
    {
      "cell_type": "code",
      "source": [
        "from sklearn.feature_extraction.text import TfidfVectorizer\n",
        "\n",
        "# initialize the vectorizer\n",
        "vectorizer = TfidfVectorizer(sublinear_tf=True, min_df=5, max_df=0.95)\n",
        "# fit_transform applies TF-IDF to clean texts - we save the array of vectors in X\n",
        "X = vectorizer.fit_transform(df_real_estate['caption'])"
      ],
      "metadata": {
        "id": "RxU64LBzArYn"
      },
      "execution_count": 96,
      "outputs": []
    },
    {
      "cell_type": "code",
      "source": [
        "df_real_estate['SUB-CATEGORY'].unique()"
      ],
      "metadata": {
        "colab": {
          "base_uri": "https://localhost:8080/"
        },
        "id": "yDRscpM5Aw3c",
        "outputId": "60b3c103-e47f-4359-d677-af30eefa0e2c"
      },
      "execution_count": 97,
      "outputs": [
        {
          "output_type": "execute_result",
          "data": {
            "text/plain": [
              "array(['estate agents'], dtype=object)"
            ]
          },
          "metadata": {},
          "execution_count": 97
        }
      ]
    },
    {
      "cell_type": "markdown",
      "source": [
        "#Clustering for df_retail"
      ],
      "metadata": {
        "id": "C571h8WN-p5F"
      }
    },
    {
      "cell_type": "code",
      "source": [
        "from sklearn.feature_extraction.text import TfidfVectorizer\n",
        "\n",
        "# initialize the vectorizer\n",
        "vectorizer = TfidfVectorizer(sublinear_tf=True, min_df=5, max_df=0.95)\n",
        "# fit_transform applies TF-IDF to clean texts - we save the array of vectors in X\n",
        "X = vectorizer.fit_transform(df_retail['caption'])"
      ],
      "metadata": {
        "id": "nmWVON1c-tLO"
      },
      "execution_count": 98,
      "outputs": []
    },
    {
      "cell_type": "code",
      "source": [
        "df_retail['SUB-CATEGORY'].unique()"
      ],
      "metadata": {
        "colab": {
          "base_uri": "https://localhost:8080/"
        },
        "id": "ouldn9hV-ymN",
        "outputId": "2802b3de-1743-4e70-ce52-76599846164b"
      },
      "execution_count": 99,
      "outputs": [
        {
          "output_type": "execute_result",
          "data": {
            "text/plain": [
              "array(['deli shop', 'florist', 'dessert shop',\n",
              "       'wine, beer & spirits shop'], dtype=object)"
            ]
          },
          "metadata": {},
          "execution_count": 99
        }
      ]
    },
    {
      "cell_type": "code",
      "source": [
        "from sklearn.cluster import KMeans\n",
        "\n",
        "# initialize kmeans with 3 centroids\n",
        "kmeans = KMeans(n_clusters=5, random_state=42)\n",
        "# fit the model\n",
        "kmeans.fit(X)\n",
        "# store cluster labels in a variable\n",
        "clusters = kmeans.labels_"
      ],
      "metadata": {
        "id": "ycEJuVKt-pTr"
      },
      "execution_count": 100,
      "outputs": []
    },
    {
      "cell_type": "code",
      "source": [
        "from sklearn.decomposition import PCA\n",
        "\n",
        "# initialize PCA with 2 components\n",
        "pca = PCA(n_components=2, random_state=42)\n",
        "# pass our X to the pca and store the reduced vectors into pca_vecs\n",
        "pca_vecs = pca.fit_transform(X.toarray())\n",
        "# save our two dimensions into x0 and x1\n",
        "x0 = pca_vecs[:, 0]\n",
        "x1 = pca_vecs[:, 1]"
      ],
      "metadata": {
        "id": "0qj7Bcl0--Lz"
      },
      "execution_count": 101,
      "outputs": []
    },
    {
      "cell_type": "code",
      "source": [
        "df_retail['cluster'] = clusters\n",
        "df_retail['x0'] = x0\n",
        "df_retail['x1'] = x1\n",
        "\n",
        "cluster_map_retail = {0: 'deli shop', 1:'florist', 2:'dessert shop',3: 'wine', 4: 'beer & spirits shop'} # mapping found through get_top_keywords\n",
        "df_retail['cluster'] = df_retail['cluster'].map(cluster_map_retail);"
      ],
      "metadata": {
        "colab": {
          "base_uri": "https://localhost:8080/"
        },
        "id": "EogFpnu5_EZZ",
        "outputId": "82864089-5799-477f-99dc-70cb8e9be719"
      },
      "execution_count": 102,
      "outputs": [
        {
          "output_type": "stream",
          "name": "stderr",
          "text": [
            "/usr/local/lib/python3.7/dist-packages/ipykernel_launcher.py:1: SettingWithCopyWarning: \n",
            "A value is trying to be set on a copy of a slice from a DataFrame.\n",
            "Try using .loc[row_indexer,col_indexer] = value instead\n",
            "\n",
            "See the caveats in the documentation: https://pandas.pydata.org/pandas-docs/stable/user_guide/indexing.html#returning-a-view-versus-a-copy\n",
            "  \"\"\"Entry point for launching an IPython kernel.\n",
            "/usr/local/lib/python3.7/dist-packages/ipykernel_launcher.py:2: SettingWithCopyWarning: \n",
            "A value is trying to be set on a copy of a slice from a DataFrame.\n",
            "Try using .loc[row_indexer,col_indexer] = value instead\n",
            "\n",
            "See the caveats in the documentation: https://pandas.pydata.org/pandas-docs/stable/user_guide/indexing.html#returning-a-view-versus-a-copy\n",
            "  \n",
            "/usr/local/lib/python3.7/dist-packages/ipykernel_launcher.py:3: SettingWithCopyWarning: \n",
            "A value is trying to be set on a copy of a slice from a DataFrame.\n",
            "Try using .loc[row_indexer,col_indexer] = value instead\n",
            "\n",
            "See the caveats in the documentation: https://pandas.pydata.org/pandas-docs/stable/user_guide/indexing.html#returning-a-view-versus-a-copy\n",
            "  This is separate from the ipykernel package so we can avoid doing imports until\n",
            "/usr/local/lib/python3.7/dist-packages/ipykernel_launcher.py:6: SettingWithCopyWarning: \n",
            "A value is trying to be set on a copy of a slice from a DataFrame.\n",
            "Try using .loc[row_indexer,col_indexer] = value instead\n",
            "\n",
            "See the caveats in the documentation: https://pandas.pydata.org/pandas-docs/stable/user_guide/indexing.html#returning-a-view-versus-a-copy\n",
            "  \n"
          ]
        }
      ]
    },
    {
      "cell_type": "code",
      "source": [
        "import numpy as np\n",
        "def get_top_keywords(n_terms, df):\n",
        "    \"\"\"This function returns the keywords for each centroid of the KMeans\"\"\"\n",
        "    df = pd.DataFrame(X.todense()).groupby(clusters).mean() # groups the TF-IDF vector by cluster\n",
        "    terms = vectorizer.get_feature_names_out() # access tf-idf terms\n",
        "    for i,r in df.iterrows():\n",
        "        print('\\nCluster {}'.format(i))\n",
        "        print(','.join([terms[t] for t in np.argsort(r)[-n_terms:]])) # for each row of the dataframe, find the n terms that have the highest tf idf score\n",
        "            \n",
        "get_top_keywords(20, df_retail)"
      ],
      "metadata": {
        "colab": {
          "base_uri": "https://localhost:8080/"
        },
        "id": "ULFh6Qny_a_-",
        "outputId": "fc6ce5dc-bece-4796-baba-c5f1713b79e3"
      },
      "execution_count": 103,
      "outputs": [
        {
          "output_type": "stream",
          "name": "stdout",
          "text": [
            "\n",
            "Cluster 0\n",
            "classic,delicate,holiday,full,bank,colours,customers,blooms,businesses,june,viant,adding,colour,palette,lovely,roses,christmas,number,week,bouquet\n",
            "\n",
            "Cluster 1\n",
            "well,realdrinks,you,it,see,new,co,uk,drinks,twickenham,find,folks,store,ve,vale,maida,wine,beer,re,we\n",
            "\n",
            "Cluster 2\n",
            "hill,park,today,leaving,bushy,left,ing,hampton,ings,teddington,whoever,finds,mini,hope,benches,joy,posies,the,fairies,flower\n",
            "\n",
            "Cluster 3\n",
            "fabulous,today,happy,blooms,it,hope,tulips,gorgeous,day,autumnal,wonderful,pink,thank,the,flowers,back,beautiful,love,bouquets,week\n",
            "\n",
            "Cluster 4\n",
            "made,cured,have,delivery,valentine,day,limited,cookie,today,pm,bio,link,available,order,our,we,leith,new,online,shop\n"
          ]
        }
      ]
    },
    {
      "cell_type": "code",
      "source": [
        "import matplotlib.pyplot as plt\n",
        "import seaborn as sns\n",
        "# set image size\n",
        "plt.figure(figsize=(12, 7))\n",
        "# set title\n",
        "plt.title(\"Grouping TF-IDF + KMeans \", fontdict={\"fontsize\": 18})\n",
        "# set axes names\n",
        "plt.xlabel(\"X0\", fontdict={\"fontsize\": 16})\n",
        "plt.ylabel(\"X1\", fontdict={\"fontsize\": 16})\n",
        "#  create scatter plot with seaborn, where hue is the class used to group the data\n",
        "sns.scatterplot(data=df_retail, x='x0', y='x1', hue='cluster', palette=\"viridis\")\n",
        "plt.savefig('retail_clustering.png')\n",
        "\n",
        "plt.show()"
      ],
      "metadata": {
        "colab": {
          "base_uri": "https://localhost:8080/",
          "height": 467
        },
        "id": "UiyIYmR3_fux",
        "outputId": "38ec0938-4d48-4ea1-ecd8-d5f51d75b7c1"
      },
      "execution_count": 104,
      "outputs": [
        {
          "output_type": "display_data",
          "data": {
            "text/plain": [
              "<Figure size 864x504 with 1 Axes>"
            ],
            "image/png": "[encoded data removed]"
          },
          "metadata": {
            "needs_background": "light"
          }
        }
      ]
    },
    {
      "cell_type": "markdown",
      "source": [
        "#Clustering df_sport_recreation"
      ],
      "metadata": {
        "id": "khttbFbt84IU"
      }
    },
    {
      "cell_type": "code",
      "source": [
        "from sklearn.feature_extraction.text import TfidfVectorizer\n",
        "\n",
        "# initialize the vectorizer\n",
        "vectorizer = TfidfVectorizer(sublinear_tf=True, min_df=5, max_df=0.95)\n",
        "# fit_transform applies TF-IDF to clean texts - we save the array of vectors in X\n",
        "X = vectorizer.fit_transform(df_sport_recreation['caption'])"
      ],
      "metadata": {
        "id": "jU05a0Fc870t"
      },
      "execution_count": 105,
      "outputs": []
    },
    {
      "cell_type": "code",
      "source": [
        "df_sport_recreation['SUB-CATEGORY'].unique()"
      ],
      "metadata": {
        "colab": {
          "base_uri": "https://localhost:8080/"
        },
        "id": "mvC_-H2l9CUs",
        "outputId": "2fd1470c-fe84-450b-efd5-6aa99464b8ba"
      },
      "execution_count": 106,
      "outputs": [
        {
          "output_type": "execute_result",
          "data": {
            "text/plain": [
              "array(['public pool', 'paddleboard rental', 'swimming school'],\n",
              "      dtype=object)"
            ]
          },
          "metadata": {},
          "execution_count": 106
        }
      ]
    },
    {
      "cell_type": "code",
      "source": [
        "from sklearn.cluster import KMeans\n",
        "\n",
        "# initialize kmeans with 3 centroids\n",
        "kmeans = KMeans(n_clusters=3, random_state=42)\n",
        "# fit the model\n",
        "kmeans.fit(X)\n",
        "# store cluster labels in a variable\n",
        "clusters = kmeans.labels_"
      ],
      "metadata": {
        "id": "lUD0GTdR9Wpf"
      },
      "execution_count": 107,
      "outputs": []
    },
    {
      "cell_type": "code",
      "source": [
        "from sklearn.decomposition import PCA\n",
        "\n",
        "# initialize PCA with 2 components\n",
        "pca = PCA(n_components=2, random_state=42)\n",
        "# pass our X to the pca and store the reduced vectors into pca_vecs\n",
        "pca_vecs = pca.fit_transform(X.toarray())\n",
        "# save our two dimensions into x0 and x1\n",
        "x0 = pca_vecs[:, 0]\n",
        "x1 = pca_vecs[:, 1]"
      ],
      "metadata": {
        "id": "MOWKeoAU9Rf_"
      },
      "execution_count": 108,
      "outputs": []
    },
    {
      "cell_type": "code",
      "source": [
        "df_sport_recreation['cluster'] = clusters\n",
        "df_sport_recreation['x0'] = x0\n",
        "df_sport_recreation['x1'] = x1\n",
        "\n",
        "cluster_map_sport = {0: 'public pool', 1: 'paddleboard rental', 2:'swimming school'} # mapping found through get_top_keywords\n",
        "df_sport_recreation['cluster'] = df_sport_recreation['cluster'].map(cluster_map_sport);"
      ],
      "metadata": {
        "colab": {
          "base_uri": "https://localhost:8080/"
        },
        "id": "DdZKnGSA9d-o",
        "outputId": "43c184fa-766e-4145-f993-675beff3ec4b"
      },
      "execution_count": 109,
      "outputs": [
        {
          "output_type": "stream",
          "name": "stderr",
          "text": [
            "/usr/local/lib/python3.7/dist-packages/ipykernel_launcher.py:1: SettingWithCopyWarning: \n",
            "A value is trying to be set on a copy of a slice from a DataFrame.\n",
            "Try using .loc[row_indexer,col_indexer] = value instead\n",
            "\n",
            "See the caveats in the documentation: https://pandas.pydata.org/pandas-docs/stable/user_guide/indexing.html#returning-a-view-versus-a-copy\n",
            "  \"\"\"Entry point for launching an IPython kernel.\n",
            "/usr/local/lib/python3.7/dist-packages/ipykernel_launcher.py:2: SettingWithCopyWarning: \n",
            "A value is trying to be set on a copy of a slice from a DataFrame.\n",
            "Try using .loc[row_indexer,col_indexer] = value instead\n",
            "\n",
            "See the caveats in the documentation: https://pandas.pydata.org/pandas-docs/stable/user_guide/indexing.html#returning-a-view-versus-a-copy\n",
            "  \n",
            "/usr/local/lib/python3.7/dist-packages/ipykernel_launcher.py:3: SettingWithCopyWarning: \n",
            "A value is trying to be set on a copy of a slice from a DataFrame.\n",
            "Try using .loc[row_indexer,col_indexer] = value instead\n",
            "\n",
            "See the caveats in the documentation: https://pandas.pydata.org/pandas-docs/stable/user_guide/indexing.html#returning-a-view-versus-a-copy\n",
            "  This is separate from the ipykernel package so we can avoid doing imports until\n",
            "/usr/local/lib/python3.7/dist-packages/ipykernel_launcher.py:6: SettingWithCopyWarning: \n",
            "A value is trying to be set on a copy of a slice from a DataFrame.\n",
            "Try using .loc[row_indexer,col_indexer] = value instead\n",
            "\n",
            "See the caveats in the documentation: https://pandas.pydata.org/pandas-docs/stable/user_guide/indexing.html#returning-a-view-versus-a-copy\n",
            "  \n"
          ]
        }
      ]
    },
    {
      "cell_type": "code",
      "source": [
        "import numpy as np\n",
        "def get_top_keywords(n_terms, df):\n",
        "    \"\"\"This function returns the keywords for each centroid of the KMeans\"\"\"\n",
        "    df = pd.DataFrame(X.todense()).groupby(clusters).mean() # groups the TF-IDF vector by cluster\n",
        "    terms = vectorizer.get_feature_names_out() # access tf-idf terms\n",
        "    for i,r in df.iterrows():\n",
        "        print('\\nCluster {}'.format(i))\n",
        "        print(','.join([terms[t] for t in np.argsort(r)[-n_terms:]])) # for each row of the dataframe, find the n terms that have the highest tf idf score\n",
        "            \n",
        "get_top_keywords(20, df_sport_recreation)"
      ],
      "metadata": {
        "colab": {
          "base_uri": "https://localhost:8080/"
        },
        "id": "BzluTBCe9olm",
        "outputId": "1a8d751d-05c6-44f3-de79-aa05c908acdd"
      },
      "execution_count": 110,
      "outputs": [
        {
          "output_type": "stream",
          "name": "stdout",
          "text": [
            "\n",
            "Cluster 0\n",
            "bookings,always,clients,since,we,in,courses,holiday,mum,time,instructor,swimming,vfg,children,lessons,term,https,buff,ly,swimway\n",
            "\n",
            "Cluster 1\n",
            "summer,happy,thames,co,uk,session,see,activerichmond,richmond,www,get,water,today,day,great,we,paddle,river,it,weekend\n",
            "\n",
            "Cluster 2\n",
            "week,spg,swimming,team,ymca,via,book,please,new,the,forward,th,look,ll,app,us,hampton,swim,we,pool\n"
          ]
        }
      ]
    },
    {
      "cell_type": "code",
      "source": [
        "import matplotlib.pyplot as plt\n",
        "import seaborn as sns\n",
        "# set image size\n",
        "plt.figure(figsize=(12, 7))\n",
        "# set title\n",
        "plt.title(\"Grouping TF-IDF + KMeans \", fontdict={\"fontsize\": 18})\n",
        "# set axes names\n",
        "plt.xlabel(\"X0\", fontdict={\"fontsize\": 16})\n",
        "plt.ylabel(\"X1\", fontdict={\"fontsize\": 16})\n",
        "#  create scatter plot with seaborn, where hue is the class used to group the data\n",
        "sns.scatterplot(data=df_sport_recreation, x='x0', y='x1', hue='cluster', palette=\"viridis\")\n",
        "plt.savefig('sport_clustering.png')\n",
        "\n",
        "plt.show()"
      ],
      "metadata": {
        "colab": {
          "base_uri": "https://localhost:8080/",
          "height": 467
        },
        "id": "Wvm0O53-9xaq",
        "outputId": "b96bccf9-f5aa-40e6-ea24-6ccaa412ab16"
      },
      "execution_count": 111,
      "outputs": [
        {
          "output_type": "display_data",
          "data": {
            "text/plain": [
              "<Figure size 864x504 with 1 Axes>"
            ],
            "image/png": "[encoded data removed]"
          },
          "metadata": {
            "needs_background": "light"
          }
        }
      ]
    },
    {
      "cell_type": "markdown",
      "source": [
        "#Clustering for df_fashion"
      ],
      "metadata": {
        "id": "j5x5Lldv8kfV"
      }
    },
    {
      "cell_type": "code",
      "source": [
        "from sklearn.feature_extraction.text import TfidfVectorizer\n",
        "\n",
        "# initialize the vectorizer\n",
        "vectorizer = TfidfVectorizer(sublinear_tf=True, min_df=5, max_df=0.95)\n",
        "# fit_transform applies TF-IDF to clean texts - we save the array of vectors in X\n",
        "X = vectorizer.fit_transform(df_fashion['caption'])"
      ],
      "metadata": {
        "id": "kU2w7kUq8ova"
      },
      "execution_count": 112,
      "outputs": []
    },
    {
      "cell_type": "code",
      "source": [
        "df_fashion['SUB-CATEGORY'].unique()"
      ],
      "metadata": {
        "colab": {
          "base_uri": "https://localhost:8080/"
        },
        "id": "XzMF0LAs8vgm",
        "outputId": "c9e5acf4-7428-4405-9e5b-bd29c2017939"
      },
      "execution_count": 113,
      "outputs": [
        {
          "output_type": "execute_result",
          "data": {
            "text/plain": [
              "array(['Swedish footwear'], dtype=object)"
            ]
          },
          "metadata": {},
          "execution_count": 113
        }
      ]
    },
    {
      "cell_type": "markdown",
      "metadata": {
        "id": "CMZzSeHEJaTa"
      },
      "source": [
        "#Clustering for df_childcare\n"
      ]
    },
    {
      "cell_type": "code",
      "execution_count": 114,
      "metadata": {
        "id": "WdK-H88pf-yZ"
      },
      "outputs": [],
      "source": [
        "from sklearn.feature_extraction.text import TfidfVectorizer\n",
        "\n",
        "# initialize the vectorizer\n",
        "vectorizer = TfidfVectorizer(sublinear_tf=True, min_df=5, max_df=0.95)\n",
        "# fit_transform applies TF-IDF to clean texts - we save the array of vectors in X\n",
        "X = vectorizer.fit_transform(df_childcare['caption'])"
      ]
    },
    {
      "cell_type": "code",
      "execution_count": 115,
      "metadata": {
        "id": "SzzQNTOmgIhb"
      },
      "outputs": [],
      "source": [
        "from sklearn.cluster import KMeans\n",
        "\n",
        "# initialize kmeans with 3 centroids\n",
        "kmeans = KMeans(n_clusters=2, random_state=42)\n",
        "# fit the model\n",
        "kmeans.fit(X)\n",
        "# store cluster labels in a variable\n",
        "clusters = kmeans.labels_"
      ]
    },
    {
      "cell_type": "code",
      "execution_count": 116,
      "metadata": {
        "id": "VFEXRsnXgXhm"
      },
      "outputs": [],
      "source": [
        "from sklearn.decomposition import PCA\n",
        "\n",
        "# initialize PCA with 2 components\n",
        "pca = PCA(n_components=2, random_state=42)\n",
        "# pass our X to the pca and store the reduced vectors into pca_vecs\n",
        "pca_vecs = pca.fit_transform(X.toarray())\n",
        "# save our two dimensions into x0 and x1\n",
        "x0 = pca_vecs[:, 0]\n",
        "x1 = pca_vecs[:, 1]"
      ]
    },
    {
      "cell_type": "code",
      "source": [
        "df_childcare['SUB-CATEGORY'].unique()"
      ],
      "metadata": {
        "colab": {
          "base_uri": "https://localhost:8080/"
        },
        "id": "ZALPN3TX5ZS0",
        "outputId": "f1cbf088-d930-4c25-f3e4-23e3f0768d87"
      },
      "execution_count": 117,
      "outputs": [
        {
          "output_type": "execute_result",
          "data": {
            "text/plain": [
              "array(['nursery', 'preparatory school'], dtype=object)"
            ]
          },
          "metadata": {},
          "execution_count": 117
        }
      ]
    },
    {
      "cell_type": "code",
      "execution_count": 118,
      "metadata": {
        "id": "seRY5Hluf6WF",
        "colab": {
          "base_uri": "https://localhost:8080/"
        },
        "outputId": "beed9e55-9441-4fd3-9789-6f68059605c6"
      },
      "outputs": [
        {
          "output_type": "stream",
          "name": "stderr",
          "text": [
            "/usr/local/lib/python3.7/dist-packages/ipykernel_launcher.py:1: SettingWithCopyWarning: \n",
            "A value is trying to be set on a copy of a slice from a DataFrame.\n",
            "Try using .loc[row_indexer,col_indexer] = value instead\n",
            "\n",
            "See the caveats in the documentation: https://pandas.pydata.org/pandas-docs/stable/user_guide/indexing.html#returning-a-view-versus-a-copy\n",
            "  \"\"\"Entry point for launching an IPython kernel.\n",
            "/usr/local/lib/python3.7/dist-packages/ipykernel_launcher.py:2: SettingWithCopyWarning: \n",
            "A value is trying to be set on a copy of a slice from a DataFrame.\n",
            "Try using .loc[row_indexer,col_indexer] = value instead\n",
            "\n",
            "See the caveats in the documentation: https://pandas.pydata.org/pandas-docs/stable/user_guide/indexing.html#returning-a-view-versus-a-copy\n",
            "  \n",
            "/usr/local/lib/python3.7/dist-packages/ipykernel_launcher.py:3: SettingWithCopyWarning: \n",
            "A value is trying to be set on a copy of a slice from a DataFrame.\n",
            "Try using .loc[row_indexer,col_indexer] = value instead\n",
            "\n",
            "See the caveats in the documentation: https://pandas.pydata.org/pandas-docs/stable/user_guide/indexing.html#returning-a-view-versus-a-copy\n",
            "  This is separate from the ipykernel package so we can avoid doing imports until\n",
            "/usr/local/lib/python3.7/dist-packages/ipykernel_launcher.py:6: SettingWithCopyWarning: \n",
            "A value is trying to be set on a copy of a slice from a DataFrame.\n",
            "Try using .loc[row_indexer,col_indexer] = value instead\n",
            "\n",
            "See the caveats in the documentation: https://pandas.pydata.org/pandas-docs/stable/user_guide/indexing.html#returning-a-view-versus-a-copy\n",
            "  \n"
          ]
        }
      ],
      "source": [
        "df_childcare['cluster'] = clusters\n",
        "df_childcare['x0'] = x0\n",
        "df_childcare['x1'] = x1\n",
        "\n",
        "cluster_map_childcare = {0: \"nursery\", 1: \"preparatory school\"} # mapping found through get_top_keywords\n",
        "df_childcare['cluster'] = df_childcare['cluster'].map(cluster_map_childcare);"
      ]
    },
    {
      "cell_type": "code",
      "source": [
        "import numpy as np\n",
        "def get_top_keywords(n_terms, df):\n",
        "    \"\"\"This function returns the keywords for each centroid of the KMeans\"\"\"\n",
        "    df = pd.DataFrame(X.todense()).groupby(clusters).mean() # groups the TF-IDF vector by cluster\n",
        "    terms = vectorizer.get_feature_names_out() # access tf-idf terms\n",
        "    for i,r in df.iterrows():\n",
        "        print('\\nCluster {}'.format(i))\n",
        "        print(','.join([terms[t] for t in np.argsort(r)[-n_terms:]])) # for each row of the dataframe, find the n terms that have the highest tf idf score\n",
        "            \n",
        "get_top_keywords(20, df_childcare)"
      ],
      "metadata": {
        "colab": {
          "base_uri": "https://localhost:8080/"
        },
        "id": "GpagU6oj6fcb",
        "outputId": "0673fed4-6b5a-4c74-e1f6-40667216a0c0"
      },
      "execution_count": 119,
      "outputs": [
        {
          "output_type": "stream",
          "name": "stdout",
          "text": [
            "\n",
            "Cluster 0\n",
            "the,evening,week,take,term,fantastic,last,also,pupils,congratulations,yesterday,recently,day,great,boys,time,they,done,well,year\n",
            "\n",
            "Cluster 1\n",
            "year,back,class,enjoyed,link,bio,today,boys,learning,us,look,pupils,children,school,new,term,week,the,nursery,we\n"
          ]
        }
      ]
    },
    {
      "cell_type": "code",
      "source": [
        "import matplotlib.pyplot as plt\n",
        "import seaborn as sns\n",
        "# set image size\n",
        "plt.figure(figsize=(12, 7))\n",
        "# set title\n",
        "plt.title(\"Grouping TF-IDF + KMeans \", fontdict={\"fontsize\": 18})\n",
        "# set axes names\n",
        "plt.xlabel(\"X0\", fontdict={\"fontsize\": 16})\n",
        "plt.ylabel(\"X1\", fontdict={\"fontsize\": 16})\n",
        "#  create scatter plot with seaborn, where hue is the class used to group the data\n",
        "sns.scatterplot(data=df_childcare, x='x0', y='x1', hue='cluster', palette=\"viridis\")\n",
        "plt.savefig('childcare_clustering.png')\n",
        "plt.show()"
      ],
      "metadata": {
        "colab": {
          "base_uri": "https://localhost:8080/",
          "height": 467
        },
        "id": "MoIk-_0O5yvF",
        "outputId": "f321965f-1370-44d8-bff7-9f791336929b"
      },
      "execution_count": 120,
      "outputs": [
        {
          "output_type": "display_data",
          "data": {
            "text/plain": [
              "<Figure size 864x504 with 1 Axes>"
            ],
            "image/png": "[encoded data removed]"
          },
          "metadata": {
            "needs_background": "light"
          }
        }
      ]
    }
  ],
  "metadata": {
    "colab": {
      "collapsed_sections": [],
      "name": "Subcategories + Clustering.ipynb",
      "provenance": []
    },
    "kernelspec": {
      "display_name": "Python 3",
      "name": "python3"
    },
    "language_info": {
      "name": "python"
    }
  },
  "nbformat": 4,
  "nbformat_minor": 0
}