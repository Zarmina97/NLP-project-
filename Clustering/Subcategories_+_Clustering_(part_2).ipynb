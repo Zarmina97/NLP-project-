{
  "nbformat": 4,
  "nbformat_minor": 0,
  "metadata": {
    "colab": {
      "name": "Subcategories + Clustering (part 2).ipynb",
      "provenance": [],
      "collapsed_sections": []
    },
    "kernelspec": {
      "name": "python3",
      "display_name": "Python 3"
    },
    "language_info": {
      "name": "python"
    }
  },
  "cells": [
    {
      "cell_type": "code",
      "source": [
        "import pandas as pd\n",
        "df_cosmetics=pd.read_csv('df_cosmetics.csv')\n",
        "df_hospitality=pd.read_csv('df_hospitality.csv')"
      ],
      "metadata": {
        "id": "wUllHo0VdHT6"
      },
      "execution_count": 1,
      "outputs": []
    },
    {
      "cell_type": "markdown",
      "source": [
        "#Clustering df_cosmetics"
      ],
      "metadata": {
        "id": "sqjlpL56enQq"
      }
    },
    {
      "cell_type": "code",
      "execution_count": 2,
      "metadata": {
        "id": "yA0D3WpgcPWi"
      },
      "outputs": [],
      "source": [
        "from sklearn.feature_extraction.text import TfidfVectorizer\n",
        "\n",
        "# initialize the vectorizer\n",
        "vectorizer = TfidfVectorizer(sublinear_tf=True, min_df=5, max_df=0.95)\n",
        "# fit_transform applies TF-IDF to clean texts - we save the array of vectors in X\n",
        "X = vectorizer.fit_transform(df_cosmetics['caption'].astype(str))"
      ]
    },
    {
      "cell_type": "code",
      "source": [
        "df_cosmetics['SUB-CATEGORY'].unique() "
      ],
      "metadata": {
        "colab": {
          "base_uri": "https://localhost:8080/"
        },
        "id": "qYFYRzsKdGrl",
        "outputId": "af917a81-a486-4c47-ea4c-abb2ca869333"
      },
      "execution_count": 3,
      "outputs": [
        {
          "output_type": "execute_result",
          "data": {
            "text/plain": [
              "array(['beauty clinic', 'beauty products', 'dental practice'],\n",
              "      dtype=object)"
            ]
          },
          "metadata": {},
          "execution_count": 3
        }
      ]
    },
    {
      "cell_type": "code",
      "source": [
        "from sklearn.cluster import KMeans\n",
        "\n",
        "# initialize kmeans with 3 centroids\n",
        "kmeans = KMeans(n_clusters=3, random_state=42)\n",
        "# fit the model\n",
        "kmeans.fit(X)\n",
        "# store cluster labels in a variable\n",
        "clusters = kmeans.labels_"
      ],
      "metadata": {
        "id": "O-_qGZobdbYY"
      },
      "execution_count": 4,
      "outputs": []
    },
    {
      "cell_type": "code",
      "source": [
        "from sklearn.decomposition import PCA\n",
        "\n",
        "# initialize PCA with 2 components\n",
        "pca = PCA(n_components=2, random_state=42)\n",
        "# pass our X to the pca and store the reduced vectors into pca_vecs\n",
        "pca_vecs = pca.fit_transform(X.toarray())\n",
        "# save our two dimensions into x0 and x1\n",
        "x0 = pca_vecs[:, 0]\n",
        "x1 = pca_vecs[:, 1]"
      ],
      "metadata": {
        "id": "d48RmcxPdcbr"
      },
      "execution_count": 5,
      "outputs": []
    },
    {
      "cell_type": "code",
      "source": [
        "df_cosmetics['cluster'] = clusters\n",
        "df_cosmetics['x0'] = x0\n",
        "df_cosmetics['x1'] = x1\n",
        "\n",
        "cluster_map_cosmetics = {0:'beauty clinic', 1:'beauty products', 2:'dental practice'} # mapping found through get_top_keywords\n",
        "df_cosmetics['cluster'] = df_cosmetics['cluster'].map(cluster_map_cosmetics);"
      ],
      "metadata": {
        "id": "PyEx0gaedgpw"
      },
      "execution_count": 6,
      "outputs": []
    },
    {
      "cell_type": "code",
      "source": [
        "import numpy as np\n",
        "def get_top_keywords(n_terms, df):\n",
        "    \"\"\"This function returns the keywords for each centroid of the KMeans\"\"\"\n",
        "    df = pd.DataFrame(X.todense()).groupby(clusters).mean() # groups the TF-IDF vector by cluster\n",
        "    terms = vectorizer.get_feature_names_out() # access tf-idf terms\n",
        "    for i,r in df.iterrows():\n",
        "        print('\\nCluster {}'.format(i))\n",
        "        print(','.join([terms[t] for t in np.argsort(r)[-n_terms:]])) # for each row of the dataframe, find the n terms that have the highest tf idf score\n",
        "            \n",
        "get_top_keywords(20, df_cosmetics)"
      ],
      "metadata": {
        "colab": {
          "base_uri": "https://localhost:8080/"
        },
        "id": "dmiLbOcSdi3v",
        "outputId": "801d56f3-75a9-44e2-bec3-6b3f3b3fb7f5"
      },
      "execution_count": 7,
      "outputs": [
        {
          "output_type": "stream",
          "name": "stdout",
          "text": [
            "\n",
            "Cluster 0\n",
            "year,good,love,bio,today,team,link,time,one,get,new,thank,patients,it,happy,us,the,day,skin,we\n",
            "\n",
            "Cluster 1\n",
            "forever,forget,forgetting,forgot,forgotten,form,forma,formal,format,formation,formatk,forme,formed,former,forming,forms,formula,formular,foreign,nan\n",
            "\n",
            "Cluster 2\n",
            "augmentation,dr,the,treatment,breast,please,contact,info,procedure,co,us,patient,east,uk,com,results,www,book,consultation,surgery\n"
          ]
        }
      ]
    },
    {
      "cell_type": "code",
      "source": [
        "import matplotlib.pyplot as plt\n",
        "import seaborn as sns\n",
        "# set image size\n",
        "plt.figure(figsize=(12, 7))\n",
        "# set title\n",
        "plt.title(\"Grouping TF-IDF + KMeans \", fontdict={\"fontsize\": 18})\n",
        "# set axes names\n",
        "plt.xlabel(\"X0\", fontdict={\"fontsize\": 16})\n",
        "plt.ylabel(\"X1\", fontdict={\"fontsize\": 16})\n",
        "#  create scatter plot with seaborn, where hue is the class used to group the data\n",
        "sns.scatterplot(data=df_cosmetics, x='x0', y='x1', hue='cluster', palette=\"bright\")\n",
        "plt.savefig('cosmetics_clustering.png')\n",
        "\n",
        "plt.show()"
      ],
      "metadata": {
        "colab": {
          "base_uri": "https://localhost:8080/",
          "height": 467
        },
        "id": "_zcaoBRTeGjC",
        "outputId": "8ce00e79-ec2f-48d7-9003-1f8a88c60443"
      },
      "execution_count": 8,
      "outputs": [
        {
          "output_type": "display_data",
          "data": {
            "text/plain": [
              "<Figure size 864x504 with 1 Axes>"
            ],
            "image/png": "[encoded data removed]"
          },
          "metadata": {
            "needs_background": "light"
          }
        }
      ]
    },
    {
      "cell_type": "markdown",
      "source": [
        "#Clustering df_hospitality"
      ],
      "metadata": {
        "id": "y_DkaKOdesZb"
      }
    },
    {
      "cell_type": "code",
      "source": [
        "from sklearn.feature_extraction.text import TfidfVectorizer\n",
        "\n",
        "# initialize the vectorizer\n",
        "vectorizer = TfidfVectorizer(sublinear_tf=True, min_df=5, max_df=0.95)\n",
        "# fit_transform applies TF-IDF to clean texts - we save the array of vectors in X\n",
        "X = vectorizer.fit_transform(df_hospitality['caption'].astype(str))"
      ],
      "metadata": {
        "id": "M1sP_Hxyeuup"
      },
      "execution_count": 9,
      "outputs": []
    },
    {
      "cell_type": "code",
      "source": [
        "df_hospitality['SUB-CATEGORY'].unique() #21"
      ],
      "metadata": {
        "colab": {
          "base_uri": "https://localhost:8080/"
        },
        "id": "1dyspwYoe7wu",
        "outputId": "5bd93f44-9eb0-466c-d269-06f11c67b191"
      },
      "execution_count": 10,
      "outputs": [
        {
          "output_type": "execute_result",
          "data": {
            "text/plain": [
              "array(['restaurant', 'hotel', 'pub', 'doughnut shop', 'bakery', 'café',\n",
              "       'bar & grill', 'bar & kitchen', 'breakfast & brunch restaurant',\n",
              "       'streetfood market', 'bar', 'pastry shop', 'chocolate shop',\n",
              "       'brewery', 'wine bar & shop', 'coffee / food shop', 'cocktail bar',\n",
              "       'ice cream shop', 'serviced apartments', 'pub & restaurant',\n",
              "       'fast food chain', 'empanadas store / delivery', 'wine bar',\n",
              "       'dessert shop',\n",
              "       'restaurants / lifestyle shop / deli / plant nursery',\n",
              "       'food delivery', 'beer garden'], dtype=object)"
            ]
          },
          "metadata": {},
          "execution_count": 10
        }
      ]
    },
    {
      "cell_type": "code",
      "source": [
        "from sklearn.cluster import KMeans\n",
        "\n",
        "# initialize kmeans with 3 centroids\n",
        "kmeans = KMeans(n_clusters=21, random_state=42)\n",
        "# fit the model\n",
        "kmeans.fit(X)\n",
        "# store cluster labels in a variable\n",
        "clusters = kmeans.labels_"
      ],
      "metadata": {
        "id": "hrG380t_e4ts"
      },
      "execution_count": 11,
      "outputs": []
    },
    {
      "cell_type": "code",
      "source": [
        "from sklearn.decomposition import PCA\n",
        "\n",
        "# initialize PCA with 2 components\n",
        "pca = PCA(n_components=2, random_state=42)\n",
        "# pass our X to the pca and store the reduced vectors into pca_vecs\n",
        "pca_vecs = pca.fit_transform(X.toarray())\n",
        "# save our two dimensions into x0 and x1\n",
        "x0 = pca_vecs[:, 0]\n",
        "x1 = pca_vecs[:, 1]"
      ],
      "metadata": {
        "id": "IcIR1cKPfFHi"
      },
      "execution_count": null,
      "outputs": []
    },
    {
      "cell_type": "code",
      "source": [
        "df_hospitality['cluster'] = clusters\n",
        "df_hospitality['x0'] = x0\n",
        "df_hospitality['x1'] = x1\n",
        "\n",
        "cluster_map_hospitality = {0: 'restaurant', 1:'hotel', 2:'pub', 3:'doughnut shop', 4:'bakery', 5:'café',\n",
        "       6:'bar & grill', 7:'bar & kitchen', 8:'breakfast & brunch restaurant',\n",
        "       9:'streetfood market', 10:'bar', 11:'pastry shop', 12:'chocolate shop',\n",
        "       13:'brewery', 14:'wine bar & shop', 15:'coffee / food shop', 16:'cocktail bar',\n",
        "       17:'ice cream shop', 18:'serviced apartments', 19:'pub & restaurant',\n",
        "       20:'fast food chain'} # mapping found through get_top_keywords\n",
        "df_hospitality['cluster'] = df_hospitality['cluster'].map(cluster_map_hospitality);"
      ],
      "metadata": {
        "id": "9LoY8wI9fUXr"
      },
      "execution_count": null,
      "outputs": []
    },
    {
      "cell_type": "code",
      "source": [
        "\n",
        "get_top_keywords(20, df_hospitality)"
      ],
      "metadata": {
        "id": "Kv4jZjA9hWQZ"
      },
      "execution_count": null,
      "outputs": []
    },
    {
      "cell_type": "code",
      "source": [
        "import matplotlib.pyplot as plt\n",
        "import seaborn as sns\n",
        "# set image size\n",
        "plt.figure(figsize=(20, 10))\n",
        "# set title\n",
        "plt.title(\"Grouping TF-IDF + KMeans \", fontdict={\"fontsize\": 18})\n",
        "# set axes names\n",
        "plt.xlabel(\"X0\", fontdict={\"fontsize\": 16})\n",
        "plt.ylabel(\"X1\", fontdict={\"fontsize\": 16})\n",
        "#  create scatter plot with seaborn, where hue is the class used to group the data\n",
        "sns.scatterplot(data=df_hospitality, x='x0', y='x1', hue='cluster', palette=\"viridis\")\n",
        "plt.savefig('hospitality_clustering.png')\n",
        "\n",
        "plt.show()"
      ],
      "metadata": {
        "id": "FqR6MPS6hxeb"
      },
      "execution_count": null,
      "outputs": []
    }
  ]
}